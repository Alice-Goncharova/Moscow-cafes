{
 "cells": [
  {
   "cell_type": "code",
   "execution_count": 142,
   "metadata": {
    "scrolled": true
   },
   "outputs": [
    {
     "data": {
      "application/javascript": [
       "IPython.notebook.set_autosave_interval(30000)"
      ]
     },
     "metadata": {},
     "output_type": "display_data"
    },
    {
     "name": "stdout",
     "output_type": "stream",
     "text": [
      "Autosaving every 30 seconds\n"
     ]
    }
   ],
   "source": [
    "%autosave 30"
   ]
  },
  {
   "cell_type": "markdown",
   "metadata": {},
   "source": [
    "# Введение"
   ]
  },
  {
   "cell_type": "markdown",
   "metadata": {},
   "source": [
    "Мы решили открыть небольшое кафе в Москве. Гостей должны обслуживать роботы. Инвесторов интересует текущее положение дел на рынке — сможем ли мы быть популярным заведением долгое время, когда клиенты насмотрятся на роботов-официантов?\n",
    "Необходимо подготовить исследование рынка.  Нужно подготовить общий вывод и дайть рекомендации о виде заведения, количестве посадочных мест, а также районе расположения. Сделать выводы о возможности развития сети."
   ]
  },
  {
   "cell_type": "markdown",
   "metadata": {},
   "source": [
    "# 1. Загрузка данных и подготовьте их к анализу"
   ]
  },
  {
   "cell_type": "code",
   "execution_count": 143,
   "metadata": {},
   "outputs": [],
   "source": [
    "# Импортируем нужные нам библиотеки \n",
    "import pandas as pd \n",
    "import matplotlib.pyplot as plt\n",
    "import plotly.graph_objs as go\n",
    "import plotly.express as px\n",
    "from io import BytesIO\n",
    "import requests\n",
    "import numpy as np\n",
    "import seaborn as sns "
   ]
  },
  {
   "cell_type": "markdown",
   "metadata": {},
   "source": [
    "Прочитаем данные. Сначала ознакомимся с таблицей."
   ]
  },
  {
   "cell_type": "code",
   "execution_count": 144,
   "metadata": {},
   "outputs": [
    {
     "data": {
      "text/html": [
       "<div><div id=b5769b99-30e1-43a7-883d-0602817cada3 style=\"display:none; background-color:#9D6CFF; color:white; width:200px; height:30px; padding-left:5px; border-radius:4px; flex-direction:row; justify-content:space-around; align-items:center;\" onmouseover=\"this.style.backgroundColor='#BA9BF8'\" onmouseout=\"this.style.backgroundColor='#9D6CFF'\" onclick=\"window.commands?.execute('create-mitosheet-from-dataframe-output');\">See Full Dataframe in Mito</div> <script> if (window.commands.hasCommand('create-mitosheet-from-dataframe-output')) document.getElementById('b5769b99-30e1-43a7-883d-0602817cada3').style.display = 'flex' </script> <table border=\"1\" class=\"dataframe\">\n",
       "  <thead>\n",
       "    <tr style=\"text-align: right;\">\n",
       "      <th></th>\n",
       "      <th>id</th>\n",
       "      <th>object_name</th>\n",
       "      <th>chain</th>\n",
       "      <th>object_type</th>\n",
       "      <th>address</th>\n",
       "      <th>number</th>\n",
       "    </tr>\n",
       "  </thead>\n",
       "  <tbody>\n",
       "    <tr>\n",
       "      <th>0</th>\n",
       "      <td>151635</td>\n",
       "      <td>СМЕТАНА</td>\n",
       "      <td>нет</td>\n",
       "      <td>кафе</td>\n",
       "      <td>город Москва, улица Егора Абакумова, дом 9</td>\n",
       "      <td>48</td>\n",
       "    </tr>\n",
       "    <tr>\n",
       "      <th>1</th>\n",
       "      <td>77874</td>\n",
       "      <td>Родник</td>\n",
       "      <td>нет</td>\n",
       "      <td>кафе</td>\n",
       "      <td>город Москва, улица Талалихина, дом 2/1, корпус 1</td>\n",
       "      <td>35</td>\n",
       "    </tr>\n",
       "    <tr>\n",
       "      <th>2</th>\n",
       "      <td>24309</td>\n",
       "      <td>Кафе «Академия»</td>\n",
       "      <td>нет</td>\n",
       "      <td>кафе</td>\n",
       "      <td>город Москва, Абельмановская улица, дом 6</td>\n",
       "      <td>95</td>\n",
       "    </tr>\n",
       "    <tr>\n",
       "      <th>3</th>\n",
       "      <td>21894</td>\n",
       "      <td>ПИЦЦЕТОРИЯ</td>\n",
       "      <td>да</td>\n",
       "      <td>кафе</td>\n",
       "      <td>город Москва, Абрамцевская улица, дом 1</td>\n",
       "      <td>40</td>\n",
       "    </tr>\n",
       "    <tr>\n",
       "      <th>4</th>\n",
       "      <td>119365</td>\n",
       "      <td>Кафе «Вишневая метель»</td>\n",
       "      <td>нет</td>\n",
       "      <td>кафе</td>\n",
       "      <td>город Москва, Абрамцевская улица, дом 9, корпус 1</td>\n",
       "      <td>50</td>\n",
       "    </tr>\n",
       "  </tbody>\n",
       "</table></div>"
      ],
      "text/plain": [
       "       id             object_name chain object_type  \\\n",
       "0  151635  СМЕТАНА                 нет   кафе         \n",
       "1  77874   Родник                  нет   кафе         \n",
       "2  24309   Кафе «Академия»         нет   кафе         \n",
       "3  21894   ПИЦЦЕТОРИЯ              да    кафе         \n",
       "4  119365  Кафе «Вишневая метель»  нет   кафе         \n",
       "\n",
       "                                             address  number  \n",
       "0  город Москва, улица Егора Абакумова, дом 9         48      \n",
       "1  город Москва, улица Талалихина, дом 2/1, корпус 1  35      \n",
       "2  город Москва, Абельмановская улица, дом 6          95      \n",
       "3  город Москва, Абрамцевская улица, дом 1            40      \n",
       "4  город Москва, Абрамцевская улица, дом 9, корпус 1  50      "
      ]
     },
     "execution_count": 144,
     "metadata": {},
     "output_type": "execute_result"
    }
   ],
   "source": [
    "spreadsheet_id = '1o2fHkqX_-AOJ5MKeV7UDm3PVJQo5BZpDZbt_hYKnfC4'\n",
    "file_name = 'https://docs.google.com/spreadsheets/d/{}/export?format=csv'.format(spreadsheet_id)\n",
    "r = requests.get(file_name)\n",
    "data = pd.read_csv(BytesIO(r.content))\n",
    "data.head()"
   ]
  },
  {
   "cell_type": "code",
   "execution_count": 145,
   "metadata": {
    "scrolled": true
   },
   "outputs": [
    {
     "name": "stdout",
     "output_type": "stream",
     "text": [
      "<class 'pandas.core.frame.DataFrame'>\n",
      "RangeIndex: 15366 entries, 0 to 15365\n",
      "Data columns (total 6 columns):\n",
      " #   Column       Non-Null Count  Dtype \n",
      "---  ------       --------------  ----- \n",
      " 0   id           15366 non-null  int64 \n",
      " 1   object_name  15366 non-null  object\n",
      " 2   chain        15366 non-null  object\n",
      " 3   object_type  15366 non-null  object\n",
      " 4   address      15366 non-null  object\n",
      " 5   number       15366 non-null  int64 \n",
      "dtypes: int64(2), object(4)\n",
      "memory usage: 720.4+ KB\n",
      "None\n",
      "\n",
      "            id  number\n",
      "count 15366.0  15366.0\n",
      "mean  119720.1 59.5   \n",
      "std   73036.1  74.7   \n",
      "min   838.0    0.0    \n",
      "25%   28524.0  12.0   \n",
      "50%   144974.5 40.0   \n",
      "75%   184262.2 80.0   \n",
      "max   223439.0 1700.0 \n",
      "\n",
      "Кол-во дубликатов\n",
      "0\n"
     ]
    }
   ],
   "source": [
    "def data_info(data): \n",
    "    data.head()\n",
    "    data.columns = [x.lower().replace(' ', '_') for x in data.columns]\n",
    "    data.describe()\n",
    "    print(data.info()), print(''),  print( data.describe()), print(''), print('Кол-во дубликатов'), print(data.duplicated().sum())\n",
    "data_info(data)"
   ]
  },
  {
   "cell_type": "code",
   "execution_count": 146,
   "metadata": {
    "scrolled": false
   },
   "outputs": [
    {
     "data": {
      "text/plain": [
       "index    82\n",
       "0        82\n",
       "dtype: int64"
      ]
     },
     "execution_count": 146,
     "metadata": {},
     "output_type": "execute_result"
    }
   ],
   "source": [
    "dubble = data.duplicated(subset=['object_name', \n",
    "'chain',        \n",
    "'object_type',\n",
    "'address', \n",
    "'number']).reset_index()\n",
    "dubble= dubble[dubble[0]==True]\n",
    "dubble.count()"
   ]
  },
  {
   "cell_type": "markdown",
   "metadata": {},
   "source": [
    "Мы видим 82 дубликата. Удалим их. "
   ]
  },
  {
   "cell_type": "code",
   "execution_count": 147,
   "metadata": {},
   "outputs": [],
   "source": [
    "data=data.drop_duplicates(subset=['object_name', \n",
    "'chain',        \n",
    "'object_type',\n",
    "'address', \n",
    "'number'], keep='first')"
   ]
  },
  {
   "cell_type": "code",
   "execution_count": 148,
   "metadata": {},
   "outputs": [
    {
     "data": {
      "text/plain": [
       "index    0\n",
       "0        0\n",
       "dtype: int64"
      ]
     },
     "execution_count": 148,
     "metadata": {},
     "output_type": "execute_result"
    }
   ],
   "source": [
    "dubble =data.duplicated(subset=['object_name', \n",
    "'chain',        \n",
    "'object_type',\n",
    "'address', \n",
    "'number']).reset_index()\n",
    "dubble= dubble[dubble[0]==True]\n",
    "dubble.count()"
   ]
  },
  {
   "cell_type": "markdown",
   "metadata": {},
   "source": [
    "Избавились от дубликатов. "
   ]
  },
  {
   "cell_type": "markdown",
   "metadata": {},
   "source": [
    "Я написала функцию для быстрого анализа дынных. info, describe, а также преобразовала все заголовкаи столбцов к нижнему регистру."
   ]
  },
  {
   "cell_type": "markdown",
   "metadata": {},
   "source": [
    "Мы видим, что полных дублекатов у нас нет. Единственное, можно привести id к типу object. "
   ]
  },
  {
   "cell_type": "code",
   "execution_count": 149,
   "metadata": {},
   "outputs": [],
   "source": [
    "data['id'] = str(data['id'])"
   ]
  },
  {
   "cell_type": "code",
   "execution_count": 150,
   "metadata": {
    "scrolled": true
   },
   "outputs": [
    {
     "name": "stdout",
     "output_type": "stream",
     "text": [
      "<class 'pandas.core.frame.DataFrame'>\n",
      "Int64Index: 15284 entries, 0 to 15365\n",
      "Data columns (total 6 columns):\n",
      " #   Column       Non-Null Count  Dtype \n",
      "---  ------       --------------  ----- \n",
      " 0   id           15284 non-null  object\n",
      " 1   object_name  15284 non-null  object\n",
      " 2   chain        15284 non-null  object\n",
      " 3   object_type  15284 non-null  object\n",
      " 4   address      15284 non-null  object\n",
      " 5   number       15284 non-null  int64 \n",
      "dtypes: int64(1), object(5)\n",
      "memory usage: 835.8+ KB\n"
     ]
    }
   ],
   "source": [
    "data.info() #Убедились, что поменялось."
   ]
  },
  {
   "cell_type": "markdown",
   "metadata": {},
   "source": [
    "Импортируем из внешнего истоячника данных таблицу, с районами Москвы. Это в дальнейшем понадобится нам для анализа. "
   ]
  },
  {
   "cell_type": "code",
   "execution_count": 151,
   "metadata": {},
   "outputs": [
    {
     "data": {
      "text/html": [
       "<div><div id=4f9ecde7-515c-4060-a052-d6f428beab13 style=\"display:none; background-color:#9D6CFF; color:white; width:200px; height:30px; padding-left:5px; border-radius:4px; flex-direction:row; justify-content:space-around; align-items:center;\" onmouseover=\"this.style.backgroundColor='#BA9BF8'\" onmouseout=\"this.style.backgroundColor='#9D6CFF'\" onclick=\"window.commands?.execute('create-mitosheet-from-dataframe-output');\">See Full Dataframe in Mito</div> <script> if (window.commands.hasCommand('create-mitosheet-from-dataframe-output')) document.getElementById('4f9ecde7-515c-4060-a052-d6f428beab13').style.display = 'flex' </script> <table border=\"1\" class=\"dataframe\">\n",
       "  <thead>\n",
       "    <tr style=\"text-align: right;\">\n",
       "      <th></th>\n",
       "      <th>streetname</th>\n",
       "      <th>areaid</th>\n",
       "      <th>okrug</th>\n",
       "      <th>area</th>\n",
       "    </tr>\n",
       "  </thead>\n",
       "  <tbody>\n",
       "    <tr>\n",
       "      <th>0</th>\n",
       "      <td>Выставочный переулок</td>\n",
       "      <td>17.0</td>\n",
       "      <td>ЦАО</td>\n",
       "      <td>Пресненский район</td>\n",
       "    </tr>\n",
       "    <tr>\n",
       "      <th>1</th>\n",
       "      <td>улица Гашека</td>\n",
       "      <td>17.0</td>\n",
       "      <td>ЦАО</td>\n",
       "      <td>Пресненский район</td>\n",
       "    </tr>\n",
       "    <tr>\n",
       "      <th>2</th>\n",
       "      <td>Большая Никитская улица</td>\n",
       "      <td>17.0</td>\n",
       "      <td>ЦАО</td>\n",
       "      <td>Пресненский район</td>\n",
       "    </tr>\n",
       "    <tr>\n",
       "      <th>3</th>\n",
       "      <td>Глубокий переулок</td>\n",
       "      <td>17.0</td>\n",
       "      <td>ЦАО</td>\n",
       "      <td>Пресненский район</td>\n",
       "    </tr>\n",
       "    <tr>\n",
       "      <th>4</th>\n",
       "      <td>Большой Гнездниковский переулок</td>\n",
       "      <td>17.0</td>\n",
       "      <td>ЦАО</td>\n",
       "      <td>Пресненский район</td>\n",
       "    </tr>\n",
       "  </tbody>\n",
       "</table></div>"
      ],
      "text/plain": [
       "                        streetname  areaid okrug               area\n",
       "0  Выставочный переулок            17.0     ЦАО   Пресненский район\n",
       "1  улица Гашека                    17.0     ЦАО   Пресненский район\n",
       "2  Большая Никитская улица         17.0     ЦАО   Пресненский район\n",
       "3  Глубокий переулок               17.0     ЦАО   Пресненский район\n",
       "4  Большой Гнездниковский переулок 17.0     ЦАО   Пресненский район"
      ]
     },
     "execution_count": 151,
     "metadata": {},
     "output_type": "execute_result"
    }
   ],
   "source": [
    "spreadsheet_id = '1o0Rmxii5snYG8fk0Q81p9D5F9bZyslSPOGci7lpQ1Po'\n",
    "file_name = 'https://docs.google.com/spreadsheets/d/{}/export?format=csv'.format(spreadsheet_id)\n",
    "r = requests.get(file_name)\n",
    "df_district = pd.read_csv(BytesIO(r.content))\n",
    "df_district.head()"
   ]
  },
  {
   "cell_type": "code",
   "execution_count": 152,
   "metadata": {},
   "outputs": [
    {
     "name": "stdout",
     "output_type": "stream",
     "text": [
      "<class 'pandas.core.frame.DataFrame'>\n",
      "RangeIndex: 4432 entries, 0 to 4431\n",
      "Data columns (total 4 columns):\n",
      " #   Column      Non-Null Count  Dtype  \n",
      "---  ------      --------------  -----  \n",
      " 0   streetname  4432 non-null   object \n",
      " 1   areaid      4397 non-null   float64\n",
      " 2   okrug       4431 non-null   object \n",
      " 3   area        4431 non-null   object \n",
      "dtypes: float64(1), object(3)\n",
      "memory usage: 138.6+ KB\n",
      "None\n",
      "\n",
      "       areaid\n",
      "count 4397.0 \n",
      "mean  59.2   \n",
      "std   38.5   \n",
      "min   12.0   \n",
      "25%   20.0   \n",
      "50%   51.0   \n",
      "75%   93.0   \n",
      "max   134.0  \n",
      "\n",
      "Кол-во дубликатов\n",
      "8\n"
     ]
    }
   ],
   "source": [
    "data_info(df_district)"
   ]
  },
  {
   "cell_type": "markdown",
   "metadata": {},
   "source": [
    "# 2. Исследовательский анализ данных"
   ]
  },
  {
   "cell_type": "markdown",
   "metadata": {},
   "source": [
    "##  Виды объектов"
   ]
  },
  {
   "cell_type": "markdown",
   "metadata": {},
   "source": [
    "Исследуем соотношение видов объектов общественного питания по количеству."
   ]
  },
  {
   "cell_type": "code",
   "execution_count": 153,
   "metadata": {},
   "outputs": [
    {
     "name": "stdout",
     "output_type": "stream",
     "text": [
      "                         object_type    id\n",
      "3  кафе                               6071\n",
      "8  столовая                           2584\n",
      "7  ресторан                           2282\n",
      "6  предприятие быстрого обслуживания  1898\n",
      "0  бар                                855 \n",
      "1  буфет                              577 \n",
      "4  кафетерий                          395 \n",
      "2  закусочная                         349 \n",
      "5  магазин (отдел кулинарии)          273 \n"
     ]
    },
    {
     "data": {
      "application/vnd.plotly.v1+json": {
       "config": {
        "plotlyServerURL": "https://plot.ly"
       },
       "data": [
        {
         "type": "bar",
         "x": [
          "кафе",
          "столовая",
          "ресторан",
          "предприятие быстрого обслуживания",
          "бар",
          "буфет",
          "кафетерий",
          "закусочная",
          "магазин (отдел кулинарии)"
         ],
         "y": [
          6071,
          2584,
          2282,
          1898,
          855,
          577,
          395,
          349,
          273
         ]
        }
       ],
       "layout": {
        "template": {
         "data": {
          "bar": [
           {
            "error_x": {
             "color": "#2a3f5f"
            },
            "error_y": {
             "color": "#2a3f5f"
            },
            "marker": {
             "line": {
              "color": "#E5ECF6",
              "width": 0.5
             },
             "pattern": {
              "fillmode": "overlay",
              "size": 10,
              "solidity": 0.2
             }
            },
            "type": "bar"
           }
          ],
          "barpolar": [
           {
            "marker": {
             "line": {
              "color": "#E5ECF6",
              "width": 0.5
             },
             "pattern": {
              "fillmode": "overlay",
              "size": 10,
              "solidity": 0.2
             }
            },
            "type": "barpolar"
           }
          ],
          "carpet": [
           {
            "aaxis": {
             "endlinecolor": "#2a3f5f",
             "gridcolor": "white",
             "linecolor": "white",
             "minorgridcolor": "white",
             "startlinecolor": "#2a3f5f"
            },
            "baxis": {
             "endlinecolor": "#2a3f5f",
             "gridcolor": "white",
             "linecolor": "white",
             "minorgridcolor": "white",
             "startlinecolor": "#2a3f5f"
            },
            "type": "carpet"
           }
          ],
          "choropleth": [
           {
            "colorbar": {
             "outlinewidth": 0,
             "ticks": ""
            },
            "type": "choropleth"
           }
          ],
          "contour": [
           {
            "colorbar": {
             "outlinewidth": 0,
             "ticks": ""
            },
            "colorscale": [
             [
              0,
              "#0d0887"
             ],
             [
              0.1111111111111111,
              "#46039f"
             ],
             [
              0.2222222222222222,
              "#7201a8"
             ],
             [
              0.3333333333333333,
              "#9c179e"
             ],
             [
              0.4444444444444444,
              "#bd3786"
             ],
             [
              0.5555555555555556,
              "#d8576b"
             ],
             [
              0.6666666666666666,
              "#ed7953"
             ],
             [
              0.7777777777777778,
              "#fb9f3a"
             ],
             [
              0.8888888888888888,
              "#fdca26"
             ],
             [
              1,
              "#f0f921"
             ]
            ],
            "type": "contour"
           }
          ],
          "contourcarpet": [
           {
            "colorbar": {
             "outlinewidth": 0,
             "ticks": ""
            },
            "type": "contourcarpet"
           }
          ],
          "heatmap": [
           {
            "colorbar": {
             "outlinewidth": 0,
             "ticks": ""
            },
            "colorscale": [
             [
              0,
              "#0d0887"
             ],
             [
              0.1111111111111111,
              "#46039f"
             ],
             [
              0.2222222222222222,
              "#7201a8"
             ],
             [
              0.3333333333333333,
              "#9c179e"
             ],
             [
              0.4444444444444444,
              "#bd3786"
             ],
             [
              0.5555555555555556,
              "#d8576b"
             ],
             [
              0.6666666666666666,
              "#ed7953"
             ],
             [
              0.7777777777777778,
              "#fb9f3a"
             ],
             [
              0.8888888888888888,
              "#fdca26"
             ],
             [
              1,
              "#f0f921"
             ]
            ],
            "type": "heatmap"
           }
          ],
          "heatmapgl": [
           {
            "colorbar": {
             "outlinewidth": 0,
             "ticks": ""
            },
            "colorscale": [
             [
              0,
              "#0d0887"
             ],
             [
              0.1111111111111111,
              "#46039f"
             ],
             [
              0.2222222222222222,
              "#7201a8"
             ],
             [
              0.3333333333333333,
              "#9c179e"
             ],
             [
              0.4444444444444444,
              "#bd3786"
             ],
             [
              0.5555555555555556,
              "#d8576b"
             ],
             [
              0.6666666666666666,
              "#ed7953"
             ],
             [
              0.7777777777777778,
              "#fb9f3a"
             ],
             [
              0.8888888888888888,
              "#fdca26"
             ],
             [
              1,
              "#f0f921"
             ]
            ],
            "type": "heatmapgl"
           }
          ],
          "histogram": [
           {
            "marker": {
             "pattern": {
              "fillmode": "overlay",
              "size": 10,
              "solidity": 0.2
             }
            },
            "type": "histogram"
           }
          ],
          "histogram2d": [
           {
            "colorbar": {
             "outlinewidth": 0,
             "ticks": ""
            },
            "colorscale": [
             [
              0,
              "#0d0887"
             ],
             [
              0.1111111111111111,
              "#46039f"
             ],
             [
              0.2222222222222222,
              "#7201a8"
             ],
             [
              0.3333333333333333,
              "#9c179e"
             ],
             [
              0.4444444444444444,
              "#bd3786"
             ],
             [
              0.5555555555555556,
              "#d8576b"
             ],
             [
              0.6666666666666666,
              "#ed7953"
             ],
             [
              0.7777777777777778,
              "#fb9f3a"
             ],
             [
              0.8888888888888888,
              "#fdca26"
             ],
             [
              1,
              "#f0f921"
             ]
            ],
            "type": "histogram2d"
           }
          ],
          "histogram2dcontour": [
           {
            "colorbar": {
             "outlinewidth": 0,
             "ticks": ""
            },
            "colorscale": [
             [
              0,
              "#0d0887"
             ],
             [
              0.1111111111111111,
              "#46039f"
             ],
             [
              0.2222222222222222,
              "#7201a8"
             ],
             [
              0.3333333333333333,
              "#9c179e"
             ],
             [
              0.4444444444444444,
              "#bd3786"
             ],
             [
              0.5555555555555556,
              "#d8576b"
             ],
             [
              0.6666666666666666,
              "#ed7953"
             ],
             [
              0.7777777777777778,
              "#fb9f3a"
             ],
             [
              0.8888888888888888,
              "#fdca26"
             ],
             [
              1,
              "#f0f921"
             ]
            ],
            "type": "histogram2dcontour"
           }
          ],
          "mesh3d": [
           {
            "colorbar": {
             "outlinewidth": 0,
             "ticks": ""
            },
            "type": "mesh3d"
           }
          ],
          "parcoords": [
           {
            "line": {
             "colorbar": {
              "outlinewidth": 0,
              "ticks": ""
             }
            },
            "type": "parcoords"
           }
          ],
          "pie": [
           {
            "automargin": true,
            "type": "pie"
           }
          ],
          "scatter": [
           {
            "marker": {
             "colorbar": {
              "outlinewidth": 0,
              "ticks": ""
             }
            },
            "type": "scatter"
           }
          ],
          "scatter3d": [
           {
            "line": {
             "colorbar": {
              "outlinewidth": 0,
              "ticks": ""
             }
            },
            "marker": {
             "colorbar": {
              "outlinewidth": 0,
              "ticks": ""
             }
            },
            "type": "scatter3d"
           }
          ],
          "scattercarpet": [
           {
            "marker": {
             "colorbar": {
              "outlinewidth": 0,
              "ticks": ""
             }
            },
            "type": "scattercarpet"
           }
          ],
          "scattergeo": [
           {
            "marker": {
             "colorbar": {
              "outlinewidth": 0,
              "ticks": ""
             }
            },
            "type": "scattergeo"
           }
          ],
          "scattergl": [
           {
            "marker": {
             "colorbar": {
              "outlinewidth": 0,
              "ticks": ""
             }
            },
            "type": "scattergl"
           }
          ],
          "scattermapbox": [
           {
            "marker": {
             "colorbar": {
              "outlinewidth": 0,
              "ticks": ""
             }
            },
            "type": "scattermapbox"
           }
          ],
          "scatterpolar": [
           {
            "marker": {
             "colorbar": {
              "outlinewidth": 0,
              "ticks": ""
             }
            },
            "type": "scatterpolar"
           }
          ],
          "scatterpolargl": [
           {
            "marker": {
             "colorbar": {
              "outlinewidth": 0,
              "ticks": ""
             }
            },
            "type": "scatterpolargl"
           }
          ],
          "scatterternary": [
           {
            "marker": {
             "colorbar": {
              "outlinewidth": 0,
              "ticks": ""
             }
            },
            "type": "scatterternary"
           }
          ],
          "surface": [
           {
            "colorbar": {
             "outlinewidth": 0,
             "ticks": ""
            },
            "colorscale": [
             [
              0,
              "#0d0887"
             ],
             [
              0.1111111111111111,
              "#46039f"
             ],
             [
              0.2222222222222222,
              "#7201a8"
             ],
             [
              0.3333333333333333,
              "#9c179e"
             ],
             [
              0.4444444444444444,
              "#bd3786"
             ],
             [
              0.5555555555555556,
              "#d8576b"
             ],
             [
              0.6666666666666666,
              "#ed7953"
             ],
             [
              0.7777777777777778,
              "#fb9f3a"
             ],
             [
              0.8888888888888888,
              "#fdca26"
             ],
             [
              1,
              "#f0f921"
             ]
            ],
            "type": "surface"
           }
          ],
          "table": [
           {
            "cells": {
             "fill": {
              "color": "#EBF0F8"
             },
             "line": {
              "color": "white"
             }
            },
            "header": {
             "fill": {
              "color": "#C8D4E3"
             },
             "line": {
              "color": "white"
             }
            },
            "type": "table"
           }
          ]
         },
         "layout": {
          "annotationdefaults": {
           "arrowcolor": "#2a3f5f",
           "arrowhead": 0,
           "arrowwidth": 1
          },
          "autotypenumbers": "strict",
          "coloraxis": {
           "colorbar": {
            "outlinewidth": 0,
            "ticks": ""
           }
          },
          "colorscale": {
           "diverging": [
            [
             0,
             "#8e0152"
            ],
            [
             0.1,
             "#c51b7d"
            ],
            [
             0.2,
             "#de77ae"
            ],
            [
             0.3,
             "#f1b6da"
            ],
            [
             0.4,
             "#fde0ef"
            ],
            [
             0.5,
             "#f7f7f7"
            ],
            [
             0.6,
             "#e6f5d0"
            ],
            [
             0.7,
             "#b8e186"
            ],
            [
             0.8,
             "#7fbc41"
            ],
            [
             0.9,
             "#4d9221"
            ],
            [
             1,
             "#276419"
            ]
           ],
           "sequential": [
            [
             0,
             "#0d0887"
            ],
            [
             0.1111111111111111,
             "#46039f"
            ],
            [
             0.2222222222222222,
             "#7201a8"
            ],
            [
             0.3333333333333333,
             "#9c179e"
            ],
            [
             0.4444444444444444,
             "#bd3786"
            ],
            [
             0.5555555555555556,
             "#d8576b"
            ],
            [
             0.6666666666666666,
             "#ed7953"
            ],
            [
             0.7777777777777778,
             "#fb9f3a"
            ],
            [
             0.8888888888888888,
             "#fdca26"
            ],
            [
             1,
             "#f0f921"
            ]
           ],
           "sequentialminus": [
            [
             0,
             "#0d0887"
            ],
            [
             0.1111111111111111,
             "#46039f"
            ],
            [
             0.2222222222222222,
             "#7201a8"
            ],
            [
             0.3333333333333333,
             "#9c179e"
            ],
            [
             0.4444444444444444,
             "#bd3786"
            ],
            [
             0.5555555555555556,
             "#d8576b"
            ],
            [
             0.6666666666666666,
             "#ed7953"
            ],
            [
             0.7777777777777778,
             "#fb9f3a"
            ],
            [
             0.8888888888888888,
             "#fdca26"
            ],
            [
             1,
             "#f0f921"
            ]
           ]
          },
          "colorway": [
           "#636efa",
           "#EF553B",
           "#00cc96",
           "#ab63fa",
           "#FFA15A",
           "#19d3f3",
           "#FF6692",
           "#B6E880",
           "#FF97FF",
           "#FECB52"
          ],
          "font": {
           "color": "#2a3f5f"
          },
          "geo": {
           "bgcolor": "white",
           "lakecolor": "white",
           "landcolor": "#E5ECF6",
           "showlakes": true,
           "showland": true,
           "subunitcolor": "white"
          },
          "hoverlabel": {
           "align": "left"
          },
          "hovermode": "closest",
          "mapbox": {
           "style": "light"
          },
          "paper_bgcolor": "white",
          "plot_bgcolor": "#E5ECF6",
          "polar": {
           "angularaxis": {
            "gridcolor": "white",
            "linecolor": "white",
            "ticks": ""
           },
           "bgcolor": "#E5ECF6",
           "radialaxis": {
            "gridcolor": "white",
            "linecolor": "white",
            "ticks": ""
           }
          },
          "scene": {
           "xaxis": {
            "backgroundcolor": "#E5ECF6",
            "gridcolor": "white",
            "gridwidth": 2,
            "linecolor": "white",
            "showbackground": true,
            "ticks": "",
            "zerolinecolor": "white"
           },
           "yaxis": {
            "backgroundcolor": "#E5ECF6",
            "gridcolor": "white",
            "gridwidth": 2,
            "linecolor": "white",
            "showbackground": true,
            "ticks": "",
            "zerolinecolor": "white"
           },
           "zaxis": {
            "backgroundcolor": "#E5ECF6",
            "gridcolor": "white",
            "gridwidth": 2,
            "linecolor": "white",
            "showbackground": true,
            "ticks": "",
            "zerolinecolor": "white"
           }
          },
          "shapedefaults": {
           "line": {
            "color": "#2a3f5f"
           }
          },
          "ternary": {
           "aaxis": {
            "gridcolor": "white",
            "linecolor": "white",
            "ticks": ""
           },
           "baxis": {
            "gridcolor": "white",
            "linecolor": "white",
            "ticks": ""
           },
           "bgcolor": "#E5ECF6",
           "caxis": {
            "gridcolor": "white",
            "linecolor": "white",
            "ticks": ""
           }
          },
          "title": {
           "x": 0.05
          },
          "xaxis": {
           "automargin": true,
           "gridcolor": "white",
           "linecolor": "white",
           "ticks": "",
           "title": {
            "standoff": 15
           },
           "zerolinecolor": "white",
           "zerolinewidth": 2
          },
          "yaxis": {
           "automargin": true,
           "gridcolor": "white",
           "linecolor": "white",
           "ticks": "",
           "title": {
            "standoff": 15
           },
           "zerolinecolor": "white",
           "zerolinewidth": 2
          }
         }
        },
        "title": {
         "text": "Колличество точек по типу предприятия"
        },
        "xaxis": {
         "title": {
          "text": "Тип предприятия"
         }
        },
        "yaxis": {
         "title": {
          "text": "Кол-во точек"
         }
        }
       }
      },
      "text/html": [
       "<div>                            <div id=\"be1a9e3b-a772-4e8f-9e5c-04fd73cd2e02\" class=\"plotly-graph-div\" style=\"height:525px; width:100%;\"></div>            <script type=\"text/javascript\">                require([\"plotly\"], function(Plotly) {                    window.PLOTLYENV=window.PLOTLYENV || {};                                    if (document.getElementById(\"be1a9e3b-a772-4e8f-9e5c-04fd73cd2e02\")) {                    Plotly.newPlot(                        \"be1a9e3b-a772-4e8f-9e5c-04fd73cd2e02\",                        [{\"type\":\"bar\",\"x\":[\"\\u043a\\u0430\\u0444\\u0435\",\"\\u0441\\u0442\\u043e\\u043b\\u043e\\u0432\\u0430\\u044f\",\"\\u0440\\u0435\\u0441\\u0442\\u043e\\u0440\\u0430\\u043d\",\"\\u043f\\u0440\\u0435\\u0434\\u043f\\u0440\\u0438\\u044f\\u0442\\u0438\\u0435 \\u0431\\u044b\\u0441\\u0442\\u0440\\u043e\\u0433\\u043e \\u043e\\u0431\\u0441\\u043b\\u0443\\u0436\\u0438\\u0432\\u0430\\u043d\\u0438\\u044f\",\"\\u0431\\u0430\\u0440\",\"\\u0431\\u0443\\u0444\\u0435\\u0442\",\"\\u043a\\u0430\\u0444\\u0435\\u0442\\u0435\\u0440\\u0438\\u0439\",\"\\u0437\\u0430\\u043a\\u0443\\u0441\\u043e\\u0447\\u043d\\u0430\\u044f\",\"\\u043c\\u0430\\u0433\\u0430\\u0437\\u0438\\u043d (\\u043e\\u0442\\u0434\\u0435\\u043b \\u043a\\u0443\\u043b\\u0438\\u043d\\u0430\\u0440\\u0438\\u0438)\"],\"y\":[6071,2584,2282,1898,855,577,395,349,273]}],                        {\"template\":{\"data\":{\"bar\":[{\"error_x\":{\"color\":\"#2a3f5f\"},\"error_y\":{\"color\":\"#2a3f5f\"},\"marker\":{\"line\":{\"color\":\"#E5ECF6\",\"width\":0.5},\"pattern\":{\"fillmode\":\"overlay\",\"size\":10,\"solidity\":0.2}},\"type\":\"bar\"}],\"barpolar\":[{\"marker\":{\"line\":{\"color\":\"#E5ECF6\",\"width\":0.5},\"pattern\":{\"fillmode\":\"overlay\",\"size\":10,\"solidity\":0.2}},\"type\":\"barpolar\"}],\"carpet\":[{\"aaxis\":{\"endlinecolor\":\"#2a3f5f\",\"gridcolor\":\"white\",\"linecolor\":\"white\",\"minorgridcolor\":\"white\",\"startlinecolor\":\"#2a3f5f\"},\"baxis\":{\"endlinecolor\":\"#2a3f5f\",\"gridcolor\":\"white\",\"linecolor\":\"white\",\"minorgridcolor\":\"white\",\"startlinecolor\":\"#2a3f5f\"},\"type\":\"carpet\"}],\"choropleth\":[{\"colorbar\":{\"outlinewidth\":0,\"ticks\":\"\"},\"type\":\"choropleth\"}],\"contour\":[{\"colorbar\":{\"outlinewidth\":0,\"ticks\":\"\"},\"colorscale\":[[0.0,\"#0d0887\"],[0.1111111111111111,\"#46039f\"],[0.2222222222222222,\"#7201a8\"],[0.3333333333333333,\"#9c179e\"],[0.4444444444444444,\"#bd3786\"],[0.5555555555555556,\"#d8576b\"],[0.6666666666666666,\"#ed7953\"],[0.7777777777777778,\"#fb9f3a\"],[0.8888888888888888,\"#fdca26\"],[1.0,\"#f0f921\"]],\"type\":\"contour\"}],\"contourcarpet\":[{\"colorbar\":{\"outlinewidth\":0,\"ticks\":\"\"},\"type\":\"contourcarpet\"}],\"heatmap\":[{\"colorbar\":{\"outlinewidth\":0,\"ticks\":\"\"},\"colorscale\":[[0.0,\"#0d0887\"],[0.1111111111111111,\"#46039f\"],[0.2222222222222222,\"#7201a8\"],[0.3333333333333333,\"#9c179e\"],[0.4444444444444444,\"#bd3786\"],[0.5555555555555556,\"#d8576b\"],[0.6666666666666666,\"#ed7953\"],[0.7777777777777778,\"#fb9f3a\"],[0.8888888888888888,\"#fdca26\"],[1.0,\"#f0f921\"]],\"type\":\"heatmap\"}],\"heatmapgl\":[{\"colorbar\":{\"outlinewidth\":0,\"ticks\":\"\"},\"colorscale\":[[0.0,\"#0d0887\"],[0.1111111111111111,\"#46039f\"],[0.2222222222222222,\"#7201a8\"],[0.3333333333333333,\"#9c179e\"],[0.4444444444444444,\"#bd3786\"],[0.5555555555555556,\"#d8576b\"],[0.6666666666666666,\"#ed7953\"],[0.7777777777777778,\"#fb9f3a\"],[0.8888888888888888,\"#fdca26\"],[1.0,\"#f0f921\"]],\"type\":\"heatmapgl\"}],\"histogram\":[{\"marker\":{\"pattern\":{\"fillmode\":\"overlay\",\"size\":10,\"solidity\":0.2}},\"type\":\"histogram\"}],\"histogram2d\":[{\"colorbar\":{\"outlinewidth\":0,\"ticks\":\"\"},\"colorscale\":[[0.0,\"#0d0887\"],[0.1111111111111111,\"#46039f\"],[0.2222222222222222,\"#7201a8\"],[0.3333333333333333,\"#9c179e\"],[0.4444444444444444,\"#bd3786\"],[0.5555555555555556,\"#d8576b\"],[0.6666666666666666,\"#ed7953\"],[0.7777777777777778,\"#fb9f3a\"],[0.8888888888888888,\"#fdca26\"],[1.0,\"#f0f921\"]],\"type\":\"histogram2d\"}],\"histogram2dcontour\":[{\"colorbar\":{\"outlinewidth\":0,\"ticks\":\"\"},\"colorscale\":[[0.0,\"#0d0887\"],[0.1111111111111111,\"#46039f\"],[0.2222222222222222,\"#7201a8\"],[0.3333333333333333,\"#9c179e\"],[0.4444444444444444,\"#bd3786\"],[0.5555555555555556,\"#d8576b\"],[0.6666666666666666,\"#ed7953\"],[0.7777777777777778,\"#fb9f3a\"],[0.8888888888888888,\"#fdca26\"],[1.0,\"#f0f921\"]],\"type\":\"histogram2dcontour\"}],\"mesh3d\":[{\"colorbar\":{\"outlinewidth\":0,\"ticks\":\"\"},\"type\":\"mesh3d\"}],\"parcoords\":[{\"line\":{\"colorbar\":{\"outlinewidth\":0,\"ticks\":\"\"}},\"type\":\"parcoords\"}],\"pie\":[{\"automargin\":true,\"type\":\"pie\"}],\"scatter\":[{\"marker\":{\"colorbar\":{\"outlinewidth\":0,\"ticks\":\"\"}},\"type\":\"scatter\"}],\"scatter3d\":[{\"line\":{\"colorbar\":{\"outlinewidth\":0,\"ticks\":\"\"}},\"marker\":{\"colorbar\":{\"outlinewidth\":0,\"ticks\":\"\"}},\"type\":\"scatter3d\"}],\"scattercarpet\":[{\"marker\":{\"colorbar\":{\"outlinewidth\":0,\"ticks\":\"\"}},\"type\":\"scattercarpet\"}],\"scattergeo\":[{\"marker\":{\"colorbar\":{\"outlinewidth\":0,\"ticks\":\"\"}},\"type\":\"scattergeo\"}],\"scattergl\":[{\"marker\":{\"colorbar\":{\"outlinewidth\":0,\"ticks\":\"\"}},\"type\":\"scattergl\"}],\"scattermapbox\":[{\"marker\":{\"colorbar\":{\"outlinewidth\":0,\"ticks\":\"\"}},\"type\":\"scattermapbox\"}],\"scatterpolar\":[{\"marker\":{\"colorbar\":{\"outlinewidth\":0,\"ticks\":\"\"}},\"type\":\"scatterpolar\"}],\"scatterpolargl\":[{\"marker\":{\"colorbar\":{\"outlinewidth\":0,\"ticks\":\"\"}},\"type\":\"scatterpolargl\"}],\"scatterternary\":[{\"marker\":{\"colorbar\":{\"outlinewidth\":0,\"ticks\":\"\"}},\"type\":\"scatterternary\"}],\"surface\":[{\"colorbar\":{\"outlinewidth\":0,\"ticks\":\"\"},\"colorscale\":[[0.0,\"#0d0887\"],[0.1111111111111111,\"#46039f\"],[0.2222222222222222,\"#7201a8\"],[0.3333333333333333,\"#9c179e\"],[0.4444444444444444,\"#bd3786\"],[0.5555555555555556,\"#d8576b\"],[0.6666666666666666,\"#ed7953\"],[0.7777777777777778,\"#fb9f3a\"],[0.8888888888888888,\"#fdca26\"],[1.0,\"#f0f921\"]],\"type\":\"surface\"}],\"table\":[{\"cells\":{\"fill\":{\"color\":\"#EBF0F8\"},\"line\":{\"color\":\"white\"}},\"header\":{\"fill\":{\"color\":\"#C8D4E3\"},\"line\":{\"color\":\"white\"}},\"type\":\"table\"}]},\"layout\":{\"annotationdefaults\":{\"arrowcolor\":\"#2a3f5f\",\"arrowhead\":0,\"arrowwidth\":1},\"autotypenumbers\":\"strict\",\"coloraxis\":{\"colorbar\":{\"outlinewidth\":0,\"ticks\":\"\"}},\"colorscale\":{\"diverging\":[[0,\"#8e0152\"],[0.1,\"#c51b7d\"],[0.2,\"#de77ae\"],[0.3,\"#f1b6da\"],[0.4,\"#fde0ef\"],[0.5,\"#f7f7f7\"],[0.6,\"#e6f5d0\"],[0.7,\"#b8e186\"],[0.8,\"#7fbc41\"],[0.9,\"#4d9221\"],[1,\"#276419\"]],\"sequential\":[[0.0,\"#0d0887\"],[0.1111111111111111,\"#46039f\"],[0.2222222222222222,\"#7201a8\"],[0.3333333333333333,\"#9c179e\"],[0.4444444444444444,\"#bd3786\"],[0.5555555555555556,\"#d8576b\"],[0.6666666666666666,\"#ed7953\"],[0.7777777777777778,\"#fb9f3a\"],[0.8888888888888888,\"#fdca26\"],[1.0,\"#f0f921\"]],\"sequentialminus\":[[0.0,\"#0d0887\"],[0.1111111111111111,\"#46039f\"],[0.2222222222222222,\"#7201a8\"],[0.3333333333333333,\"#9c179e\"],[0.4444444444444444,\"#bd3786\"],[0.5555555555555556,\"#d8576b\"],[0.6666666666666666,\"#ed7953\"],[0.7777777777777778,\"#fb9f3a\"],[0.8888888888888888,\"#fdca26\"],[1.0,\"#f0f921\"]]},\"colorway\":[\"#636efa\",\"#EF553B\",\"#00cc96\",\"#ab63fa\",\"#FFA15A\",\"#19d3f3\",\"#FF6692\",\"#B6E880\",\"#FF97FF\",\"#FECB52\"],\"font\":{\"color\":\"#2a3f5f\"},\"geo\":{\"bgcolor\":\"white\",\"lakecolor\":\"white\",\"landcolor\":\"#E5ECF6\",\"showlakes\":true,\"showland\":true,\"subunitcolor\":\"white\"},\"hoverlabel\":{\"align\":\"left\"},\"hovermode\":\"closest\",\"mapbox\":{\"style\":\"light\"},\"paper_bgcolor\":\"white\",\"plot_bgcolor\":\"#E5ECF6\",\"polar\":{\"angularaxis\":{\"gridcolor\":\"white\",\"linecolor\":\"white\",\"ticks\":\"\"},\"bgcolor\":\"#E5ECF6\",\"radialaxis\":{\"gridcolor\":\"white\",\"linecolor\":\"white\",\"ticks\":\"\"}},\"scene\":{\"xaxis\":{\"backgroundcolor\":\"#E5ECF6\",\"gridcolor\":\"white\",\"gridwidth\":2,\"linecolor\":\"white\",\"showbackground\":true,\"ticks\":\"\",\"zerolinecolor\":\"white\"},\"yaxis\":{\"backgroundcolor\":\"#E5ECF6\",\"gridcolor\":\"white\",\"gridwidth\":2,\"linecolor\":\"white\",\"showbackground\":true,\"ticks\":\"\",\"zerolinecolor\":\"white\"},\"zaxis\":{\"backgroundcolor\":\"#E5ECF6\",\"gridcolor\":\"white\",\"gridwidth\":2,\"linecolor\":\"white\",\"showbackground\":true,\"ticks\":\"\",\"zerolinecolor\":\"white\"}},\"shapedefaults\":{\"line\":{\"color\":\"#2a3f5f\"}},\"ternary\":{\"aaxis\":{\"gridcolor\":\"white\",\"linecolor\":\"white\",\"ticks\":\"\"},\"baxis\":{\"gridcolor\":\"white\",\"linecolor\":\"white\",\"ticks\":\"\"},\"bgcolor\":\"#E5ECF6\",\"caxis\":{\"gridcolor\":\"white\",\"linecolor\":\"white\",\"ticks\":\"\"}},\"title\":{\"x\":0.05},\"xaxis\":{\"automargin\":true,\"gridcolor\":\"white\",\"linecolor\":\"white\",\"ticks\":\"\",\"title\":{\"standoff\":15},\"zerolinecolor\":\"white\",\"zerolinewidth\":2},\"yaxis\":{\"automargin\":true,\"gridcolor\":\"white\",\"linecolor\":\"white\",\"ticks\":\"\",\"title\":{\"standoff\":15},\"zerolinecolor\":\"white\",\"zerolinewidth\":2}}},\"title\":{\"text\":\"\\u041a\\u043e\\u043b\\u043b\\u0438\\u0447\\u0435\\u0441\\u0442\\u0432\\u043e \\u0442\\u043e\\u0447\\u0435\\u043a \\u043f\\u043e \\u0442\\u0438\\u043f\\u0443 \\u043f\\u0440\\u0435\\u0434\\u043f\\u0440\\u0438\\u044f\\u0442\\u0438\\u044f\"},\"xaxis\":{\"title\":{\"text\":\"\\u0422\\u0438\\u043f \\u043f\\u0440\\u0435\\u0434\\u043f\\u0440\\u0438\\u044f\\u0442\\u0438\\u044f\"}},\"yaxis\":{\"title\":{\"text\":\"\\u041a\\u043e\\u043b-\\u0432\\u043e \\u0442\\u043e\\u0447\\u0435\\u043a\"}}},                        {\"responsive\": true}                    ).then(function(){\n",
       "                            \n",
       "var gd = document.getElementById('be1a9e3b-a772-4e8f-9e5c-04fd73cd2e02');\n",
       "var x = new MutationObserver(function (mutations, observer) {{\n",
       "        var display = window.getComputedStyle(gd).display;\n",
       "        if (!display || display === 'none') {{\n",
       "            console.log([gd, 'removed!']);\n",
       "            Plotly.purge(gd);\n",
       "            observer.disconnect();\n",
       "        }}\n",
       "}});\n",
       "\n",
       "// Listen for the removal of the full notebook cells\n",
       "var notebookContainer = gd.closest('#notebook-container');\n",
       "if (notebookContainer) {{\n",
       "    x.observe(notebookContainer, {childList: true});\n",
       "}}\n",
       "\n",
       "// Listen for the clearing of the current output cell\n",
       "var outputEl = gd.closest('.output');\n",
       "if (outputEl) {{\n",
       "    x.observe(outputEl, {childList: true});\n",
       "}}\n",
       "\n",
       "                        })                };                });            </script>        </div>"
      ]
     },
     "metadata": {},
     "output_type": "display_data"
    }
   ],
   "source": [
    "d_grouped = data.groupby(['object_type'])['id'].count()\n",
    "d_grouped = d_grouped.reset_index().sort_values(by = 'id', ascending=False)\n",
    "print(d_grouped)\n",
    "labels = d_grouped['object_type']\n",
    "values = d_grouped['id']\n",
    "fig = go.Figure(data=[go.Bar(x = labels, y = values)])\n",
    "fig.update_layout(\n",
    "                  title=\"Колличество точек по типу предприятия\",\n",
    "                  xaxis_title=\"Тип предприятия\",\n",
    "                  yaxis_title=\"Кол-во точек\")\n",
    "fig.show()"
   ]
  },
  {
   "cell_type": "markdown",
   "metadata": {},
   "source": [
    "По этому графику мы можем сделать вывод, что больше всего в Москве кафе. На втором месте столовые, на третьем рестораны. "
   ]
  },
  {
   "cell_type": "code",
   "execution_count": 154,
   "metadata": {},
   "outputs": [
    {
     "data": {
      "application/vnd.plotly.v1+json": {
       "config": {
        "plotlyServerURL": "https://plot.ly"
       },
       "data": [
        {
         "labels": [
          "кафе",
          "столовая",
          "ресторан",
          "предприятие быстрого обслуживания",
          "бар",
          "буфет",
          "кафетерий",
          "закусочная",
          "магазин (отдел кулинарии)"
         ],
         "type": "pie",
         "values": [
          6071,
          2584,
          2282,
          1898,
          855,
          577,
          395,
          349,
          273
         ]
        }
       ],
       "layout": {
        "template": {
         "data": {
          "bar": [
           {
            "error_x": {
             "color": "#2a3f5f"
            },
            "error_y": {
             "color": "#2a3f5f"
            },
            "marker": {
             "line": {
              "color": "#E5ECF6",
              "width": 0.5
             },
             "pattern": {
              "fillmode": "overlay",
              "size": 10,
              "solidity": 0.2
             }
            },
            "type": "bar"
           }
          ],
          "barpolar": [
           {
            "marker": {
             "line": {
              "color": "#E5ECF6",
              "width": 0.5
             },
             "pattern": {
              "fillmode": "overlay",
              "size": 10,
              "solidity": 0.2
             }
            },
            "type": "barpolar"
           }
          ],
          "carpet": [
           {
            "aaxis": {
             "endlinecolor": "#2a3f5f",
             "gridcolor": "white",
             "linecolor": "white",
             "minorgridcolor": "white",
             "startlinecolor": "#2a3f5f"
            },
            "baxis": {
             "endlinecolor": "#2a3f5f",
             "gridcolor": "white",
             "linecolor": "white",
             "minorgridcolor": "white",
             "startlinecolor": "#2a3f5f"
            },
            "type": "carpet"
           }
          ],
          "choropleth": [
           {
            "colorbar": {
             "outlinewidth": 0,
             "ticks": ""
            },
            "type": "choropleth"
           }
          ],
          "contour": [
           {
            "colorbar": {
             "outlinewidth": 0,
             "ticks": ""
            },
            "colorscale": [
             [
              0,
              "#0d0887"
             ],
             [
              0.1111111111111111,
              "#46039f"
             ],
             [
              0.2222222222222222,
              "#7201a8"
             ],
             [
              0.3333333333333333,
              "#9c179e"
             ],
             [
              0.4444444444444444,
              "#bd3786"
             ],
             [
              0.5555555555555556,
              "#d8576b"
             ],
             [
              0.6666666666666666,
              "#ed7953"
             ],
             [
              0.7777777777777778,
              "#fb9f3a"
             ],
             [
              0.8888888888888888,
              "#fdca26"
             ],
             [
              1,
              "#f0f921"
             ]
            ],
            "type": "contour"
           }
          ],
          "contourcarpet": [
           {
            "colorbar": {
             "outlinewidth": 0,
             "ticks": ""
            },
            "type": "contourcarpet"
           }
          ],
          "heatmap": [
           {
            "colorbar": {
             "outlinewidth": 0,
             "ticks": ""
            },
            "colorscale": [
             [
              0,
              "#0d0887"
             ],
             [
              0.1111111111111111,
              "#46039f"
             ],
             [
              0.2222222222222222,
              "#7201a8"
             ],
             [
              0.3333333333333333,
              "#9c179e"
             ],
             [
              0.4444444444444444,
              "#bd3786"
             ],
             [
              0.5555555555555556,
              "#d8576b"
             ],
             [
              0.6666666666666666,
              "#ed7953"
             ],
             [
              0.7777777777777778,
              "#fb9f3a"
             ],
             [
              0.8888888888888888,
              "#fdca26"
             ],
             [
              1,
              "#f0f921"
             ]
            ],
            "type": "heatmap"
           }
          ],
          "heatmapgl": [
           {
            "colorbar": {
             "outlinewidth": 0,
             "ticks": ""
            },
            "colorscale": [
             [
              0,
              "#0d0887"
             ],
             [
              0.1111111111111111,
              "#46039f"
             ],
             [
              0.2222222222222222,
              "#7201a8"
             ],
             [
              0.3333333333333333,
              "#9c179e"
             ],
             [
              0.4444444444444444,
              "#bd3786"
             ],
             [
              0.5555555555555556,
              "#d8576b"
             ],
             [
              0.6666666666666666,
              "#ed7953"
             ],
             [
              0.7777777777777778,
              "#fb9f3a"
             ],
             [
              0.8888888888888888,
              "#fdca26"
             ],
             [
              1,
              "#f0f921"
             ]
            ],
            "type": "heatmapgl"
           }
          ],
          "histogram": [
           {
            "marker": {
             "pattern": {
              "fillmode": "overlay",
              "size": 10,
              "solidity": 0.2
             }
            },
            "type": "histogram"
           }
          ],
          "histogram2d": [
           {
            "colorbar": {
             "outlinewidth": 0,
             "ticks": ""
            },
            "colorscale": [
             [
              0,
              "#0d0887"
             ],
             [
              0.1111111111111111,
              "#46039f"
             ],
             [
              0.2222222222222222,
              "#7201a8"
             ],
             [
              0.3333333333333333,
              "#9c179e"
             ],
             [
              0.4444444444444444,
              "#bd3786"
             ],
             [
              0.5555555555555556,
              "#d8576b"
             ],
             [
              0.6666666666666666,
              "#ed7953"
             ],
             [
              0.7777777777777778,
              "#fb9f3a"
             ],
             [
              0.8888888888888888,
              "#fdca26"
             ],
             [
              1,
              "#f0f921"
             ]
            ],
            "type": "histogram2d"
           }
          ],
          "histogram2dcontour": [
           {
            "colorbar": {
             "outlinewidth": 0,
             "ticks": ""
            },
            "colorscale": [
             [
              0,
              "#0d0887"
             ],
             [
              0.1111111111111111,
              "#46039f"
             ],
             [
              0.2222222222222222,
              "#7201a8"
             ],
             [
              0.3333333333333333,
              "#9c179e"
             ],
             [
              0.4444444444444444,
              "#bd3786"
             ],
             [
              0.5555555555555556,
              "#d8576b"
             ],
             [
              0.6666666666666666,
              "#ed7953"
             ],
             [
              0.7777777777777778,
              "#fb9f3a"
             ],
             [
              0.8888888888888888,
              "#fdca26"
             ],
             [
              1,
              "#f0f921"
             ]
            ],
            "type": "histogram2dcontour"
           }
          ],
          "mesh3d": [
           {
            "colorbar": {
             "outlinewidth": 0,
             "ticks": ""
            },
            "type": "mesh3d"
           }
          ],
          "parcoords": [
           {
            "line": {
             "colorbar": {
              "outlinewidth": 0,
              "ticks": ""
             }
            },
            "type": "parcoords"
           }
          ],
          "pie": [
           {
            "automargin": true,
            "type": "pie"
           }
          ],
          "scatter": [
           {
            "marker": {
             "colorbar": {
              "outlinewidth": 0,
              "ticks": ""
             }
            },
            "type": "scatter"
           }
          ],
          "scatter3d": [
           {
            "line": {
             "colorbar": {
              "outlinewidth": 0,
              "ticks": ""
             }
            },
            "marker": {
             "colorbar": {
              "outlinewidth": 0,
              "ticks": ""
             }
            },
            "type": "scatter3d"
           }
          ],
          "scattercarpet": [
           {
            "marker": {
             "colorbar": {
              "outlinewidth": 0,
              "ticks": ""
             }
            },
            "type": "scattercarpet"
           }
          ],
          "scattergeo": [
           {
            "marker": {
             "colorbar": {
              "outlinewidth": 0,
              "ticks": ""
             }
            },
            "type": "scattergeo"
           }
          ],
          "scattergl": [
           {
            "marker": {
             "colorbar": {
              "outlinewidth": 0,
              "ticks": ""
             }
            },
            "type": "scattergl"
           }
          ],
          "scattermapbox": [
           {
            "marker": {
             "colorbar": {
              "outlinewidth": 0,
              "ticks": ""
             }
            },
            "type": "scattermapbox"
           }
          ],
          "scatterpolar": [
           {
            "marker": {
             "colorbar": {
              "outlinewidth": 0,
              "ticks": ""
             }
            },
            "type": "scatterpolar"
           }
          ],
          "scatterpolargl": [
           {
            "marker": {
             "colorbar": {
              "outlinewidth": 0,
              "ticks": ""
             }
            },
            "type": "scatterpolargl"
           }
          ],
          "scatterternary": [
           {
            "marker": {
             "colorbar": {
              "outlinewidth": 0,
              "ticks": ""
             }
            },
            "type": "scatterternary"
           }
          ],
          "surface": [
           {
            "colorbar": {
             "outlinewidth": 0,
             "ticks": ""
            },
            "colorscale": [
             [
              0,
              "#0d0887"
             ],
             [
              0.1111111111111111,
              "#46039f"
             ],
             [
              0.2222222222222222,
              "#7201a8"
             ],
             [
              0.3333333333333333,
              "#9c179e"
             ],
             [
              0.4444444444444444,
              "#bd3786"
             ],
             [
              0.5555555555555556,
              "#d8576b"
             ],
             [
              0.6666666666666666,
              "#ed7953"
             ],
             [
              0.7777777777777778,
              "#fb9f3a"
             ],
             [
              0.8888888888888888,
              "#fdca26"
             ],
             [
              1,
              "#f0f921"
             ]
            ],
            "type": "surface"
           }
          ],
          "table": [
           {
            "cells": {
             "fill": {
              "color": "#EBF0F8"
             },
             "line": {
              "color": "white"
             }
            },
            "header": {
             "fill": {
              "color": "#C8D4E3"
             },
             "line": {
              "color": "white"
             }
            },
            "type": "table"
           }
          ]
         },
         "layout": {
          "annotationdefaults": {
           "arrowcolor": "#2a3f5f",
           "arrowhead": 0,
           "arrowwidth": 1
          },
          "autotypenumbers": "strict",
          "coloraxis": {
           "colorbar": {
            "outlinewidth": 0,
            "ticks": ""
           }
          },
          "colorscale": {
           "diverging": [
            [
             0,
             "#8e0152"
            ],
            [
             0.1,
             "#c51b7d"
            ],
            [
             0.2,
             "#de77ae"
            ],
            [
             0.3,
             "#f1b6da"
            ],
            [
             0.4,
             "#fde0ef"
            ],
            [
             0.5,
             "#f7f7f7"
            ],
            [
             0.6,
             "#e6f5d0"
            ],
            [
             0.7,
             "#b8e186"
            ],
            [
             0.8,
             "#7fbc41"
            ],
            [
             0.9,
             "#4d9221"
            ],
            [
             1,
             "#276419"
            ]
           ],
           "sequential": [
            [
             0,
             "#0d0887"
            ],
            [
             0.1111111111111111,
             "#46039f"
            ],
            [
             0.2222222222222222,
             "#7201a8"
            ],
            [
             0.3333333333333333,
             "#9c179e"
            ],
            [
             0.4444444444444444,
             "#bd3786"
            ],
            [
             0.5555555555555556,
             "#d8576b"
            ],
            [
             0.6666666666666666,
             "#ed7953"
            ],
            [
             0.7777777777777778,
             "#fb9f3a"
            ],
            [
             0.8888888888888888,
             "#fdca26"
            ],
            [
             1,
             "#f0f921"
            ]
           ],
           "sequentialminus": [
            [
             0,
             "#0d0887"
            ],
            [
             0.1111111111111111,
             "#46039f"
            ],
            [
             0.2222222222222222,
             "#7201a8"
            ],
            [
             0.3333333333333333,
             "#9c179e"
            ],
            [
             0.4444444444444444,
             "#bd3786"
            ],
            [
             0.5555555555555556,
             "#d8576b"
            ],
            [
             0.6666666666666666,
             "#ed7953"
            ],
            [
             0.7777777777777778,
             "#fb9f3a"
            ],
            [
             0.8888888888888888,
             "#fdca26"
            ],
            [
             1,
             "#f0f921"
            ]
           ]
          },
          "colorway": [
           "#636efa",
           "#EF553B",
           "#00cc96",
           "#ab63fa",
           "#FFA15A",
           "#19d3f3",
           "#FF6692",
           "#B6E880",
           "#FF97FF",
           "#FECB52"
          ],
          "font": {
           "color": "#2a3f5f"
          },
          "geo": {
           "bgcolor": "white",
           "lakecolor": "white",
           "landcolor": "#E5ECF6",
           "showlakes": true,
           "showland": true,
           "subunitcolor": "white"
          },
          "hoverlabel": {
           "align": "left"
          },
          "hovermode": "closest",
          "mapbox": {
           "style": "light"
          },
          "paper_bgcolor": "white",
          "plot_bgcolor": "#E5ECF6",
          "polar": {
           "angularaxis": {
            "gridcolor": "white",
            "linecolor": "white",
            "ticks": ""
           },
           "bgcolor": "#E5ECF6",
           "radialaxis": {
            "gridcolor": "white",
            "linecolor": "white",
            "ticks": ""
           }
          },
          "scene": {
           "xaxis": {
            "backgroundcolor": "#E5ECF6",
            "gridcolor": "white",
            "gridwidth": 2,
            "linecolor": "white",
            "showbackground": true,
            "ticks": "",
            "zerolinecolor": "white"
           },
           "yaxis": {
            "backgroundcolor": "#E5ECF6",
            "gridcolor": "white",
            "gridwidth": 2,
            "linecolor": "white",
            "showbackground": true,
            "ticks": "",
            "zerolinecolor": "white"
           },
           "zaxis": {
            "backgroundcolor": "#E5ECF6",
            "gridcolor": "white",
            "gridwidth": 2,
            "linecolor": "white",
            "showbackground": true,
            "ticks": "",
            "zerolinecolor": "white"
           }
          },
          "shapedefaults": {
           "line": {
            "color": "#2a3f5f"
           }
          },
          "ternary": {
           "aaxis": {
            "gridcolor": "white",
            "linecolor": "white",
            "ticks": ""
           },
           "baxis": {
            "gridcolor": "white",
            "linecolor": "white",
            "ticks": ""
           },
           "bgcolor": "#E5ECF6",
           "caxis": {
            "gridcolor": "white",
            "linecolor": "white",
            "ticks": ""
           }
          },
          "title": {
           "x": 0.05
          },
          "xaxis": {
           "automargin": true,
           "gridcolor": "white",
           "linecolor": "white",
           "ticks": "",
           "title": {
            "standoff": 15
           },
           "zerolinecolor": "white",
           "zerolinewidth": 2
          },
          "yaxis": {
           "automargin": true,
           "gridcolor": "white",
           "linecolor": "white",
           "ticks": "",
           "title": {
            "standoff": 15
           },
           "zerolinecolor": "white",
           "zerolinewidth": 2
          }
         }
        },
        "title": {
         "font": {
          "size": 20
         },
         "text": "Распределение долей по типу предприятия"
        }
       }
      },
      "text/html": [
       "<div>                            <div id=\"40d9ecd8-4d10-4ef0-971b-27e217ea7b02\" class=\"plotly-graph-div\" style=\"height:525px; width:100%;\"></div>            <script type=\"text/javascript\">                require([\"plotly\"], function(Plotly) {                    window.PLOTLYENV=window.PLOTLYENV || {};                                    if (document.getElementById(\"40d9ecd8-4d10-4ef0-971b-27e217ea7b02\")) {                    Plotly.newPlot(                        \"40d9ecd8-4d10-4ef0-971b-27e217ea7b02\",                        [{\"labels\":[\"\\u043a\\u0430\\u0444\\u0435\",\"\\u0441\\u0442\\u043e\\u043b\\u043e\\u0432\\u0430\\u044f\",\"\\u0440\\u0435\\u0441\\u0442\\u043e\\u0440\\u0430\\u043d\",\"\\u043f\\u0440\\u0435\\u0434\\u043f\\u0440\\u0438\\u044f\\u0442\\u0438\\u0435 \\u0431\\u044b\\u0441\\u0442\\u0440\\u043e\\u0433\\u043e \\u043e\\u0431\\u0441\\u043b\\u0443\\u0436\\u0438\\u0432\\u0430\\u043d\\u0438\\u044f\",\"\\u0431\\u0430\\u0440\",\"\\u0431\\u0443\\u0444\\u0435\\u0442\",\"\\u043a\\u0430\\u0444\\u0435\\u0442\\u0435\\u0440\\u0438\\u0439\",\"\\u0437\\u0430\\u043a\\u0443\\u0441\\u043e\\u0447\\u043d\\u0430\\u044f\",\"\\u043c\\u0430\\u0433\\u0430\\u0437\\u0438\\u043d (\\u043e\\u0442\\u0434\\u0435\\u043b \\u043a\\u0443\\u043b\\u0438\\u043d\\u0430\\u0440\\u0438\\u0438)\"],\"type\":\"pie\",\"values\":[6071,2584,2282,1898,855,577,395,349,273]}],                        {\"template\":{\"data\":{\"bar\":[{\"error_x\":{\"color\":\"#2a3f5f\"},\"error_y\":{\"color\":\"#2a3f5f\"},\"marker\":{\"line\":{\"color\":\"#E5ECF6\",\"width\":0.5},\"pattern\":{\"fillmode\":\"overlay\",\"size\":10,\"solidity\":0.2}},\"type\":\"bar\"}],\"barpolar\":[{\"marker\":{\"line\":{\"color\":\"#E5ECF6\",\"width\":0.5},\"pattern\":{\"fillmode\":\"overlay\",\"size\":10,\"solidity\":0.2}},\"type\":\"barpolar\"}],\"carpet\":[{\"aaxis\":{\"endlinecolor\":\"#2a3f5f\",\"gridcolor\":\"white\",\"linecolor\":\"white\",\"minorgridcolor\":\"white\",\"startlinecolor\":\"#2a3f5f\"},\"baxis\":{\"endlinecolor\":\"#2a3f5f\",\"gridcolor\":\"white\",\"linecolor\":\"white\",\"minorgridcolor\":\"white\",\"startlinecolor\":\"#2a3f5f\"},\"type\":\"carpet\"}],\"choropleth\":[{\"colorbar\":{\"outlinewidth\":0,\"ticks\":\"\"},\"type\":\"choropleth\"}],\"contour\":[{\"colorbar\":{\"outlinewidth\":0,\"ticks\":\"\"},\"colorscale\":[[0.0,\"#0d0887\"],[0.1111111111111111,\"#46039f\"],[0.2222222222222222,\"#7201a8\"],[0.3333333333333333,\"#9c179e\"],[0.4444444444444444,\"#bd3786\"],[0.5555555555555556,\"#d8576b\"],[0.6666666666666666,\"#ed7953\"],[0.7777777777777778,\"#fb9f3a\"],[0.8888888888888888,\"#fdca26\"],[1.0,\"#f0f921\"]],\"type\":\"contour\"}],\"contourcarpet\":[{\"colorbar\":{\"outlinewidth\":0,\"ticks\":\"\"},\"type\":\"contourcarpet\"}],\"heatmap\":[{\"colorbar\":{\"outlinewidth\":0,\"ticks\":\"\"},\"colorscale\":[[0.0,\"#0d0887\"],[0.1111111111111111,\"#46039f\"],[0.2222222222222222,\"#7201a8\"],[0.3333333333333333,\"#9c179e\"],[0.4444444444444444,\"#bd3786\"],[0.5555555555555556,\"#d8576b\"],[0.6666666666666666,\"#ed7953\"],[0.7777777777777778,\"#fb9f3a\"],[0.8888888888888888,\"#fdca26\"],[1.0,\"#f0f921\"]],\"type\":\"heatmap\"}],\"heatmapgl\":[{\"colorbar\":{\"outlinewidth\":0,\"ticks\":\"\"},\"colorscale\":[[0.0,\"#0d0887\"],[0.1111111111111111,\"#46039f\"],[0.2222222222222222,\"#7201a8\"],[0.3333333333333333,\"#9c179e\"],[0.4444444444444444,\"#bd3786\"],[0.5555555555555556,\"#d8576b\"],[0.6666666666666666,\"#ed7953\"],[0.7777777777777778,\"#fb9f3a\"],[0.8888888888888888,\"#fdca26\"],[1.0,\"#f0f921\"]],\"type\":\"heatmapgl\"}],\"histogram\":[{\"marker\":{\"pattern\":{\"fillmode\":\"overlay\",\"size\":10,\"solidity\":0.2}},\"type\":\"histogram\"}],\"histogram2d\":[{\"colorbar\":{\"outlinewidth\":0,\"ticks\":\"\"},\"colorscale\":[[0.0,\"#0d0887\"],[0.1111111111111111,\"#46039f\"],[0.2222222222222222,\"#7201a8\"],[0.3333333333333333,\"#9c179e\"],[0.4444444444444444,\"#bd3786\"],[0.5555555555555556,\"#d8576b\"],[0.6666666666666666,\"#ed7953\"],[0.7777777777777778,\"#fb9f3a\"],[0.8888888888888888,\"#fdca26\"],[1.0,\"#f0f921\"]],\"type\":\"histogram2d\"}],\"histogram2dcontour\":[{\"colorbar\":{\"outlinewidth\":0,\"ticks\":\"\"},\"colorscale\":[[0.0,\"#0d0887\"],[0.1111111111111111,\"#46039f\"],[0.2222222222222222,\"#7201a8\"],[0.3333333333333333,\"#9c179e\"],[0.4444444444444444,\"#bd3786\"],[0.5555555555555556,\"#d8576b\"],[0.6666666666666666,\"#ed7953\"],[0.7777777777777778,\"#fb9f3a\"],[0.8888888888888888,\"#fdca26\"],[1.0,\"#f0f921\"]],\"type\":\"histogram2dcontour\"}],\"mesh3d\":[{\"colorbar\":{\"outlinewidth\":0,\"ticks\":\"\"},\"type\":\"mesh3d\"}],\"parcoords\":[{\"line\":{\"colorbar\":{\"outlinewidth\":0,\"ticks\":\"\"}},\"type\":\"parcoords\"}],\"pie\":[{\"automargin\":true,\"type\":\"pie\"}],\"scatter\":[{\"marker\":{\"colorbar\":{\"outlinewidth\":0,\"ticks\":\"\"}},\"type\":\"scatter\"}],\"scatter3d\":[{\"line\":{\"colorbar\":{\"outlinewidth\":0,\"ticks\":\"\"}},\"marker\":{\"colorbar\":{\"outlinewidth\":0,\"ticks\":\"\"}},\"type\":\"scatter3d\"}],\"scattercarpet\":[{\"marker\":{\"colorbar\":{\"outlinewidth\":0,\"ticks\":\"\"}},\"type\":\"scattercarpet\"}],\"scattergeo\":[{\"marker\":{\"colorbar\":{\"outlinewidth\":0,\"ticks\":\"\"}},\"type\":\"scattergeo\"}],\"scattergl\":[{\"marker\":{\"colorbar\":{\"outlinewidth\":0,\"ticks\":\"\"}},\"type\":\"scattergl\"}],\"scattermapbox\":[{\"marker\":{\"colorbar\":{\"outlinewidth\":0,\"ticks\":\"\"}},\"type\":\"scattermapbox\"}],\"scatterpolar\":[{\"marker\":{\"colorbar\":{\"outlinewidth\":0,\"ticks\":\"\"}},\"type\":\"scatterpolar\"}],\"scatterpolargl\":[{\"marker\":{\"colorbar\":{\"outlinewidth\":0,\"ticks\":\"\"}},\"type\":\"scatterpolargl\"}],\"scatterternary\":[{\"marker\":{\"colorbar\":{\"outlinewidth\":0,\"ticks\":\"\"}},\"type\":\"scatterternary\"}],\"surface\":[{\"colorbar\":{\"outlinewidth\":0,\"ticks\":\"\"},\"colorscale\":[[0.0,\"#0d0887\"],[0.1111111111111111,\"#46039f\"],[0.2222222222222222,\"#7201a8\"],[0.3333333333333333,\"#9c179e\"],[0.4444444444444444,\"#bd3786\"],[0.5555555555555556,\"#d8576b\"],[0.6666666666666666,\"#ed7953\"],[0.7777777777777778,\"#fb9f3a\"],[0.8888888888888888,\"#fdca26\"],[1.0,\"#f0f921\"]],\"type\":\"surface\"}],\"table\":[{\"cells\":{\"fill\":{\"color\":\"#EBF0F8\"},\"line\":{\"color\":\"white\"}},\"header\":{\"fill\":{\"color\":\"#C8D4E3\"},\"line\":{\"color\":\"white\"}},\"type\":\"table\"}]},\"layout\":{\"annotationdefaults\":{\"arrowcolor\":\"#2a3f5f\",\"arrowhead\":0,\"arrowwidth\":1},\"autotypenumbers\":\"strict\",\"coloraxis\":{\"colorbar\":{\"outlinewidth\":0,\"ticks\":\"\"}},\"colorscale\":{\"diverging\":[[0,\"#8e0152\"],[0.1,\"#c51b7d\"],[0.2,\"#de77ae\"],[0.3,\"#f1b6da\"],[0.4,\"#fde0ef\"],[0.5,\"#f7f7f7\"],[0.6,\"#e6f5d0\"],[0.7,\"#b8e186\"],[0.8,\"#7fbc41\"],[0.9,\"#4d9221\"],[1,\"#276419\"]],\"sequential\":[[0.0,\"#0d0887\"],[0.1111111111111111,\"#46039f\"],[0.2222222222222222,\"#7201a8\"],[0.3333333333333333,\"#9c179e\"],[0.4444444444444444,\"#bd3786\"],[0.5555555555555556,\"#d8576b\"],[0.6666666666666666,\"#ed7953\"],[0.7777777777777778,\"#fb9f3a\"],[0.8888888888888888,\"#fdca26\"],[1.0,\"#f0f921\"]],\"sequentialminus\":[[0.0,\"#0d0887\"],[0.1111111111111111,\"#46039f\"],[0.2222222222222222,\"#7201a8\"],[0.3333333333333333,\"#9c179e\"],[0.4444444444444444,\"#bd3786\"],[0.5555555555555556,\"#d8576b\"],[0.6666666666666666,\"#ed7953\"],[0.7777777777777778,\"#fb9f3a\"],[0.8888888888888888,\"#fdca26\"],[1.0,\"#f0f921\"]]},\"colorway\":[\"#636efa\",\"#EF553B\",\"#00cc96\",\"#ab63fa\",\"#FFA15A\",\"#19d3f3\",\"#FF6692\",\"#B6E880\",\"#FF97FF\",\"#FECB52\"],\"font\":{\"color\":\"#2a3f5f\"},\"geo\":{\"bgcolor\":\"white\",\"lakecolor\":\"white\",\"landcolor\":\"#E5ECF6\",\"showlakes\":true,\"showland\":true,\"subunitcolor\":\"white\"},\"hoverlabel\":{\"align\":\"left\"},\"hovermode\":\"closest\",\"mapbox\":{\"style\":\"light\"},\"paper_bgcolor\":\"white\",\"plot_bgcolor\":\"#E5ECF6\",\"polar\":{\"angularaxis\":{\"gridcolor\":\"white\",\"linecolor\":\"white\",\"ticks\":\"\"},\"bgcolor\":\"#E5ECF6\",\"radialaxis\":{\"gridcolor\":\"white\",\"linecolor\":\"white\",\"ticks\":\"\"}},\"scene\":{\"xaxis\":{\"backgroundcolor\":\"#E5ECF6\",\"gridcolor\":\"white\",\"gridwidth\":2,\"linecolor\":\"white\",\"showbackground\":true,\"ticks\":\"\",\"zerolinecolor\":\"white\"},\"yaxis\":{\"backgroundcolor\":\"#E5ECF6\",\"gridcolor\":\"white\",\"gridwidth\":2,\"linecolor\":\"white\",\"showbackground\":true,\"ticks\":\"\",\"zerolinecolor\":\"white\"},\"zaxis\":{\"backgroundcolor\":\"#E5ECF6\",\"gridcolor\":\"white\",\"gridwidth\":2,\"linecolor\":\"white\",\"showbackground\":true,\"ticks\":\"\",\"zerolinecolor\":\"white\"}},\"shapedefaults\":{\"line\":{\"color\":\"#2a3f5f\"}},\"ternary\":{\"aaxis\":{\"gridcolor\":\"white\",\"linecolor\":\"white\",\"ticks\":\"\"},\"baxis\":{\"gridcolor\":\"white\",\"linecolor\":\"white\",\"ticks\":\"\"},\"bgcolor\":\"#E5ECF6\",\"caxis\":{\"gridcolor\":\"white\",\"linecolor\":\"white\",\"ticks\":\"\"}},\"title\":{\"x\":0.05},\"xaxis\":{\"automargin\":true,\"gridcolor\":\"white\",\"linecolor\":\"white\",\"ticks\":\"\",\"title\":{\"standoff\":15},\"zerolinecolor\":\"white\",\"zerolinewidth\":2},\"yaxis\":{\"automargin\":true,\"gridcolor\":\"white\",\"linecolor\":\"white\",\"ticks\":\"\",\"title\":{\"standoff\":15},\"zerolinecolor\":\"white\",\"zerolinewidth\":2}}},\"title\":{\"font\":{\"size\":20},\"text\":\"\\u0420\\u0430\\u0441\\u043f\\u0440\\u0435\\u0434\\u0435\\u043b\\u0435\\u043d\\u0438\\u0435 \\u0434\\u043e\\u043b\\u0435\\u0439 \\u043f\\u043e \\u0442\\u0438\\u043f\\u0443 \\u043f\\u0440\\u0435\\u0434\\u043f\\u0440\\u0438\\u044f\\u0442\\u0438\\u044f\"}},                        {\"responsive\": true}                    ).then(function(){\n",
       "                            \n",
       "var gd = document.getElementById('40d9ecd8-4d10-4ef0-971b-27e217ea7b02');\n",
       "var x = new MutationObserver(function (mutations, observer) {{\n",
       "        var display = window.getComputedStyle(gd).display;\n",
       "        if (!display || display === 'none') {{\n",
       "            console.log([gd, 'removed!']);\n",
       "            Plotly.purge(gd);\n",
       "            observer.disconnect();\n",
       "        }}\n",
       "}});\n",
       "\n",
       "// Listen for the removal of the full notebook cells\n",
       "var notebookContainer = gd.closest('#notebook-container');\n",
       "if (notebookContainer) {{\n",
       "    x.observe(notebookContainer, {childList: true});\n",
       "}}\n",
       "\n",
       "// Listen for the clearing of the current output cell\n",
       "var outputEl = gd.closest('.output');\n",
       "if (outputEl) {{\n",
       "    x.observe(outputEl, {childList: true});\n",
       "}}\n",
       "\n",
       "                        })                };                });            </script>        </div>"
      ]
     },
     "metadata": {},
     "output_type": "display_data"
    }
   ],
   "source": [
    "fig = go.Figure(data=[go.Pie(labels=labels, values=values)])\n",
    "fig.update_layout(\n",
    "    title_text='Распределение долей по типу предприятия',\n",
    "    title_font_size=20)\n",
    "fig.show()\n"
   ]
  },
  {
   "cell_type": "markdown",
   "metadata": {},
   "source": [
    "Тут мы видим доли.  39,7% это кафе, столовых 16,8% от всех видов предприятия. Ресторанов 14,9%."
   ]
  },
  {
   "cell_type": "markdown",
   "metadata": {},
   "source": [
    "## Сети и единичные предприятия "
   ]
  },
  {
   "cell_type": "markdown",
   "metadata": {},
   "source": [
    "Исследуем соотношение сетевых и несетевых заведений по количеству."
   ]
  },
  {
   "cell_type": "code",
   "execution_count": 155,
   "metadata": {},
   "outputs": [
    {
     "name": "stdout",
     "output_type": "stream",
     "text": [
      "  chain     id\n",
      "1  нет   12320\n",
      "0  да    2964 \n"
     ]
    }
   ],
   "source": [
    "data_grouped = data.groupby(['chain'])['id'].count()\n",
    "data_grouped = data_grouped.reset_index().sort_values(by = 'id', ascending=False)\n",
    "print(data_grouped)\n",
    "labels = data_grouped['chain']\n",
    "values = data_grouped['id']\n"
   ]
  },
  {
   "cell_type": "code",
   "execution_count": 156,
   "metadata": {},
   "outputs": [
    {
     "data": {
      "application/vnd.plotly.v1+json": {
       "config": {
        "plotlyServerURL": "https://plot.ly"
       },
       "data": [
        {
         "labels": [
          "нет",
          "да"
         ],
         "type": "pie",
         "values": [
          12320,
          2964
         ]
        }
       ],
       "layout": {
        "template": {
         "data": {
          "bar": [
           {
            "error_x": {
             "color": "#2a3f5f"
            },
            "error_y": {
             "color": "#2a3f5f"
            },
            "marker": {
             "line": {
              "color": "#E5ECF6",
              "width": 0.5
             },
             "pattern": {
              "fillmode": "overlay",
              "size": 10,
              "solidity": 0.2
             }
            },
            "type": "bar"
           }
          ],
          "barpolar": [
           {
            "marker": {
             "line": {
              "color": "#E5ECF6",
              "width": 0.5
             },
             "pattern": {
              "fillmode": "overlay",
              "size": 10,
              "solidity": 0.2
             }
            },
            "type": "barpolar"
           }
          ],
          "carpet": [
           {
            "aaxis": {
             "endlinecolor": "#2a3f5f",
             "gridcolor": "white",
             "linecolor": "white",
             "minorgridcolor": "white",
             "startlinecolor": "#2a3f5f"
            },
            "baxis": {
             "endlinecolor": "#2a3f5f",
             "gridcolor": "white",
             "linecolor": "white",
             "minorgridcolor": "white",
             "startlinecolor": "#2a3f5f"
            },
            "type": "carpet"
           }
          ],
          "choropleth": [
           {
            "colorbar": {
             "outlinewidth": 0,
             "ticks": ""
            },
            "type": "choropleth"
           }
          ],
          "contour": [
           {
            "colorbar": {
             "outlinewidth": 0,
             "ticks": ""
            },
            "colorscale": [
             [
              0,
              "#0d0887"
             ],
             [
              0.1111111111111111,
              "#46039f"
             ],
             [
              0.2222222222222222,
              "#7201a8"
             ],
             [
              0.3333333333333333,
              "#9c179e"
             ],
             [
              0.4444444444444444,
              "#bd3786"
             ],
             [
              0.5555555555555556,
              "#d8576b"
             ],
             [
              0.6666666666666666,
              "#ed7953"
             ],
             [
              0.7777777777777778,
              "#fb9f3a"
             ],
             [
              0.8888888888888888,
              "#fdca26"
             ],
             [
              1,
              "#f0f921"
             ]
            ],
            "type": "contour"
           }
          ],
          "contourcarpet": [
           {
            "colorbar": {
             "outlinewidth": 0,
             "ticks": ""
            },
            "type": "contourcarpet"
           }
          ],
          "heatmap": [
           {
            "colorbar": {
             "outlinewidth": 0,
             "ticks": ""
            },
            "colorscale": [
             [
              0,
              "#0d0887"
             ],
             [
              0.1111111111111111,
              "#46039f"
             ],
             [
              0.2222222222222222,
              "#7201a8"
             ],
             [
              0.3333333333333333,
              "#9c179e"
             ],
             [
              0.4444444444444444,
              "#bd3786"
             ],
             [
              0.5555555555555556,
              "#d8576b"
             ],
             [
              0.6666666666666666,
              "#ed7953"
             ],
             [
              0.7777777777777778,
              "#fb9f3a"
             ],
             [
              0.8888888888888888,
              "#fdca26"
             ],
             [
              1,
              "#f0f921"
             ]
            ],
            "type": "heatmap"
           }
          ],
          "heatmapgl": [
           {
            "colorbar": {
             "outlinewidth": 0,
             "ticks": ""
            },
            "colorscale": [
             [
              0,
              "#0d0887"
             ],
             [
              0.1111111111111111,
              "#46039f"
             ],
             [
              0.2222222222222222,
              "#7201a8"
             ],
             [
              0.3333333333333333,
              "#9c179e"
             ],
             [
              0.4444444444444444,
              "#bd3786"
             ],
             [
              0.5555555555555556,
              "#d8576b"
             ],
             [
              0.6666666666666666,
              "#ed7953"
             ],
             [
              0.7777777777777778,
              "#fb9f3a"
             ],
             [
              0.8888888888888888,
              "#fdca26"
             ],
             [
              1,
              "#f0f921"
             ]
            ],
            "type": "heatmapgl"
           }
          ],
          "histogram": [
           {
            "marker": {
             "pattern": {
              "fillmode": "overlay",
              "size": 10,
              "solidity": 0.2
             }
            },
            "type": "histogram"
           }
          ],
          "histogram2d": [
           {
            "colorbar": {
             "outlinewidth": 0,
             "ticks": ""
            },
            "colorscale": [
             [
              0,
              "#0d0887"
             ],
             [
              0.1111111111111111,
              "#46039f"
             ],
             [
              0.2222222222222222,
              "#7201a8"
             ],
             [
              0.3333333333333333,
              "#9c179e"
             ],
             [
              0.4444444444444444,
              "#bd3786"
             ],
             [
              0.5555555555555556,
              "#d8576b"
             ],
             [
              0.6666666666666666,
              "#ed7953"
             ],
             [
              0.7777777777777778,
              "#fb9f3a"
             ],
             [
              0.8888888888888888,
              "#fdca26"
             ],
             [
              1,
              "#f0f921"
             ]
            ],
            "type": "histogram2d"
           }
          ],
          "histogram2dcontour": [
           {
            "colorbar": {
             "outlinewidth": 0,
             "ticks": ""
            },
            "colorscale": [
             [
              0,
              "#0d0887"
             ],
             [
              0.1111111111111111,
              "#46039f"
             ],
             [
              0.2222222222222222,
              "#7201a8"
             ],
             [
              0.3333333333333333,
              "#9c179e"
             ],
             [
              0.4444444444444444,
              "#bd3786"
             ],
             [
              0.5555555555555556,
              "#d8576b"
             ],
             [
              0.6666666666666666,
              "#ed7953"
             ],
             [
              0.7777777777777778,
              "#fb9f3a"
             ],
             [
              0.8888888888888888,
              "#fdca26"
             ],
             [
              1,
              "#f0f921"
             ]
            ],
            "type": "histogram2dcontour"
           }
          ],
          "mesh3d": [
           {
            "colorbar": {
             "outlinewidth": 0,
             "ticks": ""
            },
            "type": "mesh3d"
           }
          ],
          "parcoords": [
           {
            "line": {
             "colorbar": {
              "outlinewidth": 0,
              "ticks": ""
             }
            },
            "type": "parcoords"
           }
          ],
          "pie": [
           {
            "automargin": true,
            "type": "pie"
           }
          ],
          "scatter": [
           {
            "marker": {
             "colorbar": {
              "outlinewidth": 0,
              "ticks": ""
             }
            },
            "type": "scatter"
           }
          ],
          "scatter3d": [
           {
            "line": {
             "colorbar": {
              "outlinewidth": 0,
              "ticks": ""
             }
            },
            "marker": {
             "colorbar": {
              "outlinewidth": 0,
              "ticks": ""
             }
            },
            "type": "scatter3d"
           }
          ],
          "scattercarpet": [
           {
            "marker": {
             "colorbar": {
              "outlinewidth": 0,
              "ticks": ""
             }
            },
            "type": "scattercarpet"
           }
          ],
          "scattergeo": [
           {
            "marker": {
             "colorbar": {
              "outlinewidth": 0,
              "ticks": ""
             }
            },
            "type": "scattergeo"
           }
          ],
          "scattergl": [
           {
            "marker": {
             "colorbar": {
              "outlinewidth": 0,
              "ticks": ""
             }
            },
            "type": "scattergl"
           }
          ],
          "scattermapbox": [
           {
            "marker": {
             "colorbar": {
              "outlinewidth": 0,
              "ticks": ""
             }
            },
            "type": "scattermapbox"
           }
          ],
          "scatterpolar": [
           {
            "marker": {
             "colorbar": {
              "outlinewidth": 0,
              "ticks": ""
             }
            },
            "type": "scatterpolar"
           }
          ],
          "scatterpolargl": [
           {
            "marker": {
             "colorbar": {
              "outlinewidth": 0,
              "ticks": ""
             }
            },
            "type": "scatterpolargl"
           }
          ],
          "scatterternary": [
           {
            "marker": {
             "colorbar": {
              "outlinewidth": 0,
              "ticks": ""
             }
            },
            "type": "scatterternary"
           }
          ],
          "surface": [
           {
            "colorbar": {
             "outlinewidth": 0,
             "ticks": ""
            },
            "colorscale": [
             [
              0,
              "#0d0887"
             ],
             [
              0.1111111111111111,
              "#46039f"
             ],
             [
              0.2222222222222222,
              "#7201a8"
             ],
             [
              0.3333333333333333,
              "#9c179e"
             ],
             [
              0.4444444444444444,
              "#bd3786"
             ],
             [
              0.5555555555555556,
              "#d8576b"
             ],
             [
              0.6666666666666666,
              "#ed7953"
             ],
             [
              0.7777777777777778,
              "#fb9f3a"
             ],
             [
              0.8888888888888888,
              "#fdca26"
             ],
             [
              1,
              "#f0f921"
             ]
            ],
            "type": "surface"
           }
          ],
          "table": [
           {
            "cells": {
             "fill": {
              "color": "#EBF0F8"
             },
             "line": {
              "color": "white"
             }
            },
            "header": {
             "fill": {
              "color": "#C8D4E3"
             },
             "line": {
              "color": "white"
             }
            },
            "type": "table"
           }
          ]
         },
         "layout": {
          "annotationdefaults": {
           "arrowcolor": "#2a3f5f",
           "arrowhead": 0,
           "arrowwidth": 1
          },
          "autotypenumbers": "strict",
          "coloraxis": {
           "colorbar": {
            "outlinewidth": 0,
            "ticks": ""
           }
          },
          "colorscale": {
           "diverging": [
            [
             0,
             "#8e0152"
            ],
            [
             0.1,
             "#c51b7d"
            ],
            [
             0.2,
             "#de77ae"
            ],
            [
             0.3,
             "#f1b6da"
            ],
            [
             0.4,
             "#fde0ef"
            ],
            [
             0.5,
             "#f7f7f7"
            ],
            [
             0.6,
             "#e6f5d0"
            ],
            [
             0.7,
             "#b8e186"
            ],
            [
             0.8,
             "#7fbc41"
            ],
            [
             0.9,
             "#4d9221"
            ],
            [
             1,
             "#276419"
            ]
           ],
           "sequential": [
            [
             0,
             "#0d0887"
            ],
            [
             0.1111111111111111,
             "#46039f"
            ],
            [
             0.2222222222222222,
             "#7201a8"
            ],
            [
             0.3333333333333333,
             "#9c179e"
            ],
            [
             0.4444444444444444,
             "#bd3786"
            ],
            [
             0.5555555555555556,
             "#d8576b"
            ],
            [
             0.6666666666666666,
             "#ed7953"
            ],
            [
             0.7777777777777778,
             "#fb9f3a"
            ],
            [
             0.8888888888888888,
             "#fdca26"
            ],
            [
             1,
             "#f0f921"
            ]
           ],
           "sequentialminus": [
            [
             0,
             "#0d0887"
            ],
            [
             0.1111111111111111,
             "#46039f"
            ],
            [
             0.2222222222222222,
             "#7201a8"
            ],
            [
             0.3333333333333333,
             "#9c179e"
            ],
            [
             0.4444444444444444,
             "#bd3786"
            ],
            [
             0.5555555555555556,
             "#d8576b"
            ],
            [
             0.6666666666666666,
             "#ed7953"
            ],
            [
             0.7777777777777778,
             "#fb9f3a"
            ],
            [
             0.8888888888888888,
             "#fdca26"
            ],
            [
             1,
             "#f0f921"
            ]
           ]
          },
          "colorway": [
           "#636efa",
           "#EF553B",
           "#00cc96",
           "#ab63fa",
           "#FFA15A",
           "#19d3f3",
           "#FF6692",
           "#B6E880",
           "#FF97FF",
           "#FECB52"
          ],
          "font": {
           "color": "#2a3f5f"
          },
          "geo": {
           "bgcolor": "white",
           "lakecolor": "white",
           "landcolor": "#E5ECF6",
           "showlakes": true,
           "showland": true,
           "subunitcolor": "white"
          },
          "hoverlabel": {
           "align": "left"
          },
          "hovermode": "closest",
          "mapbox": {
           "style": "light"
          },
          "paper_bgcolor": "white",
          "plot_bgcolor": "#E5ECF6",
          "polar": {
           "angularaxis": {
            "gridcolor": "white",
            "linecolor": "white",
            "ticks": ""
           },
           "bgcolor": "#E5ECF6",
           "radialaxis": {
            "gridcolor": "white",
            "linecolor": "white",
            "ticks": ""
           }
          },
          "scene": {
           "xaxis": {
            "backgroundcolor": "#E5ECF6",
            "gridcolor": "white",
            "gridwidth": 2,
            "linecolor": "white",
            "showbackground": true,
            "ticks": "",
            "zerolinecolor": "white"
           },
           "yaxis": {
            "backgroundcolor": "#E5ECF6",
            "gridcolor": "white",
            "gridwidth": 2,
            "linecolor": "white",
            "showbackground": true,
            "ticks": "",
            "zerolinecolor": "white"
           },
           "zaxis": {
            "backgroundcolor": "#E5ECF6",
            "gridcolor": "white",
            "gridwidth": 2,
            "linecolor": "white",
            "showbackground": true,
            "ticks": "",
            "zerolinecolor": "white"
           }
          },
          "shapedefaults": {
           "line": {
            "color": "#2a3f5f"
           }
          },
          "ternary": {
           "aaxis": {
            "gridcolor": "white",
            "linecolor": "white",
            "ticks": ""
           },
           "baxis": {
            "gridcolor": "white",
            "linecolor": "white",
            "ticks": ""
           },
           "bgcolor": "#E5ECF6",
           "caxis": {
            "gridcolor": "white",
            "linecolor": "white",
            "ticks": ""
           }
          },
          "title": {
           "x": 0.05
          },
          "xaxis": {
           "automargin": true,
           "gridcolor": "white",
           "linecolor": "white",
           "ticks": "",
           "title": {
            "standoff": 15
           },
           "zerolinecolor": "white",
           "zerolinewidth": 2
          },
          "yaxis": {
           "automargin": true,
           "gridcolor": "white",
           "linecolor": "white",
           "ticks": "",
           "title": {
            "standoff": 15
           },
           "zerolinecolor": "white",
           "zerolinewidth": 2
          }
         }
        },
        "title": {
         "font": {
          "size": 20
         },
         "text": "Распределение долей по типу предприятия"
        }
       }
      },
      "text/html": [
       "<div>                            <div id=\"df5bc62c-03ce-4a2f-b260-4276df860692\" class=\"plotly-graph-div\" style=\"height:525px; width:100%;\"></div>            <script type=\"text/javascript\">                require([\"plotly\"], function(Plotly) {                    window.PLOTLYENV=window.PLOTLYENV || {};                                    if (document.getElementById(\"df5bc62c-03ce-4a2f-b260-4276df860692\")) {                    Plotly.newPlot(                        \"df5bc62c-03ce-4a2f-b260-4276df860692\",                        [{\"labels\":[\"\\u043d\\u0435\\u0442\",\"\\u0434\\u0430\"],\"type\":\"pie\",\"values\":[12320,2964]}],                        {\"template\":{\"data\":{\"bar\":[{\"error_x\":{\"color\":\"#2a3f5f\"},\"error_y\":{\"color\":\"#2a3f5f\"},\"marker\":{\"line\":{\"color\":\"#E5ECF6\",\"width\":0.5},\"pattern\":{\"fillmode\":\"overlay\",\"size\":10,\"solidity\":0.2}},\"type\":\"bar\"}],\"barpolar\":[{\"marker\":{\"line\":{\"color\":\"#E5ECF6\",\"width\":0.5},\"pattern\":{\"fillmode\":\"overlay\",\"size\":10,\"solidity\":0.2}},\"type\":\"barpolar\"}],\"carpet\":[{\"aaxis\":{\"endlinecolor\":\"#2a3f5f\",\"gridcolor\":\"white\",\"linecolor\":\"white\",\"minorgridcolor\":\"white\",\"startlinecolor\":\"#2a3f5f\"},\"baxis\":{\"endlinecolor\":\"#2a3f5f\",\"gridcolor\":\"white\",\"linecolor\":\"white\",\"minorgridcolor\":\"white\",\"startlinecolor\":\"#2a3f5f\"},\"type\":\"carpet\"}],\"choropleth\":[{\"colorbar\":{\"outlinewidth\":0,\"ticks\":\"\"},\"type\":\"choropleth\"}],\"contour\":[{\"colorbar\":{\"outlinewidth\":0,\"ticks\":\"\"},\"colorscale\":[[0.0,\"#0d0887\"],[0.1111111111111111,\"#46039f\"],[0.2222222222222222,\"#7201a8\"],[0.3333333333333333,\"#9c179e\"],[0.4444444444444444,\"#bd3786\"],[0.5555555555555556,\"#d8576b\"],[0.6666666666666666,\"#ed7953\"],[0.7777777777777778,\"#fb9f3a\"],[0.8888888888888888,\"#fdca26\"],[1.0,\"#f0f921\"]],\"type\":\"contour\"}],\"contourcarpet\":[{\"colorbar\":{\"outlinewidth\":0,\"ticks\":\"\"},\"type\":\"contourcarpet\"}],\"heatmap\":[{\"colorbar\":{\"outlinewidth\":0,\"ticks\":\"\"},\"colorscale\":[[0.0,\"#0d0887\"],[0.1111111111111111,\"#46039f\"],[0.2222222222222222,\"#7201a8\"],[0.3333333333333333,\"#9c179e\"],[0.4444444444444444,\"#bd3786\"],[0.5555555555555556,\"#d8576b\"],[0.6666666666666666,\"#ed7953\"],[0.7777777777777778,\"#fb9f3a\"],[0.8888888888888888,\"#fdca26\"],[1.0,\"#f0f921\"]],\"type\":\"heatmap\"}],\"heatmapgl\":[{\"colorbar\":{\"outlinewidth\":0,\"ticks\":\"\"},\"colorscale\":[[0.0,\"#0d0887\"],[0.1111111111111111,\"#46039f\"],[0.2222222222222222,\"#7201a8\"],[0.3333333333333333,\"#9c179e\"],[0.4444444444444444,\"#bd3786\"],[0.5555555555555556,\"#d8576b\"],[0.6666666666666666,\"#ed7953\"],[0.7777777777777778,\"#fb9f3a\"],[0.8888888888888888,\"#fdca26\"],[1.0,\"#f0f921\"]],\"type\":\"heatmapgl\"}],\"histogram\":[{\"marker\":{\"pattern\":{\"fillmode\":\"overlay\",\"size\":10,\"solidity\":0.2}},\"type\":\"histogram\"}],\"histogram2d\":[{\"colorbar\":{\"outlinewidth\":0,\"ticks\":\"\"},\"colorscale\":[[0.0,\"#0d0887\"],[0.1111111111111111,\"#46039f\"],[0.2222222222222222,\"#7201a8\"],[0.3333333333333333,\"#9c179e\"],[0.4444444444444444,\"#bd3786\"],[0.5555555555555556,\"#d8576b\"],[0.6666666666666666,\"#ed7953\"],[0.7777777777777778,\"#fb9f3a\"],[0.8888888888888888,\"#fdca26\"],[1.0,\"#f0f921\"]],\"type\":\"histogram2d\"}],\"histogram2dcontour\":[{\"colorbar\":{\"outlinewidth\":0,\"ticks\":\"\"},\"colorscale\":[[0.0,\"#0d0887\"],[0.1111111111111111,\"#46039f\"],[0.2222222222222222,\"#7201a8\"],[0.3333333333333333,\"#9c179e\"],[0.4444444444444444,\"#bd3786\"],[0.5555555555555556,\"#d8576b\"],[0.6666666666666666,\"#ed7953\"],[0.7777777777777778,\"#fb9f3a\"],[0.8888888888888888,\"#fdca26\"],[1.0,\"#f0f921\"]],\"type\":\"histogram2dcontour\"}],\"mesh3d\":[{\"colorbar\":{\"outlinewidth\":0,\"ticks\":\"\"},\"type\":\"mesh3d\"}],\"parcoords\":[{\"line\":{\"colorbar\":{\"outlinewidth\":0,\"ticks\":\"\"}},\"type\":\"parcoords\"}],\"pie\":[{\"automargin\":true,\"type\":\"pie\"}],\"scatter\":[{\"marker\":{\"colorbar\":{\"outlinewidth\":0,\"ticks\":\"\"}},\"type\":\"scatter\"}],\"scatter3d\":[{\"line\":{\"colorbar\":{\"outlinewidth\":0,\"ticks\":\"\"}},\"marker\":{\"colorbar\":{\"outlinewidth\":0,\"ticks\":\"\"}},\"type\":\"scatter3d\"}],\"scattercarpet\":[{\"marker\":{\"colorbar\":{\"outlinewidth\":0,\"ticks\":\"\"}},\"type\":\"scattercarpet\"}],\"scattergeo\":[{\"marker\":{\"colorbar\":{\"outlinewidth\":0,\"ticks\":\"\"}},\"type\":\"scattergeo\"}],\"scattergl\":[{\"marker\":{\"colorbar\":{\"outlinewidth\":0,\"ticks\":\"\"}},\"type\":\"scattergl\"}],\"scattermapbox\":[{\"marker\":{\"colorbar\":{\"outlinewidth\":0,\"ticks\":\"\"}},\"type\":\"scattermapbox\"}],\"scatterpolar\":[{\"marker\":{\"colorbar\":{\"outlinewidth\":0,\"ticks\":\"\"}},\"type\":\"scatterpolar\"}],\"scatterpolargl\":[{\"marker\":{\"colorbar\":{\"outlinewidth\":0,\"ticks\":\"\"}},\"type\":\"scatterpolargl\"}],\"scatterternary\":[{\"marker\":{\"colorbar\":{\"outlinewidth\":0,\"ticks\":\"\"}},\"type\":\"scatterternary\"}],\"surface\":[{\"colorbar\":{\"outlinewidth\":0,\"ticks\":\"\"},\"colorscale\":[[0.0,\"#0d0887\"],[0.1111111111111111,\"#46039f\"],[0.2222222222222222,\"#7201a8\"],[0.3333333333333333,\"#9c179e\"],[0.4444444444444444,\"#bd3786\"],[0.5555555555555556,\"#d8576b\"],[0.6666666666666666,\"#ed7953\"],[0.7777777777777778,\"#fb9f3a\"],[0.8888888888888888,\"#fdca26\"],[1.0,\"#f0f921\"]],\"type\":\"surface\"}],\"table\":[{\"cells\":{\"fill\":{\"color\":\"#EBF0F8\"},\"line\":{\"color\":\"white\"}},\"header\":{\"fill\":{\"color\":\"#C8D4E3\"},\"line\":{\"color\":\"white\"}},\"type\":\"table\"}]},\"layout\":{\"annotationdefaults\":{\"arrowcolor\":\"#2a3f5f\",\"arrowhead\":0,\"arrowwidth\":1},\"autotypenumbers\":\"strict\",\"coloraxis\":{\"colorbar\":{\"outlinewidth\":0,\"ticks\":\"\"}},\"colorscale\":{\"diverging\":[[0,\"#8e0152\"],[0.1,\"#c51b7d\"],[0.2,\"#de77ae\"],[0.3,\"#f1b6da\"],[0.4,\"#fde0ef\"],[0.5,\"#f7f7f7\"],[0.6,\"#e6f5d0\"],[0.7,\"#b8e186\"],[0.8,\"#7fbc41\"],[0.9,\"#4d9221\"],[1,\"#276419\"]],\"sequential\":[[0.0,\"#0d0887\"],[0.1111111111111111,\"#46039f\"],[0.2222222222222222,\"#7201a8\"],[0.3333333333333333,\"#9c179e\"],[0.4444444444444444,\"#bd3786\"],[0.5555555555555556,\"#d8576b\"],[0.6666666666666666,\"#ed7953\"],[0.7777777777777778,\"#fb9f3a\"],[0.8888888888888888,\"#fdca26\"],[1.0,\"#f0f921\"]],\"sequentialminus\":[[0.0,\"#0d0887\"],[0.1111111111111111,\"#46039f\"],[0.2222222222222222,\"#7201a8\"],[0.3333333333333333,\"#9c179e\"],[0.4444444444444444,\"#bd3786\"],[0.5555555555555556,\"#d8576b\"],[0.6666666666666666,\"#ed7953\"],[0.7777777777777778,\"#fb9f3a\"],[0.8888888888888888,\"#fdca26\"],[1.0,\"#f0f921\"]]},\"colorway\":[\"#636efa\",\"#EF553B\",\"#00cc96\",\"#ab63fa\",\"#FFA15A\",\"#19d3f3\",\"#FF6692\",\"#B6E880\",\"#FF97FF\",\"#FECB52\"],\"font\":{\"color\":\"#2a3f5f\"},\"geo\":{\"bgcolor\":\"white\",\"lakecolor\":\"white\",\"landcolor\":\"#E5ECF6\",\"showlakes\":true,\"showland\":true,\"subunitcolor\":\"white\"},\"hoverlabel\":{\"align\":\"left\"},\"hovermode\":\"closest\",\"mapbox\":{\"style\":\"light\"},\"paper_bgcolor\":\"white\",\"plot_bgcolor\":\"#E5ECF6\",\"polar\":{\"angularaxis\":{\"gridcolor\":\"white\",\"linecolor\":\"white\",\"ticks\":\"\"},\"bgcolor\":\"#E5ECF6\",\"radialaxis\":{\"gridcolor\":\"white\",\"linecolor\":\"white\",\"ticks\":\"\"}},\"scene\":{\"xaxis\":{\"backgroundcolor\":\"#E5ECF6\",\"gridcolor\":\"white\",\"gridwidth\":2,\"linecolor\":\"white\",\"showbackground\":true,\"ticks\":\"\",\"zerolinecolor\":\"white\"},\"yaxis\":{\"backgroundcolor\":\"#E5ECF6\",\"gridcolor\":\"white\",\"gridwidth\":2,\"linecolor\":\"white\",\"showbackground\":true,\"ticks\":\"\",\"zerolinecolor\":\"white\"},\"zaxis\":{\"backgroundcolor\":\"#E5ECF6\",\"gridcolor\":\"white\",\"gridwidth\":2,\"linecolor\":\"white\",\"showbackground\":true,\"ticks\":\"\",\"zerolinecolor\":\"white\"}},\"shapedefaults\":{\"line\":{\"color\":\"#2a3f5f\"}},\"ternary\":{\"aaxis\":{\"gridcolor\":\"white\",\"linecolor\":\"white\",\"ticks\":\"\"},\"baxis\":{\"gridcolor\":\"white\",\"linecolor\":\"white\",\"ticks\":\"\"},\"bgcolor\":\"#E5ECF6\",\"caxis\":{\"gridcolor\":\"white\",\"linecolor\":\"white\",\"ticks\":\"\"}},\"title\":{\"x\":0.05},\"xaxis\":{\"automargin\":true,\"gridcolor\":\"white\",\"linecolor\":\"white\",\"ticks\":\"\",\"title\":{\"standoff\":15},\"zerolinecolor\":\"white\",\"zerolinewidth\":2},\"yaxis\":{\"automargin\":true,\"gridcolor\":\"white\",\"linecolor\":\"white\",\"ticks\":\"\",\"title\":{\"standoff\":15},\"zerolinecolor\":\"white\",\"zerolinewidth\":2}}},\"title\":{\"font\":{\"size\":20},\"text\":\"\\u0420\\u0430\\u0441\\u043f\\u0440\\u0435\\u0434\\u0435\\u043b\\u0435\\u043d\\u0438\\u0435 \\u0434\\u043e\\u043b\\u0435\\u0439 \\u043f\\u043e \\u0442\\u0438\\u043f\\u0443 \\u043f\\u0440\\u0435\\u0434\\u043f\\u0440\\u0438\\u044f\\u0442\\u0438\\u044f\"}},                        {\"responsive\": true}                    ).then(function(){\n",
       "                            \n",
       "var gd = document.getElementById('df5bc62c-03ce-4a2f-b260-4276df860692');\n",
       "var x = new MutationObserver(function (mutations, observer) {{\n",
       "        var display = window.getComputedStyle(gd).display;\n",
       "        if (!display || display === 'none') {{\n",
       "            console.log([gd, 'removed!']);\n",
       "            Plotly.purge(gd);\n",
       "            observer.disconnect();\n",
       "        }}\n",
       "}});\n",
       "\n",
       "// Listen for the removal of the full notebook cells\n",
       "var notebookContainer = gd.closest('#notebook-container');\n",
       "if (notebookContainer) {{\n",
       "    x.observe(notebookContainer, {childList: true});\n",
       "}}\n",
       "\n",
       "// Listen for the clearing of the current output cell\n",
       "var outputEl = gd.closest('.output');\n",
       "if (outputEl) {{\n",
       "    x.observe(outputEl, {childList: true});\n",
       "}}\n",
       "\n",
       "                        })                };                });            </script>        </div>"
      ]
     },
     "metadata": {},
     "output_type": "display_data"
    }
   ],
   "source": [
    "fig = go.Figure(data=[go.Pie(labels=labels, values=values)])\n",
    "fig.update_layout(\n",
    "    title_text='Распределение долей по типу предприятия',\n",
    "    title_font_size=20)\n",
    "fig.show()"
   ]
  },
  {
   "cell_type": "markdown",
   "metadata": {},
   "source": [
    "Интересные выводы получаются. Оказывается, что сети составляют всего 19,3%. А больше всего одиночных предприятий."
   ]
  },
  {
   "cell_type": "markdown",
   "metadata": {},
   "source": [
    "Посмотрим для какого вида объекта общественного питания характерно сетевое распространение."
   ]
  },
  {
   "cell_type": "code",
   "execution_count": 157,
   "metadata": {},
   "outputs": [],
   "source": [
    "data_chain= data[data['chain']=='да']\n",
    "data_alone = data[data['chain']=='нет']"
   ]
  },
  {
   "cell_type": "code",
   "execution_count": 158,
   "metadata": {},
   "outputs": [
    {
     "data": {
      "image/png": "[encoded data removed]",
      "text/plain": [
       "<Figure size 1080x576 with 2 Axes>"
      ]
     },
     "metadata": {},
     "output_type": "display_data"
    }
   ],
   "source": [
    "d_grouped_chain = data_chain.groupby(['object_type'])['id'].count()\n",
    "d_grouped_chain = d_grouped_chain.reset_index().sort_values(by = 'id', ascending=False)\n",
    "vals_chain = d_grouped_chain['id'].values\n",
    "labels_chain = d_grouped_chain['object_type']\n",
    "fig = plt.figure(figsize=(15, 8))\n",
    "ax = fig.subplots(1, 2)\n",
    "ax[0].pie(vals_chain, labels=labels_chain)\n",
    "ax[0].axis(\"equal\")\n",
    "ax[0].set_title('Распределение типов предприятий в сетях');\n",
    "\n",
    "d_grouped_alone = data_alone.groupby(['object_type'])['id'].count()\n",
    "d_grouped_alone = d_grouped_alone.reset_index().sort_values(by = 'id', ascending=False)\n",
    "labels_alone = d_grouped_alone['object_type']\n",
    "values_alone = d_grouped_alone['id'].values\n",
    "#ax = plt.subplots()\n",
    "ax[1].pie(values_alone, labels=labels_alone)\n",
    "ax[1].axis(\"equal\")\n",
    "ax[1].set_title('Распределение типов предприятий в отдельных предприятиях');"
   ]
  },
  {
   "cell_type": "code",
   "execution_count": 159,
   "metadata": {},
   "outputs": [],
   "source": [
    "chain_grouped = data.pivot_table(index=['chain','object_type' ], values=\"id\", aggfunc='count')\n",
    "chain_grouped = chain_grouped.reset_index()\n",
    "tmp1 = chain_grouped.groupby(['chain','object_type'])[['id']].sum()\n",
    "tmp1 = tmp1.reset_index()\n",
    "tmp2 = chain_grouped.groupby(['object_type'])['id'].sum()\n",
    "tmp2 = tmp2.reset_index()\n",
    "tmp1 = tmp1.merge(tmp2, on = 'object_type', how='inner')\n",
    "tmp1['ratio'] = tmp1['id_x'] / tmp1['id_y']*100"
   ]
  },
  {
   "cell_type": "code",
   "execution_count": 160,
   "metadata": {},
   "outputs": [
    {
     "data": {
      "application/vnd.plotly.v1+json": {
       "config": {
        "plotlyServerURL": "https://plot.ly"
       },
       "data": [
        {
         "alignmentgroup": "True",
         "hovertemplate": "chain=%{text}<br>object_type=%{x}<br>ratio=%{y}<extra></extra>",
         "legendgroup": "да",
         "marker": {
          "color": "#636efa",
          "pattern": {
           "shape": ""
          }
         },
         "name": "да",
         "offsetgroup": "да",
         "orientation": "v",
         "showlegend": true,
         "text": [
          "да",
          "да",
          "да",
          "да",
          "да",
          "да",
          "да",
          "да",
          "да"
         ],
         "textposition": "auto",
         "type": "bar",
         "x": [
          "бар",
          "буфет",
          "закусочная",
          "кафе",
          "кафетерий",
          "магазин (отдел кулинарии)",
          "предприятие быстрого обслуживания",
          "ресторан",
          "столовая"
         ],
         "xaxis": "x",
         "y": [
          4.3274853801169595,
          1.9064124783362217,
          16.045845272206304,
          22.99456432218745,
          13.164556962025317,
          28.57142857142857,
          41.51738672286617,
          23.794916739702014,
          0.11609907120743033
         ],
         "yaxis": "y"
        },
        {
         "alignmentgroup": "True",
         "hovertemplate": "chain=%{text}<br>object_type=%{x}<br>ratio=%{y}<extra></extra>",
         "legendgroup": "нет",
         "marker": {
          "color": "#EF553B",
          "pattern": {
           "shape": ""
          }
         },
         "name": "нет",
         "offsetgroup": "нет",
         "orientation": "v",
         "showlegend": true,
         "text": [
          "нет",
          "нет",
          "нет",
          "нет",
          "нет",
          "нет",
          "нет",
          "нет",
          "нет"
         ],
         "textposition": "auto",
         "type": "bar",
         "x": [
          "бар",
          "буфет",
          "закусочная",
          "кафе",
          "кафетерий",
          "магазин (отдел кулинарии)",
          "предприятие быстрого обслуживания",
          "ресторан",
          "столовая"
         ],
         "xaxis": "x",
         "y": [
          95.67251461988305,
          98.09358752166378,
          83.95415472779369,
          77.00543567781256,
          86.83544303797468,
          71.42857142857143,
          58.48261327713382,
          76.20508326029798,
          99.88390092879257
         ],
         "yaxis": "y"
        }
       ],
       "layout": {
        "barmode": "relative",
        "legend": {
         "title": {
          "text": "chain"
         },
         "tracegroupgap": 0
        },
        "margin": {
         "t": 60
        },
        "template": {
         "data": {
          "bar": [
           {
            "error_x": {
             "color": "#2a3f5f"
            },
            "error_y": {
             "color": "#2a3f5f"
            },
            "marker": {
             "line": {
              "color": "#E5ECF6",
              "width": 0.5
             },
             "pattern": {
              "fillmode": "overlay",
              "size": 10,
              "solidity": 0.2
             }
            },
            "type": "bar"
           }
          ],
          "barpolar": [
           {
            "marker": {
             "line": {
              "color": "#E5ECF6",
              "width": 0.5
             },
             "pattern": {
              "fillmode": "overlay",
              "size": 10,
              "solidity": 0.2
             }
            },
            "type": "barpolar"
           }
          ],
          "carpet": [
           {
            "aaxis": {
             "endlinecolor": "#2a3f5f",
             "gridcolor": "white",
             "linecolor": "white",
             "minorgridcolor": "white",
             "startlinecolor": "#2a3f5f"
            },
            "baxis": {
             "endlinecolor": "#2a3f5f",
             "gridcolor": "white",
             "linecolor": "white",
             "minorgridcolor": "white",
             "startlinecolor": "#2a3f5f"
            },
            "type": "carpet"
           }
          ],
          "choropleth": [
           {
            "colorbar": {
             "outlinewidth": 0,
             "ticks": ""
            },
            "type": "choropleth"
           }
          ],
          "contour": [
           {
            "colorbar": {
             "outlinewidth": 0,
             "ticks": ""
            },
            "colorscale": [
             [
              0,
              "#0d0887"
             ],
             [
              0.1111111111111111,
              "#46039f"
             ],
             [
              0.2222222222222222,
              "#7201a8"
             ],
             [
              0.3333333333333333,
              "#9c179e"
             ],
             [
              0.4444444444444444,
              "#bd3786"
             ],
             [
              0.5555555555555556,
              "#d8576b"
             ],
             [
              0.6666666666666666,
              "#ed7953"
             ],
             [
              0.7777777777777778,
              "#fb9f3a"
             ],
             [
              0.8888888888888888,
              "#fdca26"
             ],
             [
              1,
              "#f0f921"
             ]
            ],
            "type": "contour"
           }
          ],
          "contourcarpet": [
           {
            "colorbar": {
             "outlinewidth": 0,
             "ticks": ""
            },
            "type": "contourcarpet"
           }
          ],
          "heatmap": [
           {
            "colorbar": {
             "outlinewidth": 0,
             "ticks": ""
            },
            "colorscale": [
             [
              0,
              "#0d0887"
             ],
             [
              0.1111111111111111,
              "#46039f"
             ],
             [
              0.2222222222222222,
              "#7201a8"
             ],
             [
              0.3333333333333333,
              "#9c179e"
             ],
             [
              0.4444444444444444,
              "#bd3786"
             ],
             [
              0.5555555555555556,
              "#d8576b"
             ],
             [
              0.6666666666666666,
              "#ed7953"
             ],
             [
              0.7777777777777778,
              "#fb9f3a"
             ],
             [
              0.8888888888888888,
              "#fdca26"
             ],
             [
              1,
              "#f0f921"
             ]
            ],
            "type": "heatmap"
           }
          ],
          "heatmapgl": [
           {
            "colorbar": {
             "outlinewidth": 0,
             "ticks": ""
            },
            "colorscale": [
             [
              0,
              "#0d0887"
             ],
             [
              0.1111111111111111,
              "#46039f"
             ],
             [
              0.2222222222222222,
              "#7201a8"
             ],
             [
              0.3333333333333333,
              "#9c179e"
             ],
             [
              0.4444444444444444,
              "#bd3786"
             ],
             [
              0.5555555555555556,
              "#d8576b"
             ],
             [
              0.6666666666666666,
              "#ed7953"
             ],
             [
              0.7777777777777778,
              "#fb9f3a"
             ],
             [
              0.8888888888888888,
              "#fdca26"
             ],
             [
              1,
              "#f0f921"
             ]
            ],
            "type": "heatmapgl"
           }
          ],
          "histogram": [
           {
            "marker": {
             "pattern": {
              "fillmode": "overlay",
              "size": 10,
              "solidity": 0.2
             }
            },
            "type": "histogram"
           }
          ],
          "histogram2d": [
           {
            "colorbar": {
             "outlinewidth": 0,
             "ticks": ""
            },
            "colorscale": [
             [
              0,
              "#0d0887"
             ],
             [
              0.1111111111111111,
              "#46039f"
             ],
             [
              0.2222222222222222,
              "#7201a8"
             ],
             [
              0.3333333333333333,
              "#9c179e"
             ],
             [
              0.4444444444444444,
              "#bd3786"
             ],
             [
              0.5555555555555556,
              "#d8576b"
             ],
             [
              0.6666666666666666,
              "#ed7953"
             ],
             [
              0.7777777777777778,
              "#fb9f3a"
             ],
             [
              0.8888888888888888,
              "#fdca26"
             ],
             [
              1,
              "#f0f921"
             ]
            ],
            "type": "histogram2d"
           }
          ],
          "histogram2dcontour": [
           {
            "colorbar": {
             "outlinewidth": 0,
             "ticks": ""
            },
            "colorscale": [
             [
              0,
              "#0d0887"
             ],
             [
              0.1111111111111111,
              "#46039f"
             ],
             [
              0.2222222222222222,
              "#7201a8"
             ],
             [
              0.3333333333333333,
              "#9c179e"
             ],
             [
              0.4444444444444444,
              "#bd3786"
             ],
             [
              0.5555555555555556,
              "#d8576b"
             ],
             [
              0.6666666666666666,
              "#ed7953"
             ],
             [
              0.7777777777777778,
              "#fb9f3a"
             ],
             [
              0.8888888888888888,
              "#fdca26"
             ],
             [
              1,
              "#f0f921"
             ]
            ],
            "type": "histogram2dcontour"
           }
          ],
          "mesh3d": [
           {
            "colorbar": {
             "outlinewidth": 0,
             "ticks": ""
            },
            "type": "mesh3d"
           }
          ],
          "parcoords": [
           {
            "line": {
             "colorbar": {
              "outlinewidth": 0,
              "ticks": ""
             }
            },
            "type": "parcoords"
           }
          ],
          "pie": [
           {
            "automargin": true,
            "type": "pie"
           }
          ],
          "scatter": [
           {
            "marker": {
             "colorbar": {
              "outlinewidth": 0,
              "ticks": ""
             }
            },
            "type": "scatter"
           }
          ],
          "scatter3d": [
           {
            "line": {
             "colorbar": {
              "outlinewidth": 0,
              "ticks": ""
             }
            },
            "marker": {
             "colorbar": {
              "outlinewidth": 0,
              "ticks": ""
             }
            },
            "type": "scatter3d"
           }
          ],
          "scattercarpet": [
           {
            "marker": {
             "colorbar": {
              "outlinewidth": 0,
              "ticks": ""
             }
            },
            "type": "scattercarpet"
           }
          ],
          "scattergeo": [
           {
            "marker": {
             "colorbar": {
              "outlinewidth": 0,
              "ticks": ""
             }
            },
            "type": "scattergeo"
           }
          ],
          "scattergl": [
           {
            "marker": {
             "colorbar": {
              "outlinewidth": 0,
              "ticks": ""
             }
            },
            "type": "scattergl"
           }
          ],
          "scattermapbox": [
           {
            "marker": {
             "colorbar": {
              "outlinewidth": 0,
              "ticks": ""
             }
            },
            "type": "scattermapbox"
           }
          ],
          "scatterpolar": [
           {
            "marker": {
             "colorbar": {
              "outlinewidth": 0,
              "ticks": ""
             }
            },
            "type": "scatterpolar"
           }
          ],
          "scatterpolargl": [
           {
            "marker": {
             "colorbar": {
              "outlinewidth": 0,
              "ticks": ""
             }
            },
            "type": "scatterpolargl"
           }
          ],
          "scatterternary": [
           {
            "marker": {
             "colorbar": {
              "outlinewidth": 0,
              "ticks": ""
             }
            },
            "type": "scatterternary"
           }
          ],
          "surface": [
           {
            "colorbar": {
             "outlinewidth": 0,
             "ticks": ""
            },
            "colorscale": [
             [
              0,
              "#0d0887"
             ],
             [
              0.1111111111111111,
              "#46039f"
             ],
             [
              0.2222222222222222,
              "#7201a8"
             ],
             [
              0.3333333333333333,
              "#9c179e"
             ],
             [
              0.4444444444444444,
              "#bd3786"
             ],
             [
              0.5555555555555556,
              "#d8576b"
             ],
             [
              0.6666666666666666,
              "#ed7953"
             ],
             [
              0.7777777777777778,
              "#fb9f3a"
             ],
             [
              0.8888888888888888,
              "#fdca26"
             ],
             [
              1,
              "#f0f921"
             ]
            ],
            "type": "surface"
           }
          ],
          "table": [
           {
            "cells": {
             "fill": {
              "color": "#EBF0F8"
             },
             "line": {
              "color": "white"
             }
            },
            "header": {
             "fill": {
              "color": "#C8D4E3"
             },
             "line": {
              "color": "white"
             }
            },
            "type": "table"
           }
          ]
         },
         "layout": {
          "annotationdefaults": {
           "arrowcolor": "#2a3f5f",
           "arrowhead": 0,
           "arrowwidth": 1
          },
          "autotypenumbers": "strict",
          "coloraxis": {
           "colorbar": {
            "outlinewidth": 0,
            "ticks": ""
           }
          },
          "colorscale": {
           "diverging": [
            [
             0,
             "#8e0152"
            ],
            [
             0.1,
             "#c51b7d"
            ],
            [
             0.2,
             "#de77ae"
            ],
            [
             0.3,
             "#f1b6da"
            ],
            [
             0.4,
             "#fde0ef"
            ],
            [
             0.5,
             "#f7f7f7"
            ],
            [
             0.6,
             "#e6f5d0"
            ],
            [
             0.7,
             "#b8e186"
            ],
            [
             0.8,
             "#7fbc41"
            ],
            [
             0.9,
             "#4d9221"
            ],
            [
             1,
             "#276419"
            ]
           ],
           "sequential": [
            [
             0,
             "#0d0887"
            ],
            [
             0.1111111111111111,
             "#46039f"
            ],
            [
             0.2222222222222222,
             "#7201a8"
            ],
            [
             0.3333333333333333,
             "#9c179e"
            ],
            [
             0.4444444444444444,
             "#bd3786"
            ],
            [
             0.5555555555555556,
             "#d8576b"
            ],
            [
             0.6666666666666666,
             "#ed7953"
            ],
            [
             0.7777777777777778,
             "#fb9f3a"
            ],
            [
             0.8888888888888888,
             "#fdca26"
            ],
            [
             1,
             "#f0f921"
            ]
           ],
           "sequentialminus": [
            [
             0,
             "#0d0887"
            ],
            [
             0.1111111111111111,
             "#46039f"
            ],
            [
             0.2222222222222222,
             "#7201a8"
            ],
            [
             0.3333333333333333,
             "#9c179e"
            ],
            [
             0.4444444444444444,
             "#bd3786"
            ],
            [
             0.5555555555555556,
             "#d8576b"
            ],
            [
             0.6666666666666666,
             "#ed7953"
            ],
            [
             0.7777777777777778,
             "#fb9f3a"
            ],
            [
             0.8888888888888888,
             "#fdca26"
            ],
            [
             1,
             "#f0f921"
            ]
           ]
          },
          "colorway": [
           "#636efa",
           "#EF553B",
           "#00cc96",
           "#ab63fa",
           "#FFA15A",
           "#19d3f3",
           "#FF6692",
           "#B6E880",
           "#FF97FF",
           "#FECB52"
          ],
          "font": {
           "color": "#2a3f5f"
          },
          "geo": {
           "bgcolor": "white",
           "lakecolor": "white",
           "landcolor": "#E5ECF6",
           "showlakes": true,
           "showland": true,
           "subunitcolor": "white"
          },
          "hoverlabel": {
           "align": "left"
          },
          "hovermode": "closest",
          "mapbox": {
           "style": "light"
          },
          "paper_bgcolor": "white",
          "plot_bgcolor": "#E5ECF6",
          "polar": {
           "angularaxis": {
            "gridcolor": "white",
            "linecolor": "white",
            "ticks": ""
           },
           "bgcolor": "#E5ECF6",
           "radialaxis": {
            "gridcolor": "white",
            "linecolor": "white",
            "ticks": ""
           }
          },
          "scene": {
           "xaxis": {
            "backgroundcolor": "#E5ECF6",
            "gridcolor": "white",
            "gridwidth": 2,
            "linecolor": "white",
            "showbackground": true,
            "ticks": "",
            "zerolinecolor": "white"
           },
           "yaxis": {
            "backgroundcolor": "#E5ECF6",
            "gridcolor": "white",
            "gridwidth": 2,
            "linecolor": "white",
            "showbackground": true,
            "ticks": "",
            "zerolinecolor": "white"
           },
           "zaxis": {
            "backgroundcolor": "#E5ECF6",
            "gridcolor": "white",
            "gridwidth": 2,
            "linecolor": "white",
            "showbackground": true,
            "ticks": "",
            "zerolinecolor": "white"
           }
          },
          "shapedefaults": {
           "line": {
            "color": "#2a3f5f"
           }
          },
          "ternary": {
           "aaxis": {
            "gridcolor": "white",
            "linecolor": "white",
            "ticks": ""
           },
           "baxis": {
            "gridcolor": "white",
            "linecolor": "white",
            "ticks": ""
           },
           "bgcolor": "#E5ECF6",
           "caxis": {
            "gridcolor": "white",
            "linecolor": "white",
            "ticks": ""
           }
          },
          "title": {
           "x": 0.05
          },
          "xaxis": {
           "automargin": true,
           "gridcolor": "white",
           "linecolor": "white",
           "ticks": "",
           "title": {
            "standoff": 15
           },
           "zerolinecolor": "white",
           "zerolinewidth": 2
          },
          "yaxis": {
           "automargin": true,
           "gridcolor": "white",
           "linecolor": "white",
           "ticks": "",
           "title": {
            "standoff": 15
           },
           "zerolinecolor": "white",
           "zerolinewidth": 2
          }
         }
        },
        "xaxis": {
         "anchor": "y",
         "domain": [
          0,
          1
         ],
         "title": {
          "text": "object_type"
         }
        },
        "yaxis": {
         "anchor": "x",
         "domain": [
          0,
          1
         ],
         "title": {
          "text": "ratio"
         }
        }
       }
      },
      "text/html": [
       "<div>                            <div id=\"1ebbe0d3-7822-411f-9ea3-a748c7890f7a\" class=\"plotly-graph-div\" style=\"height:525px; width:100%;\"></div>            <script type=\"text/javascript\">                require([\"plotly\"], function(Plotly) {                    window.PLOTLYENV=window.PLOTLYENV || {};                                    if (document.getElementById(\"1ebbe0d3-7822-411f-9ea3-a748c7890f7a\")) {                    Plotly.newPlot(                        \"1ebbe0d3-7822-411f-9ea3-a748c7890f7a\",                        [{\"alignmentgroup\":\"True\",\"hovertemplate\":\"chain=%{text}<br>object_type=%{x}<br>ratio=%{y}<extra></extra>\",\"legendgroup\":\"\\u0434\\u0430\",\"marker\":{\"color\":\"#636efa\",\"pattern\":{\"shape\":\"\"}},\"name\":\"\\u0434\\u0430\",\"offsetgroup\":\"\\u0434\\u0430\",\"orientation\":\"v\",\"showlegend\":true,\"text\":[\"\\u0434\\u0430\",\"\\u0434\\u0430\",\"\\u0434\\u0430\",\"\\u0434\\u0430\",\"\\u0434\\u0430\",\"\\u0434\\u0430\",\"\\u0434\\u0430\",\"\\u0434\\u0430\",\"\\u0434\\u0430\"],\"textposition\":\"auto\",\"type\":\"bar\",\"x\":[\"\\u0431\\u0430\\u0440\",\"\\u0431\\u0443\\u0444\\u0435\\u0442\",\"\\u0437\\u0430\\u043a\\u0443\\u0441\\u043e\\u0447\\u043d\\u0430\\u044f\",\"\\u043a\\u0430\\u0444\\u0435\",\"\\u043a\\u0430\\u0444\\u0435\\u0442\\u0435\\u0440\\u0438\\u0439\",\"\\u043c\\u0430\\u0433\\u0430\\u0437\\u0438\\u043d (\\u043e\\u0442\\u0434\\u0435\\u043b \\u043a\\u0443\\u043b\\u0438\\u043d\\u0430\\u0440\\u0438\\u0438)\",\"\\u043f\\u0440\\u0435\\u0434\\u043f\\u0440\\u0438\\u044f\\u0442\\u0438\\u0435 \\u0431\\u044b\\u0441\\u0442\\u0440\\u043e\\u0433\\u043e \\u043e\\u0431\\u0441\\u043b\\u0443\\u0436\\u0438\\u0432\\u0430\\u043d\\u0438\\u044f\",\"\\u0440\\u0435\\u0441\\u0442\\u043e\\u0440\\u0430\\u043d\",\"\\u0441\\u0442\\u043e\\u043b\\u043e\\u0432\\u0430\\u044f\"],\"xaxis\":\"x\",\"y\":[4.3274853801169595,1.9064124783362217,16.045845272206304,22.99456432218745,13.164556962025317,28.57142857142857,41.51738672286617,23.794916739702014,0.11609907120743033],\"yaxis\":\"y\"},{\"alignmentgroup\":\"True\",\"hovertemplate\":\"chain=%{text}<br>object_type=%{x}<br>ratio=%{y}<extra></extra>\",\"legendgroup\":\"\\u043d\\u0435\\u0442\",\"marker\":{\"color\":\"#EF553B\",\"pattern\":{\"shape\":\"\"}},\"name\":\"\\u043d\\u0435\\u0442\",\"offsetgroup\":\"\\u043d\\u0435\\u0442\",\"orientation\":\"v\",\"showlegend\":true,\"text\":[\"\\u043d\\u0435\\u0442\",\"\\u043d\\u0435\\u0442\",\"\\u043d\\u0435\\u0442\",\"\\u043d\\u0435\\u0442\",\"\\u043d\\u0435\\u0442\",\"\\u043d\\u0435\\u0442\",\"\\u043d\\u0435\\u0442\",\"\\u043d\\u0435\\u0442\",\"\\u043d\\u0435\\u0442\"],\"textposition\":\"auto\",\"type\":\"bar\",\"x\":[\"\\u0431\\u0430\\u0440\",\"\\u0431\\u0443\\u0444\\u0435\\u0442\",\"\\u0437\\u0430\\u043a\\u0443\\u0441\\u043e\\u0447\\u043d\\u0430\\u044f\",\"\\u043a\\u0430\\u0444\\u0435\",\"\\u043a\\u0430\\u0444\\u0435\\u0442\\u0435\\u0440\\u0438\\u0439\",\"\\u043c\\u0430\\u0433\\u0430\\u0437\\u0438\\u043d (\\u043e\\u0442\\u0434\\u0435\\u043b \\u043a\\u0443\\u043b\\u0438\\u043d\\u0430\\u0440\\u0438\\u0438)\",\"\\u043f\\u0440\\u0435\\u0434\\u043f\\u0440\\u0438\\u044f\\u0442\\u0438\\u0435 \\u0431\\u044b\\u0441\\u0442\\u0440\\u043e\\u0433\\u043e \\u043e\\u0431\\u0441\\u043b\\u0443\\u0436\\u0438\\u0432\\u0430\\u043d\\u0438\\u044f\",\"\\u0440\\u0435\\u0441\\u0442\\u043e\\u0440\\u0430\\u043d\",\"\\u0441\\u0442\\u043e\\u043b\\u043e\\u0432\\u0430\\u044f\"],\"xaxis\":\"x\",\"y\":[95.67251461988305,98.09358752166378,83.95415472779369,77.00543567781256,86.83544303797468,71.42857142857143,58.48261327713382,76.20508326029798,99.88390092879257],\"yaxis\":\"y\"}],                        {\"barmode\":\"relative\",\"legend\":{\"title\":{\"text\":\"chain\"},\"tracegroupgap\":0},\"margin\":{\"t\":60},\"template\":{\"data\":{\"bar\":[{\"error_x\":{\"color\":\"#2a3f5f\"},\"error_y\":{\"color\":\"#2a3f5f\"},\"marker\":{\"line\":{\"color\":\"#E5ECF6\",\"width\":0.5},\"pattern\":{\"fillmode\":\"overlay\",\"size\":10,\"solidity\":0.2}},\"type\":\"bar\"}],\"barpolar\":[{\"marker\":{\"line\":{\"color\":\"#E5ECF6\",\"width\":0.5},\"pattern\":{\"fillmode\":\"overlay\",\"size\":10,\"solidity\":0.2}},\"type\":\"barpolar\"}],\"carpet\":[{\"aaxis\":{\"endlinecolor\":\"#2a3f5f\",\"gridcolor\":\"white\",\"linecolor\":\"white\",\"minorgridcolor\":\"white\",\"startlinecolor\":\"#2a3f5f\"},\"baxis\":{\"endlinecolor\":\"#2a3f5f\",\"gridcolor\":\"white\",\"linecolor\":\"white\",\"minorgridcolor\":\"white\",\"startlinecolor\":\"#2a3f5f\"},\"type\":\"carpet\"}],\"choropleth\":[{\"colorbar\":{\"outlinewidth\":0,\"ticks\":\"\"},\"type\":\"choropleth\"}],\"contour\":[{\"colorbar\":{\"outlinewidth\":0,\"ticks\":\"\"},\"colorscale\":[[0.0,\"#0d0887\"],[0.1111111111111111,\"#46039f\"],[0.2222222222222222,\"#7201a8\"],[0.3333333333333333,\"#9c179e\"],[0.4444444444444444,\"#bd3786\"],[0.5555555555555556,\"#d8576b\"],[0.6666666666666666,\"#ed7953\"],[0.7777777777777778,\"#fb9f3a\"],[0.8888888888888888,\"#fdca26\"],[1.0,\"#f0f921\"]],\"type\":\"contour\"}],\"contourcarpet\":[{\"colorbar\":{\"outlinewidth\":0,\"ticks\":\"\"},\"type\":\"contourcarpet\"}],\"heatmap\":[{\"colorbar\":{\"outlinewidth\":0,\"ticks\":\"\"},\"colorscale\":[[0.0,\"#0d0887\"],[0.1111111111111111,\"#46039f\"],[0.2222222222222222,\"#7201a8\"],[0.3333333333333333,\"#9c179e\"],[0.4444444444444444,\"#bd3786\"],[0.5555555555555556,\"#d8576b\"],[0.6666666666666666,\"#ed7953\"],[0.7777777777777778,\"#fb9f3a\"],[0.8888888888888888,\"#fdca26\"],[1.0,\"#f0f921\"]],\"type\":\"heatmap\"}],\"heatmapgl\":[{\"colorbar\":{\"outlinewidth\":0,\"ticks\":\"\"},\"colorscale\":[[0.0,\"#0d0887\"],[0.1111111111111111,\"#46039f\"],[0.2222222222222222,\"#7201a8\"],[0.3333333333333333,\"#9c179e\"],[0.4444444444444444,\"#bd3786\"],[0.5555555555555556,\"#d8576b\"],[0.6666666666666666,\"#ed7953\"],[0.7777777777777778,\"#fb9f3a\"],[0.8888888888888888,\"#fdca26\"],[1.0,\"#f0f921\"]],\"type\":\"heatmapgl\"}],\"histogram\":[{\"marker\":{\"pattern\":{\"fillmode\":\"overlay\",\"size\":10,\"solidity\":0.2}},\"type\":\"histogram\"}],\"histogram2d\":[{\"colorbar\":{\"outlinewidth\":0,\"ticks\":\"\"},\"colorscale\":[[0.0,\"#0d0887\"],[0.1111111111111111,\"#46039f\"],[0.2222222222222222,\"#7201a8\"],[0.3333333333333333,\"#9c179e\"],[0.4444444444444444,\"#bd3786\"],[0.5555555555555556,\"#d8576b\"],[0.6666666666666666,\"#ed7953\"],[0.7777777777777778,\"#fb9f3a\"],[0.8888888888888888,\"#fdca26\"],[1.0,\"#f0f921\"]],\"type\":\"histogram2d\"}],\"histogram2dcontour\":[{\"colorbar\":{\"outlinewidth\":0,\"ticks\":\"\"},\"colorscale\":[[0.0,\"#0d0887\"],[0.1111111111111111,\"#46039f\"],[0.2222222222222222,\"#7201a8\"],[0.3333333333333333,\"#9c179e\"],[0.4444444444444444,\"#bd3786\"],[0.5555555555555556,\"#d8576b\"],[0.6666666666666666,\"#ed7953\"],[0.7777777777777778,\"#fb9f3a\"],[0.8888888888888888,\"#fdca26\"],[1.0,\"#f0f921\"]],\"type\":\"histogram2dcontour\"}],\"mesh3d\":[{\"colorbar\":{\"outlinewidth\":0,\"ticks\":\"\"},\"type\":\"mesh3d\"}],\"parcoords\":[{\"line\":{\"colorbar\":{\"outlinewidth\":0,\"ticks\":\"\"}},\"type\":\"parcoords\"}],\"pie\":[{\"automargin\":true,\"type\":\"pie\"}],\"scatter\":[{\"marker\":{\"colorbar\":{\"outlinewidth\":0,\"ticks\":\"\"}},\"type\":\"scatter\"}],\"scatter3d\":[{\"line\":{\"colorbar\":{\"outlinewidth\":0,\"ticks\":\"\"}},\"marker\":{\"colorbar\":{\"outlinewidth\":0,\"ticks\":\"\"}},\"type\":\"scatter3d\"}],\"scattercarpet\":[{\"marker\":{\"colorbar\":{\"outlinewidth\":0,\"ticks\":\"\"}},\"type\":\"scattercarpet\"}],\"scattergeo\":[{\"marker\":{\"colorbar\":{\"outlinewidth\":0,\"ticks\":\"\"}},\"type\":\"scattergeo\"}],\"scattergl\":[{\"marker\":{\"colorbar\":{\"outlinewidth\":0,\"ticks\":\"\"}},\"type\":\"scattergl\"}],\"scattermapbox\":[{\"marker\":{\"colorbar\":{\"outlinewidth\":0,\"ticks\":\"\"}},\"type\":\"scattermapbox\"}],\"scatterpolar\":[{\"marker\":{\"colorbar\":{\"outlinewidth\":0,\"ticks\":\"\"}},\"type\":\"scatterpolar\"}],\"scatterpolargl\":[{\"marker\":{\"colorbar\":{\"outlinewidth\":0,\"ticks\":\"\"}},\"type\":\"scatterpolargl\"}],\"scatterternary\":[{\"marker\":{\"colorbar\":{\"outlinewidth\":0,\"ticks\":\"\"}},\"type\":\"scatterternary\"}],\"surface\":[{\"colorbar\":{\"outlinewidth\":0,\"ticks\":\"\"},\"colorscale\":[[0.0,\"#0d0887\"],[0.1111111111111111,\"#46039f\"],[0.2222222222222222,\"#7201a8\"],[0.3333333333333333,\"#9c179e\"],[0.4444444444444444,\"#bd3786\"],[0.5555555555555556,\"#d8576b\"],[0.6666666666666666,\"#ed7953\"],[0.7777777777777778,\"#fb9f3a\"],[0.8888888888888888,\"#fdca26\"],[1.0,\"#f0f921\"]],\"type\":\"surface\"}],\"table\":[{\"cells\":{\"fill\":{\"color\":\"#EBF0F8\"},\"line\":{\"color\":\"white\"}},\"header\":{\"fill\":{\"color\":\"#C8D4E3\"},\"line\":{\"color\":\"white\"}},\"type\":\"table\"}]},\"layout\":{\"annotationdefaults\":{\"arrowcolor\":\"#2a3f5f\",\"arrowhead\":0,\"arrowwidth\":1},\"autotypenumbers\":\"strict\",\"coloraxis\":{\"colorbar\":{\"outlinewidth\":0,\"ticks\":\"\"}},\"colorscale\":{\"diverging\":[[0,\"#8e0152\"],[0.1,\"#c51b7d\"],[0.2,\"#de77ae\"],[0.3,\"#f1b6da\"],[0.4,\"#fde0ef\"],[0.5,\"#f7f7f7\"],[0.6,\"#e6f5d0\"],[0.7,\"#b8e186\"],[0.8,\"#7fbc41\"],[0.9,\"#4d9221\"],[1,\"#276419\"]],\"sequential\":[[0.0,\"#0d0887\"],[0.1111111111111111,\"#46039f\"],[0.2222222222222222,\"#7201a8\"],[0.3333333333333333,\"#9c179e\"],[0.4444444444444444,\"#bd3786\"],[0.5555555555555556,\"#d8576b\"],[0.6666666666666666,\"#ed7953\"],[0.7777777777777778,\"#fb9f3a\"],[0.8888888888888888,\"#fdca26\"],[1.0,\"#f0f921\"]],\"sequentialminus\":[[0.0,\"#0d0887\"],[0.1111111111111111,\"#46039f\"],[0.2222222222222222,\"#7201a8\"],[0.3333333333333333,\"#9c179e\"],[0.4444444444444444,\"#bd3786\"],[0.5555555555555556,\"#d8576b\"],[0.6666666666666666,\"#ed7953\"],[0.7777777777777778,\"#fb9f3a\"],[0.8888888888888888,\"#fdca26\"],[1.0,\"#f0f921\"]]},\"colorway\":[\"#636efa\",\"#EF553B\",\"#00cc96\",\"#ab63fa\",\"#FFA15A\",\"#19d3f3\",\"#FF6692\",\"#B6E880\",\"#FF97FF\",\"#FECB52\"],\"font\":{\"color\":\"#2a3f5f\"},\"geo\":{\"bgcolor\":\"white\",\"lakecolor\":\"white\",\"landcolor\":\"#E5ECF6\",\"showlakes\":true,\"showland\":true,\"subunitcolor\":\"white\"},\"hoverlabel\":{\"align\":\"left\"},\"hovermode\":\"closest\",\"mapbox\":{\"style\":\"light\"},\"paper_bgcolor\":\"white\",\"plot_bgcolor\":\"#E5ECF6\",\"polar\":{\"angularaxis\":{\"gridcolor\":\"white\",\"linecolor\":\"white\",\"ticks\":\"\"},\"bgcolor\":\"#E5ECF6\",\"radialaxis\":{\"gridcolor\":\"white\",\"linecolor\":\"white\",\"ticks\":\"\"}},\"scene\":{\"xaxis\":{\"backgroundcolor\":\"#E5ECF6\",\"gridcolor\":\"white\",\"gridwidth\":2,\"linecolor\":\"white\",\"showbackground\":true,\"ticks\":\"\",\"zerolinecolor\":\"white\"},\"yaxis\":{\"backgroundcolor\":\"#E5ECF6\",\"gridcolor\":\"white\",\"gridwidth\":2,\"linecolor\":\"white\",\"showbackground\":true,\"ticks\":\"\",\"zerolinecolor\":\"white\"},\"zaxis\":{\"backgroundcolor\":\"#E5ECF6\",\"gridcolor\":\"white\",\"gridwidth\":2,\"linecolor\":\"white\",\"showbackground\":true,\"ticks\":\"\",\"zerolinecolor\":\"white\"}},\"shapedefaults\":{\"line\":{\"color\":\"#2a3f5f\"}},\"ternary\":{\"aaxis\":{\"gridcolor\":\"white\",\"linecolor\":\"white\",\"ticks\":\"\"},\"baxis\":{\"gridcolor\":\"white\",\"linecolor\":\"white\",\"ticks\":\"\"},\"bgcolor\":\"#E5ECF6\",\"caxis\":{\"gridcolor\":\"white\",\"linecolor\":\"white\",\"ticks\":\"\"}},\"title\":{\"x\":0.05},\"xaxis\":{\"automargin\":true,\"gridcolor\":\"white\",\"linecolor\":\"white\",\"ticks\":\"\",\"title\":{\"standoff\":15},\"zerolinecolor\":\"white\",\"zerolinewidth\":2},\"yaxis\":{\"automargin\":true,\"gridcolor\":\"white\",\"linecolor\":\"white\",\"ticks\":\"\",\"title\":{\"standoff\":15},\"zerolinecolor\":\"white\",\"zerolinewidth\":2}}},\"xaxis\":{\"anchor\":\"y\",\"domain\":[0.0,1.0],\"title\":{\"text\":\"object_type\"}},\"yaxis\":{\"anchor\":\"x\",\"domain\":[0.0,1.0],\"title\":{\"text\":\"ratio\"}}},                        {\"responsive\": true}                    ).then(function(){\n",
       "                            \n",
       "var gd = document.getElementById('1ebbe0d3-7822-411f-9ea3-a748c7890f7a');\n",
       "var x = new MutationObserver(function (mutations, observer) {{\n",
       "        var display = window.getComputedStyle(gd).display;\n",
       "        if (!display || display === 'none') {{\n",
       "            console.log([gd, 'removed!']);\n",
       "            Plotly.purge(gd);\n",
       "            observer.disconnect();\n",
       "        }}\n",
       "}});\n",
       "\n",
       "// Listen for the removal of the full notebook cells\n",
       "var notebookContainer = gd.closest('#notebook-container');\n",
       "if (notebookContainer) {{\n",
       "    x.observe(notebookContainer, {childList: true});\n",
       "}}\n",
       "\n",
       "// Listen for the clearing of the current output cell\n",
       "var outputEl = gd.closest('.output');\n",
       "if (outputEl) {{\n",
       "    x.observe(outputEl, {childList: true});\n",
       "}}\n",
       "\n",
       "                        })                };                });            </script>        </div>"
      ]
     },
     "metadata": {},
     "output_type": "display_data"
    }
   ],
   "source": [
    "gf = px.data.medals_long()\n",
    "\n",
    "fig = px.bar(tmp1, x=\"object_type\", y=\"ratio\", color=\"chain\", text=\"chain\")\n",
    "\n",
    "fig.show()"
   ]
  },
  {
   "cell_type": "markdown",
   "metadata": {},
   "source": [
    "Мы видим, что сетевое распределение больше всего характерно для предприятий быстрого обслуживания. А для столовых, наоборот, характерно единичные предприятия.Также доля кафе в сетях выше, чем в отдельных предприятиях.  "
   ]
  },
  {
   "cell_type": "markdown",
   "metadata": {},
   "source": [
    "## Посадочые места"
   ]
  },
  {
   "cell_type": "markdown",
   "metadata": {},
   "source": [
    "Постотрим как распределяются посадочные места по типу заведений. "
   ]
  },
  {
   "cell_type": "code",
   "execution_count": 161,
   "metadata": {
    "scrolled": true
   },
   "outputs": [
    {
     "name": "stdout",
     "output_type": "stream",
     "text": [
      "       number\n",
      "count 15284.0\n",
      "mean  59.8   \n",
      "std   74.8   \n",
      "min   0.0    \n",
      "25%   14.0   \n",
      "50%   40.0   \n",
      "75%   80.0   \n",
      "max   1700.0 \n"
     ]
    }
   ],
   "source": [
    "print(data.describe());\n",
    "pd.set_option('display.max_colwidth', None)\n",
    "pd.set_option('display.float_format', '{:.1f}'.format)"
   ]
  },
  {
   "cell_type": "markdown",
   "metadata": {},
   "source": [
    "Мы видим, что медиана посадочных мест 40, а среднее намного больше 74. Построим гистограмму распределения посадочных мест. "
   ]
  },
  {
   "cell_type": "code",
   "execution_count": 162,
   "metadata": {},
   "outputs": [
    {
     "data": {
      "image/png": "[encoded data removed]",
      "text/plain": [
       "<Figure size 720x432 with 1 Axes>"
      ]
     },
     "metadata": {
      "needs_background": "light"
     },
     "output_type": "display_data"
    }
   ],
   "source": [
    "fig, ax = plt.subplots(figsize=(10, 6))\n",
    "x_values = pd.Series(range(0, len(data['id'])))\n",
    "ax.scatter(x_values, data['number'])\n",
    "ax.set_xlabel('Заведения')\n",
    "ax.set_ylabel('Посадочные места')\n",
    "plt.title('Распределение посадочных мест')\n",
    "plt.show()"
   ]
  },
  {
   "cell_type": "markdown",
   "metadata": {},
   "source": [
    "Мы видим, что есть выбросы в данных. И они достаточны существенны. Есть заведения с 1700 посадочных мест. Однако таких не много. Думаю мы можем ограничиться 400 посадочными местами. "
   ]
  },
  {
   "cell_type": "code",
   "execution_count": 163,
   "metadata": {},
   "outputs": [
    {
     "data": {
      "image/png": "[encoded data removed]",
      "text/plain": [
       "<Figure size 1080x576 with 1 Axes>"
      ]
     },
     "metadata": {
      "needs_background": "light"
     },
     "output_type": "display_data"
    }
   ],
   "source": [
    "\n",
    "\n",
    "plt.figure(figsize=(15, 8))\n",
    "sns.boxplot(data=data, y = 'object_type', x = 'number')\n",
    "plt.title('Число посадочных мест по типам заведений')\n",
    "plt.ylabel('Тип')\n",
    "plt.xlabel('Кол-во посадочных мест')\n",
    "plt.xlim([0,400])\n",
    "plt.show()"
   ]
  },
  {
   "cell_type": "markdown",
   "metadata": {},
   "source": [
    "Мы видим, что среднее кол-во посадочных мест самое большое у столовых. Медиана тоже у них выше. Однако у ресторанов и кафе много выбросов. Это значит, что у них сильно разнятся кол-во посадочных мест. Есть кафе и рестораны с очень большим кол-ом посадочных мест, однако в большиенстве заведений кол-во посадочных мест меньше 100. "
   ]
  },
  {
   "cell_type": "markdown",
   "metadata": {},
   "source": [
    "Опишем для каждого вида объекта общественного питания среднее количество посадочных мест."
   ]
  },
  {
   "cell_type": "code",
   "execution_count": 164,
   "metadata": {},
   "outputs": [
    {
     "name": "stdout",
     "output_type": "stream",
     "text": [
      "                         object_type  number\n",
      "8                           столовая   130.3\n",
      "7                           ресторан    96.9\n",
      "1                              буфет    51.5\n",
      "0                                бар    43.5\n",
      "3                               кафе    39.8\n",
      "6  предприятие быстрого обслуживания    20.8\n",
      "4                          кафетерий     9.2\n",
      "2                         закусочная     7.8\n",
      "5          магазин (отдел кулинарии)     5.6\n"
     ]
    }
   ],
   "source": [
    "place_grouped = data.groupby(['object_type'])['number'].mean()\n",
    "place_grouped = place_grouped.reset_index().sort_values(by = 'number', ascending=False)\n",
    "print(place_grouped)"
   ]
  },
  {
   "cell_type": "code",
   "execution_count": 165,
   "metadata": {},
   "outputs": [
    {
     "data": {
      "application/vnd.plotly.v1+json": {
       "config": {
        "plotlyServerURL": "https://plot.ly"
       },
       "data": [
        {
         "type": "bar",
         "x": [
          "столовая",
          "ресторан",
          "буфет",
          "бар",
          "кафе",
          "предприятие быстрого обслуживания",
          "кафетерий",
          "закусочная",
          "магазин (отдел кулинарии)"
         ],
         "y": [
          130.3378482972136,
          96.88475021910605,
          51.50953206239168,
          43.53333333333333,
          39.78570252017789,
          20.80821917808219,
          9.184810126582278,
          7.825214899713467,
          5.589743589743589
         ]
        }
       ],
       "layout": {
        "template": {
         "data": {
          "bar": [
           {
            "error_x": {
             "color": "#2a3f5f"
            },
            "error_y": {
             "color": "#2a3f5f"
            },
            "marker": {
             "line": {
              "color": "#E5ECF6",
              "width": 0.5
             },
             "pattern": {
              "fillmode": "overlay",
              "size": 10,
              "solidity": 0.2
             }
            },
            "type": "bar"
           }
          ],
          "barpolar": [
           {
            "marker": {
             "line": {
              "color": "#E5ECF6",
              "width": 0.5
             },
             "pattern": {
              "fillmode": "overlay",
              "size": 10,
              "solidity": 0.2
             }
            },
            "type": "barpolar"
           }
          ],
          "carpet": [
           {
            "aaxis": {
             "endlinecolor": "#2a3f5f",
             "gridcolor": "white",
             "linecolor": "white",
             "minorgridcolor": "white",
             "startlinecolor": "#2a3f5f"
            },
            "baxis": {
             "endlinecolor": "#2a3f5f",
             "gridcolor": "white",
             "linecolor": "white",
             "minorgridcolor": "white",
             "startlinecolor": "#2a3f5f"
            },
            "type": "carpet"
           }
          ],
          "choropleth": [
           {
            "colorbar": {
             "outlinewidth": 0,
             "ticks": ""
            },
            "type": "choropleth"
           }
          ],
          "contour": [
           {
            "colorbar": {
             "outlinewidth": 0,
             "ticks": ""
            },
            "colorscale": [
             [
              0,
              "#0d0887"
             ],
             [
              0.1111111111111111,
              "#46039f"
             ],
             [
              0.2222222222222222,
              "#7201a8"
             ],
             [
              0.3333333333333333,
              "#9c179e"
             ],
             [
              0.4444444444444444,
              "#bd3786"
             ],
             [
              0.5555555555555556,
              "#d8576b"
             ],
             [
              0.6666666666666666,
              "#ed7953"
             ],
             [
              0.7777777777777778,
              "#fb9f3a"
             ],
             [
              0.8888888888888888,
              "#fdca26"
             ],
             [
              1,
              "#f0f921"
             ]
            ],
            "type": "contour"
           }
          ],
          "contourcarpet": [
           {
            "colorbar": {
             "outlinewidth": 0,
             "ticks": ""
            },
            "type": "contourcarpet"
           }
          ],
          "heatmap": [
           {
            "colorbar": {
             "outlinewidth": 0,
             "ticks": ""
            },
            "colorscale": [
             [
              0,
              "#0d0887"
             ],
             [
              0.1111111111111111,
              "#46039f"
             ],
             [
              0.2222222222222222,
              "#7201a8"
             ],
             [
              0.3333333333333333,
              "#9c179e"
             ],
             [
              0.4444444444444444,
              "#bd3786"
             ],
             [
              0.5555555555555556,
              "#d8576b"
             ],
             [
              0.6666666666666666,
              "#ed7953"
             ],
             [
              0.7777777777777778,
              "#fb9f3a"
             ],
             [
              0.8888888888888888,
              "#fdca26"
             ],
             [
              1,
              "#f0f921"
             ]
            ],
            "type": "heatmap"
           }
          ],
          "heatmapgl": [
           {
            "colorbar": {
             "outlinewidth": 0,
             "ticks": ""
            },
            "colorscale": [
             [
              0,
              "#0d0887"
             ],
             [
              0.1111111111111111,
              "#46039f"
             ],
             [
              0.2222222222222222,
              "#7201a8"
             ],
             [
              0.3333333333333333,
              "#9c179e"
             ],
             [
              0.4444444444444444,
              "#bd3786"
             ],
             [
              0.5555555555555556,
              "#d8576b"
             ],
             [
              0.6666666666666666,
              "#ed7953"
             ],
             [
              0.7777777777777778,
              "#fb9f3a"
             ],
             [
              0.8888888888888888,
              "#fdca26"
             ],
             [
              1,
              "#f0f921"
             ]
            ],
            "type": "heatmapgl"
           }
          ],
          "histogram": [
           {
            "marker": {
             "pattern": {
              "fillmode": "overlay",
              "size": 10,
              "solidity": 0.2
             }
            },
            "type": "histogram"
           }
          ],
          "histogram2d": [
           {
            "colorbar": {
             "outlinewidth": 0,
             "ticks": ""
            },
            "colorscale": [
             [
              0,
              "#0d0887"
             ],
             [
              0.1111111111111111,
              "#46039f"
             ],
             [
              0.2222222222222222,
              "#7201a8"
             ],
             [
              0.3333333333333333,
              "#9c179e"
             ],
             [
              0.4444444444444444,
              "#bd3786"
             ],
             [
              0.5555555555555556,
              "#d8576b"
             ],
             [
              0.6666666666666666,
              "#ed7953"
             ],
             [
              0.7777777777777778,
              "#fb9f3a"
             ],
             [
              0.8888888888888888,
              "#fdca26"
             ],
             [
              1,
              "#f0f921"
             ]
            ],
            "type": "histogram2d"
           }
          ],
          "histogram2dcontour": [
           {
            "colorbar": {
             "outlinewidth": 0,
             "ticks": ""
            },
            "colorscale": [
             [
              0,
              "#0d0887"
             ],
             [
              0.1111111111111111,
              "#46039f"
             ],
             [
              0.2222222222222222,
              "#7201a8"
             ],
             [
              0.3333333333333333,
              "#9c179e"
             ],
             [
              0.4444444444444444,
              "#bd3786"
             ],
             [
              0.5555555555555556,
              "#d8576b"
             ],
             [
              0.6666666666666666,
              "#ed7953"
             ],
             [
              0.7777777777777778,
              "#fb9f3a"
             ],
             [
              0.8888888888888888,
              "#fdca26"
             ],
             [
              1,
              "#f0f921"
             ]
            ],
            "type": "histogram2dcontour"
           }
          ],
          "mesh3d": [
           {
            "colorbar": {
             "outlinewidth": 0,
             "ticks": ""
            },
            "type": "mesh3d"
           }
          ],
          "parcoords": [
           {
            "line": {
             "colorbar": {
              "outlinewidth": 0,
              "ticks": ""
             }
            },
            "type": "parcoords"
           }
          ],
          "pie": [
           {
            "automargin": true,
            "type": "pie"
           }
          ],
          "scatter": [
           {
            "marker": {
             "colorbar": {
              "outlinewidth": 0,
              "ticks": ""
             }
            },
            "type": "scatter"
           }
          ],
          "scatter3d": [
           {
            "line": {
             "colorbar": {
              "outlinewidth": 0,
              "ticks": ""
             }
            },
            "marker": {
             "colorbar": {
              "outlinewidth": 0,
              "ticks": ""
             }
            },
            "type": "scatter3d"
           }
          ],
          "scattercarpet": [
           {
            "marker": {
             "colorbar": {
              "outlinewidth": 0,
              "ticks": ""
             }
            },
            "type": "scattercarpet"
           }
          ],
          "scattergeo": [
           {
            "marker": {
             "colorbar": {
              "outlinewidth": 0,
              "ticks": ""
             }
            },
            "type": "scattergeo"
           }
          ],
          "scattergl": [
           {
            "marker": {
             "colorbar": {
              "outlinewidth": 0,
              "ticks": ""
             }
            },
            "type": "scattergl"
           }
          ],
          "scattermapbox": [
           {
            "marker": {
             "colorbar": {
              "outlinewidth": 0,
              "ticks": ""
             }
            },
            "type": "scattermapbox"
           }
          ],
          "scatterpolar": [
           {
            "marker": {
             "colorbar": {
              "outlinewidth": 0,
              "ticks": ""
             }
            },
            "type": "scatterpolar"
           }
          ],
          "scatterpolargl": [
           {
            "marker": {
             "colorbar": {
              "outlinewidth": 0,
              "ticks": ""
             }
            },
            "type": "scatterpolargl"
           }
          ],
          "scatterternary": [
           {
            "marker": {
             "colorbar": {
              "outlinewidth": 0,
              "ticks": ""
             }
            },
            "type": "scatterternary"
           }
          ],
          "surface": [
           {
            "colorbar": {
             "outlinewidth": 0,
             "ticks": ""
            },
            "colorscale": [
             [
              0,
              "#0d0887"
             ],
             [
              0.1111111111111111,
              "#46039f"
             ],
             [
              0.2222222222222222,
              "#7201a8"
             ],
             [
              0.3333333333333333,
              "#9c179e"
             ],
             [
              0.4444444444444444,
              "#bd3786"
             ],
             [
              0.5555555555555556,
              "#d8576b"
             ],
             [
              0.6666666666666666,
              "#ed7953"
             ],
             [
              0.7777777777777778,
              "#fb9f3a"
             ],
             [
              0.8888888888888888,
              "#fdca26"
             ],
             [
              1,
              "#f0f921"
             ]
            ],
            "type": "surface"
           }
          ],
          "table": [
           {
            "cells": {
             "fill": {
              "color": "#EBF0F8"
             },
             "line": {
              "color": "white"
             }
            },
            "header": {
             "fill": {
              "color": "#C8D4E3"
             },
             "line": {
              "color": "white"
             }
            },
            "type": "table"
           }
          ]
         },
         "layout": {
          "annotationdefaults": {
           "arrowcolor": "#2a3f5f",
           "arrowhead": 0,
           "arrowwidth": 1
          },
          "autotypenumbers": "strict",
          "coloraxis": {
           "colorbar": {
            "outlinewidth": 0,
            "ticks": ""
           }
          },
          "colorscale": {
           "diverging": [
            [
             0,
             "#8e0152"
            ],
            [
             0.1,
             "#c51b7d"
            ],
            [
             0.2,
             "#de77ae"
            ],
            [
             0.3,
             "#f1b6da"
            ],
            [
             0.4,
             "#fde0ef"
            ],
            [
             0.5,
             "#f7f7f7"
            ],
            [
             0.6,
             "#e6f5d0"
            ],
            [
             0.7,
             "#b8e186"
            ],
            [
             0.8,
             "#7fbc41"
            ],
            [
             0.9,
             "#4d9221"
            ],
            [
             1,
             "#276419"
            ]
           ],
           "sequential": [
            [
             0,
             "#0d0887"
            ],
            [
             0.1111111111111111,
             "#46039f"
            ],
            [
             0.2222222222222222,
             "#7201a8"
            ],
            [
             0.3333333333333333,
             "#9c179e"
            ],
            [
             0.4444444444444444,
             "#bd3786"
            ],
            [
             0.5555555555555556,
             "#d8576b"
            ],
            [
             0.6666666666666666,
             "#ed7953"
            ],
            [
             0.7777777777777778,
             "#fb9f3a"
            ],
            [
             0.8888888888888888,
             "#fdca26"
            ],
            [
             1,
             "#f0f921"
            ]
           ],
           "sequentialminus": [
            [
             0,
             "#0d0887"
            ],
            [
             0.1111111111111111,
             "#46039f"
            ],
            [
             0.2222222222222222,
             "#7201a8"
            ],
            [
             0.3333333333333333,
             "#9c179e"
            ],
            [
             0.4444444444444444,
             "#bd3786"
            ],
            [
             0.5555555555555556,
             "#d8576b"
            ],
            [
             0.6666666666666666,
             "#ed7953"
            ],
            [
             0.7777777777777778,
             "#fb9f3a"
            ],
            [
             0.8888888888888888,
             "#fdca26"
            ],
            [
             1,
             "#f0f921"
            ]
           ]
          },
          "colorway": [
           "#636efa",
           "#EF553B",
           "#00cc96",
           "#ab63fa",
           "#FFA15A",
           "#19d3f3",
           "#FF6692",
           "#B6E880",
           "#FF97FF",
           "#FECB52"
          ],
          "font": {
           "color": "#2a3f5f"
          },
          "geo": {
           "bgcolor": "white",
           "lakecolor": "white",
           "landcolor": "#E5ECF6",
           "showlakes": true,
           "showland": true,
           "subunitcolor": "white"
          },
          "hoverlabel": {
           "align": "left"
          },
          "hovermode": "closest",
          "mapbox": {
           "style": "light"
          },
          "paper_bgcolor": "white",
          "plot_bgcolor": "#E5ECF6",
          "polar": {
           "angularaxis": {
            "gridcolor": "white",
            "linecolor": "white",
            "ticks": ""
           },
           "bgcolor": "#E5ECF6",
           "radialaxis": {
            "gridcolor": "white",
            "linecolor": "white",
            "ticks": ""
           }
          },
          "scene": {
           "xaxis": {
            "backgroundcolor": "#E5ECF6",
            "gridcolor": "white",
            "gridwidth": 2,
            "linecolor": "white",
            "showbackground": true,
            "ticks": "",
            "zerolinecolor": "white"
           },
           "yaxis": {
            "backgroundcolor": "#E5ECF6",
            "gridcolor": "white",
            "gridwidth": 2,
            "linecolor": "white",
            "showbackground": true,
            "ticks": "",
            "zerolinecolor": "white"
           },
           "zaxis": {
            "backgroundcolor": "#E5ECF6",
            "gridcolor": "white",
            "gridwidth": 2,
            "linecolor": "white",
            "showbackground": true,
            "ticks": "",
            "zerolinecolor": "white"
           }
          },
          "shapedefaults": {
           "line": {
            "color": "#2a3f5f"
           }
          },
          "ternary": {
           "aaxis": {
            "gridcolor": "white",
            "linecolor": "white",
            "ticks": ""
           },
           "baxis": {
            "gridcolor": "white",
            "linecolor": "white",
            "ticks": ""
           },
           "bgcolor": "#E5ECF6",
           "caxis": {
            "gridcolor": "white",
            "linecolor": "white",
            "ticks": ""
           }
          },
          "title": {
           "x": 0.05
          },
          "xaxis": {
           "automargin": true,
           "gridcolor": "white",
           "linecolor": "white",
           "ticks": "",
           "title": {
            "standoff": 15
           },
           "zerolinecolor": "white",
           "zerolinewidth": 2
          },
          "yaxis": {
           "automargin": true,
           "gridcolor": "white",
           "linecolor": "white",
           "ticks": "",
           "title": {
            "standoff": 15
           },
           "zerolinecolor": "white",
           "zerolinewidth": 2
          }
         }
        },
        "title": {
         "text": "Среднее кол-во посадочных мест по типу предприятия"
        },
        "xaxis": {
         "title": {
          "text": "Тип предприятия"
         }
        },
        "yaxis": {
         "title": {
          "text": "Кол-во посадочных мест"
         }
        }
       }
      },
      "text/html": [
       "<div>                            <div id=\"f920e853-39e4-4eb2-b2f9-21ed3678544a\" class=\"plotly-graph-div\" style=\"height:525px; width:100%;\"></div>            <script type=\"text/javascript\">                require([\"plotly\"], function(Plotly) {                    window.PLOTLYENV=window.PLOTLYENV || {};                                    if (document.getElementById(\"f920e853-39e4-4eb2-b2f9-21ed3678544a\")) {                    Plotly.newPlot(                        \"f920e853-39e4-4eb2-b2f9-21ed3678544a\",                        [{\"type\":\"bar\",\"x\":[\"\\u0441\\u0442\\u043e\\u043b\\u043e\\u0432\\u0430\\u044f\",\"\\u0440\\u0435\\u0441\\u0442\\u043e\\u0440\\u0430\\u043d\",\"\\u0431\\u0443\\u0444\\u0435\\u0442\",\"\\u0431\\u0430\\u0440\",\"\\u043a\\u0430\\u0444\\u0435\",\"\\u043f\\u0440\\u0435\\u0434\\u043f\\u0440\\u0438\\u044f\\u0442\\u0438\\u0435 \\u0431\\u044b\\u0441\\u0442\\u0440\\u043e\\u0433\\u043e \\u043e\\u0431\\u0441\\u043b\\u0443\\u0436\\u0438\\u0432\\u0430\\u043d\\u0438\\u044f\",\"\\u043a\\u0430\\u0444\\u0435\\u0442\\u0435\\u0440\\u0438\\u0439\",\"\\u0437\\u0430\\u043a\\u0443\\u0441\\u043e\\u0447\\u043d\\u0430\\u044f\",\"\\u043c\\u0430\\u0433\\u0430\\u0437\\u0438\\u043d (\\u043e\\u0442\\u0434\\u0435\\u043b \\u043a\\u0443\\u043b\\u0438\\u043d\\u0430\\u0440\\u0438\\u0438)\"],\"y\":[130.3378482972136,96.88475021910605,51.50953206239168,43.53333333333333,39.78570252017789,20.80821917808219,9.184810126582278,7.825214899713467,5.589743589743589]}],                        {\"template\":{\"data\":{\"bar\":[{\"error_x\":{\"color\":\"#2a3f5f\"},\"error_y\":{\"color\":\"#2a3f5f\"},\"marker\":{\"line\":{\"color\":\"#E5ECF6\",\"width\":0.5},\"pattern\":{\"fillmode\":\"overlay\",\"size\":10,\"solidity\":0.2}},\"type\":\"bar\"}],\"barpolar\":[{\"marker\":{\"line\":{\"color\":\"#E5ECF6\",\"width\":0.5},\"pattern\":{\"fillmode\":\"overlay\",\"size\":10,\"solidity\":0.2}},\"type\":\"barpolar\"}],\"carpet\":[{\"aaxis\":{\"endlinecolor\":\"#2a3f5f\",\"gridcolor\":\"white\",\"linecolor\":\"white\",\"minorgridcolor\":\"white\",\"startlinecolor\":\"#2a3f5f\"},\"baxis\":{\"endlinecolor\":\"#2a3f5f\",\"gridcolor\":\"white\",\"linecolor\":\"white\",\"minorgridcolor\":\"white\",\"startlinecolor\":\"#2a3f5f\"},\"type\":\"carpet\"}],\"choropleth\":[{\"colorbar\":{\"outlinewidth\":0,\"ticks\":\"\"},\"type\":\"choropleth\"}],\"contour\":[{\"colorbar\":{\"outlinewidth\":0,\"ticks\":\"\"},\"colorscale\":[[0.0,\"#0d0887\"],[0.1111111111111111,\"#46039f\"],[0.2222222222222222,\"#7201a8\"],[0.3333333333333333,\"#9c179e\"],[0.4444444444444444,\"#bd3786\"],[0.5555555555555556,\"#d8576b\"],[0.6666666666666666,\"#ed7953\"],[0.7777777777777778,\"#fb9f3a\"],[0.8888888888888888,\"#fdca26\"],[1.0,\"#f0f921\"]],\"type\":\"contour\"}],\"contourcarpet\":[{\"colorbar\":{\"outlinewidth\":0,\"ticks\":\"\"},\"type\":\"contourcarpet\"}],\"heatmap\":[{\"colorbar\":{\"outlinewidth\":0,\"ticks\":\"\"},\"colorscale\":[[0.0,\"#0d0887\"],[0.1111111111111111,\"#46039f\"],[0.2222222222222222,\"#7201a8\"],[0.3333333333333333,\"#9c179e\"],[0.4444444444444444,\"#bd3786\"],[0.5555555555555556,\"#d8576b\"],[0.6666666666666666,\"#ed7953\"],[0.7777777777777778,\"#fb9f3a\"],[0.8888888888888888,\"#fdca26\"],[1.0,\"#f0f921\"]],\"type\":\"heatmap\"}],\"heatmapgl\":[{\"colorbar\":{\"outlinewidth\":0,\"ticks\":\"\"},\"colorscale\":[[0.0,\"#0d0887\"],[0.1111111111111111,\"#46039f\"],[0.2222222222222222,\"#7201a8\"],[0.3333333333333333,\"#9c179e\"],[0.4444444444444444,\"#bd3786\"],[0.5555555555555556,\"#d8576b\"],[0.6666666666666666,\"#ed7953\"],[0.7777777777777778,\"#fb9f3a\"],[0.8888888888888888,\"#fdca26\"],[1.0,\"#f0f921\"]],\"type\":\"heatmapgl\"}],\"histogram\":[{\"marker\":{\"pattern\":{\"fillmode\":\"overlay\",\"size\":10,\"solidity\":0.2}},\"type\":\"histogram\"}],\"histogram2d\":[{\"colorbar\":{\"outlinewidth\":0,\"ticks\":\"\"},\"colorscale\":[[0.0,\"#0d0887\"],[0.1111111111111111,\"#46039f\"],[0.2222222222222222,\"#7201a8\"],[0.3333333333333333,\"#9c179e\"],[0.4444444444444444,\"#bd3786\"],[0.5555555555555556,\"#d8576b\"],[0.6666666666666666,\"#ed7953\"],[0.7777777777777778,\"#fb9f3a\"],[0.8888888888888888,\"#fdca26\"],[1.0,\"#f0f921\"]],\"type\":\"histogram2d\"}],\"histogram2dcontour\":[{\"colorbar\":{\"outlinewidth\":0,\"ticks\":\"\"},\"colorscale\":[[0.0,\"#0d0887\"],[0.1111111111111111,\"#46039f\"],[0.2222222222222222,\"#7201a8\"],[0.3333333333333333,\"#9c179e\"],[0.4444444444444444,\"#bd3786\"],[0.5555555555555556,\"#d8576b\"],[0.6666666666666666,\"#ed7953\"],[0.7777777777777778,\"#fb9f3a\"],[0.8888888888888888,\"#fdca26\"],[1.0,\"#f0f921\"]],\"type\":\"histogram2dcontour\"}],\"mesh3d\":[{\"colorbar\":{\"outlinewidth\":0,\"ticks\":\"\"},\"type\":\"mesh3d\"}],\"parcoords\":[{\"line\":{\"colorbar\":{\"outlinewidth\":0,\"ticks\":\"\"}},\"type\":\"parcoords\"}],\"pie\":[{\"automargin\":true,\"type\":\"pie\"}],\"scatter\":[{\"marker\":{\"colorbar\":{\"outlinewidth\":0,\"ticks\":\"\"}},\"type\":\"scatter\"}],\"scatter3d\":[{\"line\":{\"colorbar\":{\"outlinewidth\":0,\"ticks\":\"\"}},\"marker\":{\"colorbar\":{\"outlinewidth\":0,\"ticks\":\"\"}},\"type\":\"scatter3d\"}],\"scattercarpet\":[{\"marker\":{\"colorbar\":{\"outlinewidth\":0,\"ticks\":\"\"}},\"type\":\"scattercarpet\"}],\"scattergeo\":[{\"marker\":{\"colorbar\":{\"outlinewidth\":0,\"ticks\":\"\"}},\"type\":\"scattergeo\"}],\"scattergl\":[{\"marker\":{\"colorbar\":{\"outlinewidth\":0,\"ticks\":\"\"}},\"type\":\"scattergl\"}],\"scattermapbox\":[{\"marker\":{\"colorbar\":{\"outlinewidth\":0,\"ticks\":\"\"}},\"type\":\"scattermapbox\"}],\"scatterpolar\":[{\"marker\":{\"colorbar\":{\"outlinewidth\":0,\"ticks\":\"\"}},\"type\":\"scatterpolar\"}],\"scatterpolargl\":[{\"marker\":{\"colorbar\":{\"outlinewidth\":0,\"ticks\":\"\"}},\"type\":\"scatterpolargl\"}],\"scatterternary\":[{\"marker\":{\"colorbar\":{\"outlinewidth\":0,\"ticks\":\"\"}},\"type\":\"scatterternary\"}],\"surface\":[{\"colorbar\":{\"outlinewidth\":0,\"ticks\":\"\"},\"colorscale\":[[0.0,\"#0d0887\"],[0.1111111111111111,\"#46039f\"],[0.2222222222222222,\"#7201a8\"],[0.3333333333333333,\"#9c179e\"],[0.4444444444444444,\"#bd3786\"],[0.5555555555555556,\"#d8576b\"],[0.6666666666666666,\"#ed7953\"],[0.7777777777777778,\"#fb9f3a\"],[0.8888888888888888,\"#fdca26\"],[1.0,\"#f0f921\"]],\"type\":\"surface\"}],\"table\":[{\"cells\":{\"fill\":{\"color\":\"#EBF0F8\"},\"line\":{\"color\":\"white\"}},\"header\":{\"fill\":{\"color\":\"#C8D4E3\"},\"line\":{\"color\":\"white\"}},\"type\":\"table\"}]},\"layout\":{\"annotationdefaults\":{\"arrowcolor\":\"#2a3f5f\",\"arrowhead\":0,\"arrowwidth\":1},\"autotypenumbers\":\"strict\",\"coloraxis\":{\"colorbar\":{\"outlinewidth\":0,\"ticks\":\"\"}},\"colorscale\":{\"diverging\":[[0,\"#8e0152\"],[0.1,\"#c51b7d\"],[0.2,\"#de77ae\"],[0.3,\"#f1b6da\"],[0.4,\"#fde0ef\"],[0.5,\"#f7f7f7\"],[0.6,\"#e6f5d0\"],[0.7,\"#b8e186\"],[0.8,\"#7fbc41\"],[0.9,\"#4d9221\"],[1,\"#276419\"]],\"sequential\":[[0.0,\"#0d0887\"],[0.1111111111111111,\"#46039f\"],[0.2222222222222222,\"#7201a8\"],[0.3333333333333333,\"#9c179e\"],[0.4444444444444444,\"#bd3786\"],[0.5555555555555556,\"#d8576b\"],[0.6666666666666666,\"#ed7953\"],[0.7777777777777778,\"#fb9f3a\"],[0.8888888888888888,\"#fdca26\"],[1.0,\"#f0f921\"]],\"sequentialminus\":[[0.0,\"#0d0887\"],[0.1111111111111111,\"#46039f\"],[0.2222222222222222,\"#7201a8\"],[0.3333333333333333,\"#9c179e\"],[0.4444444444444444,\"#bd3786\"],[0.5555555555555556,\"#d8576b\"],[0.6666666666666666,\"#ed7953\"],[0.7777777777777778,\"#fb9f3a\"],[0.8888888888888888,\"#fdca26\"],[1.0,\"#f0f921\"]]},\"colorway\":[\"#636efa\",\"#EF553B\",\"#00cc96\",\"#ab63fa\",\"#FFA15A\",\"#19d3f3\",\"#FF6692\",\"#B6E880\",\"#FF97FF\",\"#FECB52\"],\"font\":{\"color\":\"#2a3f5f\"},\"geo\":{\"bgcolor\":\"white\",\"lakecolor\":\"white\",\"landcolor\":\"#E5ECF6\",\"showlakes\":true,\"showland\":true,\"subunitcolor\":\"white\"},\"hoverlabel\":{\"align\":\"left\"},\"hovermode\":\"closest\",\"mapbox\":{\"style\":\"light\"},\"paper_bgcolor\":\"white\",\"plot_bgcolor\":\"#E5ECF6\",\"polar\":{\"angularaxis\":{\"gridcolor\":\"white\",\"linecolor\":\"white\",\"ticks\":\"\"},\"bgcolor\":\"#E5ECF6\",\"radialaxis\":{\"gridcolor\":\"white\",\"linecolor\":\"white\",\"ticks\":\"\"}},\"scene\":{\"xaxis\":{\"backgroundcolor\":\"#E5ECF6\",\"gridcolor\":\"white\",\"gridwidth\":2,\"linecolor\":\"white\",\"showbackground\":true,\"ticks\":\"\",\"zerolinecolor\":\"white\"},\"yaxis\":{\"backgroundcolor\":\"#E5ECF6\",\"gridcolor\":\"white\",\"gridwidth\":2,\"linecolor\":\"white\",\"showbackground\":true,\"ticks\":\"\",\"zerolinecolor\":\"white\"},\"zaxis\":{\"backgroundcolor\":\"#E5ECF6\",\"gridcolor\":\"white\",\"gridwidth\":2,\"linecolor\":\"white\",\"showbackground\":true,\"ticks\":\"\",\"zerolinecolor\":\"white\"}},\"shapedefaults\":{\"line\":{\"color\":\"#2a3f5f\"}},\"ternary\":{\"aaxis\":{\"gridcolor\":\"white\",\"linecolor\":\"white\",\"ticks\":\"\"},\"baxis\":{\"gridcolor\":\"white\",\"linecolor\":\"white\",\"ticks\":\"\"},\"bgcolor\":\"#E5ECF6\",\"caxis\":{\"gridcolor\":\"white\",\"linecolor\":\"white\",\"ticks\":\"\"}},\"title\":{\"x\":0.05},\"xaxis\":{\"automargin\":true,\"gridcolor\":\"white\",\"linecolor\":\"white\",\"ticks\":\"\",\"title\":{\"standoff\":15},\"zerolinecolor\":\"white\",\"zerolinewidth\":2},\"yaxis\":{\"automargin\":true,\"gridcolor\":\"white\",\"linecolor\":\"white\",\"ticks\":\"\",\"title\":{\"standoff\":15},\"zerolinecolor\":\"white\",\"zerolinewidth\":2}}},\"title\":{\"text\":\"\\u0421\\u0440\\u0435\\u0434\\u043d\\u0435\\u0435 \\u043a\\u043e\\u043b-\\u0432\\u043e \\u043f\\u043e\\u0441\\u0430\\u0434\\u043e\\u0447\\u043d\\u044b\\u0445 \\u043c\\u0435\\u0441\\u0442 \\u043f\\u043e \\u0442\\u0438\\u043f\\u0443 \\u043f\\u0440\\u0435\\u0434\\u043f\\u0440\\u0438\\u044f\\u0442\\u0438\\u044f\"},\"xaxis\":{\"title\":{\"text\":\"\\u0422\\u0438\\u043f \\u043f\\u0440\\u0435\\u0434\\u043f\\u0440\\u0438\\u044f\\u0442\\u0438\\u044f\"}},\"yaxis\":{\"title\":{\"text\":\"\\u041a\\u043e\\u043b-\\u0432\\u043e \\u043f\\u043e\\u0441\\u0430\\u0434\\u043e\\u0447\\u043d\\u044b\\u0445 \\u043c\\u0435\\u0441\\u0442\"}}},                        {\"responsive\": true}                    ).then(function(){\n",
       "                            \n",
       "var gd = document.getElementById('f920e853-39e4-4eb2-b2f9-21ed3678544a');\n",
       "var x = new MutationObserver(function (mutations, observer) {{\n",
       "        var display = window.getComputedStyle(gd).display;\n",
       "        if (!display || display === 'none') {{\n",
       "            console.log([gd, 'removed!']);\n",
       "            Plotly.purge(gd);\n",
       "            observer.disconnect();\n",
       "        }}\n",
       "}});\n",
       "\n",
       "// Listen for the removal of the full notebook cells\n",
       "var notebookContainer = gd.closest('#notebook-container');\n",
       "if (notebookContainer) {{\n",
       "    x.observe(notebookContainer, {childList: true});\n",
       "}}\n",
       "\n",
       "// Listen for the clearing of the current output cell\n",
       "var outputEl = gd.closest('.output');\n",
       "if (outputEl) {{\n",
       "    x.observe(outputEl, {childList: true});\n",
       "}}\n",
       "\n",
       "                        })                };                });            </script>        </div>"
      ]
     },
     "metadata": {},
     "output_type": "display_data"
    }
   ],
   "source": [
    "labels = place_grouped['object_type']\n",
    "values = place_grouped['number']\n",
    "fig = go.Figure(data=[go.Bar(x = labels, y = values)])\n",
    "fig.update_layout(\n",
    "                  title=\"Среднее кол-во посадочных мест по типу предприятия\",\n",
    "                  xaxis_title=\"Тип предприятия\",\n",
    "                  yaxis_title=\"Кол-во посадочных мест\")\n",
    "fig.show()"
   ]
  },
  {
   "cell_type": "markdown",
   "metadata": {},
   "source": [
    "Мы видим, что самое большое  среднее кол-во посадочных мест у столовых. На втором месте рестораны, за ним буфеты. Меньше всего у магазинов (что не удивительно)"
   ]
  },
  {
   "cell_type": "code",
   "execution_count": 166,
   "metadata": {},
   "outputs": [
    {
     "data": {
      "image/png": "[encoded data removed]",
      "text/plain": [
       "<Figure size 1440x648 with 1 Axes>"
      ]
     },
     "metadata": {
      "needs_background": "light"
     },
     "output_type": "display_data"
    }
   ],
   "source": [
    "\n",
    "data.boxplot(by = 'chain', column = 'number', figsize = (20,9))\n",
    "plt.ylim([0,300])\n",
    "plt.show()"
   ]
  },
  {
   "cell_type": "markdown",
   "metadata": {},
   "source": [
    "Мы видим, что для сетевых заведений характерно много заведений с небольшим числом посадочных мест в каждом."
   ]
  },
  {
   "cell_type": "code",
   "execution_count": 167,
   "metadata": {},
   "outputs": [
    {
     "data": {
      "text/html": [
       "<div><div id=5044f95e-ab98-4ad5-b599-528839ba451e style=\"display:none; background-color:#9D6CFF; color:white; width:200px; height:30px; padding-left:5px; border-radius:4px; flex-direction:row; justify-content:space-around; align-items:center;\" onmouseover=\"this.style.backgroundColor='#BA9BF8'\" onmouseout=\"this.style.backgroundColor='#9D6CFF'\" onclick=\"window.commands?.execute('create-mitosheet-from-dataframe-output');\">See Full Dataframe in Mito</div> <script> if (window.commands.hasCommand('create-mitosheet-from-dataframe-output')) document.getElementById('5044f95e-ab98-4ad5-b599-528839ba451e').style.display = 'flex' </script> <table border=\"1\" class=\"dataframe\">\n",
       "  <thead>\n",
       "    <tr style=\"text-align: right;\">\n",
       "      <th></th>\n",
       "      <th>object_name</th>\n",
       "      <th>кол-во заведений</th>\n",
       "      <th>среднее кол-во мест</th>\n",
       "    </tr>\n",
       "  </thead>\n",
       "  <tbody>\n",
       "    <tr>\n",
       "      <th>30</th>\n",
       "      <td>KFC</td>\n",
       "      <td>155</td>\n",
       "      <td>55.3</td>\n",
       "    </tr>\n",
       "    <tr>\n",
       "      <th>702</th>\n",
       "      <td>Шоколадница</td>\n",
       "      <td>141</td>\n",
       "      <td>56.2</td>\n",
       "    </tr>\n",
       "    <tr>\n",
       "      <th>127</th>\n",
       "      <td>Бургер Кинг</td>\n",
       "      <td>122</td>\n",
       "      <td>45.0</td>\n",
       "    </tr>\n",
       "    <tr>\n",
       "      <th>418</th>\n",
       "      <td>Макдоналдс</td>\n",
       "      <td>121</td>\n",
       "      <td>82.2</td>\n",
       "    </tr>\n",
       "    <tr>\n",
       "      <th>195</th>\n",
       "      <td>Домино'с Пицца</td>\n",
       "      <td>86</td>\n",
       "      <td>18.2</td>\n",
       "    </tr>\n",
       "  </tbody>\n",
       "</table></div>"
      ],
      "text/plain": [
       "        object_name  кол-во заведений  среднее кол-во мест\n",
       "30              KFC               155                 55.3\n",
       "702     Шоколадница               141                 56.2\n",
       "127     Бургер Кинг               122                 45.0\n",
       "418      Макдоналдс               121                 82.2\n",
       "195  Домино'с Пицца                86                 18.2"
      ]
     },
     "execution_count": 167,
     "metadata": {},
     "output_type": "execute_result"
    }
   ],
   "source": [
    "chain_df = data.query('chain == \"да\"')\n",
    "chain_df_new = (chain_df.groupby('object_name')\n",
    "               .agg({'id':'count', 'number':'mean'})\n",
    "               .reset_index()\n",
    "               .rename(columns={'id':'кол-во заведений', 'number':'среднее кол-во мест'})\n",
    "               .sort_values(by='кол-во заведений', ascending=False)   \n",
    "               )\n",
    "chain_df_new.head()"
   ]
  },
  {
   "cell_type": "markdown",
   "metadata": {},
   "source": [
    "Создадим таблицу, сгруппируя по названию заведений. Добавим кол-во заведений, тем самым мы получим сколько заведений приходится на 1 сеть. И среднее кол-во мест. "
   ]
  },
  {
   "cell_type": "code",
   "execution_count": 168,
   "metadata": {},
   "outputs": [
    {
     "name": "stdout",
     "output_type": "stream",
     "text": [
      "90 кол-во заведений [6.]\n",
      "90 Среднее кол-во посадочных мест [134.4]\n"
     ]
    }
   ],
   "source": [
    "print('90 кол-во заведений', np.percentile(chain_df_new['кол-во заведений'], [90]))\n",
    "print('90 Среднее кол-во посадочных мест', np.percentile(chain_df_new['среднее кол-во мест'], [90]))"
   ]
  },
  {
   "cell_type": "markdown",
   "metadata": {},
   "source": [
    "Посчитали 90 пресентиль. Получилось, что у большинства сетей не более 6 заведений и 134 посадочных мест в каждом ресторане в среднем. "
   ]
  },
  {
   "cell_type": "markdown",
   "metadata": {},
   "source": [
    "Напишем функцию, которая делит все заведения на 4 типа. "
   ]
  },
  {
   "cell_type": "code",
   "execution_count": 169,
   "metadata": {},
   "outputs": [],
   "source": [
    "def number_chain (i):\n",
    "    total = i['кол-во заведений']\n",
    "    mean=i['среднее кол-во мест']\n",
    "    if total >= 6: \n",
    "        if mean >= 130:\n",
    "            return 'много заведений/много мест'\n",
    "    if total >= 6:\n",
    "        if mean <= 130:\n",
    "            return 'много заведений/мало мест'\n",
    "    if total <= 6:\n",
    "        if mean >= 130:\n",
    "            return 'мало заведений/много мест'\n",
    "    if total <= 6:\n",
    "        if mean <= 130:\n",
    "            return 'мало заведений/мало мест'\n",
    "chain_df_new['category'] = chain_df_new.apply(number_chain, axis = 1)"
   ]
  },
  {
   "cell_type": "code",
   "execution_count": 170,
   "metadata": {},
   "outputs": [
    {
     "data": {
      "text/html": [
       "<div><div id=3d78fb10-9cc7-41bc-98b2-3758eafd4434 style=\"display:none; background-color:#9D6CFF; color:white; width:200px; height:30px; padding-left:5px; border-radius:4px; flex-direction:row; justify-content:space-around; align-items:center;\" onmouseover=\"this.style.backgroundColor='#BA9BF8'\" onmouseout=\"this.style.backgroundColor='#9D6CFF'\" onclick=\"window.commands?.execute('create-mitosheet-from-dataframe-output');\">See Full Dataframe in Mito</div> <script> if (window.commands.hasCommand('create-mitosheet-from-dataframe-output')) document.getElementById('3d78fb10-9cc7-41bc-98b2-3758eafd4434').style.display = 'flex' </script> <table border=\"1\" class=\"dataframe\">\n",
       "  <thead>\n",
       "    <tr style=\"text-align: right;\">\n",
       "      <th></th>\n",
       "      <th>object_name</th>\n",
       "      <th>кол-во заведений</th>\n",
       "      <th>среднее кол-во мест</th>\n",
       "      <th>category</th>\n",
       "    </tr>\n",
       "  </thead>\n",
       "  <tbody>\n",
       "    <tr>\n",
       "      <th>30</th>\n",
       "      <td>KFC</td>\n",
       "      <td>155</td>\n",
       "      <td>55.3</td>\n",
       "      <td>много заведений/мало мест</td>\n",
       "    </tr>\n",
       "    <tr>\n",
       "      <th>702</th>\n",
       "      <td>Шоколадница</td>\n",
       "      <td>141</td>\n",
       "      <td>56.2</td>\n",
       "      <td>много заведений/мало мест</td>\n",
       "    </tr>\n",
       "    <tr>\n",
       "      <th>127</th>\n",
       "      <td>Бургер Кинг</td>\n",
       "      <td>122</td>\n",
       "      <td>45.0</td>\n",
       "      <td>много заведений/мало мест</td>\n",
       "    </tr>\n",
       "    <tr>\n",
       "      <th>418</th>\n",
       "      <td>Макдоналдс</td>\n",
       "      <td>121</td>\n",
       "      <td>82.2</td>\n",
       "      <td>много заведений/мало мест</td>\n",
       "    </tr>\n",
       "    <tr>\n",
       "      <th>195</th>\n",
       "      <td>Домино'с Пицца</td>\n",
       "      <td>86</td>\n",
       "      <td>18.2</td>\n",
       "      <td>много заведений/мало мест</td>\n",
       "    </tr>\n",
       "    <tr>\n",
       "      <th>...</th>\n",
       "      <td>...</td>\n",
       "      <td>...</td>\n",
       "      <td>...</td>\n",
       "      <td>...</td>\n",
       "    </tr>\n",
       "    <tr>\n",
       "      <th>293</th>\n",
       "      <td>Кафе «Марукамэ»</td>\n",
       "      <td>1</td>\n",
       "      <td>40.0</td>\n",
       "      <td>мало заведений/мало мест</td>\n",
       "    </tr>\n",
       "    <tr>\n",
       "      <th>291</th>\n",
       "      <td>Кафе «МЕЛЕНКА»</td>\n",
       "      <td>1</td>\n",
       "      <td>60.0</td>\n",
       "      <td>мало заведений/мало мест</td>\n",
       "    </tr>\n",
       "    <tr>\n",
       "      <th>290</th>\n",
       "      <td>Кафе «МАКДОНАЛДС»</td>\n",
       "      <td>1</td>\n",
       "      <td>40.0</td>\n",
       "      <td>мало заведений/мало мест</td>\n",
       "    </tr>\n",
       "    <tr>\n",
       "      <th>289</th>\n",
       "      <td>Кафе «Кулинарное бюро»</td>\n",
       "      <td>1</td>\n",
       "      <td>18.0</td>\n",
       "      <td>мало заведений/мало мест</td>\n",
       "    </tr>\n",
       "    <tr>\n",
       "      <th>723</th>\n",
       "      <td>ресторан «Якитория»</td>\n",
       "      <td>1</td>\n",
       "      <td>124.0</td>\n",
       "      <td>мало заведений/мало мест</td>\n",
       "    </tr>\n",
       "  </tbody>\n",
       "</table></div>"
      ],
      "text/plain": [
       "                object_name  кол-во заведений  среднее кол-во мест  \\\n",
       "30   KFC                     155              55.3                   \n",
       "702  Шоколадница             141              56.2                   \n",
       "127  Бургер Кинг             122              45.0                   \n",
       "418  Макдоналдс              121              82.2                   \n",
       "195  Домино'с Пицца          86               18.2                   \n",
       "..              ...          ..                ...                   \n",
       "293  Кафе «Марукамэ»         1                40.0                   \n",
       "291  Кафе «МЕЛЕНКА»          1                60.0                   \n",
       "290  Кафе «МАКДОНАЛДС»       1                40.0                   \n",
       "289  Кафе «Кулинарное бюро»  1                18.0                   \n",
       "723  ресторан «Якитория»     1                124.0                  \n",
       "\n",
       "                      category  \n",
       "30   много заведений/мало мест  \n",
       "702  много заведений/мало мест  \n",
       "127  много заведений/мало мест  \n",
       "418  много заведений/мало мест  \n",
       "195  много заведений/мало мест  \n",
       "..                         ...  \n",
       "293  мало заведений/мало мест   \n",
       "291  мало заведений/мало мест   \n",
       "290  мало заведений/мало мест   \n",
       "289  мало заведений/мало мест   \n",
       "723  мало заведений/мало мест   \n",
       "\n",
       "[724 rows x 4 columns]"
      ]
     },
     "execution_count": 170,
     "metadata": {},
     "output_type": "execute_result"
    }
   ],
   "source": [
    "pd.options.display.max_colwidth = 1\n",
    "chain_df_new"
   ]
  },
  {
   "cell_type": "code",
   "execution_count": 171,
   "metadata": {
    "scrolled": false
   },
   "outputs": [
    {
     "data": {
      "application/vnd.plotly.v1+json": {
       "config": {
        "plotlyServerURL": "https://plot.ly"
       },
       "data": [
        {
         "hovertemplate": "category=много заведений/мало мест<br>кол-во заведений=%{x}<br>среднее кол-во мест=%{y}<extra></extra>",
         "legendgroup": "много заведений/мало мест",
         "marker": {
          "color": "#636efa",
          "symbol": "circle"
         },
         "mode": "markers",
         "name": "много заведений/мало мест",
         "showlegend": true,
         "type": "scattergl",
         "x": [
          155,
          141,
          122,
          121,
          86,
          84,
          82,
          65,
          61,
          50,
          42,
          35,
          33,
          31,
          30,
          30,
          29,
          29,
          26,
          24,
          23,
          23,
          22,
          22,
          21,
          17,
          17,
          16,
          15,
          15,
          15,
          14,
          14,
          13,
          12,
          12,
          12,
          12,
          11,
          11,
          11,
          11,
          10,
          10,
          10,
          10,
          10,
          10,
          9,
          9,
          9,
          9,
          8,
          8,
          7,
          7,
          7,
          7,
          7,
          7,
          7,
          7,
          7,
          7,
          7,
          7,
          7,
          6,
          6,
          6,
          6,
          6,
          6,
          6,
          6,
          6,
          6,
          6
         ],
         "xaxis": "x",
         "y": [
          55.34193548387097,
          56.170212765957444,
          45.01639344262295,
          82.17355371900827,
          18.209302325581394,
          25.047619047619047,
          22.963414634146343,
          1.4307692307692308,
          7.131147540983607,
          22.16,
          0.8571428571428571,
          50.02857142857143,
          106.78787878787878,
          29.225806451612904,
          56.6,
          44.56666666666667,
          16.344827586206897,
          110.75862068965517,
          116.88461538461539,
          44.083333333333336,
          47.391304347826086,
          126.69565217391305,
          32.22727272727273,
          9.454545454545455,
          42.476190476190474,
          20.705882352941178,
          16.705882352941178,
          66.125,
          0.9333333333333333,
          8.066666666666666,
          28,
          57.57142857142857,
          39.785714285714285,
          62.38461538461539,
          81.58333333333333,
          11.25,
          17.583333333333332,
          31.416666666666668,
          55.27272727272727,
          0.9090909090909091,
          71.45454545454545,
          116.0909090909091,
          77.9,
          6.5,
          30.3,
          7.4,
          39.3,
          74.1,
          19.22222222222222,
          114.44444444444444,
          28.88888888888889,
          106,
          21.125,
          116.75,
          30.428571428571427,
          33.857142857142854,
          83.28571428571429,
          31.142857142857142,
          36.285714285714285,
          38.57142857142857,
          25.571428571428573,
          38.142857142857146,
          48.285714285714285,
          22.428571428571427,
          58.857142857142854,
          0.42857142857142855,
          9.857142857142858,
          53.833333333333336,
          18.333333333333332,
          47.666666666666664,
          15.5,
          3.8333333333333335,
          11.5,
          83.33333333333333,
          100.83333333333333,
          105,
          114.16666666666667,
          45.666666666666664
         ],
         "yaxis": "y"
        },
        {
         "hovertemplate": "category=много заведений/много мест<br>кол-во заведений=%{x}<br>среднее кол-во мест=%{y}<extra></extra>",
         "legendgroup": "много заведений/много мест",
         "marker": {
          "color": "#EF553B",
          "symbol": "circle"
         },
         "mode": "markers",
         "name": "много заведений/много мест",
         "showlegend": true,
         "type": "scattergl",
         "x": [
          42,
          15,
          8,
          8,
          8,
          6,
          6,
          6
         ],
         "xaxis": "x",
         "y": [
          148.78571428571428,
          137.46666666666667,
          142,
          166.25,
          164.125,
          146,
          164.33333333333334,
          143.66666666666666
         ],
         "yaxis": "y"
        },
        {
         "hovertemplate": "category=мало заведений/мало мест<br>кол-во заведений=%{x}<br>среднее кол-во мест=%{y}<extra></extra>",
         "legendgroup": "мало заведений/мало мест",
         "marker": {
          "color": "#00cc96",
          "symbol": "circle"
         },
         "mode": "markers",
         "name": "мало заведений/мало мест",
         "showlegend": true,
         "type": "scattergl",
         "x": [
          5,
          5,
          5,
          5,
          5,
          5,
          5,
          5,
          5,
          5,
          5,
          5,
          5,
          5,
          5,
          5,
          5,
          5,
          5,
          5,
          4,
          4,
          4,
          4,
          4,
          4,
          4,
          4,
          4,
          4,
          4,
          4,
          4,
          4,
          4,
          4,
          4,
          4,
          4,
          4,
          4,
          3,
          3,
          3,
          3,
          3,
          3,
          3,
          3,
          3,
          3,
          3,
          3,
          3,
          3,
          3,
          3,
          3,
          3,
          3,
          3,
          3,
          3,
          3,
          3,
          3,
          3,
          3,
          3,
          3,
          3,
          3,
          3,
          3,
          3,
          3,
          3,
          3,
          2,
          2,
          2,
          2,
          2,
          2,
          2,
          2,
          2,
          2,
          2,
          2,
          2,
          2,
          2,
          2,
          2,
          2,
          2,
          2,
          2,
          2,
          2,
          2,
          2,
          2,
          2,
          2,
          2,
          2,
          2,
          2,
          2,
          2,
          2,
          2,
          2,
          2,
          2,
          2,
          2,
          2,
          2,
          2,
          2,
          2,
          2,
          2,
          2,
          2,
          2,
          2,
          2,
          2,
          2,
          2,
          2,
          2,
          2,
          2,
          2,
          2,
          2,
          2,
          2,
          2,
          2,
          2,
          2,
          2,
          2,
          2,
          2,
          2,
          2,
          2,
          2,
          2,
          2,
          2,
          2,
          2,
          2,
          2,
          2,
          2,
          2,
          2,
          2,
          2,
          2,
          2,
          1,
          1,
          1,
          1,
          1,
          1,
          1,
          1,
          1,
          1,
          1,
          1,
          1,
          1,
          1,
          1,
          1,
          1,
          1,
          1,
          1,
          1,
          1,
          1,
          1,
          1,
          1,
          1,
          1,
          1,
          1,
          1,
          1,
          1,
          1,
          1,
          1,
          1,
          1,
          1,
          1,
          1,
          1,
          1,
          1,
          1,
          1,
          1,
          1,
          1,
          1,
          1,
          1,
          1,
          1,
          1,
          1,
          1,
          1,
          1,
          1,
          1,
          1,
          1,
          1,
          1,
          1,
          1,
          1,
          1,
          1,
          1,
          1,
          1,
          1,
          1,
          1,
          1,
          1,
          1,
          1,
          1,
          1,
          1,
          1,
          1,
          1,
          1,
          1,
          1,
          1,
          1,
          1,
          1,
          1,
          1,
          1,
          1,
          1,
          1,
          1,
          1,
          1,
          1,
          1,
          1,
          1,
          1,
          1,
          1,
          1,
          1,
          1,
          1,
          1,
          1,
          1,
          1,
          1,
          1,
          1,
          1,
          1,
          1,
          1,
          1,
          1,
          1,
          1,
          1,
          1,
          1,
          1,
          1,
          1,
          1,
          1,
          1,
          1,
          1,
          1,
          1,
          1,
          1,
          1,
          1,
          1,
          1,
          1,
          1,
          1,
          1,
          1,
          1,
          1,
          1,
          1,
          1,
          1,
          1,
          1,
          1,
          1,
          1,
          1,
          1,
          1,
          1,
          1,
          1,
          1,
          1,
          1,
          1,
          1,
          1,
          1,
          1,
          1,
          1,
          1,
          1,
          1,
          1,
          1,
          1,
          1,
          1,
          1,
          1,
          1,
          1,
          1,
          1,
          1,
          1,
          1,
          1,
          1,
          1,
          1,
          1,
          1,
          1,
          1,
          1,
          1,
          1,
          1,
          1,
          1,
          1,
          1,
          1,
          1,
          1,
          1,
          1,
          1,
          1,
          1,
          1,
          1,
          1,
          1,
          1,
          1,
          1,
          1,
          1,
          1,
          1,
          1,
          1,
          1,
          1,
          1,
          1,
          1,
          1,
          1,
          1,
          1,
          1,
          1,
          1,
          1,
          1,
          1,
          1,
          1,
          1,
          1,
          1,
          1,
          1,
          1,
          1,
          1,
          1,
          1,
          1,
          1,
          1,
          1,
          1,
          1,
          1,
          1,
          1,
          1,
          1,
          1,
          1,
          1,
          1,
          1,
          1,
          1,
          1,
          1,
          1,
          1,
          1,
          1,
          1,
          1,
          1,
          1,
          1,
          1,
          1,
          1,
          1,
          1,
          1,
          1,
          1,
          1,
          1,
          1,
          1,
          1,
          1,
          1,
          1,
          1,
          1,
          1,
          1,
          1,
          1,
          1,
          1,
          1,
          1,
          1,
          1,
          1,
          1,
          1,
          1,
          1,
          1,
          1,
          1,
          1,
          1,
          1,
          1,
          1,
          1,
          1,
          1,
          1,
          1,
          1,
          1,
          1,
          1,
          1,
          1,
          1,
          1,
          1,
          1,
          1,
          1,
          1,
          1,
          1,
          1,
          1,
          1,
          1,
          1,
          1,
          1,
          1,
          1,
          1,
          1,
          1,
          1,
          1,
          1,
          1,
          1,
          1,
          1,
          1,
          1,
          1,
          1,
          1,
          1,
          1,
          1,
          1,
          1,
          1,
          1,
          1,
          1,
          1,
          1,
          1,
          1,
          1,
          1,
          1,
          1,
          1,
          1,
          1
         ],
         "xaxis": "x",
         "y": [
          23.2,
          19.6,
          21.4,
          38.2,
          112.8,
          45.4,
          14.4,
          2.6,
          35.4,
          18,
          61.2,
          15,
          38.2,
          18.8,
          67.6,
          60.2,
          8.8,
          15.2,
          29.8,
          50,
          116.25,
          14.25,
          28.25,
          121.5,
          14,
          49.5,
          83.25,
          56.75,
          6.75,
          66.25,
          56.25,
          50,
          112.25,
          33,
          96.25,
          47.25,
          20,
          28.75,
          21.25,
          85,
          24.25,
          33,
          54.666666666666664,
          111.66666666666667,
          20.333333333333332,
          23.333333333333332,
          127.66666666666667,
          82.66666666666667,
          72.33333333333333,
          124.33333333333333,
          0,
          20.666666666666668,
          66.66666666666667,
          44,
          93.33333333333333,
          33,
          120,
          0,
          76.33333333333333,
          10.666666666666666,
          41,
          75.66666666666667,
          26,
          26,
          80.33333333333333,
          78.66666666666667,
          30,
          80.66666666666667,
          18,
          0,
          64.66666666666667,
          68,
          38,
          16.666666666666668,
          17.333333333333332,
          27,
          9.666666666666666,
          51.666666666666664,
          105,
          113,
          21,
          91,
          78,
          17.5,
          30,
          89,
          80,
          52,
          57.5,
          54,
          90,
          17.5,
          21,
          52.5,
          10,
          11,
          17.5,
          72.5,
          30,
          67.5,
          22,
          59,
          63,
          85,
          65.5,
          22.5,
          42,
          18.5,
          38,
          27.5,
          35,
          7.5,
          17.5,
          94,
          72.5,
          72.5,
          35,
          39,
          23.5,
          38,
          34.5,
          20.5,
          13.5,
          43,
          3,
          94,
          98,
          123,
          97.5,
          110,
          4,
          83.5,
          70,
          0,
          9.5,
          16.5,
          20,
          47.5,
          10,
          21.5,
          62.5,
          11,
          5,
          60.5,
          0,
          38,
          110,
          12,
          25,
          59,
          85,
          49,
          18,
          2,
          90,
          63.5,
          0,
          125,
          17.5,
          47.5,
          93,
          72,
          22.5,
          56.5,
          20,
          17.5,
          50,
          69,
          19,
          18,
          10,
          80,
          99,
          4,
          40,
          0,
          28,
          43,
          45,
          40,
          25,
          40,
          50,
          30,
          45,
          30,
          63,
          20,
          30,
          0,
          12,
          20,
          60,
          28,
          40,
          4,
          25,
          60,
          60,
          100,
          40,
          14,
          80,
          60,
          24,
          16,
          1,
          60,
          50,
          99,
          86,
          2,
          99,
          70,
          85,
          22,
          45,
          20,
          14,
          80,
          32,
          1,
          11,
          50,
          60,
          25,
          42,
          48,
          80,
          48,
          50,
          40,
          20,
          20,
          96,
          8,
          92,
          32,
          60,
          100,
          80,
          98,
          80,
          120,
          96,
          98,
          95,
          48,
          82,
          20,
          35,
          93,
          100,
          20,
          24,
          16,
          55,
          48,
          0,
          30,
          25,
          98,
          100,
          50,
          100,
          25,
          70,
          120,
          6,
          60,
          120,
          30,
          90,
          16,
          48,
          20,
          8,
          20,
          16,
          24,
          0,
          24,
          50,
          10,
          6,
          12,
          70,
          0,
          85,
          25,
          50,
          20,
          45,
          22,
          128,
          10,
          40,
          0,
          80,
          35,
          95,
          10,
          4,
          85,
          96,
          70,
          85,
          60,
          88,
          74,
          120,
          45,
          42,
          98,
          50,
          17,
          98,
          5,
          65,
          0,
          36,
          90,
          12,
          0,
          15,
          70,
          60,
          96,
          40,
          46,
          85,
          20,
          48,
          40,
          10,
          90,
          80,
          1,
          120,
          48,
          45,
          98,
          10,
          20,
          0,
          0,
          10,
          60,
          35,
          100,
          100,
          32,
          9,
          40,
          19,
          98,
          2,
          10,
          40,
          89,
          4,
          70,
          7,
          36,
          15,
          80,
          15,
          40,
          80,
          23,
          25,
          45,
          41,
          25,
          43,
          50,
          20,
          90,
          0,
          65,
          0,
          6,
          30,
          10,
          35,
          33,
          34,
          28,
          40,
          10,
          82,
          2,
          25,
          45,
          65,
          96,
          50,
          80,
          70,
          40,
          4,
          0,
          32,
          6,
          46,
          40,
          100,
          48,
          65,
          80,
          40,
          0,
          60,
          6,
          35,
          70,
          45,
          50,
          70,
          70,
          0,
          39,
          5,
          100,
          20,
          20,
          10,
          8,
          48,
          20,
          20,
          48,
          40,
          39,
          0,
          20,
          90,
          50,
          80,
          48,
          0,
          0,
          75,
          4,
          6,
          20,
          10,
          44,
          50,
          23,
          42,
          90,
          65,
          85,
          52,
          2,
          20,
          18,
          16,
          87,
          84,
          90,
          15,
          17,
          4,
          12,
          16,
          12,
          100,
          35,
          70,
          12,
          20,
          80,
          60,
          20,
          70,
          35,
          60,
          22,
          56,
          35,
          40,
          48,
          75,
          60,
          20,
          25,
          16,
          0,
          40,
          70,
          70,
          48,
          30,
          66,
          10,
          17,
          0,
          53,
          45,
          15,
          8,
          45,
          22,
          22,
          30,
          40,
          40,
          23,
          12,
          2,
          75,
          30,
          15,
          40,
          56,
          98,
          10,
          60,
          45,
          25,
          35,
          15,
          10,
          40,
          50,
          0,
          50,
          3,
          122,
          48,
          68,
          22,
          38,
          40,
          60,
          60,
          35,
          80,
          50,
          102,
          50,
          120,
          22,
          68,
          10,
          10,
          75,
          80,
          120,
          70,
          7,
          16,
          15,
          90,
          50,
          3,
          12,
          100,
          40,
          60,
          40,
          18,
          124
         ],
         "yaxis": "y"
        },
        {
         "hovertemplate": "category=мало заведений/много мест<br>кол-во заведений=%{x}<br>среднее кол-во мест=%{y}<extra></extra>",
         "legendgroup": "мало заведений/много мест",
         "marker": {
          "color": "#ab63fa",
          "symbol": "circle"
         },
         "mode": "markers",
         "name": "мало заведений/много мест",
         "showlegend": true,
         "type": "scattergl",
         "x": [
          5,
          4,
          4,
          4,
          3,
          3,
          3,
          3,
          3,
          3,
          3,
          2,
          2,
          2,
          2,
          2,
          2,
          2,
          1,
          1,
          1,
          1,
          1,
          1,
          1,
          1,
          1,
          1,
          1,
          1,
          1,
          1,
          1,
          1,
          1,
          1,
          1,
          1,
          1,
          1,
          1,
          1,
          1,
          1,
          1,
          1,
          1,
          1,
          1,
          1,
          1,
          1,
          1,
          1,
          1,
          1,
          1,
          1,
          1,
          1,
          1,
          1,
          1,
          1,
          1,
          1,
          1,
          1,
          1,
          1,
          1,
          1,
          1
         ],
         "xaxis": "x",
         "y": [
          185.6,
          135,
          194,
          158.5,
          173.33333333333334,
          203.33333333333334,
          133,
          130,
          135,
          162,
          130,
          245,
          150,
          139,
          222.5,
          215,
          213,
          147,
          306,
          149,
          150,
          150,
          130,
          300,
          155,
          130,
          215,
          282,
          150,
          160,
          130,
          136,
          200,
          150,
          135,
          170,
          180,
          150,
          250,
          250,
          356,
          200,
          266,
          180,
          130,
          280,
          160,
          250,
          150,
          150,
          144,
          143,
          150,
          190,
          146,
          150,
          350,
          150,
          150,
          250,
          130,
          200,
          225,
          225,
          170,
          250,
          176,
          175,
          300,
          188,
          150,
          150,
          165
         ],
         "yaxis": "y"
        }
       ],
       "layout": {
        "height": 600,
        "legend": {
         "title": {
          "text": "category"
         },
         "tracegroupgap": 0
        },
        "template": {
         "data": {
          "bar": [
           {
            "error_x": {
             "color": "#2a3f5f"
            },
            "error_y": {
             "color": "#2a3f5f"
            },
            "marker": {
             "line": {
              "color": "#E5ECF6",
              "width": 0.5
             },
             "pattern": {
              "fillmode": "overlay",
              "size": 10,
              "solidity": 0.2
             }
            },
            "type": "bar"
           }
          ],
          "barpolar": [
           {
            "marker": {
             "line": {
              "color": "#E5ECF6",
              "width": 0.5
             },
             "pattern": {
              "fillmode": "overlay",
              "size": 10,
              "solidity": 0.2
             }
            },
            "type": "barpolar"
           }
          ],
          "carpet": [
           {
            "aaxis": {
             "endlinecolor": "#2a3f5f",
             "gridcolor": "white",
             "linecolor": "white",
             "minorgridcolor": "white",
             "startlinecolor": "#2a3f5f"
            },
            "baxis": {
             "endlinecolor": "#2a3f5f",
             "gridcolor": "white",
             "linecolor": "white",
             "minorgridcolor": "white",
             "startlinecolor": "#2a3f5f"
            },
            "type": "carpet"
           }
          ],
          "choropleth": [
           {
            "colorbar": {
             "outlinewidth": 0,
             "ticks": ""
            },
            "type": "choropleth"
           }
          ],
          "contour": [
           {
            "colorbar": {
             "outlinewidth": 0,
             "ticks": ""
            },
            "colorscale": [
             [
              0,
              "#0d0887"
             ],
             [
              0.1111111111111111,
              "#46039f"
             ],
             [
              0.2222222222222222,
              "#7201a8"
             ],
             [
              0.3333333333333333,
              "#9c179e"
             ],
             [
              0.4444444444444444,
              "#bd3786"
             ],
             [
              0.5555555555555556,
              "#d8576b"
             ],
             [
              0.6666666666666666,
              "#ed7953"
             ],
             [
              0.7777777777777778,
              "#fb9f3a"
             ],
             [
              0.8888888888888888,
              "#fdca26"
             ],
             [
              1,
              "#f0f921"
             ]
            ],
            "type": "contour"
           }
          ],
          "contourcarpet": [
           {
            "colorbar": {
             "outlinewidth": 0,
             "ticks": ""
            },
            "type": "contourcarpet"
           }
          ],
          "heatmap": [
           {
            "colorbar": {
             "outlinewidth": 0,
             "ticks": ""
            },
            "colorscale": [
             [
              0,
              "#0d0887"
             ],
             [
              0.1111111111111111,
              "#46039f"
             ],
             [
              0.2222222222222222,
              "#7201a8"
             ],
             [
              0.3333333333333333,
              "#9c179e"
             ],
             [
              0.4444444444444444,
              "#bd3786"
             ],
             [
              0.5555555555555556,
              "#d8576b"
             ],
             [
              0.6666666666666666,
              "#ed7953"
             ],
             [
              0.7777777777777778,
              "#fb9f3a"
             ],
             [
              0.8888888888888888,
              "#fdca26"
             ],
             [
              1,
              "#f0f921"
             ]
            ],
            "type": "heatmap"
           }
          ],
          "heatmapgl": [
           {
            "colorbar": {
             "outlinewidth": 0,
             "ticks": ""
            },
            "colorscale": [
             [
              0,
              "#0d0887"
             ],
             [
              0.1111111111111111,
              "#46039f"
             ],
             [
              0.2222222222222222,
              "#7201a8"
             ],
             [
              0.3333333333333333,
              "#9c179e"
             ],
             [
              0.4444444444444444,
              "#bd3786"
             ],
             [
              0.5555555555555556,
              "#d8576b"
             ],
             [
              0.6666666666666666,
              "#ed7953"
             ],
             [
              0.7777777777777778,
              "#fb9f3a"
             ],
             [
              0.8888888888888888,
              "#fdca26"
             ],
             [
              1,
              "#f0f921"
             ]
            ],
            "type": "heatmapgl"
           }
          ],
          "histogram": [
           {
            "marker": {
             "pattern": {
              "fillmode": "overlay",
              "size": 10,
              "solidity": 0.2
             }
            },
            "type": "histogram"
           }
          ],
          "histogram2d": [
           {
            "colorbar": {
             "outlinewidth": 0,
             "ticks": ""
            },
            "colorscale": [
             [
              0,
              "#0d0887"
             ],
             [
              0.1111111111111111,
              "#46039f"
             ],
             [
              0.2222222222222222,
              "#7201a8"
             ],
             [
              0.3333333333333333,
              "#9c179e"
             ],
             [
              0.4444444444444444,
              "#bd3786"
             ],
             [
              0.5555555555555556,
              "#d8576b"
             ],
             [
              0.6666666666666666,
              "#ed7953"
             ],
             [
              0.7777777777777778,
              "#fb9f3a"
             ],
             [
              0.8888888888888888,
              "#fdca26"
             ],
             [
              1,
              "#f0f921"
             ]
            ],
            "type": "histogram2d"
           }
          ],
          "histogram2dcontour": [
           {
            "colorbar": {
             "outlinewidth": 0,
             "ticks": ""
            },
            "colorscale": [
             [
              0,
              "#0d0887"
             ],
             [
              0.1111111111111111,
              "#46039f"
             ],
             [
              0.2222222222222222,
              "#7201a8"
             ],
             [
              0.3333333333333333,
              "#9c179e"
             ],
             [
              0.4444444444444444,
              "#bd3786"
             ],
             [
              0.5555555555555556,
              "#d8576b"
             ],
             [
              0.6666666666666666,
              "#ed7953"
             ],
             [
              0.7777777777777778,
              "#fb9f3a"
             ],
             [
              0.8888888888888888,
              "#fdca26"
             ],
             [
              1,
              "#f0f921"
             ]
            ],
            "type": "histogram2dcontour"
           }
          ],
          "mesh3d": [
           {
            "colorbar": {
             "outlinewidth": 0,
             "ticks": ""
            },
            "type": "mesh3d"
           }
          ],
          "parcoords": [
           {
            "line": {
             "colorbar": {
              "outlinewidth": 0,
              "ticks": ""
             }
            },
            "type": "parcoords"
           }
          ],
          "pie": [
           {
            "automargin": true,
            "type": "pie"
           }
          ],
          "scatter": [
           {
            "marker": {
             "colorbar": {
              "outlinewidth": 0,
              "ticks": ""
             }
            },
            "type": "scatter"
           }
          ],
          "scatter3d": [
           {
            "line": {
             "colorbar": {
              "outlinewidth": 0,
              "ticks": ""
             }
            },
            "marker": {
             "colorbar": {
              "outlinewidth": 0,
              "ticks": ""
             }
            },
            "type": "scatter3d"
           }
          ],
          "scattercarpet": [
           {
            "marker": {
             "colorbar": {
              "outlinewidth": 0,
              "ticks": ""
             }
            },
            "type": "scattercarpet"
           }
          ],
          "scattergeo": [
           {
            "marker": {
             "colorbar": {
              "outlinewidth": 0,
              "ticks": ""
             }
            },
            "type": "scattergeo"
           }
          ],
          "scattergl": [
           {
            "marker": {
             "colorbar": {
              "outlinewidth": 0,
              "ticks": ""
             }
            },
            "type": "scattergl"
           }
          ],
          "scattermapbox": [
           {
            "marker": {
             "colorbar": {
              "outlinewidth": 0,
              "ticks": ""
             }
            },
            "type": "scattermapbox"
           }
          ],
          "scatterpolar": [
           {
            "marker": {
             "colorbar": {
              "outlinewidth": 0,
              "ticks": ""
             }
            },
            "type": "scatterpolar"
           }
          ],
          "scatterpolargl": [
           {
            "marker": {
             "colorbar": {
              "outlinewidth": 0,
              "ticks": ""
             }
            },
            "type": "scatterpolargl"
           }
          ],
          "scatterternary": [
           {
            "marker": {
             "colorbar": {
              "outlinewidth": 0,
              "ticks": ""
             }
            },
            "type": "scatterternary"
           }
          ],
          "surface": [
           {
            "colorbar": {
             "outlinewidth": 0,
             "ticks": ""
            },
            "colorscale": [
             [
              0,
              "#0d0887"
             ],
             [
              0.1111111111111111,
              "#46039f"
             ],
             [
              0.2222222222222222,
              "#7201a8"
             ],
             [
              0.3333333333333333,
              "#9c179e"
             ],
             [
              0.4444444444444444,
              "#bd3786"
             ],
             [
              0.5555555555555556,
              "#d8576b"
             ],
             [
              0.6666666666666666,
              "#ed7953"
             ],
             [
              0.7777777777777778,
              "#fb9f3a"
             ],
             [
              0.8888888888888888,
              "#fdca26"
             ],
             [
              1,
              "#f0f921"
             ]
            ],
            "type": "surface"
           }
          ],
          "table": [
           {
            "cells": {
             "fill": {
              "color": "#EBF0F8"
             },
             "line": {
              "color": "white"
             }
            },
            "header": {
             "fill": {
              "color": "#C8D4E3"
             },
             "line": {
              "color": "white"
             }
            },
            "type": "table"
           }
          ]
         },
         "layout": {
          "annotationdefaults": {
           "arrowcolor": "#2a3f5f",
           "arrowhead": 0,
           "arrowwidth": 1
          },
          "autotypenumbers": "strict",
          "coloraxis": {
           "colorbar": {
            "outlinewidth": 0,
            "ticks": ""
           }
          },
          "colorscale": {
           "diverging": [
            [
             0,
             "#8e0152"
            ],
            [
             0.1,
             "#c51b7d"
            ],
            [
             0.2,
             "#de77ae"
            ],
            [
             0.3,
             "#f1b6da"
            ],
            [
             0.4,
             "#fde0ef"
            ],
            [
             0.5,
             "#f7f7f7"
            ],
            [
             0.6,
             "#e6f5d0"
            ],
            [
             0.7,
             "#b8e186"
            ],
            [
             0.8,
             "#7fbc41"
            ],
            [
             0.9,
             "#4d9221"
            ],
            [
             1,
             "#276419"
            ]
           ],
           "sequential": [
            [
             0,
             "#0d0887"
            ],
            [
             0.1111111111111111,
             "#46039f"
            ],
            [
             0.2222222222222222,
             "#7201a8"
            ],
            [
             0.3333333333333333,
             "#9c179e"
            ],
            [
             0.4444444444444444,
             "#bd3786"
            ],
            [
             0.5555555555555556,
             "#d8576b"
            ],
            [
             0.6666666666666666,
             "#ed7953"
            ],
            [
             0.7777777777777778,
             "#fb9f3a"
            ],
            [
             0.8888888888888888,
             "#fdca26"
            ],
            [
             1,
             "#f0f921"
            ]
           ],
           "sequentialminus": [
            [
             0,
             "#0d0887"
            ],
            [
             0.1111111111111111,
             "#46039f"
            ],
            [
             0.2222222222222222,
             "#7201a8"
            ],
            [
             0.3333333333333333,
             "#9c179e"
            ],
            [
             0.4444444444444444,
             "#bd3786"
            ],
            [
             0.5555555555555556,
             "#d8576b"
            ],
            [
             0.6666666666666666,
             "#ed7953"
            ],
            [
             0.7777777777777778,
             "#fb9f3a"
            ],
            [
             0.8888888888888888,
             "#fdca26"
            ],
            [
             1,
             "#f0f921"
            ]
           ]
          },
          "colorway": [
           "#636efa",
           "#EF553B",
           "#00cc96",
           "#ab63fa",
           "#FFA15A",
           "#19d3f3",
           "#FF6692",
           "#B6E880",
           "#FF97FF",
           "#FECB52"
          ],
          "font": {
           "color": "#2a3f5f"
          },
          "geo": {
           "bgcolor": "white",
           "lakecolor": "white",
           "landcolor": "#E5ECF6",
           "showlakes": true,
           "showland": true,
           "subunitcolor": "white"
          },
          "hoverlabel": {
           "align": "left"
          },
          "hovermode": "closest",
          "mapbox": {
           "style": "light"
          },
          "paper_bgcolor": "white",
          "plot_bgcolor": "#E5ECF6",
          "polar": {
           "angularaxis": {
            "gridcolor": "white",
            "linecolor": "white",
            "ticks": ""
           },
           "bgcolor": "#E5ECF6",
           "radialaxis": {
            "gridcolor": "white",
            "linecolor": "white",
            "ticks": ""
           }
          },
          "scene": {
           "xaxis": {
            "backgroundcolor": "#E5ECF6",
            "gridcolor": "white",
            "gridwidth": 2,
            "linecolor": "white",
            "showbackground": true,
            "ticks": "",
            "zerolinecolor": "white"
           },
           "yaxis": {
            "backgroundcolor": "#E5ECF6",
            "gridcolor": "white",
            "gridwidth": 2,
            "linecolor": "white",
            "showbackground": true,
            "ticks": "",
            "zerolinecolor": "white"
           },
           "zaxis": {
            "backgroundcolor": "#E5ECF6",
            "gridcolor": "white",
            "gridwidth": 2,
            "linecolor": "white",
            "showbackground": true,
            "ticks": "",
            "zerolinecolor": "white"
           }
          },
          "shapedefaults": {
           "line": {
            "color": "#2a3f5f"
           }
          },
          "ternary": {
           "aaxis": {
            "gridcolor": "white",
            "linecolor": "white",
            "ticks": ""
           },
           "baxis": {
            "gridcolor": "white",
            "linecolor": "white",
            "ticks": ""
           },
           "bgcolor": "#E5ECF6",
           "caxis": {
            "gridcolor": "white",
            "linecolor": "white",
            "ticks": ""
           }
          },
          "title": {
           "x": 0.05
          },
          "xaxis": {
           "automargin": true,
           "gridcolor": "white",
           "linecolor": "white",
           "ticks": "",
           "title": {
            "standoff": 15
           },
           "zerolinecolor": "white",
           "zerolinewidth": 2
          },
          "yaxis": {
           "automargin": true,
           "gridcolor": "white",
           "linecolor": "white",
           "ticks": "",
           "title": {
            "standoff": 15
           },
           "zerolinecolor": "white",
           "zerolinewidth": 2
          }
         }
        },
        "title": {
         "text": "Соотношение количества посадочных мест и количества точек в сети"
        },
        "width": 1000,
        "xaxis": {
         "anchor": "y",
         "domain": [
          0,
          1
         ],
         "title": {
          "text": "кол-во заведений"
         }
        },
        "yaxis": {
         "anchor": "x",
         "domain": [
          0,
          1
         ],
         "title": {
          "text": "среднее кол-во мест"
         }
        }
       }
      },
      "text/html": [
       "<div>                            <div id=\"c44819e0-81a8-4eb2-a0a1-2b4c97bca290\" class=\"plotly-graph-div\" style=\"height:600px; width:1000px;\"></div>            <script type=\"text/javascript\">                require([\"plotly\"], function(Plotly) {                    window.PLOTLYENV=window.PLOTLYENV || {};                                    if (document.getElementById(\"c44819e0-81a8-4eb2-a0a1-2b4c97bca290\")) {                    Plotly.newPlot(                        \"c44819e0-81a8-4eb2-a0a1-2b4c97bca290\",                        [{\"hovertemplate\":\"category=\\u043c\\u043d\\u043e\\u0433\\u043e \\u0437\\u0430\\u0432\\u0435\\u0434\\u0435\\u043d\\u0438\\u0439/\\u043c\\u0430\\u043b\\u043e \\u043c\\u0435\\u0441\\u0442<br>\\u043a\\u043e\\u043b-\\u0432\\u043e \\u0437\\u0430\\u0432\\u0435\\u0434\\u0435\\u043d\\u0438\\u0439=%{x}<br>\\u0441\\u0440\\u0435\\u0434\\u043d\\u0435\\u0435 \\u043a\\u043e\\u043b-\\u0432\\u043e \\u043c\\u0435\\u0441\\u0442=%{y}<extra></extra>\",\"legendgroup\":\"\\u043c\\u043d\\u043e\\u0433\\u043e \\u0437\\u0430\\u0432\\u0435\\u0434\\u0435\\u043d\\u0438\\u0439/\\u043c\\u0430\\u043b\\u043e \\u043c\\u0435\\u0441\\u0442\",\"marker\":{\"color\":\"#636efa\",\"symbol\":\"circle\"},\"mode\":\"markers\",\"name\":\"\\u043c\\u043d\\u043e\\u0433\\u043e \\u0437\\u0430\\u0432\\u0435\\u0434\\u0435\\u043d\\u0438\\u0439/\\u043c\\u0430\\u043b\\u043e \\u043c\\u0435\\u0441\\u0442\",\"showlegend\":true,\"type\":\"scattergl\",\"x\":[155,141,122,121,86,84,82,65,61,50,42,35,33,31,30,30,29,29,26,24,23,23,22,22,21,17,17,16,15,15,15,14,14,13,12,12,12,12,11,11,11,11,10,10,10,10,10,10,9,9,9,9,8,8,7,7,7,7,7,7,7,7,7,7,7,7,7,6,6,6,6,6,6,6,6,6,6,6],\"xaxis\":\"x\",\"y\":[55.34193548387097,56.170212765957444,45.01639344262295,82.17355371900827,18.209302325581394,25.047619047619047,22.963414634146343,1.4307692307692308,7.131147540983607,22.16,0.8571428571428571,50.02857142857143,106.78787878787878,29.225806451612904,56.6,44.56666666666667,16.344827586206897,110.75862068965517,116.88461538461539,44.083333333333336,47.391304347826086,126.69565217391305,32.22727272727273,9.454545454545455,42.476190476190474,20.705882352941178,16.705882352941178,66.125,0.9333333333333333,8.066666666666666,28.0,57.57142857142857,39.785714285714285,62.38461538461539,81.58333333333333,11.25,17.583333333333332,31.416666666666668,55.27272727272727,0.9090909090909091,71.45454545454545,116.0909090909091,77.9,6.5,30.3,7.4,39.3,74.1,19.22222222222222,114.44444444444444,28.88888888888889,106.0,21.125,116.75,30.428571428571427,33.857142857142854,83.28571428571429,31.142857142857142,36.285714285714285,38.57142857142857,25.571428571428573,38.142857142857146,48.285714285714285,22.428571428571427,58.857142857142854,0.42857142857142855,9.857142857142858,53.833333333333336,18.333333333333332,47.666666666666664,15.5,3.8333333333333335,11.5,83.33333333333333,100.83333333333333,105.0,114.16666666666667,45.666666666666664],\"yaxis\":\"y\"},{\"hovertemplate\":\"category=\\u043c\\u043d\\u043e\\u0433\\u043e \\u0437\\u0430\\u0432\\u0435\\u0434\\u0435\\u043d\\u0438\\u0439/\\u043c\\u043d\\u043e\\u0433\\u043e \\u043c\\u0435\\u0441\\u0442<br>\\u043a\\u043e\\u043b-\\u0432\\u043e \\u0437\\u0430\\u0432\\u0435\\u0434\\u0435\\u043d\\u0438\\u0439=%{x}<br>\\u0441\\u0440\\u0435\\u0434\\u043d\\u0435\\u0435 \\u043a\\u043e\\u043b-\\u0432\\u043e \\u043c\\u0435\\u0441\\u0442=%{y}<extra></extra>\",\"legendgroup\":\"\\u043c\\u043d\\u043e\\u0433\\u043e \\u0437\\u0430\\u0432\\u0435\\u0434\\u0435\\u043d\\u0438\\u0439/\\u043c\\u043d\\u043e\\u0433\\u043e \\u043c\\u0435\\u0441\\u0442\",\"marker\":{\"color\":\"#EF553B\",\"symbol\":\"circle\"},\"mode\":\"markers\",\"name\":\"\\u043c\\u043d\\u043e\\u0433\\u043e \\u0437\\u0430\\u0432\\u0435\\u0434\\u0435\\u043d\\u0438\\u0439/\\u043c\\u043d\\u043e\\u0433\\u043e \\u043c\\u0435\\u0441\\u0442\",\"showlegend\":true,\"type\":\"scattergl\",\"x\":[42,15,8,8,8,6,6,6],\"xaxis\":\"x\",\"y\":[148.78571428571428,137.46666666666667,142.0,166.25,164.125,146.0,164.33333333333334,143.66666666666666],\"yaxis\":\"y\"},{\"hovertemplate\":\"category=\\u043c\\u0430\\u043b\\u043e \\u0437\\u0430\\u0432\\u0435\\u0434\\u0435\\u043d\\u0438\\u0439/\\u043c\\u0430\\u043b\\u043e \\u043c\\u0435\\u0441\\u0442<br>\\u043a\\u043e\\u043b-\\u0432\\u043e \\u0437\\u0430\\u0432\\u0435\\u0434\\u0435\\u043d\\u0438\\u0439=%{x}<br>\\u0441\\u0440\\u0435\\u0434\\u043d\\u0435\\u0435 \\u043a\\u043e\\u043b-\\u0432\\u043e \\u043c\\u0435\\u0441\\u0442=%{y}<extra></extra>\",\"legendgroup\":\"\\u043c\\u0430\\u043b\\u043e \\u0437\\u0430\\u0432\\u0435\\u0434\\u0435\\u043d\\u0438\\u0439/\\u043c\\u0430\\u043b\\u043e \\u043c\\u0435\\u0441\\u0442\",\"marker\":{\"color\":\"#00cc96\",\"symbol\":\"circle\"},\"mode\":\"markers\",\"name\":\"\\u043c\\u0430\\u043b\\u043e \\u0437\\u0430\\u0432\\u0435\\u0434\\u0435\\u043d\\u0438\\u0439/\\u043c\\u0430\\u043b\\u043e \\u043c\\u0435\\u0441\\u0442\",\"showlegend\":true,\"type\":\"scattergl\",\"x\":[5,5,5,5,5,5,5,5,5,5,5,5,5,5,5,5,5,5,5,5,4,4,4,4,4,4,4,4,4,4,4,4,4,4,4,4,4,4,4,4,4,3,3,3,3,3,3,3,3,3,3,3,3,3,3,3,3,3,3,3,3,3,3,3,3,3,3,3,3,3,3,3,3,3,3,3,3,3,2,2,2,2,2,2,2,2,2,2,2,2,2,2,2,2,2,2,2,2,2,2,2,2,2,2,2,2,2,2,2,2,2,2,2,2,2,2,2,2,2,2,2,2,2,2,2,2,2,2,2,2,2,2,2,2,2,2,2,2,2,2,2,2,2,2,2,2,2,2,2,2,2,2,2,2,2,2,2,2,2,2,2,2,2,2,2,2,2,2,2,2,1,1,1,1,1,1,1,1,1,1,1,1,1,1,1,1,1,1,1,1,1,1,1,1,1,1,1,1,1,1,1,1,1,1,1,1,1,1,1,1,1,1,1,1,1,1,1,1,1,1,1,1,1,1,1,1,1,1,1,1,1,1,1,1,1,1,1,1,1,1,1,1,1,1,1,1,1,1,1,1,1,1,1,1,1,1,1,1,1,1,1,1,1,1,1,1,1,1,1,1,1,1,1,1,1,1,1,1,1,1,1,1,1,1,1,1,1,1,1,1,1,1,1,1,1,1,1,1,1,1,1,1,1,1,1,1,1,1,1,1,1,1,1,1,1,1,1,1,1,1,1,1,1,1,1,1,1,1,1,1,1,1,1,1,1,1,1,1,1,1,1,1,1,1,1,1,1,1,1,1,1,1,1,1,1,1,1,1,1,1,1,1,1,1,1,1,1,1,1,1,1,1,1,1,1,1,1,1,1,1,1,1,1,1,1,1,1,1,1,1,1,1,1,1,1,1,1,1,1,1,1,1,1,1,1,1,1,1,1,1,1,1,1,1,1,1,1,1,1,1,1,1,1,1,1,1,1,1,1,1,1,1,1,1,1,1,1,1,1,1,1,1,1,1,1,1,1,1,1,1,1,1,1,1,1,1,1,1,1,1,1,1,1,1,1,1,1,1,1,1,1,1,1,1,1,1,1,1,1,1,1,1,1,1,1,1,1,1,1,1,1,1,1,1,1,1,1,1,1,1,1,1,1,1,1,1,1,1,1,1,1,1,1,1,1,1,1,1,1,1,1,1,1,1,1,1,1,1,1,1,1,1,1,1,1,1,1,1,1,1,1,1,1,1,1,1,1,1,1,1,1,1,1,1,1,1,1,1,1,1,1,1,1,1,1],\"xaxis\":\"x\",\"y\":[23.2,19.6,21.4,38.2,112.8,45.4,14.4,2.6,35.4,18.0,61.2,15.0,38.2,18.8,67.6,60.2,8.8,15.2,29.8,50.0,116.25,14.25,28.25,121.5,14.0,49.5,83.25,56.75,6.75,66.25,56.25,50.0,112.25,33.0,96.25,47.25,20.0,28.75,21.25,85.0,24.25,33.0,54.666666666666664,111.66666666666667,20.333333333333332,23.333333333333332,127.66666666666667,82.66666666666667,72.33333333333333,124.33333333333333,0.0,20.666666666666668,66.66666666666667,44.0,93.33333333333333,33.0,120.0,0.0,76.33333333333333,10.666666666666666,41.0,75.66666666666667,26.0,26.0,80.33333333333333,78.66666666666667,30.0,80.66666666666667,18.0,0.0,64.66666666666667,68.0,38.0,16.666666666666668,17.333333333333332,27.0,9.666666666666666,51.666666666666664,105.0,113.0,21.0,91.0,78.0,17.5,30.0,89.0,80.0,52.0,57.5,54.0,90.0,17.5,21.0,52.5,10.0,11.0,17.5,72.5,30.0,67.5,22.0,59.0,63.0,85.0,65.5,22.5,42.0,18.5,38.0,27.5,35.0,7.5,17.5,94.0,72.5,72.5,35.0,39.0,23.5,38.0,34.5,20.5,13.5,43.0,3.0,94.0,98.0,123.0,97.5,110.0,4.0,83.5,70.0,0.0,9.5,16.5,20.0,47.5,10.0,21.5,62.5,11.0,5.0,60.5,0.0,38.0,110.0,12.0,25.0,59.0,85.0,49.0,18.0,2.0,90.0,63.5,0.0,125.0,17.5,47.5,93.0,72.0,22.5,56.5,20.0,17.5,50.0,69.0,19.0,18.0,10.0,80.0,99.0,4.0,40.0,0.0,28.0,43.0,45.0,40.0,25.0,40.0,50.0,30.0,45.0,30.0,63.0,20.0,30.0,0.0,12.0,20.0,60.0,28.0,40.0,4.0,25.0,60.0,60.0,100.0,40.0,14.0,80.0,60.0,24.0,16.0,1.0,60.0,50.0,99.0,86.0,2.0,99.0,70.0,85.0,22.0,45.0,20.0,14.0,80.0,32.0,1.0,11.0,50.0,60.0,25.0,42.0,48.0,80.0,48.0,50.0,40.0,20.0,20.0,96.0,8.0,92.0,32.0,60.0,100.0,80.0,98.0,80.0,120.0,96.0,98.0,95.0,48.0,82.0,20.0,35.0,93.0,100.0,20.0,24.0,16.0,55.0,48.0,0.0,30.0,25.0,98.0,100.0,50.0,100.0,25.0,70.0,120.0,6.0,60.0,120.0,30.0,90.0,16.0,48.0,20.0,8.0,20.0,16.0,24.0,0.0,24.0,50.0,10.0,6.0,12.0,70.0,0.0,85.0,25.0,50.0,20.0,45.0,22.0,128.0,10.0,40.0,0.0,80.0,35.0,95.0,10.0,4.0,85.0,96.0,70.0,85.0,60.0,88.0,74.0,120.0,45.0,42.0,98.0,50.0,17.0,98.0,5.0,65.0,0.0,36.0,90.0,12.0,0.0,15.0,70.0,60.0,96.0,40.0,46.0,85.0,20.0,48.0,40.0,10.0,90.0,80.0,1.0,120.0,48.0,45.0,98.0,10.0,20.0,0.0,0.0,10.0,60.0,35.0,100.0,100.0,32.0,9.0,40.0,19.0,98.0,2.0,10.0,40.0,89.0,4.0,70.0,7.0,36.0,15.0,80.0,15.0,40.0,80.0,23.0,25.0,45.0,41.0,25.0,43.0,50.0,20.0,90.0,0.0,65.0,0.0,6.0,30.0,10.0,35.0,33.0,34.0,28.0,40.0,10.0,82.0,2.0,25.0,45.0,65.0,96.0,50.0,80.0,70.0,40.0,4.0,0.0,32.0,6.0,46.0,40.0,100.0,48.0,65.0,80.0,40.0,0.0,60.0,6.0,35.0,70.0,45.0,50.0,70.0,70.0,0.0,39.0,5.0,100.0,20.0,20.0,10.0,8.0,48.0,20.0,20.0,48.0,40.0,39.0,0.0,20.0,90.0,50.0,80.0,48.0,0.0,0.0,75.0,4.0,6.0,20.0,10.0,44.0,50.0,23.0,42.0,90.0,65.0,85.0,52.0,2.0,20.0,18.0,16.0,87.0,84.0,90.0,15.0,17.0,4.0,12.0,16.0,12.0,100.0,35.0,70.0,12.0,20.0,80.0,60.0,20.0,70.0,35.0,60.0,22.0,56.0,35.0,40.0,48.0,75.0,60.0,20.0,25.0,16.0,0.0,40.0,70.0,70.0,48.0,30.0,66.0,10.0,17.0,0.0,53.0,45.0,15.0,8.0,45.0,22.0,22.0,30.0,40.0,40.0,23.0,12.0,2.0,75.0,30.0,15.0,40.0,56.0,98.0,10.0,60.0,45.0,25.0,35.0,15.0,10.0,40.0,50.0,0.0,50.0,3.0,122.0,48.0,68.0,22.0,38.0,40.0,60.0,60.0,35.0,80.0,50.0,102.0,50.0,120.0,22.0,68.0,10.0,10.0,75.0,80.0,120.0,70.0,7.0,16.0,15.0,90.0,50.0,3.0,12.0,100.0,40.0,60.0,40.0,18.0,124.0],\"yaxis\":\"y\"},{\"hovertemplate\":\"category=\\u043c\\u0430\\u043b\\u043e \\u0437\\u0430\\u0432\\u0435\\u0434\\u0435\\u043d\\u0438\\u0439/\\u043c\\u043d\\u043e\\u0433\\u043e \\u043c\\u0435\\u0441\\u0442<br>\\u043a\\u043e\\u043b-\\u0432\\u043e \\u0437\\u0430\\u0432\\u0435\\u0434\\u0435\\u043d\\u0438\\u0439=%{x}<br>\\u0441\\u0440\\u0435\\u0434\\u043d\\u0435\\u0435 \\u043a\\u043e\\u043b-\\u0432\\u043e \\u043c\\u0435\\u0441\\u0442=%{y}<extra></extra>\",\"legendgroup\":\"\\u043c\\u0430\\u043b\\u043e \\u0437\\u0430\\u0432\\u0435\\u0434\\u0435\\u043d\\u0438\\u0439/\\u043c\\u043d\\u043e\\u0433\\u043e \\u043c\\u0435\\u0441\\u0442\",\"marker\":{\"color\":\"#ab63fa\",\"symbol\":\"circle\"},\"mode\":\"markers\",\"name\":\"\\u043c\\u0430\\u043b\\u043e \\u0437\\u0430\\u0432\\u0435\\u0434\\u0435\\u043d\\u0438\\u0439/\\u043c\\u043d\\u043e\\u0433\\u043e \\u043c\\u0435\\u0441\\u0442\",\"showlegend\":true,\"type\":\"scattergl\",\"x\":[5,4,4,4,3,3,3,3,3,3,3,2,2,2,2,2,2,2,1,1,1,1,1,1,1,1,1,1,1,1,1,1,1,1,1,1,1,1,1,1,1,1,1,1,1,1,1,1,1,1,1,1,1,1,1,1,1,1,1,1,1,1,1,1,1,1,1,1,1,1,1,1,1],\"xaxis\":\"x\",\"y\":[185.6,135.0,194.0,158.5,173.33333333333334,203.33333333333334,133.0,130.0,135.0,162.0,130.0,245.0,150.0,139.0,222.5,215.0,213.0,147.0,306.0,149.0,150.0,150.0,130.0,300.0,155.0,130.0,215.0,282.0,150.0,160.0,130.0,136.0,200.0,150.0,135.0,170.0,180.0,150.0,250.0,250.0,356.0,200.0,266.0,180.0,130.0,280.0,160.0,250.0,150.0,150.0,144.0,143.0,150.0,190.0,146.0,150.0,350.0,150.0,150.0,250.0,130.0,200.0,225.0,225.0,170.0,250.0,176.0,175.0,300.0,188.0,150.0,150.0,165.0],\"yaxis\":\"y\"}],                        {\"height\":600,\"legend\":{\"title\":{\"text\":\"category\"},\"tracegroupgap\":0},\"template\":{\"data\":{\"bar\":[{\"error_x\":{\"color\":\"#2a3f5f\"},\"error_y\":{\"color\":\"#2a3f5f\"},\"marker\":{\"line\":{\"color\":\"#E5ECF6\",\"width\":0.5},\"pattern\":{\"fillmode\":\"overlay\",\"size\":10,\"solidity\":0.2}},\"type\":\"bar\"}],\"barpolar\":[{\"marker\":{\"line\":{\"color\":\"#E5ECF6\",\"width\":0.5},\"pattern\":{\"fillmode\":\"overlay\",\"size\":10,\"solidity\":0.2}},\"type\":\"barpolar\"}],\"carpet\":[{\"aaxis\":{\"endlinecolor\":\"#2a3f5f\",\"gridcolor\":\"white\",\"linecolor\":\"white\",\"minorgridcolor\":\"white\",\"startlinecolor\":\"#2a3f5f\"},\"baxis\":{\"endlinecolor\":\"#2a3f5f\",\"gridcolor\":\"white\",\"linecolor\":\"white\",\"minorgridcolor\":\"white\",\"startlinecolor\":\"#2a3f5f\"},\"type\":\"carpet\"}],\"choropleth\":[{\"colorbar\":{\"outlinewidth\":0,\"ticks\":\"\"},\"type\":\"choropleth\"}],\"contour\":[{\"colorbar\":{\"outlinewidth\":0,\"ticks\":\"\"},\"colorscale\":[[0.0,\"#0d0887\"],[0.1111111111111111,\"#46039f\"],[0.2222222222222222,\"#7201a8\"],[0.3333333333333333,\"#9c179e\"],[0.4444444444444444,\"#bd3786\"],[0.5555555555555556,\"#d8576b\"],[0.6666666666666666,\"#ed7953\"],[0.7777777777777778,\"#fb9f3a\"],[0.8888888888888888,\"#fdca26\"],[1.0,\"#f0f921\"]],\"type\":\"contour\"}],\"contourcarpet\":[{\"colorbar\":{\"outlinewidth\":0,\"ticks\":\"\"},\"type\":\"contourcarpet\"}],\"heatmap\":[{\"colorbar\":{\"outlinewidth\":0,\"ticks\":\"\"},\"colorscale\":[[0.0,\"#0d0887\"],[0.1111111111111111,\"#46039f\"],[0.2222222222222222,\"#7201a8\"],[0.3333333333333333,\"#9c179e\"],[0.4444444444444444,\"#bd3786\"],[0.5555555555555556,\"#d8576b\"],[0.6666666666666666,\"#ed7953\"],[0.7777777777777778,\"#fb9f3a\"],[0.8888888888888888,\"#fdca26\"],[1.0,\"#f0f921\"]],\"type\":\"heatmap\"}],\"heatmapgl\":[{\"colorbar\":{\"outlinewidth\":0,\"ticks\":\"\"},\"colorscale\":[[0.0,\"#0d0887\"],[0.1111111111111111,\"#46039f\"],[0.2222222222222222,\"#7201a8\"],[0.3333333333333333,\"#9c179e\"],[0.4444444444444444,\"#bd3786\"],[0.5555555555555556,\"#d8576b\"],[0.6666666666666666,\"#ed7953\"],[0.7777777777777778,\"#fb9f3a\"],[0.8888888888888888,\"#fdca26\"],[1.0,\"#f0f921\"]],\"type\":\"heatmapgl\"}],\"histogram\":[{\"marker\":{\"pattern\":{\"fillmode\":\"overlay\",\"size\":10,\"solidity\":0.2}},\"type\":\"histogram\"}],\"histogram2d\":[{\"colorbar\":{\"outlinewidth\":0,\"ticks\":\"\"},\"colorscale\":[[0.0,\"#0d0887\"],[0.1111111111111111,\"#46039f\"],[0.2222222222222222,\"#7201a8\"],[0.3333333333333333,\"#9c179e\"],[0.4444444444444444,\"#bd3786\"],[0.5555555555555556,\"#d8576b\"],[0.6666666666666666,\"#ed7953\"],[0.7777777777777778,\"#fb9f3a\"],[0.8888888888888888,\"#fdca26\"],[1.0,\"#f0f921\"]],\"type\":\"histogram2d\"}],\"histogram2dcontour\":[{\"colorbar\":{\"outlinewidth\":0,\"ticks\":\"\"},\"colorscale\":[[0.0,\"#0d0887\"],[0.1111111111111111,\"#46039f\"],[0.2222222222222222,\"#7201a8\"],[0.3333333333333333,\"#9c179e\"],[0.4444444444444444,\"#bd3786\"],[0.5555555555555556,\"#d8576b\"],[0.6666666666666666,\"#ed7953\"],[0.7777777777777778,\"#fb9f3a\"],[0.8888888888888888,\"#fdca26\"],[1.0,\"#f0f921\"]],\"type\":\"histogram2dcontour\"}],\"mesh3d\":[{\"colorbar\":{\"outlinewidth\":0,\"ticks\":\"\"},\"type\":\"mesh3d\"}],\"parcoords\":[{\"line\":{\"colorbar\":{\"outlinewidth\":0,\"ticks\":\"\"}},\"type\":\"parcoords\"}],\"pie\":[{\"automargin\":true,\"type\":\"pie\"}],\"scatter\":[{\"marker\":{\"colorbar\":{\"outlinewidth\":0,\"ticks\":\"\"}},\"type\":\"scatter\"}],\"scatter3d\":[{\"line\":{\"colorbar\":{\"outlinewidth\":0,\"ticks\":\"\"}},\"marker\":{\"colorbar\":{\"outlinewidth\":0,\"ticks\":\"\"}},\"type\":\"scatter3d\"}],\"scattercarpet\":[{\"marker\":{\"colorbar\":{\"outlinewidth\":0,\"ticks\":\"\"}},\"type\":\"scattercarpet\"}],\"scattergeo\":[{\"marker\":{\"colorbar\":{\"outlinewidth\":0,\"ticks\":\"\"}},\"type\":\"scattergeo\"}],\"scattergl\":[{\"marker\":{\"colorbar\":{\"outlinewidth\":0,\"ticks\":\"\"}},\"type\":\"scattergl\"}],\"scattermapbox\":[{\"marker\":{\"colorbar\":{\"outlinewidth\":0,\"ticks\":\"\"}},\"type\":\"scattermapbox\"}],\"scatterpolar\":[{\"marker\":{\"colorbar\":{\"outlinewidth\":0,\"ticks\":\"\"}},\"type\":\"scatterpolar\"}],\"scatterpolargl\":[{\"marker\":{\"colorbar\":{\"outlinewidth\":0,\"ticks\":\"\"}},\"type\":\"scatterpolargl\"}],\"scatterternary\":[{\"marker\":{\"colorbar\":{\"outlinewidth\":0,\"ticks\":\"\"}},\"type\":\"scatterternary\"}],\"surface\":[{\"colorbar\":{\"outlinewidth\":0,\"ticks\":\"\"},\"colorscale\":[[0.0,\"#0d0887\"],[0.1111111111111111,\"#46039f\"],[0.2222222222222222,\"#7201a8\"],[0.3333333333333333,\"#9c179e\"],[0.4444444444444444,\"#bd3786\"],[0.5555555555555556,\"#d8576b\"],[0.6666666666666666,\"#ed7953\"],[0.7777777777777778,\"#fb9f3a\"],[0.8888888888888888,\"#fdca26\"],[1.0,\"#f0f921\"]],\"type\":\"surface\"}],\"table\":[{\"cells\":{\"fill\":{\"color\":\"#EBF0F8\"},\"line\":{\"color\":\"white\"}},\"header\":{\"fill\":{\"color\":\"#C8D4E3\"},\"line\":{\"color\":\"white\"}},\"type\":\"table\"}]},\"layout\":{\"annotationdefaults\":{\"arrowcolor\":\"#2a3f5f\",\"arrowhead\":0,\"arrowwidth\":1},\"autotypenumbers\":\"strict\",\"coloraxis\":{\"colorbar\":{\"outlinewidth\":0,\"ticks\":\"\"}},\"colorscale\":{\"diverging\":[[0,\"#8e0152\"],[0.1,\"#c51b7d\"],[0.2,\"#de77ae\"],[0.3,\"#f1b6da\"],[0.4,\"#fde0ef\"],[0.5,\"#f7f7f7\"],[0.6,\"#e6f5d0\"],[0.7,\"#b8e186\"],[0.8,\"#7fbc41\"],[0.9,\"#4d9221\"],[1,\"#276419\"]],\"sequential\":[[0.0,\"#0d0887\"],[0.1111111111111111,\"#46039f\"],[0.2222222222222222,\"#7201a8\"],[0.3333333333333333,\"#9c179e\"],[0.4444444444444444,\"#bd3786\"],[0.5555555555555556,\"#d8576b\"],[0.6666666666666666,\"#ed7953\"],[0.7777777777777778,\"#fb9f3a\"],[0.8888888888888888,\"#fdca26\"],[1.0,\"#f0f921\"]],\"sequentialminus\":[[0.0,\"#0d0887\"],[0.1111111111111111,\"#46039f\"],[0.2222222222222222,\"#7201a8\"],[0.3333333333333333,\"#9c179e\"],[0.4444444444444444,\"#bd3786\"],[0.5555555555555556,\"#d8576b\"],[0.6666666666666666,\"#ed7953\"],[0.7777777777777778,\"#fb9f3a\"],[0.8888888888888888,\"#fdca26\"],[1.0,\"#f0f921\"]]},\"colorway\":[\"#636efa\",\"#EF553B\",\"#00cc96\",\"#ab63fa\",\"#FFA15A\",\"#19d3f3\",\"#FF6692\",\"#B6E880\",\"#FF97FF\",\"#FECB52\"],\"font\":{\"color\":\"#2a3f5f\"},\"geo\":{\"bgcolor\":\"white\",\"lakecolor\":\"white\",\"landcolor\":\"#E5ECF6\",\"showlakes\":true,\"showland\":true,\"subunitcolor\":\"white\"},\"hoverlabel\":{\"align\":\"left\"},\"hovermode\":\"closest\",\"mapbox\":{\"style\":\"light\"},\"paper_bgcolor\":\"white\",\"plot_bgcolor\":\"#E5ECF6\",\"polar\":{\"angularaxis\":{\"gridcolor\":\"white\",\"linecolor\":\"white\",\"ticks\":\"\"},\"bgcolor\":\"#E5ECF6\",\"radialaxis\":{\"gridcolor\":\"white\",\"linecolor\":\"white\",\"ticks\":\"\"}},\"scene\":{\"xaxis\":{\"backgroundcolor\":\"#E5ECF6\",\"gridcolor\":\"white\",\"gridwidth\":2,\"linecolor\":\"white\",\"showbackground\":true,\"ticks\":\"\",\"zerolinecolor\":\"white\"},\"yaxis\":{\"backgroundcolor\":\"#E5ECF6\",\"gridcolor\":\"white\",\"gridwidth\":2,\"linecolor\":\"white\",\"showbackground\":true,\"ticks\":\"\",\"zerolinecolor\":\"white\"},\"zaxis\":{\"backgroundcolor\":\"#E5ECF6\",\"gridcolor\":\"white\",\"gridwidth\":2,\"linecolor\":\"white\",\"showbackground\":true,\"ticks\":\"\",\"zerolinecolor\":\"white\"}},\"shapedefaults\":{\"line\":{\"color\":\"#2a3f5f\"}},\"ternary\":{\"aaxis\":{\"gridcolor\":\"white\",\"linecolor\":\"white\",\"ticks\":\"\"},\"baxis\":{\"gridcolor\":\"white\",\"linecolor\":\"white\",\"ticks\":\"\"},\"bgcolor\":\"#E5ECF6\",\"caxis\":{\"gridcolor\":\"white\",\"linecolor\":\"white\",\"ticks\":\"\"}},\"title\":{\"x\":0.05},\"xaxis\":{\"automargin\":true,\"gridcolor\":\"white\",\"linecolor\":\"white\",\"ticks\":\"\",\"title\":{\"standoff\":15},\"zerolinecolor\":\"white\",\"zerolinewidth\":2},\"yaxis\":{\"automargin\":true,\"gridcolor\":\"white\",\"linecolor\":\"white\",\"ticks\":\"\",\"title\":{\"standoff\":15},\"zerolinecolor\":\"white\",\"zerolinewidth\":2}}},\"title\":{\"text\":\"\\u0421\\u043e\\u043e\\u0442\\u043d\\u043e\\u0448\\u0435\\u043d\\u0438\\u0435 \\u043a\\u043e\\u043b\\u0438\\u0447\\u0435\\u0441\\u0442\\u0432\\u0430 \\u043f\\u043e\\u0441\\u0430\\u0434\\u043e\\u0447\\u043d\\u044b\\u0445 \\u043c\\u0435\\u0441\\u0442 \\u0438 \\u043a\\u043e\\u043b\\u0438\\u0447\\u0435\\u0441\\u0442\\u0432\\u0430 \\u0442\\u043e\\u0447\\u0435\\u043a \\u0432 \\u0441\\u0435\\u0442\\u0438\"},\"width\":1000,\"xaxis\":{\"anchor\":\"y\",\"domain\":[0.0,1.0],\"title\":{\"text\":\"\\u043a\\u043e\\u043b-\\u0432\\u043e \\u0437\\u0430\\u0432\\u0435\\u0434\\u0435\\u043d\\u0438\\u0439\"}},\"yaxis\":{\"anchor\":\"x\",\"domain\":[0.0,1.0],\"title\":{\"text\":\"\\u0441\\u0440\\u0435\\u0434\\u043d\\u0435\\u0435 \\u043a\\u043e\\u043b-\\u0432\\u043e \\u043c\\u0435\\u0441\\u0442\"}}},                        {\"responsive\": true}                    ).then(function(){\n",
       "                            \n",
       "var gd = document.getElementById('c44819e0-81a8-4eb2-a0a1-2b4c97bca290');\n",
       "var x = new MutationObserver(function (mutations, observer) {{\n",
       "        var display = window.getComputedStyle(gd).display;\n",
       "        if (!display || display === 'none') {{\n",
       "            console.log([gd, 'removed!']);\n",
       "            Plotly.purge(gd);\n",
       "            observer.disconnect();\n",
       "        }}\n",
       "}});\n",
       "\n",
       "// Listen for the removal of the full notebook cells\n",
       "var notebookContainer = gd.closest('#notebook-container');\n",
       "if (notebookContainer) {{\n",
       "    x.observe(notebookContainer, {childList: true});\n",
       "}}\n",
       "\n",
       "// Listen for the clearing of the current output cell\n",
       "var outputEl = gd.closest('.output');\n",
       "if (outputEl) {{\n",
       "    x.observe(outputEl, {childList: true});\n",
       "}}\n",
       "\n",
       "                        })                };                });            </script>        </div>"
      ]
     },
     "metadata": {},
     "output_type": "display_data"
    }
   ],
   "source": [
    "fig = px.scatter(chain_df_new, x = 'кол-во заведений', y = 'среднее кол-во мест', color = 'category',\n",
    "                 render_mode=\"webgl\", width=1000, height=600,  \n",
    "                 title = 'Соотношение количества посадочных мест и количества точек в сети')\n",
    " \n",
    "fig.show()"
   ]
  },
  {
   "cell_type": "markdown",
   "metadata": {},
   "source": [
    "Мы видим, что для большинства сетевых предприятий характерно мало заведений с маленьким кол-ом мест. "
   ]
  },
  {
   "cell_type": "markdown",
   "metadata": {},
   "source": [
    "## Анализ улиц"
   ]
  },
  {
   "cell_type": "markdown",
   "metadata": {},
   "source": [
    "Выделите в отдельный столбец информацию об улице из столбца address"
   ]
  },
  {
   "cell_type": "code",
   "execution_count": 172,
   "metadata": {},
   "outputs": [],
   "source": [
    "\n",
    "def street(address):\n",
    "    sep = address.split(', ')\n",
    "    for i in sep:\n",
    "        if i != 'город Зеленоград' and i != 'поселение Сосенское':\n",
    "            result = sep[1]\n",
    "        else:\n",
    "            return 'unknown'\n",
    "    return result\n",
    "def street(row):\n",
    "    address = row['address']\n",
    "    name_street =[]\n",
    "    list_street = ['улица', 'бульвар', 'шоссе', 'переулок', 'проспект', 'проезд', 'площадь', 'набережная']\n",
    "    for n in row['address'].split(sep=', '):\n",
    "        for word in list_street:\n",
    "            if word in n:\n",
    "                name_street.append(n)\n",
    "    return ', '.join(name_street)\n",
    "\n",
    "data['street_name'] = data.apply(street, axis = 1) "
   ]
  },
  {
   "cell_type": "code",
   "execution_count": 173,
   "metadata": {},
   "outputs": [
    {
     "data": {
      "text/html": [
       "<div><div id=a5b706bf-cd00-4bbb-bf41-a116510cd377 style=\"display:none; background-color:#9D6CFF; color:white; width:200px; height:30px; padding-left:5px; border-radius:4px; flex-direction:row; justify-content:space-around; align-items:center;\" onmouseover=\"this.style.backgroundColor='#BA9BF8'\" onmouseout=\"this.style.backgroundColor='#9D6CFF'\" onclick=\"window.commands?.execute('create-mitosheet-from-dataframe-output');\">See Full Dataframe in Mito</div> <script> if (window.commands.hasCommand('create-mitosheet-from-dataframe-output')) document.getElementById('a5b706bf-cd00-4bbb-bf41-a116510cd377').style.display = 'flex' </script> <table border=\"1\" class=\"dataframe\">\n",
       "  <thead>\n",
       "    <tr style=\"text-align: right;\">\n",
       "      <th></th>\n",
       "      <th>id</th>\n",
       "      <th>object_name</th>\n",
       "      <th>chain</th>\n",
       "      <th>object_type</th>\n",
       "      <th>address</th>\n",
       "      <th>number</th>\n",
       "      <th>street_name</th>\n",
       "    </tr>\n",
       "  </thead>\n",
       "  <tbody>\n",
       "    <tr>\n",
       "      <th>0</th>\n",
       "      <td>0        151635\\n1        77874 \\n2        24309 \\n3        21894 \\n4        119365\\n          ...  \\n15361    208537\\n15362    209264\\n15363    209186\\n15364    221900\\n15365    222535\\nName: id, Length: 15284, dtype: int64</td>\n",
       "      <td>СМЕТАНА</td>\n",
       "      <td>нет</td>\n",
       "      <td>кафе</td>\n",
       "      <td>город Москва, улица Егора Абакумова, дом 9</td>\n",
       "      <td>48</td>\n",
       "      <td>улица Егора Абакумова</td>\n",
       "    </tr>\n",
       "    <tr>\n",
       "      <th>1</th>\n",
       "      <td>0        151635\\n1        77874 \\n2        24309 \\n3        21894 \\n4        119365\\n          ...  \\n15361    208537\\n15362    209264\\n15363    209186\\n15364    221900\\n15365    222535\\nName: id, Length: 15284, dtype: int64</td>\n",
       "      <td>Родник</td>\n",
       "      <td>нет</td>\n",
       "      <td>кафе</td>\n",
       "      <td>город Москва, улица Талалихина, дом 2/1, корпус 1</td>\n",
       "      <td>35</td>\n",
       "      <td>улица Талалихина</td>\n",
       "    </tr>\n",
       "    <tr>\n",
       "      <th>2</th>\n",
       "      <td>0        151635\\n1        77874 \\n2        24309 \\n3        21894 \\n4        119365\\n          ...  \\n15361    208537\\n15362    209264\\n15363    209186\\n15364    221900\\n15365    222535\\nName: id, Length: 15284, dtype: int64</td>\n",
       "      <td>Кафе «Академия»</td>\n",
       "      <td>нет</td>\n",
       "      <td>кафе</td>\n",
       "      <td>город Москва, Абельмановская улица, дом 6</td>\n",
       "      <td>95</td>\n",
       "      <td>Абельмановская улица</td>\n",
       "    </tr>\n",
       "    <tr>\n",
       "      <th>3</th>\n",
       "      <td>0        151635\\n1        77874 \\n2        24309 \\n3        21894 \\n4        119365\\n          ...  \\n15361    208537\\n15362    209264\\n15363    209186\\n15364    221900\\n15365    222535\\nName: id, Length: 15284, dtype: int64</td>\n",
       "      <td>ПИЦЦЕТОРИЯ</td>\n",
       "      <td>да</td>\n",
       "      <td>кафе</td>\n",
       "      <td>город Москва, Абрамцевская улица, дом 1</td>\n",
       "      <td>40</td>\n",
       "      <td>Абрамцевская улица</td>\n",
       "    </tr>\n",
       "    <tr>\n",
       "      <th>4</th>\n",
       "      <td>0        151635\\n1        77874 \\n2        24309 \\n3        21894 \\n4        119365\\n          ...  \\n15361    208537\\n15362    209264\\n15363    209186\\n15364    221900\\n15365    222535\\nName: id, Length: 15284, dtype: int64</td>\n",
       "      <td>Кафе «Вишневая метель»</td>\n",
       "      <td>нет</td>\n",
       "      <td>кафе</td>\n",
       "      <td>город Москва, Абрамцевская улица, дом 9, корпус 1</td>\n",
       "      <td>50</td>\n",
       "      <td>Абрамцевская улица</td>\n",
       "    </tr>\n",
       "  </tbody>\n",
       "</table></div>"
      ],
      "text/plain": [
       "                                                                                                                                                                                                                                 id  \\\n",
       "0  0        151635\\n1        77874 \\n2        24309 \\n3        21894 \\n4        119365\\n          ...  \\n15361    208537\\n15362    209264\\n15363    209186\\n15364    221900\\n15365    222535\\nName: id, Length: 15284, dtype: int64   \n",
       "1  0        151635\\n1        77874 \\n2        24309 \\n3        21894 \\n4        119365\\n          ...  \\n15361    208537\\n15362    209264\\n15363    209186\\n15364    221900\\n15365    222535\\nName: id, Length: 15284, dtype: int64   \n",
       "2  0        151635\\n1        77874 \\n2        24309 \\n3        21894 \\n4        119365\\n          ...  \\n15361    208537\\n15362    209264\\n15363    209186\\n15364    221900\\n15365    222535\\nName: id, Length: 15284, dtype: int64   \n",
       "3  0        151635\\n1        77874 \\n2        24309 \\n3        21894 \\n4        119365\\n          ...  \\n15361    208537\\n15362    209264\\n15363    209186\\n15364    221900\\n15365    222535\\nName: id, Length: 15284, dtype: int64   \n",
       "4  0        151635\\n1        77874 \\n2        24309 \\n3        21894 \\n4        119365\\n          ...  \\n15361    208537\\n15362    209264\\n15363    209186\\n15364    221900\\n15365    222535\\nName: id, Length: 15284, dtype: int64   \n",
       "\n",
       "              object_name chain object_type  \\\n",
       "0  СМЕТАНА                 нет   кафе         \n",
       "1  Родник                  нет   кафе         \n",
       "2  Кафе «Академия»         нет   кафе         \n",
       "3  ПИЦЦЕТОРИЯ              да    кафе         \n",
       "4  Кафе «Вишневая метель»  нет   кафе         \n",
       "\n",
       "                                             address  number  \\\n",
       "0  город Москва, улица Егора Абакумова, дом 9         48       \n",
       "1  город Москва, улица Талалихина, дом 2/1, корпус 1  35       \n",
       "2  город Москва, Абельмановская улица, дом 6          95       \n",
       "3  город Москва, Абрамцевская улица, дом 1            40       \n",
       "4  город Москва, Абрамцевская улица, дом 9, корпус 1  50       \n",
       "\n",
       "             street_name  \n",
       "0  улица Егора Абакумова  \n",
       "1  улица Талалихина       \n",
       "2  Абельмановская улица   \n",
       "3  Абрамцевская улица     \n",
       "4  Абрамцевская улица     "
      ]
     },
     "execution_count": 173,
     "metadata": {},
     "output_type": "execute_result"
    }
   ],
   "source": [
    "data.head()"
   ]
  },
  {
   "cell_type": "code",
   "execution_count": 174,
   "metadata": {},
   "outputs": [
    {
     "data": {
      "text/html": [
       "<div><div id=5cca38d6-e857-4238-b110-dda13f13970a style=\"display:none; background-color:#9D6CFF; color:white; width:200px; height:30px; padding-left:5px; border-radius:4px; flex-direction:row; justify-content:space-around; align-items:center;\" onmouseover=\"this.style.backgroundColor='#BA9BF8'\" onmouseout=\"this.style.backgroundColor='#9D6CFF'\" onclick=\"window.commands?.execute('create-mitosheet-from-dataframe-output');\">See Full Dataframe in Mito</div> <script> if (window.commands.hasCommand('create-mitosheet-from-dataframe-output')) document.getElementById('5cca38d6-e857-4238-b110-dda13f13970a').style.display = 'flex' </script> <table border=\"1\" class=\"dataframe\">\n",
       "  <thead>\n",
       "    <tr style=\"text-align: right;\">\n",
       "      <th></th>\n",
       "      <th>street_name</th>\n",
       "      <th>id</th>\n",
       "    </tr>\n",
       "  </thead>\n",
       "  <tbody>\n",
       "    <tr>\n",
       "      <th>0</th>\n",
       "      <td></td>\n",
       "      <td>464</td>\n",
       "    </tr>\n",
       "    <tr>\n",
       "      <th>1</th>\n",
       "      <td>проспект Мира</td>\n",
       "      <td>204</td>\n",
       "    </tr>\n",
       "    <tr>\n",
       "      <th>2</th>\n",
       "      <td>Профсоюзная улица</td>\n",
       "      <td>182</td>\n",
       "    </tr>\n",
       "    <tr>\n",
       "      <th>3</th>\n",
       "      <td>Ленинградский проспект</td>\n",
       "      <td>172</td>\n",
       "    </tr>\n",
       "    <tr>\n",
       "      <th>4</th>\n",
       "      <td>Пресненская набережная</td>\n",
       "      <td>167</td>\n",
       "    </tr>\n",
       "    <tr>\n",
       "      <th>...</th>\n",
       "      <td>...</td>\n",
       "      <td>...</td>\n",
       "    </tr>\n",
       "    <tr>\n",
       "      <th>1866</th>\n",
       "      <td>улица Академика Семёнова</td>\n",
       "      <td>1</td>\n",
       "    </tr>\n",
       "    <tr>\n",
       "      <th>1867</th>\n",
       "      <td>1-й Монетчиковский переулок</td>\n",
       "      <td>1</td>\n",
       "    </tr>\n",
       "    <tr>\n",
       "      <th>1868</th>\n",
       "      <td>2-я Дубровская улица</td>\n",
       "      <td>1</td>\n",
       "    </tr>\n",
       "    <tr>\n",
       "      <th>1869</th>\n",
       "      <td>2-я Гражданская улица</td>\n",
       "      <td>1</td>\n",
       "    </tr>\n",
       "    <tr>\n",
       "      <th>1870</th>\n",
       "      <td>Большой Знаменский переулок</td>\n",
       "      <td>1</td>\n",
       "    </tr>\n",
       "  </tbody>\n",
       "</table></div>"
      ],
      "text/plain": [
       "                      street_name   id\n",
       "0                                  464\n",
       "1     проспект Мира                204\n",
       "2     Профсоюзная улица            182\n",
       "3     Ленинградский проспект       172\n",
       "4     Пресненская набережная       167\n",
       "...                      ...       ...\n",
       "1866  улица Академика Семёнова     1  \n",
       "1867  1-й Монетчиковский переулок  1  \n",
       "1868  2-я Дубровская улица         1  \n",
       "1869  2-я Гражданская улица        1  \n",
       "1870  Большой Знаменский переулок  1  \n",
       "\n",
       "[1871 rows x 2 columns]"
      ]
     },
     "execution_count": 174,
     "metadata": {},
     "output_type": "execute_result"
    }
   ],
   "source": [
    "\n",
    "data.groupby('street_name').agg({'id':'count'}).sort_values(by='id', ascending=False).reset_index()"
   ]
  },
  {
   "cell_type": "code",
   "execution_count": 175,
   "metadata": {},
   "outputs": [
    {
     "data": {
      "text/html": [
       "<div><div id=8fa1f9a6-7fd6-4293-af2e-76dbc79a73c5 style=\"display:none; background-color:#9D6CFF; color:white; width:200px; height:30px; padding-left:5px; border-radius:4px; flex-direction:row; justify-content:space-around; align-items:center;\" onmouseover=\"this.style.backgroundColor='#BA9BF8'\" onmouseout=\"this.style.backgroundColor='#9D6CFF'\" onclick=\"window.commands?.execute('create-mitosheet-from-dataframe-output');\">See Full Dataframe in Mito</div> <script> if (window.commands.hasCommand('create-mitosheet-from-dataframe-output')) document.getElementById('8fa1f9a6-7fd6-4293-af2e-76dbc79a73c5').style.display = 'flex' </script> <table border=\"1\" class=\"dataframe\">\n",
       "  <thead>\n",
       "    <tr style=\"text-align: right;\">\n",
       "      <th></th>\n",
       "      <th>id</th>\n",
       "      <th>object_name</th>\n",
       "      <th>chain</th>\n",
       "      <th>object_type</th>\n",
       "      <th>address</th>\n",
       "      <th>number</th>\n",
       "      <th>street_name</th>\n",
       "    </tr>\n",
       "  </thead>\n",
       "  <tbody>\n",
       "    <tr>\n",
       "      <th>0</th>\n",
       "      <td>0        151635\\n1        77874 \\n2        24309 \\n3        21894 \\n4        119365\\n          ...  \\n15361    208537\\n15362    209264\\n15363    209186\\n15364    221900\\n15365    222535\\nName: id, Length: 15284, dtype: int64</td>\n",
       "      <td>СМЕТАНА</td>\n",
       "      <td>нет</td>\n",
       "      <td>кафе</td>\n",
       "      <td>город Москва, улица Егора Абакумова, дом 9</td>\n",
       "      <td>48</td>\n",
       "      <td>улица Егора Абакумова</td>\n",
       "    </tr>\n",
       "    <tr>\n",
       "      <th>1</th>\n",
       "      <td>0        151635\\n1        77874 \\n2        24309 \\n3        21894 \\n4        119365\\n          ...  \\n15361    208537\\n15362    209264\\n15363    209186\\n15364    221900\\n15365    222535\\nName: id, Length: 15284, dtype: int64</td>\n",
       "      <td>Родник</td>\n",
       "      <td>нет</td>\n",
       "      <td>кафе</td>\n",
       "      <td>город Москва, улица Талалихина, дом 2/1, корпус 1</td>\n",
       "      <td>35</td>\n",
       "      <td>улица Талалихина</td>\n",
       "    </tr>\n",
       "    <tr>\n",
       "      <th>2</th>\n",
       "      <td>0        151635\\n1        77874 \\n2        24309 \\n3        21894 \\n4        119365\\n          ...  \\n15361    208537\\n15362    209264\\n15363    209186\\n15364    221900\\n15365    222535\\nName: id, Length: 15284, dtype: int64</td>\n",
       "      <td>Кафе «Академия»</td>\n",
       "      <td>нет</td>\n",
       "      <td>кафе</td>\n",
       "      <td>город Москва, Абельмановская улица, дом 6</td>\n",
       "      <td>95</td>\n",
       "      <td>Абельмановская улица</td>\n",
       "    </tr>\n",
       "    <tr>\n",
       "      <th>3</th>\n",
       "      <td>0        151635\\n1        77874 \\n2        24309 \\n3        21894 \\n4        119365\\n          ...  \\n15361    208537\\n15362    209264\\n15363    209186\\n15364    221900\\n15365    222535\\nName: id, Length: 15284, dtype: int64</td>\n",
       "      <td>ПИЦЦЕТОРИЯ</td>\n",
       "      <td>да</td>\n",
       "      <td>кафе</td>\n",
       "      <td>город Москва, Абрамцевская улица, дом 1</td>\n",
       "      <td>40</td>\n",
       "      <td>Абрамцевская улица</td>\n",
       "    </tr>\n",
       "    <tr>\n",
       "      <th>4</th>\n",
       "      <td>0        151635\\n1        77874 \\n2        24309 \\n3        21894 \\n4        119365\\n          ...  \\n15361    208537\\n15362    209264\\n15363    209186\\n15364    221900\\n15365    222535\\nName: id, Length: 15284, dtype: int64</td>\n",
       "      <td>Кафе «Вишневая метель»</td>\n",
       "      <td>нет</td>\n",
       "      <td>кафе</td>\n",
       "      <td>город Москва, Абрамцевская улица, дом 9, корпус 1</td>\n",
       "      <td>50</td>\n",
       "      <td>Абрамцевская улица</td>\n",
       "    </tr>\n",
       "  </tbody>\n",
       "</table></div>"
      ],
      "text/plain": [
       "                                                                                                                                                                                                                                 id  \\\n",
       "0  0        151635\\n1        77874 \\n2        24309 \\n3        21894 \\n4        119365\\n          ...  \\n15361    208537\\n15362    209264\\n15363    209186\\n15364    221900\\n15365    222535\\nName: id, Length: 15284, dtype: int64   \n",
       "1  0        151635\\n1        77874 \\n2        24309 \\n3        21894 \\n4        119365\\n          ...  \\n15361    208537\\n15362    209264\\n15363    209186\\n15364    221900\\n15365    222535\\nName: id, Length: 15284, dtype: int64   \n",
       "2  0        151635\\n1        77874 \\n2        24309 \\n3        21894 \\n4        119365\\n          ...  \\n15361    208537\\n15362    209264\\n15363    209186\\n15364    221900\\n15365    222535\\nName: id, Length: 15284, dtype: int64   \n",
       "3  0        151635\\n1        77874 \\n2        24309 \\n3        21894 \\n4        119365\\n          ...  \\n15361    208537\\n15362    209264\\n15363    209186\\n15364    221900\\n15365    222535\\nName: id, Length: 15284, dtype: int64   \n",
       "4  0        151635\\n1        77874 \\n2        24309 \\n3        21894 \\n4        119365\\n          ...  \\n15361    208537\\n15362    209264\\n15363    209186\\n15364    221900\\n15365    222535\\nName: id, Length: 15284, dtype: int64   \n",
       "\n",
       "              object_name chain object_type  \\\n",
       "0  СМЕТАНА                 нет   кафе         \n",
       "1  Родник                  нет   кафе         \n",
       "2  Кафе «Академия»         нет   кафе         \n",
       "3  ПИЦЦЕТОРИЯ              да    кафе         \n",
       "4  Кафе «Вишневая метель»  нет   кафе         \n",
       "\n",
       "                                             address  number  \\\n",
       "0  город Москва, улица Егора Абакумова, дом 9         48       \n",
       "1  город Москва, улица Талалихина, дом 2/1, корпус 1  35       \n",
       "2  город Москва, Абельмановская улица, дом 6          95       \n",
       "3  город Москва, Абрамцевская улица, дом 1            40       \n",
       "4  город Москва, Абрамцевская улица, дом 9, корпус 1  50       \n",
       "\n",
       "             street_name  \n",
       "0  улица Егора Абакумова  \n",
       "1  улица Талалихина       \n",
       "2  Абельмановская улица   \n",
       "3  Абрамцевская улица     \n",
       "4  Абрамцевская улица     "
      ]
     },
     "execution_count": 175,
     "metadata": {},
     "output_type": "execute_result"
    }
   ],
   "source": [
    "data.head()"
   ]
  },
  {
   "cell_type": "markdown",
   "metadata": {},
   "source": [
    "Соединим с таблицей районов, чтобы получить районы, на которых находятся эти точки общественного питания. "
   ]
  },
  {
   "cell_type": "markdown",
   "metadata": {},
   "source": [
    "### Посмотрим топ 10 улиц по кол-ву точек общественного питания. "
   ]
  },
  {
   "cell_type": "code",
   "execution_count": 176,
   "metadata": {},
   "outputs": [
    {
     "name": "stdout",
     "output_type": "stream",
     "text": [
      "                 street_name   id\n",
      "0                             464\n",
      "1392  проспект Мира           204\n",
      "995   Профсоюзная улица       182\n",
      "673   Ленинградский проспект  172\n",
      "979   Пресненская набережная  167\n",
      "388   Варшавское шоссе        165\n",
      "676   Ленинский проспект      148\n",
      "1388  проспект Вернадского    128\n",
      "663   Кутузовский проспект    114\n",
      "588   Каширское шоссе         111\n",
      "594   Кировоградская улица    108\n"
     ]
    }
   ],
   "source": [
    "address_grouped= data.groupby(['street_name'])['id'].count()\n",
    "address_grouped = address_grouped.reset_index().sort_values(by = 'id', ascending=False)\n",
    "address_grouped = address_grouped.head(11)\n",
    "address_grouped = address_grouped[address_grouped['street_name'] !='unknown'] # Удаляю unknown\n",
    "print(address_grouped)"
   ]
  },
  {
   "cell_type": "markdown",
   "metadata": {},
   "source": [
    "Построим график. "
   ]
  },
  {
   "cell_type": "code",
   "execution_count": 177,
   "metadata": {},
   "outputs": [
    {
     "data": {
      "application/vnd.plotly.v1+json": {
       "config": {
        "plotlyServerURL": "https://plot.ly"
       },
       "data": [
        {
         "type": "bar",
         "x": [
          "",
          "проспект Мира",
          "Профсоюзная улица",
          "Ленинградский проспект",
          "Пресненская набережная",
          "Варшавское шоссе",
          "Ленинский проспект",
          "проспект Вернадского",
          "Кутузовский проспект",
          "Каширское шоссе",
          "Кировоградская улица"
         ],
         "y": [
          464,
          204,
          182,
          172,
          167,
          165,
          148,
          128,
          114,
          111,
          108
         ]
        }
       ],
       "layout": {
        "template": {
         "data": {
          "bar": [
           {
            "error_x": {
             "color": "#2a3f5f"
            },
            "error_y": {
             "color": "#2a3f5f"
            },
            "marker": {
             "line": {
              "color": "#E5ECF6",
              "width": 0.5
             },
             "pattern": {
              "fillmode": "overlay",
              "size": 10,
              "solidity": 0.2
             }
            },
            "type": "bar"
           }
          ],
          "barpolar": [
           {
            "marker": {
             "line": {
              "color": "#E5ECF6",
              "width": 0.5
             },
             "pattern": {
              "fillmode": "overlay",
              "size": 10,
              "solidity": 0.2
             }
            },
            "type": "barpolar"
           }
          ],
          "carpet": [
           {
            "aaxis": {
             "endlinecolor": "#2a3f5f",
             "gridcolor": "white",
             "linecolor": "white",
             "minorgridcolor": "white",
             "startlinecolor": "#2a3f5f"
            },
            "baxis": {
             "endlinecolor": "#2a3f5f",
             "gridcolor": "white",
             "linecolor": "white",
             "minorgridcolor": "white",
             "startlinecolor": "#2a3f5f"
            },
            "type": "carpet"
           }
          ],
          "choropleth": [
           {
            "colorbar": {
             "outlinewidth": 0,
             "ticks": ""
            },
            "type": "choropleth"
           }
          ],
          "contour": [
           {
            "colorbar": {
             "outlinewidth": 0,
             "ticks": ""
            },
            "colorscale": [
             [
              0,
              "#0d0887"
             ],
             [
              0.1111111111111111,
              "#46039f"
             ],
             [
              0.2222222222222222,
              "#7201a8"
             ],
             [
              0.3333333333333333,
              "#9c179e"
             ],
             [
              0.4444444444444444,
              "#bd3786"
             ],
             [
              0.5555555555555556,
              "#d8576b"
             ],
             [
              0.6666666666666666,
              "#ed7953"
             ],
             [
              0.7777777777777778,
              "#fb9f3a"
             ],
             [
              0.8888888888888888,
              "#fdca26"
             ],
             [
              1,
              "#f0f921"
             ]
            ],
            "type": "contour"
           }
          ],
          "contourcarpet": [
           {
            "colorbar": {
             "outlinewidth": 0,
             "ticks": ""
            },
            "type": "contourcarpet"
           }
          ],
          "heatmap": [
           {
            "colorbar": {
             "outlinewidth": 0,
             "ticks": ""
            },
            "colorscale": [
             [
              0,
              "#0d0887"
             ],
             [
              0.1111111111111111,
              "#46039f"
             ],
             [
              0.2222222222222222,
              "#7201a8"
             ],
             [
              0.3333333333333333,
              "#9c179e"
             ],
             [
              0.4444444444444444,
              "#bd3786"
             ],
             [
              0.5555555555555556,
              "#d8576b"
             ],
             [
              0.6666666666666666,
              "#ed7953"
             ],
             [
              0.7777777777777778,
              "#fb9f3a"
             ],
             [
              0.8888888888888888,
              "#fdca26"
             ],
             [
              1,
              "#f0f921"
             ]
            ],
            "type": "heatmap"
           }
          ],
          "heatmapgl": [
           {
            "colorbar": {
             "outlinewidth": 0,
             "ticks": ""
            },
            "colorscale": [
             [
              0,
              "#0d0887"
             ],
             [
              0.1111111111111111,
              "#46039f"
             ],
             [
              0.2222222222222222,
              "#7201a8"
             ],
             [
              0.3333333333333333,
              "#9c179e"
             ],
             [
              0.4444444444444444,
              "#bd3786"
             ],
             [
              0.5555555555555556,
              "#d8576b"
             ],
             [
              0.6666666666666666,
              "#ed7953"
             ],
             [
              0.7777777777777778,
              "#fb9f3a"
             ],
             [
              0.8888888888888888,
              "#fdca26"
             ],
             [
              1,
              "#f0f921"
             ]
            ],
            "type": "heatmapgl"
           }
          ],
          "histogram": [
           {
            "marker": {
             "pattern": {
              "fillmode": "overlay",
              "size": 10,
              "solidity": 0.2
             }
            },
            "type": "histogram"
           }
          ],
          "histogram2d": [
           {
            "colorbar": {
             "outlinewidth": 0,
             "ticks": ""
            },
            "colorscale": [
             [
              0,
              "#0d0887"
             ],
             [
              0.1111111111111111,
              "#46039f"
             ],
             [
              0.2222222222222222,
              "#7201a8"
             ],
             [
              0.3333333333333333,
              "#9c179e"
             ],
             [
              0.4444444444444444,
              "#bd3786"
             ],
             [
              0.5555555555555556,
              "#d8576b"
             ],
             [
              0.6666666666666666,
              "#ed7953"
             ],
             [
              0.7777777777777778,
              "#fb9f3a"
             ],
             [
              0.8888888888888888,
              "#fdca26"
             ],
             [
              1,
              "#f0f921"
             ]
            ],
            "type": "histogram2d"
           }
          ],
          "histogram2dcontour": [
           {
            "colorbar": {
             "outlinewidth": 0,
             "ticks": ""
            },
            "colorscale": [
             [
              0,
              "#0d0887"
             ],
             [
              0.1111111111111111,
              "#46039f"
             ],
             [
              0.2222222222222222,
              "#7201a8"
             ],
             [
              0.3333333333333333,
              "#9c179e"
             ],
             [
              0.4444444444444444,
              "#bd3786"
             ],
             [
              0.5555555555555556,
              "#d8576b"
             ],
             [
              0.6666666666666666,
              "#ed7953"
             ],
             [
              0.7777777777777778,
              "#fb9f3a"
             ],
             [
              0.8888888888888888,
              "#fdca26"
             ],
             [
              1,
              "#f0f921"
             ]
            ],
            "type": "histogram2dcontour"
           }
          ],
          "mesh3d": [
           {
            "colorbar": {
             "outlinewidth": 0,
             "ticks": ""
            },
            "type": "mesh3d"
           }
          ],
          "parcoords": [
           {
            "line": {
             "colorbar": {
              "outlinewidth": 0,
              "ticks": ""
             }
            },
            "type": "parcoords"
           }
          ],
          "pie": [
           {
            "automargin": true,
            "type": "pie"
           }
          ],
          "scatter": [
           {
            "marker": {
             "colorbar": {
              "outlinewidth": 0,
              "ticks": ""
             }
            },
            "type": "scatter"
           }
          ],
          "scatter3d": [
           {
            "line": {
             "colorbar": {
              "outlinewidth": 0,
              "ticks": ""
             }
            },
            "marker": {
             "colorbar": {
              "outlinewidth": 0,
              "ticks": ""
             }
            },
            "type": "scatter3d"
           }
          ],
          "scattercarpet": [
           {
            "marker": {
             "colorbar": {
              "outlinewidth": 0,
              "ticks": ""
             }
            },
            "type": "scattercarpet"
           }
          ],
          "scattergeo": [
           {
            "marker": {
             "colorbar": {
              "outlinewidth": 0,
              "ticks": ""
             }
            },
            "type": "scattergeo"
           }
          ],
          "scattergl": [
           {
            "marker": {
             "colorbar": {
              "outlinewidth": 0,
              "ticks": ""
             }
            },
            "type": "scattergl"
           }
          ],
          "scattermapbox": [
           {
            "marker": {
             "colorbar": {
              "outlinewidth": 0,
              "ticks": ""
             }
            },
            "type": "scattermapbox"
           }
          ],
          "scatterpolar": [
           {
            "marker": {
             "colorbar": {
              "outlinewidth": 0,
              "ticks": ""
             }
            },
            "type": "scatterpolar"
           }
          ],
          "scatterpolargl": [
           {
            "marker": {
             "colorbar": {
              "outlinewidth": 0,
              "ticks": ""
             }
            },
            "type": "scatterpolargl"
           }
          ],
          "scatterternary": [
           {
            "marker": {
             "colorbar": {
              "outlinewidth": 0,
              "ticks": ""
             }
            },
            "type": "scatterternary"
           }
          ],
          "surface": [
           {
            "colorbar": {
             "outlinewidth": 0,
             "ticks": ""
            },
            "colorscale": [
             [
              0,
              "#0d0887"
             ],
             [
              0.1111111111111111,
              "#46039f"
             ],
             [
              0.2222222222222222,
              "#7201a8"
             ],
             [
              0.3333333333333333,
              "#9c179e"
             ],
             [
              0.4444444444444444,
              "#bd3786"
             ],
             [
              0.5555555555555556,
              "#d8576b"
             ],
             [
              0.6666666666666666,
              "#ed7953"
             ],
             [
              0.7777777777777778,
              "#fb9f3a"
             ],
             [
              0.8888888888888888,
              "#fdca26"
             ],
             [
              1,
              "#f0f921"
             ]
            ],
            "type": "surface"
           }
          ],
          "table": [
           {
            "cells": {
             "fill": {
              "color": "#EBF0F8"
             },
             "line": {
              "color": "white"
             }
            },
            "header": {
             "fill": {
              "color": "#C8D4E3"
             },
             "line": {
              "color": "white"
             }
            },
            "type": "table"
           }
          ]
         },
         "layout": {
          "annotationdefaults": {
           "arrowcolor": "#2a3f5f",
           "arrowhead": 0,
           "arrowwidth": 1
          },
          "autotypenumbers": "strict",
          "coloraxis": {
           "colorbar": {
            "outlinewidth": 0,
            "ticks": ""
           }
          },
          "colorscale": {
           "diverging": [
            [
             0,
             "#8e0152"
            ],
            [
             0.1,
             "#c51b7d"
            ],
            [
             0.2,
             "#de77ae"
            ],
            [
             0.3,
             "#f1b6da"
            ],
            [
             0.4,
             "#fde0ef"
            ],
            [
             0.5,
             "#f7f7f7"
            ],
            [
             0.6,
             "#e6f5d0"
            ],
            [
             0.7,
             "#b8e186"
            ],
            [
             0.8,
             "#7fbc41"
            ],
            [
             0.9,
             "#4d9221"
            ],
            [
             1,
             "#276419"
            ]
           ],
           "sequential": [
            [
             0,
             "#0d0887"
            ],
            [
             0.1111111111111111,
             "#46039f"
            ],
            [
             0.2222222222222222,
             "#7201a8"
            ],
            [
             0.3333333333333333,
             "#9c179e"
            ],
            [
             0.4444444444444444,
             "#bd3786"
            ],
            [
             0.5555555555555556,
             "#d8576b"
            ],
            [
             0.6666666666666666,
             "#ed7953"
            ],
            [
             0.7777777777777778,
             "#fb9f3a"
            ],
            [
             0.8888888888888888,
             "#fdca26"
            ],
            [
             1,
             "#f0f921"
            ]
           ],
           "sequentialminus": [
            [
             0,
             "#0d0887"
            ],
            [
             0.1111111111111111,
             "#46039f"
            ],
            [
             0.2222222222222222,
             "#7201a8"
            ],
            [
             0.3333333333333333,
             "#9c179e"
            ],
            [
             0.4444444444444444,
             "#bd3786"
            ],
            [
             0.5555555555555556,
             "#d8576b"
            ],
            [
             0.6666666666666666,
             "#ed7953"
            ],
            [
             0.7777777777777778,
             "#fb9f3a"
            ],
            [
             0.8888888888888888,
             "#fdca26"
            ],
            [
             1,
             "#f0f921"
            ]
           ]
          },
          "colorway": [
           "#636efa",
           "#EF553B",
           "#00cc96",
           "#ab63fa",
           "#FFA15A",
           "#19d3f3",
           "#FF6692",
           "#B6E880",
           "#FF97FF",
           "#FECB52"
          ],
          "font": {
           "color": "#2a3f5f"
          },
          "geo": {
           "bgcolor": "white",
           "lakecolor": "white",
           "landcolor": "#E5ECF6",
           "showlakes": true,
           "showland": true,
           "subunitcolor": "white"
          },
          "hoverlabel": {
           "align": "left"
          },
          "hovermode": "closest",
          "mapbox": {
           "style": "light"
          },
          "paper_bgcolor": "white",
          "plot_bgcolor": "#E5ECF6",
          "polar": {
           "angularaxis": {
            "gridcolor": "white",
            "linecolor": "white",
            "ticks": ""
           },
           "bgcolor": "#E5ECF6",
           "radialaxis": {
            "gridcolor": "white",
            "linecolor": "white",
            "ticks": ""
           }
          },
          "scene": {
           "xaxis": {
            "backgroundcolor": "#E5ECF6",
            "gridcolor": "white",
            "gridwidth": 2,
            "linecolor": "white",
            "showbackground": true,
            "ticks": "",
            "zerolinecolor": "white"
           },
           "yaxis": {
            "backgroundcolor": "#E5ECF6",
            "gridcolor": "white",
            "gridwidth": 2,
            "linecolor": "white",
            "showbackground": true,
            "ticks": "",
            "zerolinecolor": "white"
           },
           "zaxis": {
            "backgroundcolor": "#E5ECF6",
            "gridcolor": "white",
            "gridwidth": 2,
            "linecolor": "white",
            "showbackground": true,
            "ticks": "",
            "zerolinecolor": "white"
           }
          },
          "shapedefaults": {
           "line": {
            "color": "#2a3f5f"
           }
          },
          "ternary": {
           "aaxis": {
            "gridcolor": "white",
            "linecolor": "white",
            "ticks": ""
           },
           "baxis": {
            "gridcolor": "white",
            "linecolor": "white",
            "ticks": ""
           },
           "bgcolor": "#E5ECF6",
           "caxis": {
            "gridcolor": "white",
            "linecolor": "white",
            "ticks": ""
           }
          },
          "title": {
           "x": 0.05
          },
          "xaxis": {
           "automargin": true,
           "gridcolor": "white",
           "linecolor": "white",
           "ticks": "",
           "title": {
            "standoff": 15
           },
           "zerolinecolor": "white",
           "zerolinewidth": 2
          },
          "yaxis": {
           "automargin": true,
           "gridcolor": "white",
           "linecolor": "white",
           "ticks": "",
           "title": {
            "standoff": 15
           },
           "zerolinecolor": "white",
           "zerolinewidth": 2
          }
         }
        },
        "title": {
         "text": "Топ 10 улиц по кол-ву точек общественного питания"
        },
        "xaxis": {
         "title": {
          "text": "Улица"
         }
        },
        "yaxis": {
         "title": {
          "text": "Колличество точек на улице"
         }
        }
       }
      },
      "text/html": [
       "<div>                            <div id=\"05d53dc4-8703-4cec-9940-9f89af95df71\" class=\"plotly-graph-div\" style=\"height:525px; width:100%;\"></div>            <script type=\"text/javascript\">                require([\"plotly\"], function(Plotly) {                    window.PLOTLYENV=window.PLOTLYENV || {};                                    if (document.getElementById(\"05d53dc4-8703-4cec-9940-9f89af95df71\")) {                    Plotly.newPlot(                        \"05d53dc4-8703-4cec-9940-9f89af95df71\",                        [{\"type\":\"bar\",\"x\":[\"\",\"\\u043f\\u0440\\u043e\\u0441\\u043f\\u0435\\u043a\\u0442 \\u041c\\u0438\\u0440\\u0430\",\"\\u041f\\u0440\\u043e\\u0444\\u0441\\u043e\\u044e\\u0437\\u043d\\u0430\\u044f \\u0443\\u043b\\u0438\\u0446\\u0430\",\"\\u041b\\u0435\\u043d\\u0438\\u043d\\u0433\\u0440\\u0430\\u0434\\u0441\\u043a\\u0438\\u0439 \\u043f\\u0440\\u043e\\u0441\\u043f\\u0435\\u043a\\u0442\",\"\\u041f\\u0440\\u0435\\u0441\\u043d\\u0435\\u043d\\u0441\\u043a\\u0430\\u044f \\u043d\\u0430\\u0431\\u0435\\u0440\\u0435\\u0436\\u043d\\u0430\\u044f\",\"\\u0412\\u0430\\u0440\\u0448\\u0430\\u0432\\u0441\\u043a\\u043e\\u0435 \\u0448\\u043e\\u0441\\u0441\\u0435\",\"\\u041b\\u0435\\u043d\\u0438\\u043d\\u0441\\u043a\\u0438\\u0439 \\u043f\\u0440\\u043e\\u0441\\u043f\\u0435\\u043a\\u0442\",\"\\u043f\\u0440\\u043e\\u0441\\u043f\\u0435\\u043a\\u0442 \\u0412\\u0435\\u0440\\u043d\\u0430\\u0434\\u0441\\u043a\\u043e\\u0433\\u043e\",\"\\u041a\\u0443\\u0442\\u0443\\u0437\\u043e\\u0432\\u0441\\u043a\\u0438\\u0439 \\u043f\\u0440\\u043e\\u0441\\u043f\\u0435\\u043a\\u0442\",\"\\u041a\\u0430\\u0448\\u0438\\u0440\\u0441\\u043a\\u043e\\u0435 \\u0448\\u043e\\u0441\\u0441\\u0435\",\"\\u041a\\u0438\\u0440\\u043e\\u0432\\u043e\\u0433\\u0440\\u0430\\u0434\\u0441\\u043a\\u0430\\u044f \\u0443\\u043b\\u0438\\u0446\\u0430\"],\"y\":[464,204,182,172,167,165,148,128,114,111,108]}],                        {\"template\":{\"data\":{\"bar\":[{\"error_x\":{\"color\":\"#2a3f5f\"},\"error_y\":{\"color\":\"#2a3f5f\"},\"marker\":{\"line\":{\"color\":\"#E5ECF6\",\"width\":0.5},\"pattern\":{\"fillmode\":\"overlay\",\"size\":10,\"solidity\":0.2}},\"type\":\"bar\"}],\"barpolar\":[{\"marker\":{\"line\":{\"color\":\"#E5ECF6\",\"width\":0.5},\"pattern\":{\"fillmode\":\"overlay\",\"size\":10,\"solidity\":0.2}},\"type\":\"barpolar\"}],\"carpet\":[{\"aaxis\":{\"endlinecolor\":\"#2a3f5f\",\"gridcolor\":\"white\",\"linecolor\":\"white\",\"minorgridcolor\":\"white\",\"startlinecolor\":\"#2a3f5f\"},\"baxis\":{\"endlinecolor\":\"#2a3f5f\",\"gridcolor\":\"white\",\"linecolor\":\"white\",\"minorgridcolor\":\"white\",\"startlinecolor\":\"#2a3f5f\"},\"type\":\"carpet\"}],\"choropleth\":[{\"colorbar\":{\"outlinewidth\":0,\"ticks\":\"\"},\"type\":\"choropleth\"}],\"contour\":[{\"colorbar\":{\"outlinewidth\":0,\"ticks\":\"\"},\"colorscale\":[[0.0,\"#0d0887\"],[0.1111111111111111,\"#46039f\"],[0.2222222222222222,\"#7201a8\"],[0.3333333333333333,\"#9c179e\"],[0.4444444444444444,\"#bd3786\"],[0.5555555555555556,\"#d8576b\"],[0.6666666666666666,\"#ed7953\"],[0.7777777777777778,\"#fb9f3a\"],[0.8888888888888888,\"#fdca26\"],[1.0,\"#f0f921\"]],\"type\":\"contour\"}],\"contourcarpet\":[{\"colorbar\":{\"outlinewidth\":0,\"ticks\":\"\"},\"type\":\"contourcarpet\"}],\"heatmap\":[{\"colorbar\":{\"outlinewidth\":0,\"ticks\":\"\"},\"colorscale\":[[0.0,\"#0d0887\"],[0.1111111111111111,\"#46039f\"],[0.2222222222222222,\"#7201a8\"],[0.3333333333333333,\"#9c179e\"],[0.4444444444444444,\"#bd3786\"],[0.5555555555555556,\"#d8576b\"],[0.6666666666666666,\"#ed7953\"],[0.7777777777777778,\"#fb9f3a\"],[0.8888888888888888,\"#fdca26\"],[1.0,\"#f0f921\"]],\"type\":\"heatmap\"}],\"heatmapgl\":[{\"colorbar\":{\"outlinewidth\":0,\"ticks\":\"\"},\"colorscale\":[[0.0,\"#0d0887\"],[0.1111111111111111,\"#46039f\"],[0.2222222222222222,\"#7201a8\"],[0.3333333333333333,\"#9c179e\"],[0.4444444444444444,\"#bd3786\"],[0.5555555555555556,\"#d8576b\"],[0.6666666666666666,\"#ed7953\"],[0.7777777777777778,\"#fb9f3a\"],[0.8888888888888888,\"#fdca26\"],[1.0,\"#f0f921\"]],\"type\":\"heatmapgl\"}],\"histogram\":[{\"marker\":{\"pattern\":{\"fillmode\":\"overlay\",\"size\":10,\"solidity\":0.2}},\"type\":\"histogram\"}],\"histogram2d\":[{\"colorbar\":{\"outlinewidth\":0,\"ticks\":\"\"},\"colorscale\":[[0.0,\"#0d0887\"],[0.1111111111111111,\"#46039f\"],[0.2222222222222222,\"#7201a8\"],[0.3333333333333333,\"#9c179e\"],[0.4444444444444444,\"#bd3786\"],[0.5555555555555556,\"#d8576b\"],[0.6666666666666666,\"#ed7953\"],[0.7777777777777778,\"#fb9f3a\"],[0.8888888888888888,\"#fdca26\"],[1.0,\"#f0f921\"]],\"type\":\"histogram2d\"}],\"histogram2dcontour\":[{\"colorbar\":{\"outlinewidth\":0,\"ticks\":\"\"},\"colorscale\":[[0.0,\"#0d0887\"],[0.1111111111111111,\"#46039f\"],[0.2222222222222222,\"#7201a8\"],[0.3333333333333333,\"#9c179e\"],[0.4444444444444444,\"#bd3786\"],[0.5555555555555556,\"#d8576b\"],[0.6666666666666666,\"#ed7953\"],[0.7777777777777778,\"#fb9f3a\"],[0.8888888888888888,\"#fdca26\"],[1.0,\"#f0f921\"]],\"type\":\"histogram2dcontour\"}],\"mesh3d\":[{\"colorbar\":{\"outlinewidth\":0,\"ticks\":\"\"},\"type\":\"mesh3d\"}],\"parcoords\":[{\"line\":{\"colorbar\":{\"outlinewidth\":0,\"ticks\":\"\"}},\"type\":\"parcoords\"}],\"pie\":[{\"automargin\":true,\"type\":\"pie\"}],\"scatter\":[{\"marker\":{\"colorbar\":{\"outlinewidth\":0,\"ticks\":\"\"}},\"type\":\"scatter\"}],\"scatter3d\":[{\"line\":{\"colorbar\":{\"outlinewidth\":0,\"ticks\":\"\"}},\"marker\":{\"colorbar\":{\"outlinewidth\":0,\"ticks\":\"\"}},\"type\":\"scatter3d\"}],\"scattercarpet\":[{\"marker\":{\"colorbar\":{\"outlinewidth\":0,\"ticks\":\"\"}},\"type\":\"scattercarpet\"}],\"scattergeo\":[{\"marker\":{\"colorbar\":{\"outlinewidth\":0,\"ticks\":\"\"}},\"type\":\"scattergeo\"}],\"scattergl\":[{\"marker\":{\"colorbar\":{\"outlinewidth\":0,\"ticks\":\"\"}},\"type\":\"scattergl\"}],\"scattermapbox\":[{\"marker\":{\"colorbar\":{\"outlinewidth\":0,\"ticks\":\"\"}},\"type\":\"scattermapbox\"}],\"scatterpolar\":[{\"marker\":{\"colorbar\":{\"outlinewidth\":0,\"ticks\":\"\"}},\"type\":\"scatterpolar\"}],\"scatterpolargl\":[{\"marker\":{\"colorbar\":{\"outlinewidth\":0,\"ticks\":\"\"}},\"type\":\"scatterpolargl\"}],\"scatterternary\":[{\"marker\":{\"colorbar\":{\"outlinewidth\":0,\"ticks\":\"\"}},\"type\":\"scatterternary\"}],\"surface\":[{\"colorbar\":{\"outlinewidth\":0,\"ticks\":\"\"},\"colorscale\":[[0.0,\"#0d0887\"],[0.1111111111111111,\"#46039f\"],[0.2222222222222222,\"#7201a8\"],[0.3333333333333333,\"#9c179e\"],[0.4444444444444444,\"#bd3786\"],[0.5555555555555556,\"#d8576b\"],[0.6666666666666666,\"#ed7953\"],[0.7777777777777778,\"#fb9f3a\"],[0.8888888888888888,\"#fdca26\"],[1.0,\"#f0f921\"]],\"type\":\"surface\"}],\"table\":[{\"cells\":{\"fill\":{\"color\":\"#EBF0F8\"},\"line\":{\"color\":\"white\"}},\"header\":{\"fill\":{\"color\":\"#C8D4E3\"},\"line\":{\"color\":\"white\"}},\"type\":\"table\"}]},\"layout\":{\"annotationdefaults\":{\"arrowcolor\":\"#2a3f5f\",\"arrowhead\":0,\"arrowwidth\":1},\"autotypenumbers\":\"strict\",\"coloraxis\":{\"colorbar\":{\"outlinewidth\":0,\"ticks\":\"\"}},\"colorscale\":{\"diverging\":[[0,\"#8e0152\"],[0.1,\"#c51b7d\"],[0.2,\"#de77ae\"],[0.3,\"#f1b6da\"],[0.4,\"#fde0ef\"],[0.5,\"#f7f7f7\"],[0.6,\"#e6f5d0\"],[0.7,\"#b8e186\"],[0.8,\"#7fbc41\"],[0.9,\"#4d9221\"],[1,\"#276419\"]],\"sequential\":[[0.0,\"#0d0887\"],[0.1111111111111111,\"#46039f\"],[0.2222222222222222,\"#7201a8\"],[0.3333333333333333,\"#9c179e\"],[0.4444444444444444,\"#bd3786\"],[0.5555555555555556,\"#d8576b\"],[0.6666666666666666,\"#ed7953\"],[0.7777777777777778,\"#fb9f3a\"],[0.8888888888888888,\"#fdca26\"],[1.0,\"#f0f921\"]],\"sequentialminus\":[[0.0,\"#0d0887\"],[0.1111111111111111,\"#46039f\"],[0.2222222222222222,\"#7201a8\"],[0.3333333333333333,\"#9c179e\"],[0.4444444444444444,\"#bd3786\"],[0.5555555555555556,\"#d8576b\"],[0.6666666666666666,\"#ed7953\"],[0.7777777777777778,\"#fb9f3a\"],[0.8888888888888888,\"#fdca26\"],[1.0,\"#f0f921\"]]},\"colorway\":[\"#636efa\",\"#EF553B\",\"#00cc96\",\"#ab63fa\",\"#FFA15A\",\"#19d3f3\",\"#FF6692\",\"#B6E880\",\"#FF97FF\",\"#FECB52\"],\"font\":{\"color\":\"#2a3f5f\"},\"geo\":{\"bgcolor\":\"white\",\"lakecolor\":\"white\",\"landcolor\":\"#E5ECF6\",\"showlakes\":true,\"showland\":true,\"subunitcolor\":\"white\"},\"hoverlabel\":{\"align\":\"left\"},\"hovermode\":\"closest\",\"mapbox\":{\"style\":\"light\"},\"paper_bgcolor\":\"white\",\"plot_bgcolor\":\"#E5ECF6\",\"polar\":{\"angularaxis\":{\"gridcolor\":\"white\",\"linecolor\":\"white\",\"ticks\":\"\"},\"bgcolor\":\"#E5ECF6\",\"radialaxis\":{\"gridcolor\":\"white\",\"linecolor\":\"white\",\"ticks\":\"\"}},\"scene\":{\"xaxis\":{\"backgroundcolor\":\"#E5ECF6\",\"gridcolor\":\"white\",\"gridwidth\":2,\"linecolor\":\"white\",\"showbackground\":true,\"ticks\":\"\",\"zerolinecolor\":\"white\"},\"yaxis\":{\"backgroundcolor\":\"#E5ECF6\",\"gridcolor\":\"white\",\"gridwidth\":2,\"linecolor\":\"white\",\"showbackground\":true,\"ticks\":\"\",\"zerolinecolor\":\"white\"},\"zaxis\":{\"backgroundcolor\":\"#E5ECF6\",\"gridcolor\":\"white\",\"gridwidth\":2,\"linecolor\":\"white\",\"showbackground\":true,\"ticks\":\"\",\"zerolinecolor\":\"white\"}},\"shapedefaults\":{\"line\":{\"color\":\"#2a3f5f\"}},\"ternary\":{\"aaxis\":{\"gridcolor\":\"white\",\"linecolor\":\"white\",\"ticks\":\"\"},\"baxis\":{\"gridcolor\":\"white\",\"linecolor\":\"white\",\"ticks\":\"\"},\"bgcolor\":\"#E5ECF6\",\"caxis\":{\"gridcolor\":\"white\",\"linecolor\":\"white\",\"ticks\":\"\"}},\"title\":{\"x\":0.05},\"xaxis\":{\"automargin\":true,\"gridcolor\":\"white\",\"linecolor\":\"white\",\"ticks\":\"\",\"title\":{\"standoff\":15},\"zerolinecolor\":\"white\",\"zerolinewidth\":2},\"yaxis\":{\"automargin\":true,\"gridcolor\":\"white\",\"linecolor\":\"white\",\"ticks\":\"\",\"title\":{\"standoff\":15},\"zerolinecolor\":\"white\",\"zerolinewidth\":2}}},\"title\":{\"text\":\"\\u0422\\u043e\\u043f 10 \\u0443\\u043b\\u0438\\u0446 \\u043f\\u043e \\u043a\\u043e\\u043b-\\u0432\\u0443 \\u0442\\u043e\\u0447\\u0435\\u043a \\u043e\\u0431\\u0449\\u0435\\u0441\\u0442\\u0432\\u0435\\u043d\\u043d\\u043e\\u0433\\u043e \\u043f\\u0438\\u0442\\u0430\\u043d\\u0438\\u044f\"},\"xaxis\":{\"title\":{\"text\":\"\\u0423\\u043b\\u0438\\u0446\\u0430\"}},\"yaxis\":{\"title\":{\"text\":\"\\u041a\\u043e\\u043b\\u043b\\u0438\\u0447\\u0435\\u0441\\u0442\\u0432\\u043e \\u0442\\u043e\\u0447\\u0435\\u043a \\u043d\\u0430 \\u0443\\u043b\\u0438\\u0446\\u0435\"}}},                        {\"responsive\": true}                    ).then(function(){\n",
       "                            \n",
       "var gd = document.getElementById('05d53dc4-8703-4cec-9940-9f89af95df71');\n",
       "var x = new MutationObserver(function (mutations, observer) {{\n",
       "        var display = window.getComputedStyle(gd).display;\n",
       "        if (!display || display === 'none') {{\n",
       "            console.log([gd, 'removed!']);\n",
       "            Plotly.purge(gd);\n",
       "            observer.disconnect();\n",
       "        }}\n",
       "}});\n",
       "\n",
       "// Listen for the removal of the full notebook cells\n",
       "var notebookContainer = gd.closest('#notebook-container');\n",
       "if (notebookContainer) {{\n",
       "    x.observe(notebookContainer, {childList: true});\n",
       "}}\n",
       "\n",
       "// Listen for the clearing of the current output cell\n",
       "var outputEl = gd.closest('.output');\n",
       "if (outputEl) {{\n",
       "    x.observe(outputEl, {childList: true});\n",
       "}}\n",
       "\n",
       "                        })                };                });            </script>        </div>"
      ]
     },
     "metadata": {},
     "output_type": "display_data"
    }
   ],
   "source": [
    "labels = address_grouped['street_name']\n",
    "values = address_grouped['id']\n",
    "fig = go.Figure(data=[go.Bar(x = labels, y = values)])\n",
    "fig.update_layout(\n",
    "                  title=\"Топ 10 улиц по кол-ву точек общественного питания\",\n",
    "                  xaxis_title=\"Улица\",\n",
    "                  yaxis_title=\"Колличество точек на улице\")\n",
    "fig.show()"
   ]
  },
  {
   "cell_type": "markdown",
   "metadata": {},
   "source": [
    "Мы видим, что больше всего точек общественного питания находится на проспекте Мира. На втором месте профсоюзная улица. На третьем  Ленинградский проспект. "
   ]
  },
  {
   "cell_type": "code",
   "execution_count": 178,
   "metadata": {
    "scrolled": true
   },
   "outputs": [
    {
     "data": {
      "text/html": [
       "<div><div id=8c6360ee-1a15-4e37-996f-2cc10a9f2e8f style=\"display:none; background-color:#9D6CFF; color:white; width:200px; height:30px; padding-left:5px; border-radius:4px; flex-direction:row; justify-content:space-around; align-items:center;\" onmouseover=\"this.style.backgroundColor='#BA9BF8'\" onmouseout=\"this.style.backgroundColor='#9D6CFF'\" onclick=\"window.commands?.execute('create-mitosheet-from-dataframe-output');\">See Full Dataframe in Mito</div> <script> if (window.commands.hasCommand('create-mitosheet-from-dataframe-output')) document.getElementById('8c6360ee-1a15-4e37-996f-2cc10a9f2e8f').style.display = 'flex' </script> <table border=\"1\" class=\"dataframe\">\n",
       "  <thead>\n",
       "    <tr style=\"text-align: right;\">\n",
       "      <th></th>\n",
       "      <th>street_name</th>\n",
       "      <th>id</th>\n",
       "      <th>streetname</th>\n",
       "      <th>areaid</th>\n",
       "      <th>okrug</th>\n",
       "      <th>area</th>\n",
       "    </tr>\n",
       "  </thead>\n",
       "  <tbody>\n",
       "    <tr>\n",
       "      <th>0</th>\n",
       "      <td>проспект Мира</td>\n",
       "      <td>204</td>\n",
       "      <td>проспект Мира</td>\n",
       "      <td>70.0</td>\n",
       "      <td>СВАО</td>\n",
       "      <td>Алексеевский район</td>\n",
       "    </tr>\n",
       "    <tr>\n",
       "      <th>1</th>\n",
       "      <td>проспект Мира</td>\n",
       "      <td>204</td>\n",
       "      <td>проспект Мира</td>\n",
       "      <td>86.0</td>\n",
       "      <td>СВАО</td>\n",
       "      <td>Ярославский Район</td>\n",
       "    </tr>\n",
       "    <tr>\n",
       "      <th>2</th>\n",
       "      <td>проспект Мира</td>\n",
       "      <td>204</td>\n",
       "      <td>проспект Мира</td>\n",
       "      <td>78.0</td>\n",
       "      <td>СВАО</td>\n",
       "      <td>Район Марьина роща</td>\n",
       "    </tr>\n",
       "    <tr>\n",
       "      <th>3</th>\n",
       "      <td>проспект Мира</td>\n",
       "      <td>204</td>\n",
       "      <td>проспект Мира</td>\n",
       "      <td>79.0</td>\n",
       "      <td>СВАО</td>\n",
       "      <td>Останкинский район</td>\n",
       "    </tr>\n",
       "    <tr>\n",
       "      <th>4</th>\n",
       "      <td>проспект Мира</td>\n",
       "      <td>204</td>\n",
       "      <td>проспект Мира</td>\n",
       "      <td>81.0</td>\n",
       "      <td>СВАО</td>\n",
       "      <td>Район Ростокино</td>\n",
       "    </tr>\n",
       "    <tr>\n",
       "      <th>...</th>\n",
       "      <td>...</td>\n",
       "      <td>...</td>\n",
       "      <td>...</td>\n",
       "      <td>...</td>\n",
       "      <td>...</td>\n",
       "      <td>...</td>\n",
       "    </tr>\n",
       "    <tr>\n",
       "      <th>43</th>\n",
       "      <td>Каширское шоссе</td>\n",
       "      <td>111</td>\n",
       "      <td>Каширское шоссе</td>\n",
       "      <td>106.0</td>\n",
       "      <td>ЮАО</td>\n",
       "      <td>Район Орехово-Борисово Южное</td>\n",
       "    </tr>\n",
       "    <tr>\n",
       "      <th>44</th>\n",
       "      <td>Каширское шоссе</td>\n",
       "      <td>111</td>\n",
       "      <td>Каширское шоссе</td>\n",
       "      <td>105.0</td>\n",
       "      <td>ЮАО</td>\n",
       "      <td>Район Орехово-Борисово Северное</td>\n",
       "    </tr>\n",
       "    <tr>\n",
       "      <th>45</th>\n",
       "      <td>Кировоградская улица</td>\n",
       "      <td>108</td>\n",
       "      <td>Кировоградская улица</td>\n",
       "      <td>109.0</td>\n",
       "      <td>ЮАО</td>\n",
       "      <td>Район Чертаново Центральное</td>\n",
       "    </tr>\n",
       "    <tr>\n",
       "      <th>46</th>\n",
       "      <td>Кировоградская улица</td>\n",
       "      <td>108</td>\n",
       "      <td>Кировоградская улица</td>\n",
       "      <td>108.0</td>\n",
       "      <td>ЮАО</td>\n",
       "      <td>Район Чертаново Северное</td>\n",
       "    </tr>\n",
       "    <tr>\n",
       "      <th>47</th>\n",
       "      <td>Кировоградская улица</td>\n",
       "      <td>108</td>\n",
       "      <td>Кировоградская улица</td>\n",
       "      <td>110.0</td>\n",
       "      <td>ЮАО</td>\n",
       "      <td>Район Чертаново Южное</td>\n",
       "    </tr>\n",
       "  </tbody>\n",
       "</table></div>"
      ],
      "text/plain": [
       "               street_name   id              streetname  areaid okrug  \\\n",
       "0   проспект Мира           204  проспект Мира          70.0     СВАО   \n",
       "1   проспект Мира           204  проспект Мира          86.0     СВАО   \n",
       "2   проспект Мира           204  проспект Мира          78.0     СВАО   \n",
       "3   проспект Мира           204  проспект Мира          79.0     СВАО   \n",
       "4   проспект Мира           204  проспект Мира          81.0     СВАО   \n",
       "5   проспект Мира           204  проспект Мира          82.0     СВАО   \n",
       "6   проспект Мира           204  проспект Мира          16.0     ЦАО    \n",
       "7   Профсоюзная улица       182  Профсоюзная улица      123.0    ЮЗАО   \n",
       "8   Профсоюзная улица       182  Профсоюзная улица      132.0    ЮЗАО   \n",
       "9   Профсоюзная улица       182  Профсоюзная улица      134.0    ЮЗАО   \n",
       "10  Профсоюзная улица       182  Профсоюзная улица      126.0    ЮЗАО   \n",
       "11  Профсоюзная улица       182  Профсоюзная улица      129.0    ЮЗАО   \n",
       "12  Профсоюзная улица       182  Профсоюзная улица      131.0    ЮЗАО   \n",
       "13  Ленинградский проспект  172  Ленинградский проспект 54.0     САО    \n",
       "14  Ленинградский проспект  172  Ленинградский проспект 55.0     САО    \n",
       "15  Ленинградский проспект  172  Ленинградский проспект 69.0     САО    \n",
       "16  Ленинградский проспект  172  Ленинградский проспект 66.0     САО    \n",
       "17  Пресненская набережная  167  Пресненская набережная 17.0     ЦАО    \n",
       "18  Варшавское шоссе        165  Варшавское шоссе       109.0    ЮАО    \n",
       "19  Варшавское шоссе        165  Варшавское шоссе       108.0    ЮАО    \n",
       "20  Варшавское шоссе        165  Варшавское шоссе       110.0    ЮАО    \n",
       "21  Варшавское шоссе        165  Варшавское шоссе       99.0     ЮАО    \n",
       "22  Варшавское шоссе        165  Варшавское шоссе       102.0    ЮАО    \n",
       "23  Варшавское шоссе        165  Варшавское шоссе       104.0    ЮАО    \n",
       "24  Варшавское шоссе        165  Варшавское шоссе       130.0    ЮЗАО   \n",
       "25  Варшавское шоссе        165  Варшавское шоссе       133.0    ЮЗАО   \n",
       "26  Ленинский проспект      148  Ленинский проспект     44.0     ЗАО    \n",
       "27  Ленинский проспект      148  Ленинский проспект     47.0     ЗАО    \n",
       "28  Ленинский проспект      148  Ленинский проспект     99.0     ЮАО    \n",
       "29  Ленинский проспект      148  Ленинский проспект     124.0    ЮЗАО   \n",
       "30  Ленинский проспект      148  Ленинский проспект     128.0    ЮЗАО   \n",
       "31  Ленинский проспект      148  Ленинский проспект     129.0    ЮЗАО   \n",
       "32  Ленинский проспект      148  Ленинский проспект     131.0    ЮЗАО   \n",
       "33  Ленинский проспект      148  Ленинский проспект     21.0     ЦАО    \n",
       "34  проспект Вернадского    128  проспект Вернадского   44.0     ЗАО    \n",
       "35  проспект Вернадского    128  проспект Вернадского   45.0     ЗАО    \n",
       "36  проспект Вернадского    128  проспект Вернадского   47.0     ЗАО    \n",
       "37  проспект Вернадского    128  проспект Вернадского   124.0    ЮЗАО   \n",
       "38  проспект Вернадского    128  проспект Вернадского   128.0    ЮЗАО   \n",
       "39  Кутузовский проспект    114  Кутузовский проспект   38.0     ЗАО    \n",
       "40  Кутузовский проспект    114  Кутузовский проспект   49.0     ЗАО    \n",
       "41  Каширское шоссе         111  Каширское шоссе        101.0    ЮАО    \n",
       "42  Каширское шоссе         111  Каширское шоссе        102.0    ЮАО    \n",
       "43  Каширское шоссе         111  Каширское шоссе        106.0    ЮАО    \n",
       "44  Каширское шоссе         111  Каширское шоссе        105.0    ЮАО    \n",
       "45  Кировоградская улица    108  Кировоградская улица   109.0    ЮАО    \n",
       "46  Кировоградская улица    108  Кировоградская улица   108.0    ЮАО    \n",
       "47  Кировоградская улица    108  Кировоградская улица   110.0    ЮАО    \n",
       "\n",
       "                               area  \n",
       "0   Алексеевский район               \n",
       "1   Ярославский Район                \n",
       "2   Район Марьина роща               \n",
       "3   Останкинский район               \n",
       "4   Район Ростокино                  \n",
       "5   Район Свиблово                   \n",
       "6   Мещанский район                  \n",
       "7   Академический район              \n",
       "8   Район Черемушки                  \n",
       "9   Район Ясенево                    \n",
       "10  Район Коньково                   \n",
       "11  Обручевский район                \n",
       "12  Район Теплый Стан                \n",
       "13  Район Аэропорт                   \n",
       "14  Район Беговой                    \n",
       "15  Хорошевский район                \n",
       "16  Район Сокол                      \n",
       "17  Пресненский район                \n",
       "18  Район Чертаново Центральное      \n",
       "19  Район Чертаново Северное         \n",
       "20  Район Чертаново Южное            \n",
       "21  Донской район                    \n",
       "22  Район Нагатино-Садовники         \n",
       "23  Нагорный район                   \n",
       "24  Район Северное Бутово            \n",
       "25  Район Южное Бутово               \n",
       "26  Район Проспект Вернадского       \n",
       "27  Район Тропарево-Никулино         \n",
       "28  Донской район                    \n",
       "29  Район Гагаринский                \n",
       "30  Ломоносовский район              \n",
       "31  Обручевский район                \n",
       "32  Район Теплый Стан                \n",
       "33  Район Якиманка                   \n",
       "34  Район Проспект Вернадского       \n",
       "35  Район Раменки                    \n",
       "36  Район Тропарево-Никулино         \n",
       "37  Район Гагаринский                \n",
       "38  Ломоносовский район              \n",
       "39  Район Дорогомилово               \n",
       "40  Район Фили-Давыдково             \n",
       "41  Район Москворечье-Сабурово       \n",
       "42  Район Нагатино-Садовники         \n",
       "43  Район Орехово-Борисово Южное     \n",
       "44  Район Орехово-Борисово Северное  \n",
       "45  Район Чертаново Центральное      \n",
       "46  Район Чертаново Северное         \n",
       "47  Район Чертаново Южное            "
      ]
     },
     "execution_count": 178,
     "metadata": {},
     "output_type": "execute_result"
    }
   ],
   "source": [
    "pd.options.display.max_colwidth = 1\n",
    "address_grouped.merge(df_district, left_on = 'street_name', how='inner', right_on='streetname')"
   ]
  },
  {
   "cell_type": "code",
   "execution_count": 179,
   "metadata": {},
   "outputs": [],
   "source": [
    "address_grouped = address_grouped.merge(df_district, left_on = 'street_name', how='inner', right_on='streetname')"
   ]
  },
  {
   "cell_type": "markdown",
   "metadata": {},
   "source": [
    "Мы видим, что улицы назходятся одновременно в нескольких районах. "
   ]
  },
  {
   "cell_type": "code",
   "execution_count": 180,
   "metadata": {},
   "outputs": [],
   "source": [
    "area = address_grouped.groupby(['area'])['id'].count()\n",
    "area = area.reset_index().sort_values(by = 'id', ascending=False)"
   ]
  },
  {
   "cell_type": "code",
   "execution_count": 181,
   "metadata": {},
   "outputs": [
    {
     "data": {
      "text/html": [
       "<div><div id=70d8565e-5f4a-4c7e-8fa0-cd570256c35d style=\"display:none; background-color:#9D6CFF; color:white; width:200px; height:30px; padding-left:5px; border-radius:4px; flex-direction:row; justify-content:space-around; align-items:center;\" onmouseover=\"this.style.backgroundColor='#BA9BF8'\" onmouseout=\"this.style.backgroundColor='#9D6CFF'\" onclick=\"window.commands?.execute('create-mitosheet-from-dataframe-output');\">See Full Dataframe in Mito</div> <script> if (window.commands.hasCommand('create-mitosheet-from-dataframe-output')) document.getElementById('70d8565e-5f4a-4c7e-8fa0-cd570256c35d').style.display = 'flex' </script> <table border=\"1\" class=\"dataframe\">\n",
       "  <thead>\n",
       "    <tr style=\"text-align: right;\">\n",
       "      <th></th>\n",
       "      <th>area</th>\n",
       "      <th>id</th>\n",
       "    </tr>\n",
       "  </thead>\n",
       "  <tbody>\n",
       "    <tr>\n",
       "      <th>30</th>\n",
       "      <td>Район Чертаново Центральное</td>\n",
       "      <td>2</td>\n",
       "    </tr>\n",
       "    <tr>\n",
       "      <th>2</th>\n",
       "      <td>Донской район</td>\n",
       "      <td>2</td>\n",
       "    </tr>\n",
       "    <tr>\n",
       "      <th>3</th>\n",
       "      <td>Ломоносовский район</td>\n",
       "      <td>2</td>\n",
       "    </tr>\n",
       "    <tr>\n",
       "      <th>19</th>\n",
       "      <td>Район Проспект Вернадского</td>\n",
       "      <td>2</td>\n",
       "    </tr>\n",
       "    <tr>\n",
       "      <th>6</th>\n",
       "      <td>Обручевский район</td>\n",
       "      <td>2</td>\n",
       "    </tr>\n",
       "    <tr>\n",
       "      <th>...</th>\n",
       "      <td>...</td>\n",
       "      <td>...</td>\n",
       "    </tr>\n",
       "    <tr>\n",
       "      <th>8</th>\n",
       "      <td>Пресненский район</td>\n",
       "      <td>1</td>\n",
       "    </tr>\n",
       "    <tr>\n",
       "      <th>7</th>\n",
       "      <td>Останкинский район</td>\n",
       "      <td>1</td>\n",
       "    </tr>\n",
       "    <tr>\n",
       "      <th>5</th>\n",
       "      <td>Нагорный район</td>\n",
       "      <td>1</td>\n",
       "    </tr>\n",
       "    <tr>\n",
       "      <th>4</th>\n",
       "      <td>Мещанский район</td>\n",
       "      <td>1</td>\n",
       "    </tr>\n",
       "    <tr>\n",
       "      <th>36</th>\n",
       "      <td>Ярославский Район</td>\n",
       "      <td>1</td>\n",
       "    </tr>\n",
       "  </tbody>\n",
       "</table></div>"
      ],
      "text/plain": [
       "                               area  id\n",
       "30  Район Чертаново Центральное      2 \n",
       "2   Донской район                    2 \n",
       "3   Ломоносовский район              2 \n",
       "19  Район Проспект Вернадского       2 \n",
       "6   Обручевский район                2 \n",
       "25  Район Теплый Стан                2 \n",
       "16  Район Нагатино-Садовники         2 \n",
       "31  Район Чертаново Южное            2 \n",
       "26  Район Тропарево-Никулино         2 \n",
       "11  Район Гагаринский                2 \n",
       "29  Район Чертаново Северное         2 \n",
       "27  Район Фили-Давыдково             1 \n",
       "24  Район Сокол                      1 \n",
       "0   Академический район              1 \n",
       "28  Район Черемушки                  1 \n",
       "22  Район Свиблово                   1 \n",
       "32  Район Южное Бутово               1 \n",
       "33  Район Якиманка                   1 \n",
       "34  Район Ясенево                    1 \n",
       "35  Хорошевский район                1 \n",
       "23  Район Северное Бутово            1 \n",
       "18  Район Орехово-Борисово Южное     1 \n",
       "21  Район Ростокино                  1 \n",
       "20  Район Раменки                    1 \n",
       "1   Алексеевский район               1 \n",
       "17  Район Орехово-Борисово Северное  1 \n",
       "15  Район Москворечье-Сабурово       1 \n",
       "14  Район Марьина роща               1 \n",
       "13  Район Коньково                   1 \n",
       "12  Район Дорогомилово               1 \n",
       "10  Район Беговой                    1 \n",
       "9   Район Аэропорт                   1 \n",
       "8   Пресненский район                1 \n",
       "7   Останкинский район               1 \n",
       "5   Нагорный район                   1 \n",
       "4   Мещанский район                  1 \n",
       "36  Ярославский Район                1 "
      ]
     },
     "execution_count": 181,
     "metadata": {},
     "output_type": "execute_result"
    }
   ],
   "source": [
    "pd.options.display.max_colwidth = 1\n",
    "area"
   ]
  },
  {
   "cell_type": "markdown",
   "metadata": {},
   "source": [
    "Мы видим список районов, в которых находятся эти улицы. "
   ]
  },
  {
   "cell_type": "markdown",
   "metadata": {},
   "source": [
    "### Найдем число улиц, в которыйх находится 1 объект общественного питания. "
   ]
  },
  {
   "cell_type": "code",
   "execution_count": 182,
   "metadata": {},
   "outputs": [
    {
     "name": "stdout",
     "output_type": "stream",
     "text": [
      "Число улиц с 1 объектом общественного питания : 533\n"
     ]
    }
   ],
   "source": [
    "address_grouped_1= data.groupby(['street_name'])['id'].count()\n",
    "address_grouped_1 = address_grouped_1.reset_index().sort_values(by = 'id', ascending=False)\n",
    "address_grouped_1 = address_grouped_1[address_grouped_1['id'] ==1]\n",
    "print('Число улиц с 1 объектом общественного питания :' ,address_grouped_1['id'].count())"
   ]
  },
  {
   "cell_type": "code",
   "execution_count": 183,
   "metadata": {
    "scrolled": true
   },
   "outputs": [
    {
     "data": {
      "text/html": [
       "<div><div id=de617824-51de-497f-89aa-cfccdd822724 style=\"display:none; background-color:#9D6CFF; color:white; width:200px; height:30px; padding-left:5px; border-radius:4px; flex-direction:row; justify-content:space-around; align-items:center;\" onmouseover=\"this.style.backgroundColor='#BA9BF8'\" onmouseout=\"this.style.backgroundColor='#9D6CFF'\" onclick=\"window.commands?.execute('create-mitosheet-from-dataframe-output');\">See Full Dataframe in Mito</div> <script> if (window.commands.hasCommand('create-mitosheet-from-dataframe-output')) document.getElementById('de617824-51de-497f-89aa-cfccdd822724').style.display = 'flex' </script> <table border=\"1\" class=\"dataframe\">\n",
       "  <thead>\n",
       "    <tr style=\"text-align: right;\">\n",
       "      <th></th>\n",
       "      <th>street_name</th>\n",
       "      <th>id</th>\n",
       "      <th>streetname</th>\n",
       "      <th>areaid</th>\n",
       "      <th>okrug</th>\n",
       "      <th>area</th>\n",
       "    </tr>\n",
       "  </thead>\n",
       "  <tbody>\n",
       "    <tr>\n",
       "      <th>0</th>\n",
       "      <td>2-й Обыденский переулок</td>\n",
       "      <td>1</td>\n",
       "      <td>2-й Обыденский переулок</td>\n",
       "      <td>20.0</td>\n",
       "      <td>ЦАО</td>\n",
       "      <td>Район Хамовники</td>\n",
       "    </tr>\n",
       "    <tr>\n",
       "      <th>1</th>\n",
       "      <td>Кооперативная улица</td>\n",
       "      <td>1</td>\n",
       "      <td>Кооперативная улица</td>\n",
       "      <td>20.0</td>\n",
       "      <td>ЦАО</td>\n",
       "      <td>Район Хамовники</td>\n",
       "    </tr>\n",
       "    <tr>\n",
       "      <th>2</th>\n",
       "      <td>Коптевский бульвар</td>\n",
       "      <td>1</td>\n",
       "      <td>Коптевский бульвар</td>\n",
       "      <td>62.0</td>\n",
       "      <td>САО</td>\n",
       "      <td>Район Коптево</td>\n",
       "    </tr>\n",
       "    <tr>\n",
       "      <th>3</th>\n",
       "      <td>улица Клочкова</td>\n",
       "      <td>1</td>\n",
       "      <td>улица Клочкова</td>\n",
       "      <td>49.0</td>\n",
       "      <td>ЗАО</td>\n",
       "      <td>Район Фили-Давыдково</td>\n",
       "    </tr>\n",
       "    <tr>\n",
       "      <th>4</th>\n",
       "      <td>Козицкий переулок</td>\n",
       "      <td>1</td>\n",
       "      <td>Козицкий переулок</td>\n",
       "      <td>19.0</td>\n",
       "      <td>ЦАО</td>\n",
       "      <td>Тверской район</td>\n",
       "    </tr>\n",
       "    <tr>\n",
       "      <th>...</th>\n",
       "      <td>...</td>\n",
       "      <td>...</td>\n",
       "      <td>...</td>\n",
       "      <td>...</td>\n",
       "      <td>...</td>\n",
       "      <td>...</td>\n",
       "    </tr>\n",
       "    <tr>\n",
       "      <th>574</th>\n",
       "      <td>1-й Монетчиковский переулок</td>\n",
       "      <td>1</td>\n",
       "      <td>1-й Монетчиковский переулок</td>\n",
       "      <td>14.0</td>\n",
       "      <td>ЦАО</td>\n",
       "      <td>Район Замоскворечье</td>\n",
       "    </tr>\n",
       "    <tr>\n",
       "      <th>575</th>\n",
       "      <td>2-я Дубровская улица</td>\n",
       "      <td>1</td>\n",
       "      <td>2-я Дубровская улица</td>\n",
       "      <td>18.0</td>\n",
       "      <td>ЦАО</td>\n",
       "      <td>Таганский район</td>\n",
       "    </tr>\n",
       "    <tr>\n",
       "      <th>576</th>\n",
       "      <td>2-я Гражданская улица</td>\n",
       "      <td>1</td>\n",
       "      <td>2-я Гражданская улица</td>\n",
       "      <td>22.0</td>\n",
       "      <td>ВАО</td>\n",
       "      <td>Район Богородское</td>\n",
       "    </tr>\n",
       "    <tr>\n",
       "      <th>577</th>\n",
       "      <td>Большой Знаменский переулок</td>\n",
       "      <td>1</td>\n",
       "      <td>Большой Знаменский переулок</td>\n",
       "      <td>12.0</td>\n",
       "      <td>ЦАО</td>\n",
       "      <td>Район Арбат</td>\n",
       "    </tr>\n",
       "    <tr>\n",
       "      <th>578</th>\n",
       "      <td>Большой Знаменский переулок</td>\n",
       "      <td>1</td>\n",
       "      <td>Большой Знаменский переулок</td>\n",
       "      <td>20.0</td>\n",
       "      <td>ЦАО</td>\n",
       "      <td>Район Хамовники</td>\n",
       "    </tr>\n",
       "  </tbody>\n",
       "</table></div>"
      ],
      "text/plain": [
       "                     street_name  id                   streetname  areaid  \\\n",
       "0    2-й Обыденский переулок      1   2-й Обыденский переулок     20.0      \n",
       "1    Кооперативная улица          1   Кооперативная улица         20.0      \n",
       "2    Коптевский бульвар           1   Коптевский бульвар          62.0      \n",
       "3    улица Клочкова               1   улица Клочкова              49.0      \n",
       "4    Козицкий переулок            1   Козицкий переулок           19.0      \n",
       "..                 ...           ..                 ...            ...      \n",
       "574  1-й Монетчиковский переулок  1   1-й Монетчиковский переулок 14.0      \n",
       "575  2-я Дубровская улица         1   2-я Дубровская улица        18.0      \n",
       "576  2-я Гражданская улица        1   2-я Гражданская улица       22.0      \n",
       "577  Большой Знаменский переулок  1   Большой Знаменский переулок 12.0      \n",
       "578  Большой Знаменский переулок  1   Большой Знаменский переулок 20.0      \n",
       "\n",
       "    okrug                  area  \n",
       "0    ЦАО   Район Хамовники       \n",
       "1    ЦАО   Район Хамовники       \n",
       "2    САО   Район Коптево         \n",
       "3    ЗАО   Район Фили-Давыдково  \n",
       "4    ЦАО   Тверской район        \n",
       "..   ...              ...        \n",
       "574  ЦАО   Район Замоскворечье   \n",
       "575  ЦАО   Таганский район       \n",
       "576  ВАО   Район Богородское     \n",
       "577  ЦАО   Район Арбат           \n",
       "578  ЦАО   Район Хамовники       \n",
       "\n",
       "[579 rows x 6 columns]"
      ]
     },
     "execution_count": 183,
     "metadata": {},
     "output_type": "execute_result"
    }
   ],
   "source": [
    "\n",
    "pd.options.display.max_colwidth = 1\n",
    "address_grouped_1.merge(df_district, left_on = 'street_name', how='inner', right_on='streetname')\n"
   ]
  },
  {
   "cell_type": "code",
   "execution_count": 184,
   "metadata": {},
   "outputs": [],
   "source": [
    "address_grouped_1 = address_grouped_1.merge(df_district, left_on = 'street_name', how='inner', right_on='streetname')"
   ]
  },
  {
   "cell_type": "markdown",
   "metadata": {},
   "source": [
    "Посмотрим в каких районах распологаются эти точки общественного питания. Также сгруппируем по кол-ву таких улиц и получим список районов, где очень мало точек обещественного питания, так как там много улиц с 1 точкой общественного питания. "
   ]
  },
  {
   "cell_type": "code",
   "execution_count": 185,
   "metadata": {},
   "outputs": [],
   "source": [
    "area_1 = address_grouped_1.groupby(['area'])['id'].count()\n",
    "area_1 = area_1.reset_index().sort_values(by = 'id', ascending=False)"
   ]
  },
  {
   "cell_type": "code",
   "execution_count": 186,
   "metadata": {},
   "outputs": [],
   "source": [
    "data_grouped_1= data.merge(df_district, left_on = 'street_name', how='inner', right_on='streetname')"
   ]
  },
  {
   "cell_type": "code",
   "execution_count": 187,
   "metadata": {},
   "outputs": [
    {
     "data": {
      "text/html": [
       "<div><div id=adb94181-8c19-4e8b-93c1-4ba114af952b style=\"display:none; background-color:#9D6CFF; color:white; width:200px; height:30px; padding-left:5px; border-radius:4px; flex-direction:row; justify-content:space-around; align-items:center;\" onmouseover=\"this.style.backgroundColor='#BA9BF8'\" onmouseout=\"this.style.backgroundColor='#9D6CFF'\" onclick=\"window.commands?.execute('create-mitosheet-from-dataframe-output');\">See Full Dataframe in Mito</div> <script> if (window.commands.hasCommand('create-mitosheet-from-dataframe-output')) document.getElementById('adb94181-8c19-4e8b-93c1-4ba114af952b').style.display = 'flex' </script> <table border=\"1\" class=\"dataframe\">\n",
       "  <thead>\n",
       "    <tr style=\"text-align: right;\">\n",
       "      <th></th>\n",
       "      <th>id</th>\n",
       "      <th>object_name</th>\n",
       "      <th>chain</th>\n",
       "      <th>object_type</th>\n",
       "      <th>address</th>\n",
       "      <th>number</th>\n",
       "      <th>street_name</th>\n",
       "      <th>streetname</th>\n",
       "      <th>areaid</th>\n",
       "      <th>okrug</th>\n",
       "      <th>area</th>\n",
       "    </tr>\n",
       "  </thead>\n",
       "  <tbody>\n",
       "    <tr>\n",
       "      <th>0</th>\n",
       "      <td>0        151635\\n1        77874 \\n2        24309 \\n3        21894 \\n4        119365\\n          ...  \\n15361    208537\\n15362    209264\\n15363    209186\\n15364    221900\\n15365    222535\\nName: id, Length: 15284, dtype: int64</td>\n",
       "      <td>СМЕТАНА</td>\n",
       "      <td>нет</td>\n",
       "      <td>кафе</td>\n",
       "      <td>город Москва, улица Егора Абакумова, дом 9</td>\n",
       "      <td>48</td>\n",
       "      <td>улица Егора Абакумова</td>\n",
       "      <td>улица Егора Абакумова</td>\n",
       "      <td>86.0</td>\n",
       "      <td>СВАО</td>\n",
       "      <td>Ярославский Район</td>\n",
       "    </tr>\n",
       "    <tr>\n",
       "      <th>1</th>\n",
       "      <td>0        151635\\n1        77874 \\n2        24309 \\n3        21894 \\n4        119365\\n          ...  \\n15361    208537\\n15362    209264\\n15363    209186\\n15364    221900\\n15365    222535\\nName: id, Length: 15284, dtype: int64</td>\n",
       "      <td>Grill-House</td>\n",
       "      <td>нет</td>\n",
       "      <td>закусочная</td>\n",
       "      <td>город Москва, улица Егора Абакумова, дом 14А</td>\n",
       "      <td>0</td>\n",
       "      <td>улица Егора Абакумова</td>\n",
       "      <td>улица Егора Абакумова</td>\n",
       "      <td>86.0</td>\n",
       "      <td>СВАО</td>\n",
       "      <td>Ярославский Район</td>\n",
       "    </tr>\n",
       "    <tr>\n",
       "      <th>2</th>\n",
       "      <td>0        151635\\n1        77874 \\n2        24309 \\n3        21894 \\n4        119365\\n          ...  \\n15361    208537\\n15362    209264\\n15363    209186\\n15364    221900\\n15365    222535\\nName: id, Length: 15284, dtype: int64</td>\n",
       "      <td>Пекарня</td>\n",
       "      <td>нет</td>\n",
       "      <td>кафетерий</td>\n",
       "      <td>город Москва, улица Егора Абакумова, дом 14А</td>\n",
       "      <td>12</td>\n",
       "      <td>улица Егора Абакумова</td>\n",
       "      <td>улица Егора Абакумова</td>\n",
       "      <td>86.0</td>\n",
       "      <td>СВАО</td>\n",
       "      <td>Ярославский Район</td>\n",
       "    </tr>\n",
       "    <tr>\n",
       "      <th>3</th>\n",
       "      <td>0        151635\\n1        77874 \\n2        24309 \\n3        21894 \\n4        119365\\n          ...  \\n15361    208537\\n15362    209264\\n15363    209186\\n15364    221900\\n15365    222535\\nName: id, Length: 15284, dtype: int64</td>\n",
       "      <td>Родник</td>\n",
       "      <td>нет</td>\n",
       "      <td>кафе</td>\n",
       "      <td>город Москва, улица Талалихина, дом 2/1, корпус 1</td>\n",
       "      <td>35</td>\n",
       "      <td>улица Талалихина</td>\n",
       "      <td>улица Талалихина</td>\n",
       "      <td>18.0</td>\n",
       "      <td>ЦАО</td>\n",
       "      <td>Таганский район</td>\n",
       "    </tr>\n",
       "    <tr>\n",
       "      <th>4</th>\n",
       "      <td>0        151635\\n1        77874 \\n2        24309 \\n3        21894 \\n4        119365\\n          ...  \\n15361    208537\\n15362    209264\\n15363    209186\\n15364    221900\\n15365    222535\\nName: id, Length: 15284, dtype: int64</td>\n",
       "      <td>Родник</td>\n",
       "      <td>нет</td>\n",
       "      <td>кафе</td>\n",
       "      <td>город Москва, улица Талалихина, дом 2/1, корпус 1</td>\n",
       "      <td>35</td>\n",
       "      <td>улица Талалихина</td>\n",
       "      <td>улица Талалихина</td>\n",
       "      <td>117.0</td>\n",
       "      <td>ЮВАО</td>\n",
       "      <td>Нижегородский район</td>\n",
       "    </tr>\n",
       "  </tbody>\n",
       "</table></div>"
      ],
      "text/plain": [
       "                                                                                                                                                                                                                                 id  \\\n",
       "0  0        151635\\n1        77874 \\n2        24309 \\n3        21894 \\n4        119365\\n          ...  \\n15361    208537\\n15362    209264\\n15363    209186\\n15364    221900\\n15365    222535\\nName: id, Length: 15284, dtype: int64   \n",
       "1  0        151635\\n1        77874 \\n2        24309 \\n3        21894 \\n4        119365\\n          ...  \\n15361    208537\\n15362    209264\\n15363    209186\\n15364    221900\\n15365    222535\\nName: id, Length: 15284, dtype: int64   \n",
       "2  0        151635\\n1        77874 \\n2        24309 \\n3        21894 \\n4        119365\\n          ...  \\n15361    208537\\n15362    209264\\n15363    209186\\n15364    221900\\n15365    222535\\nName: id, Length: 15284, dtype: int64   \n",
       "3  0        151635\\n1        77874 \\n2        24309 \\n3        21894 \\n4        119365\\n          ...  \\n15361    208537\\n15362    209264\\n15363    209186\\n15364    221900\\n15365    222535\\nName: id, Length: 15284, dtype: int64   \n",
       "4  0        151635\\n1        77874 \\n2        24309 \\n3        21894 \\n4        119365\\n          ...  \\n15361    208537\\n15362    209264\\n15363    209186\\n15364    221900\\n15365    222535\\nName: id, Length: 15284, dtype: int64   \n",
       "\n",
       "   object_name chain object_type  \\\n",
       "0  СМЕТАНА      нет   кафе         \n",
       "1  Grill-House  нет   закусочная   \n",
       "2  Пекарня      нет   кафетерий    \n",
       "3  Родник       нет   кафе         \n",
       "4  Родник       нет   кафе         \n",
       "\n",
       "                                             address  number  \\\n",
       "0  город Москва, улица Егора Абакумова, дом 9         48       \n",
       "1  город Москва, улица Егора Абакумова, дом 14А       0        \n",
       "2  город Москва, улица Егора Абакумова, дом 14А       12       \n",
       "3  город Москва, улица Талалихина, дом 2/1, корпус 1  35       \n",
       "4  город Москва, улица Талалихина, дом 2/1, корпус 1  35       \n",
       "\n",
       "             street_name             streetname  areaid okrug  \\\n",
       "0  улица Егора Абакумова  улица Егора Абакумова 86.0     СВАО   \n",
       "1  улица Егора Абакумова  улица Егора Абакумова 86.0     СВАО   \n",
       "2  улица Егора Абакумова  улица Егора Абакумова 86.0     СВАО   \n",
       "3  улица Талалихина       улица Талалихина      18.0     ЦАО    \n",
       "4  улица Талалихина       улица Талалихина      117.0    ЮВАО   \n",
       "\n",
       "                  area  \n",
       "0  Ярославский Район    \n",
       "1  Ярославский Район    \n",
       "2  Ярославский Район    \n",
       "3  Таганский район      \n",
       "4  Нижегородский район  "
      ]
     },
     "execution_count": 187,
     "metadata": {},
     "output_type": "execute_result"
    }
   ],
   "source": [
    "data_grouped_1.head()"
   ]
  },
  {
   "cell_type": "code",
   "execution_count": 188,
   "metadata": {},
   "outputs": [],
   "source": [
    "street_area = data_grouped_1.groupby(['area'])['street_name'].count()\n",
    "street_area = street_area.reset_index().sort_values(by = 'street_name', ascending=False)\n"
   ]
  },
  {
   "cell_type": "code",
   "execution_count": 189,
   "metadata": {},
   "outputs": [
    {
     "data": {
      "text/html": [
       "<div><div id=ffc2e82e-095b-4806-a663-dc0b05d3ee57 style=\"display:none; background-color:#9D6CFF; color:white; width:200px; height:30px; padding-left:5px; border-radius:4px; flex-direction:row; justify-content:space-around; align-items:center;\" onmouseover=\"this.style.backgroundColor='#BA9BF8'\" onmouseout=\"this.style.backgroundColor='#9D6CFF'\" onclick=\"window.commands?.execute('create-mitosheet-from-dataframe-output');\">See Full Dataframe in Mito</div> <script> if (window.commands.hasCommand('create-mitosheet-from-dataframe-output')) document.getElementById('ffc2e82e-095b-4806-a663-dc0b05d3ee57').style.display = 'flex' </script> <table border=\"1\" class=\"dataframe\">\n",
       "  <thead>\n",
       "    <tr style=\"text-align: right;\">\n",
       "      <th></th>\n",
       "      <th>area</th>\n",
       "      <th>кол-во улиц на районе</th>\n",
       "    </tr>\n",
       "  </thead>\n",
       "  <tbody>\n",
       "    <tr>\n",
       "      <th>124</th>\n",
       "      <td>Тверской район</td>\n",
       "      <td>1128</td>\n",
       "    </tr>\n",
       "    <tr>\n",
       "      <th>27</th>\n",
       "      <td>Пресненский район</td>\n",
       "      <td>793</td>\n",
       "    </tr>\n",
       "    <tr>\n",
       "      <th>4</th>\n",
       "      <td>Басманный район</td>\n",
       "      <td>705</td>\n",
       "    </tr>\n",
       "    <tr>\n",
       "      <th>11</th>\n",
       "      <td>Даниловский район</td>\n",
       "      <td>676</td>\n",
       "    </tr>\n",
       "    <tr>\n",
       "      <th>18</th>\n",
       "      <td>Мещанский район</td>\n",
       "      <td>664</td>\n",
       "    </tr>\n",
       "  </tbody>\n",
       "</table></div>"
      ],
      "text/plain": [
       "                  area  кол-во улиц на районе\n",
       "124  Тверской район     1128                 \n",
       "27   Пресненский район  793                  \n",
       "4    Басманный район    705                  \n",
       "11   Даниловский район  676                  \n",
       "18   Мещанский район    664                  "
      ]
     },
     "execution_count": 189,
     "metadata": {},
     "output_type": "execute_result"
    }
   ],
   "source": [
    "pd.options.display.max_colwidth = 1\n",
    "street_area = street_area.rename(columns={'street_name':'кол-во улиц на районе'})\n",
    "street_area.head()\n"
   ]
  },
  {
   "cell_type": "code",
   "execution_count": 190,
   "metadata": {},
   "outputs": [
    {
     "data": {
      "text/html": [
       "<div><div id=af9626c6-1eda-4a68-a5e2-2109a7d6c5a4 style=\"display:none; background-color:#9D6CFF; color:white; width:200px; height:30px; padding-left:5px; border-radius:4px; flex-direction:row; justify-content:space-around; align-items:center;\" onmouseover=\"this.style.backgroundColor='#BA9BF8'\" onmouseout=\"this.style.backgroundColor='#9D6CFF'\" onclick=\"window.commands?.execute('create-mitosheet-from-dataframe-output');\">See Full Dataframe in Mito</div> <script> if (window.commands.hasCommand('create-mitosheet-from-dataframe-output')) document.getElementById('af9626c6-1eda-4a68-a5e2-2109a7d6c5a4').style.display = 'flex' </script> <table border=\"1\" class=\"dataframe\">\n",
       "  <thead>\n",
       "    <tr style=\"text-align: right;\">\n",
       "      <th></th>\n",
       "      <th>area</th>\n",
       "      <th>кол-во улиц c 1 точкой питания</th>\n",
       "    </tr>\n",
       "  </thead>\n",
       "  <tbody>\n",
       "    <tr>\n",
       "      <th>102</th>\n",
       "      <td>Таганский район</td>\n",
       "      <td>26</td>\n",
       "    </tr>\n",
       "    <tr>\n",
       "      <th>87</th>\n",
       "      <td>Район Хамовники</td>\n",
       "      <td>26</td>\n",
       "    </tr>\n",
       "    <tr>\n",
       "      <th>3</th>\n",
       "      <td>Басманный район</td>\n",
       "      <td>25</td>\n",
       "    </tr>\n",
       "    <tr>\n",
       "      <th>103</th>\n",
       "      <td>Тверской район</td>\n",
       "      <td>21</td>\n",
       "    </tr>\n",
       "    <tr>\n",
       "      <th>25</th>\n",
       "      <td>Пресненский район</td>\n",
       "      <td>20</td>\n",
       "    </tr>\n",
       "    <tr>\n",
       "      <th>57</th>\n",
       "      <td>Район Марьина роща</td>\n",
       "      <td>19</td>\n",
       "    </tr>\n",
       "    <tr>\n",
       "      <th>26</th>\n",
       "      <td>Район Арбат</td>\n",
       "      <td>18</td>\n",
       "    </tr>\n",
       "    <tr>\n",
       "      <th>16</th>\n",
       "      <td>Мещанский район</td>\n",
       "      <td>16</td>\n",
       "    </tr>\n",
       "    <tr>\n",
       "      <th>38</th>\n",
       "      <td>Район Замоскворечье</td>\n",
       "      <td>14</td>\n",
       "    </tr>\n",
       "    <tr>\n",
       "      <th>53</th>\n",
       "      <td>Район Лефортово</td>\n",
       "      <td>12</td>\n",
       "    </tr>\n",
       "  </tbody>\n",
       "</table></div>"
      ],
      "text/plain": [
       "                    area  кол-во улиц c 1 точкой питания\n",
       "102  Таганский район      26                            \n",
       "87   Район Хамовники      26                            \n",
       "3    Басманный район      25                            \n",
       "103  Тверской район       21                            \n",
       "25   Пресненский район    20                            \n",
       "57   Район Марьина роща   19                            \n",
       "26   Район Арбат          18                            \n",
       "16   Мещанский район      16                            \n",
       "38   Район Замоскворечье  14                            \n",
       "53   Район Лефортово      12                            "
      ]
     },
     "execution_count": 190,
     "metadata": {},
     "output_type": "execute_result"
    }
   ],
   "source": [
    "pd.options.display.max_colwidth = 1\n",
    "area_1=area_1.rename(columns={'id':'кол-во улиц c 1 точкой питания'})\n",
    "area_1.head(10)"
   ]
  },
  {
   "cell_type": "markdown",
   "metadata": {},
   "source": [
    "Мы нашли кол-во улиц в районе с 1 точкой питания. Однако, если в районе много улиц, то он будет у нас в топе. Поэтому добавим кол-во улиц на район. Соединим две таблицы. "
   ]
  },
  {
   "cell_type": "code",
   "execution_count": 191,
   "metadata": {},
   "outputs": [
    {
     "data": {
      "text/html": [
       "<div><div id=ab89ac72-0461-4374-bdee-480edf797050 style=\"display:none; background-color:#9D6CFF; color:white; width:200px; height:30px; padding-left:5px; border-radius:4px; flex-direction:row; justify-content:space-around; align-items:center;\" onmouseover=\"this.style.backgroundColor='#BA9BF8'\" onmouseout=\"this.style.backgroundColor='#9D6CFF'\" onclick=\"window.commands?.execute('create-mitosheet-from-dataframe-output');\">See Full Dataframe in Mito</div> <script> if (window.commands.hasCommand('create-mitosheet-from-dataframe-output')) document.getElementById('ab89ac72-0461-4374-bdee-480edf797050').style.display = 'flex' </script> <table border=\"1\" class=\"dataframe\">\n",
       "  <thead>\n",
       "    <tr style=\"text-align: right;\">\n",
       "      <th></th>\n",
       "      <th>area</th>\n",
       "      <th>кол-во улиц c 1 точкой питания</th>\n",
       "      <th>кол-во улиц на районе</th>\n",
       "    </tr>\n",
       "  </thead>\n",
       "  <tbody>\n",
       "    <tr>\n",
       "      <th>0</th>\n",
       "      <td>Таганский район</td>\n",
       "      <td>26</td>\n",
       "      <td>543</td>\n",
       "    </tr>\n",
       "    <tr>\n",
       "      <th>1</th>\n",
       "      <td>Район Хамовники</td>\n",
       "      <td>26</td>\n",
       "      <td>391</td>\n",
       "    </tr>\n",
       "    <tr>\n",
       "      <th>2</th>\n",
       "      <td>Басманный район</td>\n",
       "      <td>25</td>\n",
       "      <td>705</td>\n",
       "    </tr>\n",
       "    <tr>\n",
       "      <th>3</th>\n",
       "      <td>Тверской район</td>\n",
       "      <td>21</td>\n",
       "      <td>1128</td>\n",
       "    </tr>\n",
       "    <tr>\n",
       "      <th>4</th>\n",
       "      <td>Пресненский район</td>\n",
       "      <td>20</td>\n",
       "      <td>793</td>\n",
       "    </tr>\n",
       "    <tr>\n",
       "      <th>5</th>\n",
       "      <td>Район Марьина роща</td>\n",
       "      <td>19</td>\n",
       "      <td>428</td>\n",
       "    </tr>\n",
       "    <tr>\n",
       "      <th>6</th>\n",
       "      <td>Район Арбат</td>\n",
       "      <td>18</td>\n",
       "      <td>378</td>\n",
       "    </tr>\n",
       "    <tr>\n",
       "      <th>7</th>\n",
       "      <td>Мещанский район</td>\n",
       "      <td>16</td>\n",
       "      <td>664</td>\n",
       "    </tr>\n",
       "    <tr>\n",
       "      <th>8</th>\n",
       "      <td>Район Замоскворечье</td>\n",
       "      <td>14</td>\n",
       "      <td>480</td>\n",
       "    </tr>\n",
       "    <tr>\n",
       "      <th>9</th>\n",
       "      <td>Район Лефортово</td>\n",
       "      <td>12</td>\n",
       "      <td>165</td>\n",
       "    </tr>\n",
       "  </tbody>\n",
       "</table></div>"
      ],
      "text/plain": [
       "                  area  кол-во улиц c 1 точкой питания  кол-во улиц на районе\n",
       "0  Таганский район      26                              543                  \n",
       "1  Район Хамовники      26                              391                  \n",
       "2  Басманный район      25                              705                  \n",
       "3  Тверской район       21                              1128                 \n",
       "4  Пресненский район    20                              793                  \n",
       "5  Район Марьина роща   19                              428                  \n",
       "6  Район Арбат          18                              378                  \n",
       "7  Мещанский район      16                              664                  \n",
       "8  Район Замоскворечье  14                              480                  \n",
       "9  Район Лефортово      12                              165                  "
      ]
     },
     "execution_count": 191,
     "metadata": {},
     "output_type": "execute_result"
    }
   ],
   "source": [
    "area_1 = area_1.merge(street_area, left_on = 'area', how='inner', right_on='area')\n",
    "area_1.head(10)"
   ]
  },
  {
   "cell_type": "markdown",
   "metadata": {},
   "source": [
    "Введем индекс конкурентции. Разделим кол-во улиц на районе на кол-во улиц с 1 точкой питания. Чем больше меньше индекс, тем меньше конкуренция. "
   ]
  },
  {
   "cell_type": "code",
   "execution_count": 192,
   "metadata": {},
   "outputs": [
    {
     "data": {
      "text/html": [
       "<div><div id=996a8371-79e8-4dce-a67e-bf8a3442e971 style=\"display:none; background-color:#9D6CFF; color:white; width:200px; height:30px; padding-left:5px; border-radius:4px; flex-direction:row; justify-content:space-around; align-items:center;\" onmouseover=\"this.style.backgroundColor='#BA9BF8'\" onmouseout=\"this.style.backgroundColor='#9D6CFF'\" onclick=\"window.commands?.execute('create-mitosheet-from-dataframe-output');\">See Full Dataframe in Mito</div> <script> if (window.commands.hasCommand('create-mitosheet-from-dataframe-output')) document.getElementById('996a8371-79e8-4dce-a67e-bf8a3442e971').style.display = 'flex' </script> <table border=\"1\" class=\"dataframe\">\n",
       "  <thead>\n",
       "    <tr style=\"text-align: right;\">\n",
       "      <th></th>\n",
       "      <th>area</th>\n",
       "      <th>кол-во улиц c 1 точкой питания</th>\n",
       "      <th>кол-во улиц на районе</th>\n",
       "      <th>rival_index</th>\n",
       "    </tr>\n",
       "  </thead>\n",
       "  <tbody>\n",
       "    <tr>\n",
       "      <th>81</th>\n",
       "      <td>Район Некрасовка</td>\n",
       "      <td>2</td>\n",
       "      <td>10</td>\n",
       "      <td>5.0</td>\n",
       "    </tr>\n",
       "    <tr>\n",
       "      <th>20</th>\n",
       "      <td>Можайский Район</td>\n",
       "      <td>8</td>\n",
       "      <td>70</td>\n",
       "      <td>8.8</td>\n",
       "    </tr>\n",
       "    <tr>\n",
       "      <th>23</th>\n",
       "      <td>Лосиноостровский район</td>\n",
       "      <td>7</td>\n",
       "      <td>70</td>\n",
       "      <td>10.0</td>\n",
       "    </tr>\n",
       "    <tr>\n",
       "      <th>13</th>\n",
       "      <td>Район Сокольники</td>\n",
       "      <td>11</td>\n",
       "      <td>117</td>\n",
       "      <td>10.6</td>\n",
       "    </tr>\n",
       "    <tr>\n",
       "      <th>27</th>\n",
       "      <td>Район Солнцево</td>\n",
       "      <td>6</td>\n",
       "      <td>77</td>\n",
       "      <td>12.8</td>\n",
       "    </tr>\n",
       "    <tr>\n",
       "      <th>14</th>\n",
       "      <td>Район Богородское</td>\n",
       "      <td>10</td>\n",
       "      <td>133</td>\n",
       "      <td>13.3</td>\n",
       "    </tr>\n",
       "    <tr>\n",
       "      <th>9</th>\n",
       "      <td>Район Лефортово</td>\n",
       "      <td>12</td>\n",
       "      <td>165</td>\n",
       "      <td>13.8</td>\n",
       "    </tr>\n",
       "    <tr>\n",
       "      <th>55</th>\n",
       "      <td>Район Косино-Ухтомский</td>\n",
       "      <td>4</td>\n",
       "      <td>59</td>\n",
       "      <td>14.8</td>\n",
       "    </tr>\n",
       "    <tr>\n",
       "      <th>1</th>\n",
       "      <td>Район Хамовники</td>\n",
       "      <td>26</td>\n",
       "      <td>391</td>\n",
       "      <td>15.0</td>\n",
       "    </tr>\n",
       "    <tr>\n",
       "      <th>101</th>\n",
       "      <td>Район Капотня</td>\n",
       "      <td>1</td>\n",
       "      <td>16</td>\n",
       "      <td>16.0</td>\n",
       "    </tr>\n",
       "  </tbody>\n",
       "</table></div>"
      ],
      "text/plain": [
       "                       area  кол-во улиц c 1 точкой питания  \\\n",
       "81   Район Некрасовка        2                                \n",
       "20   Можайский Район         8                                \n",
       "23   Лосиноостровский район  7                                \n",
       "13   Район Сокольники        11                               \n",
       "27   Район Солнцево          6                                \n",
       "14   Район Богородское       10                               \n",
       "9    Район Лефортово         12                               \n",
       "55   Район Косино-Ухтомский  4                                \n",
       "1    Район Хамовники         26                               \n",
       "101  Район Капотня           1                                \n",
       "\n",
       "     кол-во улиц на районе  rival_index  \n",
       "81   10                    5.0           \n",
       "20   70                    8.8           \n",
       "23   70                    10.0          \n",
       "13   117                   10.6          \n",
       "27   77                    12.8          \n",
       "14   133                   13.3          \n",
       "9    165                   13.8          \n",
       "55   59                    14.8          \n",
       "1    391                   15.0          \n",
       "101  16                    16.0          "
      ]
     },
     "execution_count": 192,
     "metadata": {},
     "output_type": "execute_result"
    }
   ],
   "source": [
    "area_1['rival_index'] = area_1['кол-во улиц на районе']/area_1['кол-во улиц c 1 точкой питания']\n",
    "area_1 = area_1.sort_values(by = 'rival_index', ascending=True)\n",
    "area_1 = area_1[area_1['кол-во улиц на районе']>=10] # Уберем маленькие районы с маленьким кол-ом улиц\n",
    "area_1.head(10)"
   ]
  },
  {
   "cell_type": "markdown",
   "metadata": {},
   "source": [
    "Мы видим, что самыми перспективными районами являются районы Некрасовка, Можайский, Лосиноостровский. В них есть дефицит точек общественного питания. Практически нет конкуренции. "
   ]
  },
  {
   "cell_type": "markdown",
   "metadata": {},
   "source": [
    "# Вывод"
   ]
  },
  {
   "cell_type": "markdown",
   "metadata": {},
   "source": [
    "Я рекомендую открыть предприятие быстрого обслуживания. Ключевыми нашими клиентами в будние дни будут офисные сотрудники, пришедшие на обед. Для них важно не высокая цена и быстрое обслуживание. А в выходные дни это будут родители с детьми. Роботы будут наравится детям, что-то не обычное и интересное для детей. Для таких клиентов важна атмосфера, соответствующий интерьер. Что касается кол-ва посадочных мест, то мои рекомендации открыть предприятие на 25 посадочных мест. Идеально, если будет найдено помещение, где можно в дальнейшем арендовать большую площадь и увеличить кол-во посадочных мест. Почему не кафе. Как мы видим из исследования кол-во точек кафе слишком большое. Это создает не нужную нам конкуренцию. Столовую мы не можем открыть, потому что у нас обслуживают роботы. Будет сложно внедрить роботов в столовую, да и окупаться она скорее всего не будет. Мои рекомендации по районам, где стоит рассмотреть открытие точки. Самая маленькая конкуренция в районах Некрасовка, Можайский, Лосиноостровский. "
   ]
  },
  {
   "cell_type": "markdown",
   "metadata": {},
   "source": [
    "# Презентация"
   ]
  },
  {
   "cell_type": "markdown",
   "metadata": {},
   "source": [
    "Я подготовила презентацию. Исследование рынка общественного питания Москвы. "
   ]
  },
  {
   "cell_type": "markdown",
   "metadata": {},
   "source": [
    "Презентация: <https://disk.yandex.ru/i/ejHYEmRBIzBB6Q> \n"
   ]
  },
  {
   "cell_type": "code",
   "execution_count": null,
   "metadata": {},
   "outputs": [],
   "source": []
  }
 ],
 "metadata": {
  "ExecuteTimeLog": [
   {
    "duration": 351,
    "start_time": "2022-06-14T03:29:19.196Z"
   },
   {
    "duration": 259,
    "start_time": "2022-06-14T03:30:39.718Z"
   },
   {
    "duration": 40,
    "start_time": "2022-06-14T03:31:32.964Z"
   },
   {
    "duration": 38,
    "start_time": "2022-06-14T03:32:05.512Z"
   },
   {
    "duration": 59,
    "start_time": "2022-06-14T03:33:35.988Z"
   },
   {
    "duration": 9,
    "start_time": "2022-06-14T03:33:41.439Z"
   },
   {
    "duration": 46,
    "start_time": "2022-06-14T23:18:44.294Z"
   },
   {
    "duration": 3,
    "start_time": "2022-06-15T00:55:26.096Z"
   },
   {
    "duration": 88,
    "start_time": "2022-06-15T00:55:26.100Z"
   },
   {
    "duration": 46,
    "start_time": "2022-06-15T00:55:26.190Z"
   },
   {
    "duration": 37,
    "start_time": "2022-06-15T00:55:44.321Z"
   },
   {
    "duration": 59,
    "start_time": "2022-06-15T07:00:37.349Z"
   },
   {
    "duration": 460,
    "start_time": "2022-06-15T07:00:41.238Z"
   },
   {
    "duration": 168,
    "start_time": "2022-06-15T07:00:41.701Z"
   },
   {
    "duration": 67,
    "start_time": "2022-06-15T07:00:41.872Z"
   },
   {
    "duration": 5,
    "start_time": "2022-06-15T07:00:41.942Z"
   },
   {
    "duration": 19,
    "start_time": "2022-06-15T07:00:53.205Z"
   },
   {
    "duration": 18,
    "start_time": "2022-06-15T07:01:14.737Z"
   },
   {
    "duration": 267,
    "start_time": "2022-06-15T07:26:28.075Z"
   },
   {
    "duration": 83,
    "start_time": "2022-06-15T07:26:28.345Z"
   },
   {
    "duration": 51,
    "start_time": "2022-06-15T07:26:28.429Z"
   },
   {
    "duration": 5,
    "start_time": "2022-06-15T07:26:28.483Z"
   },
   {
    "duration": 18,
    "start_time": "2022-06-15T07:26:28.490Z"
   },
   {
    "duration": 95,
    "start_time": "2022-06-15T07:26:28.510Z"
   },
   {
    "duration": 34,
    "start_time": "2022-06-15T07:27:26.945Z"
   },
   {
    "duration": 45,
    "start_time": "2022-06-15T07:27:45.858Z"
   },
   {
    "duration": 511,
    "start_time": "2022-06-15T07:27:53.793Z"
   },
   {
    "duration": 177,
    "start_time": "2022-06-15T07:28:25.793Z"
   },
   {
    "duration": 88,
    "start_time": "2022-06-15T07:29:37.949Z"
   },
   {
    "duration": 19,
    "start_time": "2022-06-15T07:30:03.202Z"
   },
   {
    "duration": 30,
    "start_time": "2022-06-15T07:35:22.018Z"
   },
   {
    "duration": 20,
    "start_time": "2022-06-15T07:35:31.723Z"
   },
   {
    "duration": 168,
    "start_time": "2022-06-15T07:36:09.387Z"
   },
   {
    "duration": 20,
    "start_time": "2022-06-15T07:37:25.379Z"
   },
   {
    "duration": 9,
    "start_time": "2022-06-15T07:40:03.132Z"
   },
   {
    "duration": 9,
    "start_time": "2022-06-15T07:41:27.522Z"
   },
   {
    "duration": 32,
    "start_time": "2022-06-15T07:44:32.541Z"
   },
   {
    "duration": 10,
    "start_time": "2022-06-15T07:45:52.777Z"
   },
   {
    "duration": 18,
    "start_time": "2022-06-15T07:51:04.082Z"
   },
   {
    "duration": 12,
    "start_time": "2022-06-15T07:53:01.425Z"
   },
   {
    "duration": 10,
    "start_time": "2022-06-15T07:53:19.513Z"
   },
   {
    "duration": 60,
    "start_time": "2022-06-15T07:58:49.297Z"
   },
   {
    "duration": 24,
    "start_time": "2022-06-15T07:59:04.730Z"
   },
   {
    "duration": 26,
    "start_time": "2022-06-15T08:00:21.626Z"
   },
   {
    "duration": 36,
    "start_time": "2022-06-15T08:02:05.282Z"
   },
   {
    "duration": 18,
    "start_time": "2022-06-15T08:02:32.305Z"
   },
   {
    "duration": 319,
    "start_time": "2022-06-15T08:02:49.986Z"
   },
   {
    "duration": 797,
    "start_time": "2022-06-16T00:19:10.260Z"
   },
   {
    "duration": 271,
    "start_time": "2022-06-16T00:19:11.059Z"
   },
   {
    "duration": 47,
    "start_time": "2022-06-16T00:19:11.331Z"
   },
   {
    "duration": 5,
    "start_time": "2022-06-16T00:19:11.380Z"
   },
   {
    "duration": 18,
    "start_time": "2022-06-16T00:19:11.387Z"
   },
   {
    "duration": 173,
    "start_time": "2022-06-16T00:19:11.406Z"
   },
   {
    "duration": 16,
    "start_time": "2022-06-16T00:19:11.581Z"
   },
   {
    "duration": 4,
    "start_time": "2022-06-16T00:19:11.598Z"
   },
   {
    "duration": 0,
    "start_time": "2022-06-16T00:19:11.603Z"
   },
   {
    "duration": 0,
    "start_time": "2022-06-16T00:19:11.605Z"
   },
   {
    "duration": 0,
    "start_time": "2022-06-16T00:19:11.606Z"
   },
   {
    "duration": 0,
    "start_time": "2022-06-16T00:19:11.607Z"
   },
   {
    "duration": 3,
    "start_time": "2022-06-16T00:19:31.317Z"
   },
   {
    "duration": 87,
    "start_time": "2022-06-16T00:19:31.322Z"
   },
   {
    "duration": 38,
    "start_time": "2022-06-16T00:19:31.410Z"
   },
   {
    "duration": 4,
    "start_time": "2022-06-16T00:19:31.450Z"
   },
   {
    "duration": 41,
    "start_time": "2022-06-16T00:19:31.456Z"
   },
   {
    "duration": 15,
    "start_time": "2022-06-16T00:19:31.499Z"
   },
   {
    "duration": 8,
    "start_time": "2022-06-16T00:19:31.516Z"
   },
   {
    "duration": 13,
    "start_time": "2022-06-16T00:19:31.525Z"
   },
   {
    "duration": 10,
    "start_time": "2022-06-16T00:19:31.539Z"
   },
   {
    "duration": 31,
    "start_time": "2022-06-16T00:19:31.550Z"
   },
   {
    "duration": 288,
    "start_time": "2022-06-16T00:19:31.582Z"
   },
   {
    "duration": 67,
    "start_time": "2022-06-16T00:19:56.400Z"
   },
   {
    "duration": 413,
    "start_time": "2022-06-16T00:24:28.191Z"
   },
   {
    "duration": 30,
    "start_time": "2022-06-16T00:25:15.534Z"
   },
   {
    "duration": 557,
    "start_time": "2022-06-16T00:25:19.550Z"
   },
   {
    "duration": 11,
    "start_time": "2022-06-16T00:25:54.806Z"
   },
   {
    "duration": 8,
    "start_time": "2022-06-16T00:26:17.371Z"
   },
   {
    "duration": 17,
    "start_time": "2022-06-16T00:27:17.450Z"
   },
   {
    "duration": 303,
    "start_time": "2022-06-16T00:28:10.963Z"
   },
   {
    "duration": 308,
    "start_time": "2022-06-16T00:30:07.106Z"
   },
   {
    "duration": 282,
    "start_time": "2022-06-16T00:30:32.214Z"
   },
   {
    "duration": 215,
    "start_time": "2022-06-16T00:30:43.497Z"
   },
   {
    "duration": 280,
    "start_time": "2022-06-16T00:31:39.699Z"
   },
   {
    "duration": 271,
    "start_time": "2022-06-16T00:32:44.933Z"
   },
   {
    "duration": 281,
    "start_time": "2022-06-16T00:33:38.543Z"
   },
   {
    "duration": 287,
    "start_time": "2022-06-16T00:33:46.369Z"
   },
   {
    "duration": 265,
    "start_time": "2022-06-16T00:34:10.007Z"
   },
   {
    "duration": 256,
    "start_time": "2022-06-16T00:34:22.431Z"
   },
   {
    "duration": 240,
    "start_time": "2022-06-16T00:34:34.464Z"
   },
   {
    "duration": 236,
    "start_time": "2022-06-16T00:34:41.884Z"
   },
   {
    "duration": 190,
    "start_time": "2022-06-16T00:42:19.193Z"
   },
   {
    "duration": 198,
    "start_time": "2022-06-16T00:42:52.994Z"
   },
   {
    "duration": 294,
    "start_time": "2022-06-16T00:43:43.634Z"
   },
   {
    "duration": 213,
    "start_time": "2022-06-16T00:44:13.864Z"
   },
   {
    "duration": 218,
    "start_time": "2022-06-16T00:44:26.618Z"
   },
   {
    "duration": 247,
    "start_time": "2022-06-16T00:45:54.717Z"
   },
   {
    "duration": 12,
    "start_time": "2022-06-16T01:18:09.483Z"
   },
   {
    "duration": 13,
    "start_time": "2022-06-16T01:18:18.974Z"
   },
   {
    "duration": 14,
    "start_time": "2022-06-16T01:18:33.314Z"
   },
   {
    "duration": 8,
    "start_time": "2022-06-16T01:18:54.006Z"
   },
   {
    "duration": 12,
    "start_time": "2022-06-16T01:19:03.422Z"
   },
   {
    "duration": 9,
    "start_time": "2022-06-16T01:19:08.177Z"
   },
   {
    "duration": 8,
    "start_time": "2022-06-16T01:19:25.927Z"
   },
   {
    "duration": 12,
    "start_time": "2022-06-16T01:19:33.042Z"
   },
   {
    "duration": 9,
    "start_time": "2022-06-16T01:19:56.478Z"
   },
   {
    "duration": 11,
    "start_time": "2022-06-16T01:20:06.294Z"
   },
   {
    "duration": 10,
    "start_time": "2022-06-16T01:20:12.742Z"
   },
   {
    "duration": 9,
    "start_time": "2022-06-16T01:20:26.095Z"
   },
   {
    "duration": 3,
    "start_time": "2022-06-16T01:21:16.180Z"
   },
   {
    "duration": 116,
    "start_time": "2022-06-16T01:21:16.186Z"
   },
   {
    "duration": 50,
    "start_time": "2022-06-16T01:21:16.305Z"
   },
   {
    "duration": 5,
    "start_time": "2022-06-16T01:21:16.357Z"
   },
   {
    "duration": 26,
    "start_time": "2022-06-16T01:21:16.364Z"
   },
   {
    "duration": 15,
    "start_time": "2022-06-16T01:21:16.392Z"
   },
   {
    "duration": 19,
    "start_time": "2022-06-16T01:21:16.408Z"
   },
   {
    "duration": 9,
    "start_time": "2022-06-16T01:21:16.428Z"
   },
   {
    "duration": 11,
    "start_time": "2022-06-16T01:21:16.438Z"
   },
   {
    "duration": 8,
    "start_time": "2022-06-16T01:21:16.451Z"
   },
   {
    "duration": 278,
    "start_time": "2022-06-16T01:21:16.460Z"
   },
   {
    "duration": 11,
    "start_time": "2022-06-16T01:21:16.740Z"
   },
   {
    "duration": 19,
    "start_time": "2022-06-16T01:21:16.753Z"
   },
   {
    "duration": 0,
    "start_time": "2022-06-16T01:21:16.773Z"
   },
   {
    "duration": 232,
    "start_time": "2022-06-16T01:21:25.269Z"
   },
   {
    "duration": 243,
    "start_time": "2022-06-16T01:23:50.738Z"
   },
   {
    "duration": 164,
    "start_time": "2022-06-16T01:24:47.177Z"
   },
   {
    "duration": 253,
    "start_time": "2022-06-16T01:26:01.172Z"
   },
   {
    "duration": 941,
    "start_time": "2022-06-16T06:35:36.851Z"
   },
   {
    "duration": 332,
    "start_time": "2022-06-16T06:35:37.794Z"
   },
   {
    "duration": 59,
    "start_time": "2022-06-16T06:35:38.127Z"
   },
   {
    "duration": 9,
    "start_time": "2022-06-16T06:35:38.188Z"
   },
   {
    "duration": 22,
    "start_time": "2022-06-16T06:35:38.200Z"
   },
   {
    "duration": 273,
    "start_time": "2022-06-16T06:35:38.227Z"
   },
   {
    "duration": 31,
    "start_time": "2022-06-16T06:35:38.502Z"
   },
   {
    "duration": 16,
    "start_time": "2022-06-16T06:35:38.534Z"
   },
   {
    "duration": 78,
    "start_time": "2022-06-16T06:35:38.551Z"
   },
   {
    "duration": 52,
    "start_time": "2022-06-16T06:35:38.631Z"
   },
   {
    "duration": 334,
    "start_time": "2022-06-16T06:35:38.686Z"
   },
   {
    "duration": 19,
    "start_time": "2022-06-16T06:35:39.028Z"
   },
   {
    "duration": 350,
    "start_time": "2022-06-16T06:35:39.054Z"
   },
   {
    "duration": 335,
    "start_time": "2022-06-16T06:35:39.407Z"
   },
   {
    "duration": 365,
    "start_time": "2022-06-16T06:36:28.239Z"
   },
   {
    "duration": 21,
    "start_time": "2022-06-16T06:37:18.654Z"
   },
   {
    "duration": 32,
    "start_time": "2022-06-16T06:37:35.915Z"
   },
   {
    "duration": 23,
    "start_time": "2022-06-16T06:40:53.254Z"
   },
   {
    "duration": 12,
    "start_time": "2022-06-16T06:42:21.952Z"
   },
   {
    "duration": 678,
    "start_time": "2022-06-16T06:43:54.146Z"
   },
   {
    "duration": 12,
    "start_time": "2022-06-16T06:44:03.590Z"
   },
   {
    "duration": 33,
    "start_time": "2022-06-16T06:50:16.302Z"
   },
   {
    "duration": 1325,
    "start_time": "2022-06-16T06:50:45.798Z"
   },
   {
    "duration": 353,
    "start_time": "2022-06-16T06:50:47.128Z"
   },
   {
    "duration": 51,
    "start_time": "2022-06-16T06:50:47.483Z"
   },
   {
    "duration": 6,
    "start_time": "2022-06-16T06:50:47.536Z"
   },
   {
    "duration": 41,
    "start_time": "2022-06-16T06:50:47.545Z"
   },
   {
    "duration": 866,
    "start_time": "2022-06-16T06:50:47.588Z"
   },
   {
    "duration": 77,
    "start_time": "2022-06-16T06:50:48.456Z"
   },
   {
    "duration": 21,
    "start_time": "2022-06-16T06:50:48.537Z"
   },
   {
    "duration": 20,
    "start_time": "2022-06-16T06:50:48.560Z"
   },
   {
    "duration": 59,
    "start_time": "2022-06-16T06:50:48.582Z"
   },
   {
    "duration": 356,
    "start_time": "2022-06-16T06:50:48.653Z"
   },
   {
    "duration": 24,
    "start_time": "2022-06-16T06:50:49.011Z"
   },
   {
    "duration": 315,
    "start_time": "2022-06-16T06:50:49.037Z"
   },
   {
    "duration": 310,
    "start_time": "2022-06-16T06:50:49.354Z"
   },
   {
    "duration": 11,
    "start_time": "2022-06-16T06:50:49.666Z"
   },
   {
    "duration": 14,
    "start_time": "2022-06-16T06:50:49.679Z"
   },
   {
    "duration": 51,
    "start_time": "2022-06-16T06:50:49.695Z"
   },
   {
    "duration": 295,
    "start_time": "2022-06-16T06:52:34.886Z"
   },
   {
    "duration": 239,
    "start_time": "2022-06-16T06:55:55.205Z"
   },
   {
    "duration": 201,
    "start_time": "2022-06-16T06:56:09.918Z"
   },
   {
    "duration": 23,
    "start_time": "2022-06-16T07:08:49.644Z"
   },
   {
    "duration": 9,
    "start_time": "2022-06-16T07:22:10.090Z"
   },
   {
    "duration": 6,
    "start_time": "2022-06-16T07:22:23.278Z"
   },
   {
    "duration": 32,
    "start_time": "2022-06-16T07:22:24.354Z"
   },
   {
    "duration": 1167,
    "start_time": "2022-06-16T07:22:53.767Z"
   },
   {
    "duration": 2386,
    "start_time": "2022-06-16T07:22:54.937Z"
   },
   {
    "duration": 9,
    "start_time": "2022-06-16T07:23:42.716Z"
   },
   {
    "duration": 1286,
    "start_time": "2022-06-16T07:23:43.370Z"
   },
   {
    "duration": 28,
    "start_time": "2022-06-16T07:23:58.417Z"
   },
   {
    "duration": 29,
    "start_time": "2022-06-16T07:23:58.981Z"
   },
   {
    "duration": 31,
    "start_time": "2022-06-16T07:25:39.125Z"
   },
   {
    "duration": 33,
    "start_time": "2022-06-16T07:25:51.189Z"
   },
   {
    "duration": 20,
    "start_time": "2022-06-16T07:26:00.082Z"
   },
   {
    "duration": 158,
    "start_time": "2022-06-16T07:28:47.570Z"
   },
   {
    "duration": 98,
    "start_time": "2022-06-16T07:29:14.302Z"
   },
   {
    "duration": 40,
    "start_time": "2022-06-16T07:29:23.358Z"
   },
   {
    "duration": 32,
    "start_time": "2022-06-16T07:29:37.517Z"
   },
   {
    "duration": 44,
    "start_time": "2022-06-16T07:31:42.874Z"
   },
   {
    "duration": 24,
    "start_time": "2022-06-16T07:31:49.783Z"
   },
   {
    "duration": 614,
    "start_time": "2022-06-16T07:31:52.242Z"
   },
   {
    "duration": 293,
    "start_time": "2022-06-16T07:32:41.825Z"
   },
   {
    "duration": 17,
    "start_time": "2022-06-16T07:33:17.386Z"
   },
   {
    "duration": 1237,
    "start_time": "2022-06-16T07:33:19.779Z"
   },
   {
    "duration": 14,
    "start_time": "2022-06-16T07:33:39.213Z"
   },
   {
    "duration": 550,
    "start_time": "2022-06-16T07:33:51.580Z"
   },
   {
    "duration": 848,
    "start_time": "2022-06-16T07:34:16.376Z"
   },
   {
    "duration": 166,
    "start_time": "2022-06-16T07:34:17.228Z"
   },
   {
    "duration": 107,
    "start_time": "2022-06-16T07:34:17.404Z"
   },
   {
    "duration": 7,
    "start_time": "2022-06-16T07:34:17.516Z"
   },
   {
    "duration": 103,
    "start_time": "2022-06-16T07:34:17.525Z"
   },
   {
    "duration": 279,
    "start_time": "2022-06-16T07:34:17.634Z"
   },
   {
    "duration": 30,
    "start_time": "2022-06-16T07:34:17.914Z"
   },
   {
    "duration": 69,
    "start_time": "2022-06-16T07:34:17.946Z"
   },
   {
    "duration": 67,
    "start_time": "2022-06-16T07:34:18.017Z"
   },
   {
    "duration": 31,
    "start_time": "2022-06-16T07:34:18.087Z"
   },
   {
    "duration": 398,
    "start_time": "2022-06-16T07:34:18.120Z"
   },
   {
    "duration": 19,
    "start_time": "2022-06-16T07:34:18.520Z"
   },
   {
    "duration": 350,
    "start_time": "2022-06-16T07:34:18.554Z"
   },
   {
    "duration": 395,
    "start_time": "2022-06-16T07:34:18.907Z"
   },
   {
    "duration": 18,
    "start_time": "2022-06-16T07:34:19.304Z"
   },
   {
    "duration": 23,
    "start_time": "2022-06-16T07:34:19.324Z"
   },
   {
    "duration": 330,
    "start_time": "2022-06-16T07:34:19.350Z"
   },
   {
    "duration": 24,
    "start_time": "2022-06-16T07:34:19.682Z"
   },
   {
    "duration": 12,
    "start_time": "2022-06-16T07:34:19.707Z"
   },
   {
    "duration": 191,
    "start_time": "2022-06-16T07:34:19.734Z"
   },
   {
    "duration": 3,
    "start_time": "2022-06-16T23:05:11.805Z"
   },
   {
    "duration": 285,
    "start_time": "2022-06-16T23:05:11.810Z"
   },
   {
    "duration": 53,
    "start_time": "2022-06-16T23:05:12.096Z"
   },
   {
    "duration": 5,
    "start_time": "2022-06-16T23:05:12.151Z"
   },
   {
    "duration": 17,
    "start_time": "2022-06-16T23:05:12.158Z"
   },
   {
    "duration": 18,
    "start_time": "2022-06-16T23:05:12.177Z"
   },
   {
    "duration": 34,
    "start_time": "2022-06-16T23:05:12.197Z"
   },
   {
    "duration": 14,
    "start_time": "2022-06-16T23:05:12.233Z"
   },
   {
    "duration": 11,
    "start_time": "2022-06-16T23:05:12.250Z"
   },
   {
    "duration": 10,
    "start_time": "2022-06-16T23:05:12.263Z"
   },
   {
    "duration": 326,
    "start_time": "2022-06-16T23:05:12.275Z"
   },
   {
    "duration": 10,
    "start_time": "2022-06-16T23:05:12.603Z"
   },
   {
    "duration": 231,
    "start_time": "2022-06-16T23:05:12.615Z"
   },
   {
    "duration": 337,
    "start_time": "2022-06-16T23:05:12.849Z"
   },
   {
    "duration": 10,
    "start_time": "2022-06-16T23:05:13.188Z"
   },
   {
    "duration": 34,
    "start_time": "2022-06-16T23:05:13.200Z"
   },
   {
    "duration": 222,
    "start_time": "2022-06-16T23:05:13.237Z"
   },
   {
    "duration": 12,
    "start_time": "2022-06-16T23:05:13.461Z"
   },
   {
    "duration": 0,
    "start_time": "2022-06-16T23:05:13.475Z"
   },
   {
    "duration": 0,
    "start_time": "2022-06-16T23:05:13.476Z"
   },
   {
    "duration": 25,
    "start_time": "2022-06-16T23:05:40.854Z"
   },
   {
    "duration": 11,
    "start_time": "2022-06-16T23:06:01.214Z"
   },
   {
    "duration": 33,
    "start_time": "2022-06-17T04:08:17.177Z"
   },
   {
    "duration": 41,
    "start_time": "2022-06-17T04:08:38.422Z"
   },
   {
    "duration": 15,
    "start_time": "2022-06-17T04:08:58.514Z"
   },
   {
    "duration": 23,
    "start_time": "2022-06-17T04:10:46.289Z"
   },
   {
    "duration": 18,
    "start_time": "2022-06-17T04:10:56.901Z"
   },
   {
    "duration": 31,
    "start_time": "2022-06-17T04:13:22.719Z"
   },
   {
    "duration": 24,
    "start_time": "2022-06-17T04:14:24.420Z"
   },
   {
    "duration": 18,
    "start_time": "2022-06-17T04:16:00.186Z"
   },
   {
    "duration": 1312,
    "start_time": "2022-06-17T04:20:22.584Z"
   },
   {
    "duration": 7,
    "start_time": "2022-06-17T04:20:52.867Z"
   },
   {
    "duration": 60,
    "start_time": "2022-06-17T04:30:20.427Z"
   },
   {
    "duration": 82,
    "start_time": "2022-06-17T04:31:30.511Z"
   },
   {
    "duration": 49,
    "start_time": "2022-06-17T04:31:33.453Z"
   },
   {
    "duration": 26,
    "start_time": "2022-06-17T04:32:44.289Z"
   },
   {
    "duration": 4,
    "start_time": "2022-06-17T04:32:58.246Z"
   },
   {
    "duration": 283,
    "start_time": "2022-06-17T04:32:58.253Z"
   },
   {
    "duration": 70,
    "start_time": "2022-06-17T04:32:58.538Z"
   },
   {
    "duration": 5,
    "start_time": "2022-06-17T04:32:58.610Z"
   },
   {
    "duration": 24,
    "start_time": "2022-06-17T04:32:58.618Z"
   },
   {
    "duration": 959,
    "start_time": "2022-06-17T04:32:58.644Z"
   },
   {
    "duration": 17,
    "start_time": "2022-06-17T04:32:59.605Z"
   },
   {
    "duration": 23,
    "start_time": "2022-06-17T04:32:59.624Z"
   },
   {
    "duration": 42,
    "start_time": "2022-06-17T04:32:59.649Z"
   },
   {
    "duration": 25,
    "start_time": "2022-06-17T04:32:59.692Z"
   },
   {
    "duration": 81,
    "start_time": "2022-06-17T04:32:59.719Z"
   },
   {
    "duration": 410,
    "start_time": "2022-06-17T04:32:59.801Z"
   },
   {
    "duration": 15,
    "start_time": "2022-06-17T04:33:00.213Z"
   },
   {
    "duration": 292,
    "start_time": "2022-06-17T04:33:00.231Z"
   },
   {
    "duration": 412,
    "start_time": "2022-06-17T04:33:00.525Z"
   },
   {
    "duration": 15,
    "start_time": "2022-06-17T04:33:00.953Z"
   },
   {
    "duration": 24,
    "start_time": "2022-06-17T04:33:00.971Z"
   },
   {
    "duration": 275,
    "start_time": "2022-06-17T04:33:00.997Z"
   },
   {
    "duration": 29,
    "start_time": "2022-06-17T04:33:01.276Z"
   },
   {
    "duration": 12,
    "start_time": "2022-06-17T04:33:01.308Z"
   },
   {
    "duration": 77,
    "start_time": "2022-06-17T04:33:01.322Z"
   },
   {
    "duration": 24,
    "start_time": "2022-06-17T04:33:01.401Z"
   },
   {
    "duration": 19,
    "start_time": "2022-06-17T04:33:01.428Z"
   },
   {
    "duration": 15,
    "start_time": "2022-06-17T04:33:57.188Z"
   },
   {
    "duration": 31,
    "start_time": "2022-06-17T04:34:00.925Z"
   },
   {
    "duration": 17,
    "start_time": "2022-06-17T04:37:00.953Z"
   },
   {
    "duration": 20,
    "start_time": "2022-06-17T04:37:19.079Z"
   },
   {
    "duration": 16,
    "start_time": "2022-06-17T04:40:44.268Z"
   },
   {
    "duration": 16,
    "start_time": "2022-06-17T04:40:53.077Z"
   },
   {
    "duration": 18,
    "start_time": "2022-06-17T04:41:11.301Z"
   },
   {
    "duration": 15,
    "start_time": "2022-06-17T04:41:37.781Z"
   },
   {
    "duration": 259,
    "start_time": "2022-06-17T04:41:51.555Z"
   },
   {
    "duration": 538,
    "start_time": "2022-06-17T04:41:59.797Z"
   },
   {
    "duration": 577,
    "start_time": "2022-06-17T04:42:46.746Z"
   },
   {
    "duration": 218,
    "start_time": "2022-06-17T04:43:23.285Z"
   },
   {
    "duration": 788,
    "start_time": "2022-06-17T04:43:36.865Z"
   },
   {
    "duration": 84,
    "start_time": "2022-06-17T04:43:37.657Z"
   },
   {
    "duration": 64,
    "start_time": "2022-06-17T04:43:37.743Z"
   },
   {
    "duration": 27,
    "start_time": "2022-06-17T04:43:37.809Z"
   },
   {
    "duration": 46,
    "start_time": "2022-06-17T04:43:37.839Z"
   },
   {
    "duration": 1007,
    "start_time": "2022-06-17T04:43:37.887Z"
   },
   {
    "duration": 184,
    "start_time": "2022-06-17T04:43:38.895Z"
   },
   {
    "duration": 20,
    "start_time": "2022-06-17T04:43:39.080Z"
   },
   {
    "duration": 10,
    "start_time": "2022-06-17T04:43:39.102Z"
   },
   {
    "duration": 36,
    "start_time": "2022-06-17T04:43:39.113Z"
   },
   {
    "duration": 33,
    "start_time": "2022-06-17T04:43:39.151Z"
   },
   {
    "duration": 470,
    "start_time": "2022-06-17T04:43:39.186Z"
   },
   {
    "duration": 19,
    "start_time": "2022-06-17T04:43:39.658Z"
   },
   {
    "duration": 223,
    "start_time": "2022-06-17T04:43:39.684Z"
   },
   {
    "duration": 356,
    "start_time": "2022-06-17T04:43:39.909Z"
   },
   {
    "duration": 9,
    "start_time": "2022-06-17T04:43:40.271Z"
   },
   {
    "duration": 11,
    "start_time": "2022-06-17T04:43:40.282Z"
   },
   {
    "duration": 244,
    "start_time": "2022-06-17T04:43:40.294Z"
   },
   {
    "duration": 27,
    "start_time": "2022-06-17T04:43:40.543Z"
   },
   {
    "duration": 10,
    "start_time": "2022-06-17T04:43:40.572Z"
   },
   {
    "duration": 16,
    "start_time": "2022-06-17T04:43:40.583Z"
   },
   {
    "duration": 39,
    "start_time": "2022-06-17T04:43:40.601Z"
   },
   {
    "duration": 27,
    "start_time": "2022-06-17T04:43:40.648Z"
   },
   {
    "duration": 23,
    "start_time": "2022-06-17T04:44:08.669Z"
   },
   {
    "duration": 23,
    "start_time": "2022-06-17T04:47:44.169Z"
   },
   {
    "duration": 798,
    "start_time": "2022-06-17T04:48:30.499Z"
   },
   {
    "duration": 101,
    "start_time": "2022-06-17T04:48:31.299Z"
   },
   {
    "duration": 65,
    "start_time": "2022-06-17T04:48:31.402Z"
   },
   {
    "duration": 5,
    "start_time": "2022-06-17T04:48:31.469Z"
   },
   {
    "duration": 23,
    "start_time": "2022-06-17T04:48:31.476Z"
   },
   {
    "duration": 1083,
    "start_time": "2022-06-17T04:48:31.501Z"
   },
   {
    "duration": 29,
    "start_time": "2022-06-17T04:48:32.587Z"
   },
   {
    "duration": 173,
    "start_time": "2022-06-17T04:48:32.618Z"
   },
   {
    "duration": 13,
    "start_time": "2022-06-17T04:48:32.792Z"
   },
   {
    "duration": 38,
    "start_time": "2022-06-17T04:48:32.807Z"
   },
   {
    "duration": 15,
    "start_time": "2022-06-17T04:48:32.849Z"
   },
   {
    "duration": 11,
    "start_time": "2022-06-17T04:48:32.865Z"
   },
   {
    "duration": 494,
    "start_time": "2022-06-17T04:48:32.878Z"
   },
   {
    "duration": 16,
    "start_time": "2022-06-17T04:48:33.374Z"
   },
   {
    "duration": 224,
    "start_time": "2022-06-17T04:48:33.392Z"
   },
   {
    "duration": 350,
    "start_time": "2022-06-17T04:48:33.618Z"
   },
   {
    "duration": 10,
    "start_time": "2022-06-17T04:48:33.970Z"
   },
   {
    "duration": 10,
    "start_time": "2022-06-17T04:48:33.982Z"
   },
   {
    "duration": 233,
    "start_time": "2022-06-17T04:48:33.994Z"
   },
   {
    "duration": 42,
    "start_time": "2022-06-17T04:48:34.228Z"
   },
   {
    "duration": 14,
    "start_time": "2022-06-17T04:48:34.273Z"
   },
   {
    "duration": 26,
    "start_time": "2022-06-17T04:48:34.289Z"
   },
   {
    "duration": 21,
    "start_time": "2022-06-17T04:48:34.317Z"
   },
   {
    "duration": 34,
    "start_time": "2022-06-17T04:48:34.340Z"
   },
   {
    "duration": 12,
    "start_time": "2022-06-17T04:48:34.376Z"
   },
   {
    "duration": 5,
    "start_time": "2022-06-17T05:19:41.179Z"
   },
   {
    "duration": 14,
    "start_time": "2022-06-17T05:31:02.583Z"
   },
   {
    "duration": 10,
    "start_time": "2022-06-17T05:31:08.762Z"
   },
   {
    "duration": 11,
    "start_time": "2022-06-17T05:31:29.709Z"
   },
   {
    "duration": 261,
    "start_time": "2022-06-17T05:31:41.317Z"
   },
   {
    "duration": 1176,
    "start_time": "2022-06-17T05:31:58.152Z"
   },
   {
    "duration": 3920,
    "start_time": "2022-06-17T05:32:49.667Z"
   },
   {
    "duration": 279,
    "start_time": "2022-06-17T05:32:53.590Z"
   },
   {
    "duration": 76,
    "start_time": "2022-06-17T05:32:53.871Z"
   },
   {
    "duration": 5,
    "start_time": "2022-06-17T05:32:53.949Z"
   },
   {
    "duration": 20,
    "start_time": "2022-06-17T05:32:53.960Z"
   },
   {
    "duration": 1218,
    "start_time": "2022-06-17T05:32:53.983Z"
   },
   {
    "duration": 44,
    "start_time": "2022-06-17T05:32:55.203Z"
   },
   {
    "duration": 769,
    "start_time": "2022-06-17T05:32:55.258Z"
   },
   {
    "duration": 82,
    "start_time": "2022-06-17T05:32:56.029Z"
   },
   {
    "duration": 31,
    "start_time": "2022-06-17T05:32:56.112Z"
   },
   {
    "duration": 56,
    "start_time": "2022-06-17T05:32:56.144Z"
   },
   {
    "duration": 21,
    "start_time": "2022-06-17T05:32:56.202Z"
   },
   {
    "duration": 738,
    "start_time": "2022-06-17T05:32:56.226Z"
   },
   {
    "duration": 16,
    "start_time": "2022-06-17T05:32:56.967Z"
   },
   {
    "duration": 287,
    "start_time": "2022-06-17T05:32:56.988Z"
   },
   {
    "duration": 434,
    "start_time": "2022-06-17T05:32:57.280Z"
   },
   {
    "duration": 21,
    "start_time": "2022-06-17T05:32:57.716Z"
   },
   {
    "duration": 29,
    "start_time": "2022-06-17T05:32:57.745Z"
   },
   {
    "duration": 247,
    "start_time": "2022-06-17T05:32:57.776Z"
   },
   {
    "duration": 38,
    "start_time": "2022-06-17T05:32:58.035Z"
   },
   {
    "duration": 14,
    "start_time": "2022-06-17T05:32:58.078Z"
   },
   {
    "duration": 18,
    "start_time": "2022-06-17T05:32:58.094Z"
   },
   {
    "duration": 19,
    "start_time": "2022-06-17T05:32:58.115Z"
   },
   {
    "duration": 48,
    "start_time": "2022-06-17T05:32:58.135Z"
   },
   {
    "duration": 7,
    "start_time": "2022-06-17T05:32:58.185Z"
   },
   {
    "duration": 11,
    "start_time": "2022-06-17T05:32:58.193Z"
   },
   {
    "duration": 51,
    "start_time": "2022-06-17T05:53:27.557Z"
   },
   {
    "duration": 18,
    "start_time": "2022-06-17T05:53:33.559Z"
   },
   {
    "duration": 14,
    "start_time": "2022-06-17T05:53:56.985Z"
   },
   {
    "duration": 18,
    "start_time": "2022-06-17T05:55:20.044Z"
   },
   {
    "duration": 13,
    "start_time": "2022-06-17T05:56:06.096Z"
   },
   {
    "duration": 13,
    "start_time": "2022-06-17T05:56:13.776Z"
   },
   {
    "duration": 13,
    "start_time": "2022-06-17T05:56:37.013Z"
   },
   {
    "duration": 37,
    "start_time": "2022-06-17T05:59:49.435Z"
   },
   {
    "duration": 40,
    "start_time": "2022-06-17T06:00:00.461Z"
   },
   {
    "duration": 876,
    "start_time": "2022-06-17T06:00:08.898Z"
   },
   {
    "duration": 97,
    "start_time": "2022-06-17T06:00:09.777Z"
   },
   {
    "duration": 67,
    "start_time": "2022-06-17T06:00:09.876Z"
   },
   {
    "duration": 6,
    "start_time": "2022-06-17T06:00:09.946Z"
   },
   {
    "duration": 17,
    "start_time": "2022-06-17T06:00:09.955Z"
   },
   {
    "duration": 1120,
    "start_time": "2022-06-17T06:00:09.974Z"
   },
   {
    "duration": 29,
    "start_time": "2022-06-17T06:00:11.096Z"
   },
   {
    "duration": 221,
    "start_time": "2022-06-17T06:00:11.128Z"
   },
   {
    "duration": 18,
    "start_time": "2022-06-17T06:00:11.351Z"
   },
   {
    "duration": 30,
    "start_time": "2022-06-17T06:00:11.372Z"
   },
   {
    "duration": 42,
    "start_time": "2022-06-17T06:00:11.430Z"
   },
   {
    "duration": 12,
    "start_time": "2022-06-17T06:00:11.474Z"
   },
   {
    "duration": 410,
    "start_time": "2022-06-17T06:00:11.532Z"
   },
   {
    "duration": 13,
    "start_time": "2022-06-17T06:00:11.946Z"
   },
   {
    "duration": 257,
    "start_time": "2022-06-17T06:00:11.962Z"
   },
   {
    "duration": 392,
    "start_time": "2022-06-17T06:00:12.226Z"
   },
   {
    "duration": 23,
    "start_time": "2022-06-17T06:00:12.620Z"
   },
   {
    "duration": 26,
    "start_time": "2022-06-17T06:00:12.645Z"
   },
   {
    "duration": 271,
    "start_time": "2022-06-17T06:00:12.674Z"
   },
   {
    "duration": 19,
    "start_time": "2022-06-17T06:00:12.948Z"
   },
   {
    "duration": 17,
    "start_time": "2022-06-17T06:00:12.969Z"
   },
   {
    "duration": 44,
    "start_time": "2022-06-17T06:00:12.987Z"
   },
   {
    "duration": 17,
    "start_time": "2022-06-17T06:00:13.038Z"
   },
   {
    "duration": 20,
    "start_time": "2022-06-17T06:00:13.058Z"
   },
   {
    "duration": 121,
    "start_time": "2022-06-17T06:00:13.080Z"
   },
   {
    "duration": 0,
    "start_time": "2022-06-17T06:00:13.203Z"
   },
   {
    "duration": 7,
    "start_time": "2022-06-17T06:00:48.317Z"
   },
   {
    "duration": 7,
    "start_time": "2022-06-17T06:00:49.447Z"
   },
   {
    "duration": 14,
    "start_time": "2022-06-17T06:00:52.703Z"
   },
   {
    "duration": 862,
    "start_time": "2022-06-17T23:58:07.222Z"
   },
   {
    "duration": 309,
    "start_time": "2022-06-17T23:58:08.086Z"
   },
   {
    "duration": 44,
    "start_time": "2022-06-17T23:58:08.396Z"
   },
   {
    "duration": 4,
    "start_time": "2022-06-17T23:58:08.443Z"
   },
   {
    "duration": 31,
    "start_time": "2022-06-17T23:58:08.449Z"
   },
   {
    "duration": 1264,
    "start_time": "2022-06-17T23:58:08.482Z"
   },
   {
    "duration": 23,
    "start_time": "2022-06-17T23:58:09.749Z"
   },
   {
    "duration": 168,
    "start_time": "2022-06-17T23:58:09.774Z"
   },
   {
    "duration": 17,
    "start_time": "2022-06-17T23:58:09.944Z"
   },
   {
    "duration": 10,
    "start_time": "2022-06-17T23:58:09.964Z"
   },
   {
    "duration": 59,
    "start_time": "2022-06-17T23:58:09.976Z"
   },
   {
    "duration": 9,
    "start_time": "2022-06-17T23:58:10.036Z"
   },
   {
    "duration": 402,
    "start_time": "2022-06-17T23:58:10.047Z"
   },
   {
    "duration": 10,
    "start_time": "2022-06-17T23:58:10.451Z"
   },
   {
    "duration": 203,
    "start_time": "2022-06-17T23:58:10.463Z"
   },
   {
    "duration": 301,
    "start_time": "2022-06-17T23:58:10.668Z"
   },
   {
    "duration": 8,
    "start_time": "2022-06-17T23:58:10.971Z"
   },
   {
    "duration": 10,
    "start_time": "2022-06-17T23:58:10.981Z"
   },
   {
    "duration": 194,
    "start_time": "2022-06-17T23:58:10.993Z"
   },
   {
    "duration": 17,
    "start_time": "2022-06-17T23:58:11.189Z"
   },
   {
    "duration": 20,
    "start_time": "2022-06-17T23:58:11.208Z"
   },
   {
    "duration": 12,
    "start_time": "2022-06-17T23:58:11.230Z"
   },
   {
    "duration": 15,
    "start_time": "2022-06-17T23:58:11.244Z"
   },
   {
    "duration": 34,
    "start_time": "2022-06-17T23:58:11.261Z"
   },
   {
    "duration": 7,
    "start_time": "2022-06-17T23:58:11.298Z"
   },
   {
    "duration": 25,
    "start_time": "2022-06-17T23:58:11.306Z"
   },
   {
    "duration": 13,
    "start_time": "2022-06-17T23:58:11.333Z"
   },
   {
    "duration": 2,
    "start_time": "2022-06-18T00:02:31.749Z"
   },
   {
    "duration": 48,
    "start_time": "2022-06-19T00:45:52.114Z"
   },
   {
    "duration": 921,
    "start_time": "2022-06-19T00:46:03.175Z"
   },
   {
    "duration": 264,
    "start_time": "2022-06-19T00:46:04.098Z"
   },
   {
    "duration": 59,
    "start_time": "2022-06-19T00:46:04.364Z"
   },
   {
    "duration": 5,
    "start_time": "2022-06-19T00:46:04.425Z"
   },
   {
    "duration": 24,
    "start_time": "2022-06-19T00:46:04.432Z"
   },
   {
    "duration": 1191,
    "start_time": "2022-06-19T00:46:04.458Z"
   },
   {
    "duration": 23,
    "start_time": "2022-06-19T00:46:05.651Z"
   },
   {
    "duration": 161,
    "start_time": "2022-06-19T00:46:05.676Z"
   },
   {
    "duration": 13,
    "start_time": "2022-06-19T00:46:05.839Z"
   },
   {
    "duration": 10,
    "start_time": "2022-06-19T00:46:05.855Z"
   },
   {
    "duration": 37,
    "start_time": "2022-06-19T00:46:05.866Z"
   },
   {
    "duration": 9,
    "start_time": "2022-06-19T00:46:05.905Z"
   },
   {
    "duration": 423,
    "start_time": "2022-06-19T00:46:05.916Z"
   },
   {
    "duration": 12,
    "start_time": "2022-06-19T00:46:06.341Z"
   },
   {
    "duration": 205,
    "start_time": "2022-06-19T00:46:06.355Z"
   },
   {
    "duration": 305,
    "start_time": "2022-06-19T00:46:06.561Z"
   },
   {
    "duration": 10,
    "start_time": "2022-06-19T00:46:06.868Z"
   },
   {
    "duration": 23,
    "start_time": "2022-06-19T00:46:06.880Z"
   },
   {
    "duration": 197,
    "start_time": "2022-06-19T00:46:06.905Z"
   },
   {
    "duration": 22,
    "start_time": "2022-06-19T00:46:07.104Z"
   },
   {
    "duration": 13,
    "start_time": "2022-06-19T00:46:07.128Z"
   },
   {
    "duration": 21,
    "start_time": "2022-06-19T00:46:07.143Z"
   },
   {
    "duration": 29,
    "start_time": "2022-06-19T00:46:07.166Z"
   },
   {
    "duration": 17,
    "start_time": "2022-06-19T00:46:07.196Z"
   },
   {
    "duration": 6,
    "start_time": "2022-06-19T00:46:07.214Z"
   },
   {
    "duration": 8,
    "start_time": "2022-06-19T00:46:07.221Z"
   },
   {
    "duration": 13,
    "start_time": "2022-06-19T00:46:07.231Z"
   },
   {
    "duration": 120,
    "start_time": "2022-06-19T00:46:07.247Z"
   },
   {
    "duration": 14,
    "start_time": "2022-06-19T00:46:23.303Z"
   },
   {
    "duration": 18,
    "start_time": "2022-06-19T00:46:45.920Z"
   },
   {
    "duration": 13,
    "start_time": "2022-06-19T00:48:21.298Z"
   },
   {
    "duration": 6,
    "start_time": "2022-06-19T00:48:21.722Z"
   },
   {
    "duration": 19,
    "start_time": "2022-06-19T00:48:42.314Z"
   },
   {
    "duration": 16,
    "start_time": "2022-06-19T00:49:57.759Z"
   },
   {
    "duration": 12,
    "start_time": "2022-06-19T00:50:32.526Z"
   },
   {
    "duration": 12,
    "start_time": "2022-06-19T00:50:42.535Z"
   },
   {
    "duration": 12,
    "start_time": "2022-06-19T00:51:13.758Z"
   },
   {
    "duration": 3,
    "start_time": "2022-06-19T00:51:36.262Z"
   },
   {
    "duration": 96,
    "start_time": "2022-06-19T00:51:36.267Z"
   },
   {
    "duration": 40,
    "start_time": "2022-06-19T00:51:36.364Z"
   },
   {
    "duration": 4,
    "start_time": "2022-06-19T00:51:36.406Z"
   },
   {
    "duration": 16,
    "start_time": "2022-06-19T00:51:36.412Z"
   },
   {
    "duration": 1589,
    "start_time": "2022-06-19T00:51:36.430Z"
   },
   {
    "duration": 25,
    "start_time": "2022-06-19T00:51:38.021Z"
   },
   {
    "duration": 18,
    "start_time": "2022-06-19T00:51:38.048Z"
   },
   {
    "duration": 27,
    "start_time": "2022-06-19T00:51:38.067Z"
   },
   {
    "duration": 9,
    "start_time": "2022-06-19T00:51:38.095Z"
   },
   {
    "duration": 11,
    "start_time": "2022-06-19T00:51:38.106Z"
   },
   {
    "duration": 9,
    "start_time": "2022-06-19T00:51:38.119Z"
   },
   {
    "duration": 306,
    "start_time": "2022-06-19T00:51:38.129Z"
   },
   {
    "duration": 10,
    "start_time": "2022-06-19T00:51:38.438Z"
   },
   {
    "duration": 194,
    "start_time": "2022-06-19T00:51:38.449Z"
   },
   {
    "duration": 322,
    "start_time": "2022-06-19T00:51:38.645Z"
   },
   {
    "duration": 10,
    "start_time": "2022-06-19T00:51:38.969Z"
   },
   {
    "duration": 19,
    "start_time": "2022-06-19T00:51:38.981Z"
   },
   {
    "duration": 186,
    "start_time": "2022-06-19T00:51:39.001Z"
   },
   {
    "duration": 18,
    "start_time": "2022-06-19T00:51:39.193Z"
   },
   {
    "duration": 10,
    "start_time": "2022-06-19T00:51:39.213Z"
   },
   {
    "duration": 14,
    "start_time": "2022-06-19T00:51:39.225Z"
   },
   {
    "duration": 114,
    "start_time": "2022-06-19T00:51:39.240Z"
   },
   {
    "duration": 18,
    "start_time": "2022-06-19T00:51:39.356Z"
   },
   {
    "duration": 8,
    "start_time": "2022-06-19T00:51:39.393Z"
   },
   {
    "duration": 11,
    "start_time": "2022-06-19T00:51:39.402Z"
   },
   {
    "duration": 0,
    "start_time": "2022-06-19T00:51:39.415Z"
   },
   {
    "duration": 0,
    "start_time": "2022-06-19T00:51:39.417Z"
   },
   {
    "duration": 0,
    "start_time": "2022-06-19T00:51:39.418Z"
   },
   {
    "duration": 4,
    "start_time": "2022-06-19T00:52:28.486Z"
   },
   {
    "duration": 12,
    "start_time": "2022-06-19T00:52:32.755Z"
   },
   {
    "duration": 17,
    "start_time": "2022-06-19T00:52:33.252Z"
   },
   {
    "duration": 11,
    "start_time": "2022-06-19T00:52:34.007Z"
   },
   {
    "duration": 6,
    "start_time": "2022-06-19T00:53:05.788Z"
   },
   {
    "duration": 4,
    "start_time": "2022-06-19T00:53:08.639Z"
   },
   {
    "duration": 5,
    "start_time": "2022-06-19T00:53:54.354Z"
   },
   {
    "duration": 5,
    "start_time": "2022-06-19T00:54:39.509Z"
   },
   {
    "duration": 6,
    "start_time": "2022-06-19T00:54:39.954Z"
   },
   {
    "duration": 12,
    "start_time": "2022-06-19T00:54:58.916Z"
   },
   {
    "duration": 3,
    "start_time": "2022-06-19T00:59:04.057Z"
   },
   {
    "duration": 98,
    "start_time": "2022-06-19T00:59:04.062Z"
   },
   {
    "duration": 40,
    "start_time": "2022-06-19T00:59:04.162Z"
   },
   {
    "duration": 5,
    "start_time": "2022-06-19T00:59:04.203Z"
   },
   {
    "duration": 17,
    "start_time": "2022-06-19T00:59:04.210Z"
   },
   {
    "duration": 33332,
    "start_time": "2022-06-19T00:59:04.229Z"
   },
   {
    "duration": 32,
    "start_time": "2022-06-19T00:59:37.563Z"
   },
   {
    "duration": 16,
    "start_time": "2022-06-19T00:59:37.596Z"
   },
   {
    "duration": 9,
    "start_time": "2022-06-19T00:59:37.613Z"
   },
   {
    "duration": 8,
    "start_time": "2022-06-19T00:59:37.623Z"
   },
   {
    "duration": 10,
    "start_time": "2022-06-19T00:59:37.633Z"
   },
   {
    "duration": 9,
    "start_time": "2022-06-19T00:59:37.644Z"
   },
   {
    "duration": 289,
    "start_time": "2022-06-19T00:59:37.654Z"
   },
   {
    "duration": 11,
    "start_time": "2022-06-19T00:59:37.946Z"
   },
   {
    "duration": 196,
    "start_time": "2022-06-19T00:59:37.958Z"
   },
   {
    "duration": 297,
    "start_time": "2022-06-19T00:59:38.156Z"
   },
   {
    "duration": 10,
    "start_time": "2022-06-19T00:59:38.455Z"
   },
   {
    "duration": 11,
    "start_time": "2022-06-19T00:59:38.467Z"
   },
   {
    "duration": 212,
    "start_time": "2022-06-19T00:59:38.495Z"
   },
   {
    "duration": 18,
    "start_time": "2022-06-19T00:59:38.709Z"
   },
   {
    "duration": 13,
    "start_time": "2022-06-19T00:59:38.729Z"
   },
   {
    "duration": 18,
    "start_time": "2022-06-19T00:59:38.744Z"
   },
   {
    "duration": 31,
    "start_time": "2022-06-19T00:59:38.763Z"
   },
   {
    "duration": 13,
    "start_time": "2022-06-19T00:59:38.796Z"
   },
   {
    "duration": 0,
    "start_time": "2022-06-19T00:59:38.810Z"
   },
   {
    "duration": 0,
    "start_time": "2022-06-19T00:59:38.811Z"
   },
   {
    "duration": 0,
    "start_time": "2022-06-19T00:59:38.812Z"
   },
   {
    "duration": 0,
    "start_time": "2022-06-19T00:59:38.813Z"
   },
   {
    "duration": 0,
    "start_time": "2022-06-19T00:59:38.814Z"
   },
   {
    "duration": 0,
    "start_time": "2022-06-19T00:59:38.815Z"
   },
   {
    "duration": 0,
    "start_time": "2022-06-19T00:59:38.816Z"
   },
   {
    "duration": 4,
    "start_time": "2022-06-19T01:04:30.212Z"
   },
   {
    "duration": 117,
    "start_time": "2022-06-19T01:04:30.218Z"
   },
   {
    "duration": 43,
    "start_time": "2022-06-19T01:04:30.337Z"
   },
   {
    "duration": 15,
    "start_time": "2022-06-19T01:04:30.382Z"
   },
   {
    "duration": 32,
    "start_time": "2022-06-19T01:04:30.399Z"
   },
   {
    "duration": 1337,
    "start_time": "2022-06-19T01:04:30.433Z"
   },
   {
    "duration": 21,
    "start_time": "2022-06-19T01:04:31.772Z"
   },
   {
    "duration": 17,
    "start_time": "2022-06-19T01:04:31.794Z"
   },
   {
    "duration": 9,
    "start_time": "2022-06-19T01:04:31.812Z"
   },
   {
    "duration": 10,
    "start_time": "2022-06-19T01:04:31.823Z"
   },
   {
    "duration": 15,
    "start_time": "2022-06-19T01:04:31.834Z"
   },
   {
    "duration": 9,
    "start_time": "2022-06-19T01:04:31.850Z"
   },
   {
    "duration": 304,
    "start_time": "2022-06-19T01:04:31.860Z"
   },
   {
    "duration": 10,
    "start_time": "2022-06-19T01:04:32.167Z"
   },
   {
    "duration": 193,
    "start_time": "2022-06-19T01:04:32.179Z"
   },
   {
    "duration": 5,
    "start_time": "2022-06-19T01:04:33.231Z"
   },
   {
    "duration": 85,
    "start_time": "2022-06-19T01:04:33.237Z"
   },
   {
    "duration": 43,
    "start_time": "2022-06-19T01:04:33.323Z"
   },
   {
    "duration": 4,
    "start_time": "2022-06-19T01:04:33.368Z"
   },
   {
    "duration": 29,
    "start_time": "2022-06-19T01:04:33.373Z"
   },
   {
    "duration": 885,
    "start_time": "2022-06-19T01:04:33.403Z"
   },
   {
    "duration": 22,
    "start_time": "2022-06-19T01:04:34.290Z"
   },
   {
    "duration": 19,
    "start_time": "2022-06-19T01:04:34.313Z"
   },
   {
    "duration": 12,
    "start_time": "2022-06-19T01:04:34.333Z"
   },
   {
    "duration": 10,
    "start_time": "2022-06-19T01:04:34.346Z"
   },
   {
    "duration": 46,
    "start_time": "2022-06-19T01:04:34.358Z"
   },
   {
    "duration": 10,
    "start_time": "2022-06-19T01:04:34.406Z"
   },
   {
    "duration": 281,
    "start_time": "2022-06-19T01:04:34.418Z"
   },
   {
    "duration": 11,
    "start_time": "2022-06-19T01:04:34.701Z"
   },
   {
    "duration": 198,
    "start_time": "2022-06-19T01:04:34.714Z"
   },
   {
    "duration": 292,
    "start_time": "2022-06-19T01:04:34.914Z"
   },
   {
    "duration": 9,
    "start_time": "2022-06-19T01:04:35.209Z"
   },
   {
    "duration": 12,
    "start_time": "2022-06-19T01:04:35.220Z"
   },
   {
    "duration": 201,
    "start_time": "2022-06-19T01:04:35.234Z"
   },
   {
    "duration": 20,
    "start_time": "2022-06-19T01:04:35.437Z"
   },
   {
    "duration": 14,
    "start_time": "2022-06-19T01:04:35.459Z"
   },
   {
    "duration": 30,
    "start_time": "2022-06-19T01:04:35.474Z"
   },
   {
    "duration": 10,
    "start_time": "2022-06-19T01:04:35.506Z"
   },
   {
    "duration": 19,
    "start_time": "2022-06-19T01:04:35.517Z"
   },
   {
    "duration": 5,
    "start_time": "2022-06-19T01:04:35.538Z"
   },
   {
    "duration": 7,
    "start_time": "2022-06-19T01:04:35.545Z"
   },
   {
    "duration": 14,
    "start_time": "2022-06-19T01:04:35.553Z"
   },
   {
    "duration": 40,
    "start_time": "2022-06-19T01:04:35.569Z"
   },
   {
    "duration": 6,
    "start_time": "2022-06-19T01:04:35.611Z"
   },
   {
    "duration": 6,
    "start_time": "2022-06-19T01:04:35.618Z"
   },
   {
    "duration": 8,
    "start_time": "2022-06-19T01:04:35.626Z"
   },
   {
    "duration": 25,
    "start_time": "2022-06-19T01:07:05.513Z"
   },
   {
    "duration": 24,
    "start_time": "2022-06-19T01:07:35.418Z"
   },
   {
    "duration": 17,
    "start_time": "2022-06-19T01:07:44.613Z"
   },
   {
    "duration": 28,
    "start_time": "2022-06-19T01:08:14.027Z"
   },
   {
    "duration": 19,
    "start_time": "2022-06-19T01:08:35.934Z"
   },
   {
    "duration": 17,
    "start_time": "2022-06-19T01:08:40.310Z"
   },
   {
    "duration": 20,
    "start_time": "2022-06-19T01:11:34.965Z"
   },
   {
    "duration": 615,
    "start_time": "2022-06-19T01:12:41.015Z"
   },
   {
    "duration": 0,
    "start_time": "2022-06-19T01:12:41.632Z"
   },
   {
    "duration": 0,
    "start_time": "2022-06-19T01:12:41.634Z"
   },
   {
    "duration": 0,
    "start_time": "2022-06-19T01:12:41.635Z"
   },
   {
    "duration": 0,
    "start_time": "2022-06-19T01:12:41.636Z"
   },
   {
    "duration": 0,
    "start_time": "2022-06-19T01:12:41.637Z"
   },
   {
    "duration": 0,
    "start_time": "2022-06-19T01:12:41.638Z"
   },
   {
    "duration": 0,
    "start_time": "2022-06-19T01:12:41.640Z"
   },
   {
    "duration": 0,
    "start_time": "2022-06-19T01:12:41.641Z"
   },
   {
    "duration": 0,
    "start_time": "2022-06-19T01:12:41.642Z"
   },
   {
    "duration": 0,
    "start_time": "2022-06-19T01:12:41.643Z"
   },
   {
    "duration": 0,
    "start_time": "2022-06-19T01:12:41.644Z"
   },
   {
    "duration": 0,
    "start_time": "2022-06-19T01:12:41.645Z"
   },
   {
    "duration": 0,
    "start_time": "2022-06-19T01:12:41.646Z"
   },
   {
    "duration": 0,
    "start_time": "2022-06-19T01:12:41.647Z"
   },
   {
    "duration": 0,
    "start_time": "2022-06-19T01:12:41.648Z"
   },
   {
    "duration": 0,
    "start_time": "2022-06-19T01:12:41.649Z"
   },
   {
    "duration": 0,
    "start_time": "2022-06-19T01:12:41.650Z"
   },
   {
    "duration": 0,
    "start_time": "2022-06-19T01:12:41.651Z"
   },
   {
    "duration": 0,
    "start_time": "2022-06-19T01:12:41.653Z"
   },
   {
    "duration": 0,
    "start_time": "2022-06-19T01:12:41.654Z"
   },
   {
    "duration": 0,
    "start_time": "2022-06-19T01:12:41.655Z"
   },
   {
    "duration": 0,
    "start_time": "2022-06-19T01:12:41.656Z"
   },
   {
    "duration": 0,
    "start_time": "2022-06-19T01:12:41.656Z"
   },
   {
    "duration": 0,
    "start_time": "2022-06-19T01:12:41.657Z"
   },
   {
    "duration": 0,
    "start_time": "2022-06-19T01:12:41.658Z"
   },
   {
    "duration": 0,
    "start_time": "2022-06-19T01:12:41.659Z"
   },
   {
    "duration": 0,
    "start_time": "2022-06-19T01:12:41.660Z"
   },
   {
    "duration": 0,
    "start_time": "2022-06-19T01:12:41.661Z"
   },
   {
    "duration": 0,
    "start_time": "2022-06-19T01:12:41.663Z"
   },
   {
    "duration": 0,
    "start_time": "2022-06-19T01:12:41.665Z"
   },
   {
    "duration": 4,
    "start_time": "2022-06-19T01:12:59.604Z"
   },
   {
    "duration": 80,
    "start_time": "2022-06-19T01:12:59.610Z"
   },
   {
    "duration": 43,
    "start_time": "2022-06-19T01:12:59.692Z"
   },
   {
    "duration": 5,
    "start_time": "2022-06-19T01:12:59.737Z"
   },
   {
    "duration": 22,
    "start_time": "2022-06-19T01:12:59.744Z"
   },
   {
    "duration": 1257,
    "start_time": "2022-06-19T01:12:59.768Z"
   },
   {
    "duration": 24,
    "start_time": "2022-06-19T01:13:01.027Z"
   },
   {
    "duration": 19,
    "start_time": "2022-06-19T01:13:01.053Z"
   },
   {
    "duration": 0,
    "start_time": "2022-06-19T01:13:01.074Z"
   },
   {
    "duration": 0,
    "start_time": "2022-06-19T01:13:01.075Z"
   },
   {
    "duration": 0,
    "start_time": "2022-06-19T01:13:01.076Z"
   },
   {
    "duration": 0,
    "start_time": "2022-06-19T01:13:01.077Z"
   },
   {
    "duration": 0,
    "start_time": "2022-06-19T01:13:01.078Z"
   },
   {
    "duration": 0,
    "start_time": "2022-06-19T01:13:01.079Z"
   },
   {
    "duration": 0,
    "start_time": "2022-06-19T01:13:01.080Z"
   },
   {
    "duration": 0,
    "start_time": "2022-06-19T01:13:01.094Z"
   },
   {
    "duration": 0,
    "start_time": "2022-06-19T01:13:01.095Z"
   },
   {
    "duration": 0,
    "start_time": "2022-06-19T01:13:01.097Z"
   },
   {
    "duration": 0,
    "start_time": "2022-06-19T01:13:01.098Z"
   },
   {
    "duration": 0,
    "start_time": "2022-06-19T01:13:01.098Z"
   },
   {
    "duration": 0,
    "start_time": "2022-06-19T01:13:01.101Z"
   },
   {
    "duration": 0,
    "start_time": "2022-06-19T01:13:01.102Z"
   },
   {
    "duration": 0,
    "start_time": "2022-06-19T01:13:01.104Z"
   },
   {
    "duration": 0,
    "start_time": "2022-06-19T01:13:01.105Z"
   },
   {
    "duration": 0,
    "start_time": "2022-06-19T01:13:01.106Z"
   },
   {
    "duration": 0,
    "start_time": "2022-06-19T01:13:01.108Z"
   },
   {
    "duration": 0,
    "start_time": "2022-06-19T01:13:01.109Z"
   },
   {
    "duration": 0,
    "start_time": "2022-06-19T01:13:01.110Z"
   },
   {
    "duration": 0,
    "start_time": "2022-06-19T01:13:01.111Z"
   },
   {
    "duration": 0,
    "start_time": "2022-06-19T01:13:01.112Z"
   },
   {
    "duration": 0,
    "start_time": "2022-06-19T01:13:01.113Z"
   },
   {
    "duration": 3,
    "start_time": "2022-06-19T01:13:35.011Z"
   },
   {
    "duration": 21,
    "start_time": "2022-06-19T01:13:44.047Z"
   },
   {
    "duration": 26,
    "start_time": "2022-06-19T01:14:48.199Z"
   },
   {
    "duration": 22,
    "start_time": "2022-06-19T01:15:23.981Z"
   },
   {
    "duration": 19,
    "start_time": "2022-06-19T01:15:30.418Z"
   },
   {
    "duration": 31,
    "start_time": "2022-06-19T01:18:28.310Z"
   },
   {
    "duration": 29,
    "start_time": "2022-06-19T01:18:47.992Z"
   },
   {
    "duration": 16,
    "start_time": "2022-06-19T01:19:07.496Z"
   },
   {
    "duration": 3,
    "start_time": "2022-06-19T01:19:14.647Z"
   },
   {
    "duration": 89,
    "start_time": "2022-06-19T01:19:14.652Z"
   },
   {
    "duration": 39,
    "start_time": "2022-06-19T01:19:14.743Z"
   },
   {
    "duration": 11,
    "start_time": "2022-06-19T01:19:14.783Z"
   },
   {
    "duration": 12,
    "start_time": "2022-06-19T01:19:14.796Z"
   },
   {
    "duration": 1286,
    "start_time": "2022-06-19T01:19:14.809Z"
   },
   {
    "duration": 23,
    "start_time": "2022-06-19T01:19:16.096Z"
   },
   {
    "duration": 16,
    "start_time": "2022-06-19T01:19:16.121Z"
   },
   {
    "duration": 10,
    "start_time": "2022-06-19T01:19:16.138Z"
   },
   {
    "duration": 9,
    "start_time": "2022-06-19T01:19:16.149Z"
   },
   {
    "duration": 42,
    "start_time": "2022-06-19T01:19:16.160Z"
   },
   {
    "duration": 12,
    "start_time": "2022-06-19T01:19:16.204Z"
   },
   {
    "duration": 273,
    "start_time": "2022-06-19T01:19:16.218Z"
   },
   {
    "duration": 9,
    "start_time": "2022-06-19T01:19:16.494Z"
   },
   {
    "duration": 192,
    "start_time": "2022-06-19T01:19:16.505Z"
   },
   {
    "duration": 365,
    "start_time": "2022-06-19T01:19:16.698Z"
   },
   {
    "duration": 9,
    "start_time": "2022-06-19T01:19:17.066Z"
   },
   {
    "duration": 21,
    "start_time": "2022-06-19T01:19:17.076Z"
   },
   {
    "duration": 175,
    "start_time": "2022-06-19T01:19:17.099Z"
   },
   {
    "duration": 22,
    "start_time": "2022-06-19T01:19:17.276Z"
   },
   {
    "duration": 9,
    "start_time": "2022-06-19T01:19:17.300Z"
   },
   {
    "duration": 13,
    "start_time": "2022-06-19T01:19:17.311Z"
   },
   {
    "duration": 10,
    "start_time": "2022-06-19T01:19:17.325Z"
   },
   {
    "duration": 17,
    "start_time": "2022-06-19T01:19:17.337Z"
   },
   {
    "duration": 41,
    "start_time": "2022-06-19T01:19:17.355Z"
   },
   {
    "duration": 4,
    "start_time": "2022-06-19T01:19:17.398Z"
   },
   {
    "duration": 12,
    "start_time": "2022-06-19T01:19:17.404Z"
   },
   {
    "duration": 17,
    "start_time": "2022-06-19T01:19:17.417Z"
   },
   {
    "duration": 5,
    "start_time": "2022-06-19T01:19:17.436Z"
   },
   {
    "duration": 6,
    "start_time": "2022-06-19T01:19:17.443Z"
   },
   {
    "duration": 12,
    "start_time": "2022-06-19T01:19:17.450Z"
   },
   {
    "duration": 22,
    "start_time": "2022-06-19T01:20:03.874Z"
   },
   {
    "duration": 21,
    "start_time": "2022-06-19T01:20:27.938Z"
   },
   {
    "duration": 12,
    "start_time": "2022-06-19T01:20:35.967Z"
   },
   {
    "duration": 12,
    "start_time": "2022-06-19T01:20:43.311Z"
   },
   {
    "duration": 751,
    "start_time": "2022-06-19T01:20:58.167Z"
   },
   {
    "duration": 93,
    "start_time": "2022-06-19T01:20:58.921Z"
   },
   {
    "duration": 46,
    "start_time": "2022-06-19T01:20:59.015Z"
   },
   {
    "duration": 5,
    "start_time": "2022-06-19T01:20:59.063Z"
   },
   {
    "duration": 34,
    "start_time": "2022-06-19T01:20:59.069Z"
   },
   {
    "duration": 942,
    "start_time": "2022-06-19T01:20:59.104Z"
   },
   {
    "duration": 23,
    "start_time": "2022-06-19T01:21:00.048Z"
   },
   {
    "duration": 164,
    "start_time": "2022-06-19T01:21:00.073Z"
   },
   {
    "duration": 13,
    "start_time": "2022-06-19T01:21:00.239Z"
   },
   {
    "duration": 14,
    "start_time": "2022-06-19T01:21:00.255Z"
   },
   {
    "duration": 36,
    "start_time": "2022-06-19T01:21:00.271Z"
   },
   {
    "duration": 17,
    "start_time": "2022-06-19T01:21:00.309Z"
   },
   {
    "duration": 417,
    "start_time": "2022-06-19T01:21:00.328Z"
   },
   {
    "duration": 10,
    "start_time": "2022-06-19T01:21:00.747Z"
   },
   {
    "duration": 188,
    "start_time": "2022-06-19T01:21:00.759Z"
   },
   {
    "duration": 297,
    "start_time": "2022-06-19T01:21:00.949Z"
   },
   {
    "duration": 9,
    "start_time": "2022-06-19T01:21:01.248Z"
   },
   {
    "duration": 19,
    "start_time": "2022-06-19T01:21:01.259Z"
   },
   {
    "duration": 192,
    "start_time": "2022-06-19T01:21:01.279Z"
   },
   {
    "duration": 24,
    "start_time": "2022-06-19T01:21:01.473Z"
   },
   {
    "duration": 21,
    "start_time": "2022-06-19T01:21:01.498Z"
   },
   {
    "duration": 33,
    "start_time": "2022-06-19T01:21:01.521Z"
   },
   {
    "duration": 30,
    "start_time": "2022-06-19T01:21:01.556Z"
   },
   {
    "duration": 58,
    "start_time": "2022-06-19T01:21:01.587Z"
   },
   {
    "duration": 58,
    "start_time": "2022-06-19T01:21:01.646Z"
   },
   {
    "duration": 130,
    "start_time": "2022-06-19T01:21:01.706Z"
   },
   {
    "duration": 0,
    "start_time": "2022-06-19T01:21:01.838Z"
   },
   {
    "duration": 0,
    "start_time": "2022-06-19T01:21:01.839Z"
   },
   {
    "duration": 1,
    "start_time": "2022-06-19T01:21:01.840Z"
   },
   {
    "duration": 0,
    "start_time": "2022-06-19T01:21:01.841Z"
   },
   {
    "duration": 0,
    "start_time": "2022-06-19T01:21:01.842Z"
   },
   {
    "duration": 718,
    "start_time": "2022-06-19T01:21:27.884Z"
   },
   {
    "duration": 78,
    "start_time": "2022-06-19T01:21:28.605Z"
   },
   {
    "duration": 42,
    "start_time": "2022-06-19T01:21:28.684Z"
   },
   {
    "duration": 4,
    "start_time": "2022-06-19T01:21:28.728Z"
   },
   {
    "duration": 15,
    "start_time": "2022-06-19T01:21:28.734Z"
   },
   {
    "duration": 893,
    "start_time": "2022-06-19T01:21:28.750Z"
   },
   {
    "duration": 22,
    "start_time": "2022-06-19T01:21:29.644Z"
   },
   {
    "duration": 148,
    "start_time": "2022-06-19T01:21:29.668Z"
   },
   {
    "duration": 13,
    "start_time": "2022-06-19T01:21:29.817Z"
   },
   {
    "duration": 10,
    "start_time": "2022-06-19T01:21:29.831Z"
   },
   {
    "duration": 9,
    "start_time": "2022-06-19T01:21:29.842Z"
   },
   {
    "duration": 9,
    "start_time": "2022-06-19T01:21:29.893Z"
   },
   {
    "duration": 393,
    "start_time": "2022-06-19T01:21:29.904Z"
   },
   {
    "duration": 11,
    "start_time": "2022-06-19T01:21:30.300Z"
   },
   {
    "duration": 196,
    "start_time": "2022-06-19T01:21:30.313Z"
   },
   {
    "duration": 315,
    "start_time": "2022-06-19T01:21:30.511Z"
   },
   {
    "duration": 10,
    "start_time": "2022-06-19T01:21:30.828Z"
   },
   {
    "duration": 16,
    "start_time": "2022-06-19T01:21:30.839Z"
   },
   {
    "duration": 195,
    "start_time": "2022-06-19T01:21:30.857Z"
   },
   {
    "duration": 18,
    "start_time": "2022-06-19T01:21:31.054Z"
   },
   {
    "duration": 25,
    "start_time": "2022-06-19T01:21:31.073Z"
   },
   {
    "duration": 40,
    "start_time": "2022-06-19T01:21:31.100Z"
   },
   {
    "duration": 14,
    "start_time": "2022-06-19T01:21:31.142Z"
   },
   {
    "duration": 27,
    "start_time": "2022-06-19T01:21:31.158Z"
   },
   {
    "duration": 6,
    "start_time": "2022-06-19T01:21:31.187Z"
   },
   {
    "duration": 96,
    "start_time": "2022-06-19T01:21:31.194Z"
   },
   {
    "duration": 0,
    "start_time": "2022-06-19T01:21:31.291Z"
   },
   {
    "duration": 0,
    "start_time": "2022-06-19T01:21:31.292Z"
   },
   {
    "duration": 0,
    "start_time": "2022-06-19T01:21:31.293Z"
   },
   {
    "duration": 0,
    "start_time": "2022-06-19T01:21:31.294Z"
   },
   {
    "duration": 0,
    "start_time": "2022-06-19T01:21:31.295Z"
   },
   {
    "duration": 7,
    "start_time": "2022-06-19T01:22:08.234Z"
   },
   {
    "duration": 8,
    "start_time": "2022-06-19T01:22:09.497Z"
   },
   {
    "duration": 14,
    "start_time": "2022-06-19T01:23:14.021Z"
   },
   {
    "duration": 8,
    "start_time": "2022-06-19T01:23:14.622Z"
   },
   {
    "duration": 8,
    "start_time": "2022-06-19T01:23:28.365Z"
   },
   {
    "duration": 6,
    "start_time": "2022-06-19T01:23:29.407Z"
   },
   {
    "duration": 6,
    "start_time": "2022-06-19T01:23:30.824Z"
   },
   {
    "duration": 694,
    "start_time": "2022-06-19T01:24:41.624Z"
   },
   {
    "duration": 77,
    "start_time": "2022-06-19T01:24:42.320Z"
   },
   {
    "duration": 45,
    "start_time": "2022-06-19T01:24:42.398Z"
   },
   {
    "duration": 6,
    "start_time": "2022-06-19T01:24:42.445Z"
   },
   {
    "duration": 23,
    "start_time": "2022-06-19T01:24:42.453Z"
   },
   {
    "duration": 1159,
    "start_time": "2022-06-19T01:24:42.478Z"
   },
   {
    "duration": 23,
    "start_time": "2022-06-19T01:24:43.639Z"
   },
   {
    "duration": 148,
    "start_time": "2022-06-19T01:24:43.664Z"
   },
   {
    "duration": 15,
    "start_time": "2022-06-19T01:24:43.813Z"
   },
   {
    "duration": 12,
    "start_time": "2022-06-19T01:24:43.830Z"
   },
   {
    "duration": 51,
    "start_time": "2022-06-19T01:24:43.843Z"
   },
   {
    "duration": 9,
    "start_time": "2022-06-19T01:24:43.896Z"
   },
   {
    "duration": 434,
    "start_time": "2022-06-19T01:24:43.907Z"
   },
   {
    "duration": 13,
    "start_time": "2022-06-19T01:24:44.344Z"
   },
   {
    "duration": 212,
    "start_time": "2022-06-19T01:24:44.359Z"
   },
   {
    "duration": 331,
    "start_time": "2022-06-19T01:24:44.574Z"
   },
   {
    "duration": 10,
    "start_time": "2022-06-19T01:24:44.906Z"
   },
   {
    "duration": 11,
    "start_time": "2022-06-19T01:24:44.918Z"
   },
   {
    "duration": 214,
    "start_time": "2022-06-19T01:24:44.931Z"
   },
   {
    "duration": 21,
    "start_time": "2022-06-19T01:24:45.147Z"
   },
   {
    "duration": 25,
    "start_time": "2022-06-19T01:24:45.169Z"
   },
   {
    "duration": 15,
    "start_time": "2022-06-19T01:24:45.196Z"
   },
   {
    "duration": 14,
    "start_time": "2022-06-19T01:24:45.212Z"
   },
   {
    "duration": 21,
    "start_time": "2022-06-19T01:24:45.228Z"
   },
   {
    "duration": 8,
    "start_time": "2022-06-19T01:24:45.251Z"
   },
   {
    "duration": 37,
    "start_time": "2022-06-19T01:24:45.261Z"
   },
   {
    "duration": 11,
    "start_time": "2022-06-19T01:24:45.300Z"
   },
   {
    "duration": 17,
    "start_time": "2022-06-19T01:24:45.313Z"
   },
   {
    "duration": 18,
    "start_time": "2022-06-19T01:24:45.332Z"
   },
   {
    "duration": 7,
    "start_time": "2022-06-19T01:24:45.352Z"
   },
   {
    "duration": 32,
    "start_time": "2022-06-19T01:24:45.362Z"
   },
   {
    "duration": 12,
    "start_time": "2022-06-19T01:24:45.397Z"
   },
   {
    "duration": 8,
    "start_time": "2022-06-19T01:25:22.116Z"
   },
   {
    "duration": 36,
    "start_time": "2022-06-20T07:05:10.549Z"
   },
   {
    "duration": 47,
    "start_time": "2022-06-20T07:05:15.269Z"
   },
   {
    "duration": 982,
    "start_time": "2022-06-20T07:05:15.319Z"
   },
   {
    "duration": 302,
    "start_time": "2022-06-20T07:05:16.303Z"
   },
   {
    "duration": 50,
    "start_time": "2022-06-20T07:05:16.607Z"
   },
   {
    "duration": 5,
    "start_time": "2022-06-20T07:05:16.659Z"
   },
   {
    "duration": 19,
    "start_time": "2022-06-20T07:05:16.666Z"
   },
   {
    "duration": 927,
    "start_time": "2022-06-20T07:05:16.686Z"
   },
   {
    "duration": 35,
    "start_time": "2022-06-20T07:05:17.615Z"
   },
   {
    "duration": 154,
    "start_time": "2022-06-20T07:05:17.652Z"
   },
   {
    "duration": 22,
    "start_time": "2022-06-20T07:05:17.808Z"
   },
   {
    "duration": 13,
    "start_time": "2022-06-20T07:05:17.833Z"
   },
   {
    "duration": 11,
    "start_time": "2022-06-20T07:05:17.848Z"
   },
   {
    "duration": 8,
    "start_time": "2022-06-20T07:05:17.861Z"
   },
   {
    "duration": 481,
    "start_time": "2022-06-20T07:05:17.873Z"
   },
   {
    "duration": 12,
    "start_time": "2022-06-20T07:05:18.355Z"
   },
   {
    "duration": 214,
    "start_time": "2022-06-20T07:05:18.369Z"
   },
   {
    "duration": 331,
    "start_time": "2022-06-20T07:05:18.585Z"
   },
   {
    "duration": 18,
    "start_time": "2022-06-20T07:05:18.918Z"
   },
   {
    "duration": 25,
    "start_time": "2022-06-20T07:05:18.938Z"
   },
   {
    "duration": 222,
    "start_time": "2022-06-20T07:05:18.965Z"
   },
   {
    "duration": 22,
    "start_time": "2022-06-20T07:05:19.189Z"
   },
   {
    "duration": 20,
    "start_time": "2022-06-20T07:05:19.213Z"
   },
   {
    "duration": 40,
    "start_time": "2022-06-20T07:05:19.235Z"
   },
   {
    "duration": 16,
    "start_time": "2022-06-20T07:05:19.277Z"
   },
   {
    "duration": 47,
    "start_time": "2022-06-20T07:05:19.295Z"
   },
   {
    "duration": 10,
    "start_time": "2022-06-20T07:05:19.344Z"
   },
   {
    "duration": 8,
    "start_time": "2022-06-20T07:05:19.356Z"
   },
   {
    "duration": 12,
    "start_time": "2022-06-20T07:05:19.366Z"
   },
   {
    "duration": 18,
    "start_time": "2022-06-20T07:05:19.379Z"
   },
   {
    "duration": 41,
    "start_time": "2022-06-20T07:05:19.399Z"
   },
   {
    "duration": 6,
    "start_time": "2022-06-20T07:05:19.444Z"
   },
   {
    "duration": 9,
    "start_time": "2022-06-20T07:05:19.452Z"
   },
   {
    "duration": 12,
    "start_time": "2022-06-20T07:05:19.463Z"
   },
   {
    "duration": 11,
    "start_time": "2022-06-20T07:07:44.644Z"
   },
   {
    "duration": 9,
    "start_time": "2022-06-20T07:07:48.011Z"
   },
   {
    "duration": 89,
    "start_time": "2022-06-20T07:27:02.967Z"
   },
   {
    "duration": 722,
    "start_time": "2022-06-20T07:27:10.872Z"
   },
   {
    "duration": 245,
    "start_time": "2022-06-20T07:27:21.916Z"
   },
   {
    "duration": 247,
    "start_time": "2022-06-20T07:27:30.424Z"
   },
   {
    "duration": 307,
    "start_time": "2022-06-20T07:27:42.523Z"
   },
   {
    "duration": 251,
    "start_time": "2022-06-20T07:27:48.603Z"
   },
   {
    "duration": 361,
    "start_time": "2022-06-20T07:31:58.125Z"
   },
   {
    "duration": 283,
    "start_time": "2022-06-20T07:32:04.714Z"
   },
   {
    "duration": 300,
    "start_time": "2022-06-20T07:32:15.708Z"
   },
   {
    "duration": 22,
    "start_time": "2022-06-20T07:41:22.026Z"
   },
   {
    "duration": 51,
    "start_time": "2022-06-21T02:06:54.694Z"
   },
   {
    "duration": 39,
    "start_time": "2022-06-21T02:06:57.871Z"
   },
   {
    "duration": 1036,
    "start_time": "2022-06-21T02:06:57.912Z"
   },
   {
    "duration": 349,
    "start_time": "2022-06-21T02:06:58.950Z"
   },
   {
    "duration": 53,
    "start_time": "2022-06-21T02:06:59.302Z"
   },
   {
    "duration": 48,
    "start_time": "2022-06-21T02:06:59.358Z"
   },
   {
    "duration": 0,
    "start_time": "2022-06-21T02:06:59.409Z"
   },
   {
    "duration": 0,
    "start_time": "2022-06-21T02:06:59.411Z"
   },
   {
    "duration": 0,
    "start_time": "2022-06-21T02:06:59.427Z"
   },
   {
    "duration": 0,
    "start_time": "2022-06-21T02:06:59.428Z"
   },
   {
    "duration": 0,
    "start_time": "2022-06-21T02:06:59.430Z"
   },
   {
    "duration": 0,
    "start_time": "2022-06-21T02:06:59.431Z"
   },
   {
    "duration": 0,
    "start_time": "2022-06-21T02:06:59.432Z"
   },
   {
    "duration": 0,
    "start_time": "2022-06-21T02:06:59.433Z"
   },
   {
    "duration": 0,
    "start_time": "2022-06-21T02:06:59.434Z"
   },
   {
    "duration": 0,
    "start_time": "2022-06-21T02:06:59.435Z"
   },
   {
    "duration": 0,
    "start_time": "2022-06-21T02:06:59.437Z"
   },
   {
    "duration": 0,
    "start_time": "2022-06-21T02:06:59.438Z"
   },
   {
    "duration": 0,
    "start_time": "2022-06-21T02:06:59.439Z"
   },
   {
    "duration": 0,
    "start_time": "2022-06-21T02:06:59.440Z"
   },
   {
    "duration": 0,
    "start_time": "2022-06-21T02:06:59.441Z"
   },
   {
    "duration": 0,
    "start_time": "2022-06-21T02:06:59.442Z"
   },
   {
    "duration": 0,
    "start_time": "2022-06-21T02:06:59.444Z"
   },
   {
    "duration": 0,
    "start_time": "2022-06-21T02:06:59.445Z"
   },
   {
    "duration": 0,
    "start_time": "2022-06-21T02:06:59.447Z"
   },
   {
    "duration": 0,
    "start_time": "2022-06-21T02:06:59.448Z"
   },
   {
    "duration": 0,
    "start_time": "2022-06-21T02:06:59.450Z"
   },
   {
    "duration": 0,
    "start_time": "2022-06-21T02:06:59.451Z"
   },
   {
    "duration": 0,
    "start_time": "2022-06-21T02:06:59.453Z"
   },
   {
    "duration": 0,
    "start_time": "2022-06-21T02:06:59.454Z"
   },
   {
    "duration": 0,
    "start_time": "2022-06-21T02:06:59.455Z"
   },
   {
    "duration": 0,
    "start_time": "2022-06-21T02:06:59.456Z"
   },
   {
    "duration": 0,
    "start_time": "2022-06-21T02:06:59.458Z"
   },
   {
    "duration": 0,
    "start_time": "2022-06-21T02:06:59.459Z"
   },
   {
    "duration": 0,
    "start_time": "2022-06-21T02:06:59.460Z"
   },
   {
    "duration": 0,
    "start_time": "2022-06-21T02:06:59.461Z"
   },
   {
    "duration": 0,
    "start_time": "2022-06-21T02:06:59.461Z"
   },
   {
    "duration": 14,
    "start_time": "2022-06-21T02:10:33.016Z"
   },
   {
    "duration": 21,
    "start_time": "2022-06-21T02:10:53.804Z"
   },
   {
    "duration": 14,
    "start_time": "2022-06-21T02:13:52.877Z"
   },
   {
    "duration": 14,
    "start_time": "2022-06-21T02:15:14.666Z"
   },
   {
    "duration": 18,
    "start_time": "2022-06-21T02:15:23.481Z"
   },
   {
    "duration": 59,
    "start_time": "2022-06-21T02:17:06.593Z"
   },
   {
    "duration": 715,
    "start_time": "2022-06-21T02:17:10.496Z"
   },
   {
    "duration": 15,
    "start_time": "2022-06-21T02:17:18.077Z"
   },
   {
    "duration": 18,
    "start_time": "2022-06-21T02:17:31.034Z"
   },
   {
    "duration": 17,
    "start_time": "2022-06-21T02:17:40.144Z"
   },
   {
    "duration": 26,
    "start_time": "2022-06-21T02:19:18.134Z"
   },
   {
    "duration": 41,
    "start_time": "2022-06-21T02:45:41.462Z"
   },
   {
    "duration": 4,
    "start_time": "2022-06-21T02:45:41.505Z"
   },
   {
    "duration": 112,
    "start_time": "2022-06-21T02:45:41.511Z"
   },
   {
    "duration": 40,
    "start_time": "2022-06-21T02:45:41.625Z"
   },
   {
    "duration": 18,
    "start_time": "2022-06-21T02:45:41.666Z"
   },
   {
    "duration": 4,
    "start_time": "2022-06-21T02:45:41.685Z"
   },
   {
    "duration": 16,
    "start_time": "2022-06-21T02:45:41.691Z"
   },
   {
    "duration": 1174,
    "start_time": "2022-06-21T02:45:41.708Z"
   },
   {
    "duration": 22,
    "start_time": "2022-06-21T02:45:42.883Z"
   },
   {
    "duration": 178,
    "start_time": "2022-06-21T02:45:42.909Z"
   },
   {
    "duration": 17,
    "start_time": "2022-06-21T02:45:43.090Z"
   },
   {
    "duration": 22,
    "start_time": "2022-06-21T02:45:43.109Z"
   },
   {
    "duration": 13,
    "start_time": "2022-06-21T02:45:43.133Z"
   },
   {
    "duration": 9,
    "start_time": "2022-06-21T02:45:43.147Z"
   },
   {
    "duration": 445,
    "start_time": "2022-06-21T02:45:43.158Z"
   },
   {
    "duration": 25,
    "start_time": "2022-06-21T02:45:43.605Z"
   },
   {
    "duration": 185,
    "start_time": "2022-06-21T02:45:43.632Z"
   },
   {
    "duration": 302,
    "start_time": "2022-06-21T02:45:43.819Z"
   },
   {
    "duration": 760,
    "start_time": "2022-06-21T02:45:44.123Z"
   },
   {
    "duration": 9,
    "start_time": "2022-06-21T02:45:44.885Z"
   },
   {
    "duration": 11,
    "start_time": "2022-06-21T02:45:44.896Z"
   },
   {
    "duration": 194,
    "start_time": "2022-06-21T02:45:44.908Z"
   },
   {
    "duration": 27,
    "start_time": "2022-06-21T02:45:45.104Z"
   },
   {
    "duration": 18,
    "start_time": "2022-06-21T02:45:45.133Z"
   },
   {
    "duration": 9,
    "start_time": "2022-06-21T02:45:45.153Z"
   },
   {
    "duration": 15,
    "start_time": "2022-06-21T02:45:45.163Z"
   },
   {
    "duration": 11,
    "start_time": "2022-06-21T02:45:45.179Z"
   },
   {
    "duration": 43,
    "start_time": "2022-06-21T02:45:45.192Z"
   },
   {
    "duration": 5,
    "start_time": "2022-06-21T02:45:45.237Z"
   },
   {
    "duration": 7,
    "start_time": "2022-06-21T02:45:45.244Z"
   },
   {
    "duration": 10,
    "start_time": "2022-06-21T02:45:45.253Z"
   },
   {
    "duration": 16,
    "start_time": "2022-06-21T02:45:45.264Z"
   },
   {
    "duration": 14,
    "start_time": "2022-06-21T02:45:45.282Z"
   },
   {
    "duration": 31,
    "start_time": "2022-06-21T02:45:45.298Z"
   },
   {
    "duration": 6,
    "start_time": "2022-06-21T02:45:45.330Z"
   },
   {
    "duration": 14,
    "start_time": "2022-06-21T02:45:45.338Z"
   },
   {
    "duration": 268,
    "start_time": "2022-06-21T05:56:54.405Z"
   },
   {
    "duration": 258,
    "start_time": "2022-06-21T05:57:03.647Z"
   },
   {
    "duration": 15,
    "start_time": "2022-06-21T07:13:58.773Z"
   },
   {
    "duration": 11,
    "start_time": "2022-06-21T07:14:11.886Z"
   },
   {
    "duration": 38,
    "start_time": "2022-06-21T07:14:14.285Z"
   },
   {
    "duration": 3,
    "start_time": "2022-06-21T07:14:14.325Z"
   },
   {
    "duration": 103,
    "start_time": "2022-06-21T07:14:14.329Z"
   },
   {
    "duration": 41,
    "start_time": "2022-06-21T07:14:14.434Z"
   },
   {
    "duration": 18,
    "start_time": "2022-06-21T07:14:14.476Z"
   },
   {
    "duration": 4,
    "start_time": "2022-06-21T07:14:14.496Z"
   },
   {
    "duration": 14,
    "start_time": "2022-06-21T07:14:14.527Z"
   },
   {
    "duration": 1159,
    "start_time": "2022-06-21T07:14:14.543Z"
   },
   {
    "duration": 27,
    "start_time": "2022-06-21T07:14:15.704Z"
   },
   {
    "duration": 16,
    "start_time": "2022-06-21T07:14:15.734Z"
   },
   {
    "duration": 11,
    "start_time": "2022-06-21T07:14:15.752Z"
   },
   {
    "duration": 10,
    "start_time": "2022-06-21T07:14:15.765Z"
   },
   {
    "duration": 10,
    "start_time": "2022-06-21T07:14:15.777Z"
   },
   {
    "duration": 39,
    "start_time": "2022-06-21T07:14:15.789Z"
   },
   {
    "duration": 276,
    "start_time": "2022-06-21T07:14:15.830Z"
   },
   {
    "duration": 22,
    "start_time": "2022-06-21T07:14:16.107Z"
   },
   {
    "duration": 10,
    "start_time": "2022-06-21T07:14:16.130Z"
   },
   {
    "duration": 188,
    "start_time": "2022-06-21T07:14:16.141Z"
   },
   {
    "duration": 293,
    "start_time": "2022-06-21T07:14:16.331Z"
   },
   {
    "duration": 364,
    "start_time": "2022-06-21T07:14:16.627Z"
   },
   {
    "duration": 9,
    "start_time": "2022-06-21T07:14:16.993Z"
   },
   {
    "duration": 28,
    "start_time": "2022-06-21T07:14:17.003Z"
   },
   {
    "duration": 187,
    "start_time": "2022-06-21T07:14:17.033Z"
   },
   {
    "duration": 15,
    "start_time": "2022-06-21T07:14:17.226Z"
   },
   {
    "duration": 32,
    "start_time": "2022-06-21T07:14:17.243Z"
   },
   {
    "duration": 12,
    "start_time": "2022-06-21T07:14:17.277Z"
   },
   {
    "duration": 26,
    "start_time": "2022-06-21T07:14:17.291Z"
   },
   {
    "duration": 11,
    "start_time": "2022-06-21T07:14:17.320Z"
   },
   {
    "duration": 51,
    "start_time": "2022-06-21T07:14:17.332Z"
   },
   {
    "duration": 16,
    "start_time": "2022-06-21T07:14:17.385Z"
   },
   {
    "duration": 26,
    "start_time": "2022-06-21T07:14:17.403Z"
   },
   {
    "duration": 28,
    "start_time": "2022-06-21T07:14:17.431Z"
   },
   {
    "duration": 46,
    "start_time": "2022-06-21T07:14:17.461Z"
   },
   {
    "duration": 32,
    "start_time": "2022-06-21T07:14:17.509Z"
   },
   {
    "duration": 10,
    "start_time": "2022-06-21T07:14:17.542Z"
   },
   {
    "duration": 14,
    "start_time": "2022-06-21T07:14:17.554Z"
   },
   {
    "duration": 26,
    "start_time": "2022-06-21T07:14:17.570Z"
   },
   {
    "duration": 11,
    "start_time": "2022-06-21T07:14:41.730Z"
   },
   {
    "duration": 19,
    "start_time": "2022-06-21T07:19:02.074Z"
   },
   {
    "duration": 23,
    "start_time": "2022-06-21T07:20:12.877Z"
   },
   {
    "duration": 890,
    "start_time": "2022-06-21T07:22:10.193Z"
   },
   {
    "duration": 890,
    "start_time": "2022-06-21T07:22:55.832Z"
   },
   {
    "duration": 829,
    "start_time": "2022-06-21T07:23:21.812Z"
   },
   {
    "duration": 823,
    "start_time": "2022-06-21T07:23:30.207Z"
   },
   {
    "duration": 762,
    "start_time": "2022-06-21T07:23:40.492Z"
   },
   {
    "duration": 20,
    "start_time": "2022-06-21T07:23:50.068Z"
   },
   {
    "duration": 21,
    "start_time": "2022-06-21T07:24:40.368Z"
   },
   {
    "duration": 37,
    "start_time": "2022-06-21T07:25:33.534Z"
   },
   {
    "duration": 692,
    "start_time": "2022-06-21T07:25:33.573Z"
   },
   {
    "duration": 100,
    "start_time": "2022-06-21T07:25:34.266Z"
   },
   {
    "duration": 43,
    "start_time": "2022-06-21T07:25:34.368Z"
   },
   {
    "duration": 25,
    "start_time": "2022-06-21T07:25:34.412Z"
   },
   {
    "duration": 5,
    "start_time": "2022-06-21T07:25:34.438Z"
   },
   {
    "duration": 14,
    "start_time": "2022-06-21T07:25:34.445Z"
   },
   {
    "duration": 1220,
    "start_time": "2022-06-21T07:25:34.461Z"
   },
   {
    "duration": 24,
    "start_time": "2022-06-21T07:25:35.683Z"
   },
   {
    "duration": 178,
    "start_time": "2022-06-21T07:25:35.711Z"
   },
   {
    "duration": 18,
    "start_time": "2022-06-21T07:25:35.891Z"
   },
   {
    "duration": 20,
    "start_time": "2022-06-21T07:25:35.911Z"
   },
   {
    "duration": 13,
    "start_time": "2022-06-21T07:25:35.933Z"
   },
   {
    "duration": 9,
    "start_time": "2022-06-21T07:25:35.948Z"
   },
   {
    "duration": 399,
    "start_time": "2022-06-21T07:25:35.958Z"
   },
   {
    "duration": 23,
    "start_time": "2022-06-21T07:25:36.358Z"
   },
   {
    "duration": 9,
    "start_time": "2022-06-21T07:25:36.382Z"
   },
   {
    "duration": 208,
    "start_time": "2022-06-21T07:25:36.393Z"
   },
   {
    "duration": 314,
    "start_time": "2022-06-21T07:25:36.602Z"
   },
   {
    "duration": 829,
    "start_time": "2022-06-21T07:25:36.918Z"
   },
   {
    "duration": 9,
    "start_time": "2022-06-21T07:25:37.749Z"
   },
   {
    "duration": 10,
    "start_time": "2022-06-21T07:25:37.759Z"
   },
   {
    "duration": 213,
    "start_time": "2022-06-21T07:25:37.771Z"
   },
   {
    "duration": 19,
    "start_time": "2022-06-21T07:25:37.985Z"
   },
   {
    "duration": 30,
    "start_time": "2022-06-21T07:25:38.006Z"
   },
   {
    "duration": 9,
    "start_time": "2022-06-21T07:25:38.037Z"
   },
   {
    "duration": 19,
    "start_time": "2022-06-21T07:25:38.048Z"
   },
   {
    "duration": 12,
    "start_time": "2022-06-21T07:25:38.071Z"
   },
   {
    "duration": 21,
    "start_time": "2022-06-21T07:25:38.085Z"
   },
   {
    "duration": 22,
    "start_time": "2022-06-21T07:25:38.108Z"
   },
   {
    "duration": 8,
    "start_time": "2022-06-21T07:25:38.131Z"
   },
   {
    "duration": 12,
    "start_time": "2022-06-21T07:25:38.140Z"
   },
   {
    "duration": 23,
    "start_time": "2022-06-21T07:25:38.154Z"
   },
   {
    "duration": 37,
    "start_time": "2022-06-21T07:25:38.178Z"
   },
   {
    "duration": 8,
    "start_time": "2022-06-21T07:25:38.218Z"
   },
   {
    "duration": 29,
    "start_time": "2022-06-21T07:25:38.228Z"
   },
   {
    "duration": 19,
    "start_time": "2022-06-21T07:25:38.259Z"
   },
   {
    "duration": 180,
    "start_time": "2022-06-21T07:29:31.569Z"
   },
   {
    "duration": 34,
    "start_time": "2022-06-21T07:29:41.795Z"
   },
   {
    "duration": 26,
    "start_time": "2022-06-21T07:29:59.762Z"
   },
   {
    "duration": 34,
    "start_time": "2022-06-21T07:30:21.544Z"
   },
   {
    "duration": 26,
    "start_time": "2022-06-21T07:31:03.999Z"
   },
   {
    "duration": 835,
    "start_time": "2022-06-21T07:31:17.956Z"
   },
   {
    "duration": 1168,
    "start_time": "2022-06-21T07:31:41.297Z"
   },
   {
    "duration": 862,
    "start_time": "2022-06-21T07:31:48.681Z"
   },
   {
    "duration": 1065,
    "start_time": "2022-06-21T07:32:35.385Z"
   },
   {
    "duration": 28,
    "start_time": "2022-06-21T07:32:53.201Z"
   },
   {
    "duration": 29,
    "start_time": "2022-06-21T07:33:09.704Z"
   },
   {
    "duration": 25,
    "start_time": "2022-06-21T07:33:35.281Z"
   },
   {
    "duration": 48,
    "start_time": "2022-06-21T07:34:33.557Z"
   },
   {
    "duration": 225,
    "start_time": "2022-06-21T07:34:44.144Z"
   },
   {
    "duration": 82,
    "start_time": "2022-06-21T07:34:56.918Z"
   },
   {
    "duration": 56,
    "start_time": "2022-06-21T07:35:33.189Z"
   },
   {
    "duration": 23,
    "start_time": "2022-06-21T07:35:35.123Z"
   },
   {
    "duration": 952,
    "start_time": "2022-06-21T07:36:48.667Z"
   },
   {
    "duration": 29,
    "start_time": "2022-06-21T07:37:06.947Z"
   },
   {
    "duration": 8,
    "start_time": "2022-06-21T07:44:45.249Z"
   },
   {
    "duration": 26,
    "start_time": "2022-06-21T07:45:06.436Z"
   },
   {
    "duration": 3,
    "start_time": "2022-06-21T07:45:06.464Z"
   },
   {
    "duration": 118,
    "start_time": "2022-06-21T07:45:06.469Z"
   },
   {
    "duration": 49,
    "start_time": "2022-06-21T07:45:06.589Z"
   },
   {
    "duration": 26,
    "start_time": "2022-06-21T07:45:06.640Z"
   },
   {
    "duration": 5,
    "start_time": "2022-06-21T07:45:06.668Z"
   },
   {
    "duration": 16,
    "start_time": "2022-06-21T07:45:06.675Z"
   },
   {
    "duration": 1180,
    "start_time": "2022-06-21T07:45:06.693Z"
   },
   {
    "duration": 25,
    "start_time": "2022-06-21T07:45:07.875Z"
   },
   {
    "duration": 16,
    "start_time": "2022-06-21T07:45:07.902Z"
   },
   {
    "duration": 9,
    "start_time": "2022-06-21T07:45:07.919Z"
   },
   {
    "duration": 8,
    "start_time": "2022-06-21T07:45:07.930Z"
   },
   {
    "duration": 11,
    "start_time": "2022-06-21T07:45:07.940Z"
   },
   {
    "duration": 10,
    "start_time": "2022-06-21T07:45:07.952Z"
   },
   {
    "duration": 305,
    "start_time": "2022-06-21T07:45:07.964Z"
   },
   {
    "duration": 29,
    "start_time": "2022-06-21T07:45:08.271Z"
   },
   {
    "duration": 69,
    "start_time": "2022-06-21T07:45:08.302Z"
   },
   {
    "duration": 10,
    "start_time": "2022-06-21T07:45:08.373Z"
   },
   {
    "duration": 210,
    "start_time": "2022-06-21T07:45:08.385Z"
   },
   {
    "duration": 399,
    "start_time": "2022-06-21T07:45:08.597Z"
   },
   {
    "duration": 280,
    "start_time": "2022-06-21T07:45:08.997Z"
   },
   {
    "duration": 10,
    "start_time": "2022-06-21T07:45:09.279Z"
   },
   {
    "duration": 12,
    "start_time": "2022-06-21T07:45:09.291Z"
   },
   {
    "duration": 218,
    "start_time": "2022-06-21T07:45:09.326Z"
   },
   {
    "duration": 10,
    "start_time": "2022-06-21T07:45:09.546Z"
   },
   {
    "duration": 25,
    "start_time": "2022-06-21T07:45:09.558Z"
   },
   {
    "duration": 24,
    "start_time": "2022-06-21T07:45:09.585Z"
   },
   {
    "duration": 22,
    "start_time": "2022-06-21T07:45:09.612Z"
   },
   {
    "duration": 15,
    "start_time": "2022-06-21T07:45:09.635Z"
   },
   {
    "duration": 15,
    "start_time": "2022-06-21T07:45:09.653Z"
   },
   {
    "duration": 23,
    "start_time": "2022-06-21T07:45:09.670Z"
   },
   {
    "duration": 33,
    "start_time": "2022-06-21T07:45:09.695Z"
   },
   {
    "duration": 7,
    "start_time": "2022-06-21T07:45:09.730Z"
   },
   {
    "duration": 12,
    "start_time": "2022-06-21T07:45:09.738Z"
   },
   {
    "duration": 13,
    "start_time": "2022-06-21T07:45:09.752Z"
   },
   {
    "duration": 16,
    "start_time": "2022-06-21T07:45:09.767Z"
   },
   {
    "duration": 7,
    "start_time": "2022-06-21T07:45:09.785Z"
   },
   {
    "duration": 38,
    "start_time": "2022-06-21T07:45:09.793Z"
   },
   {
    "duration": 11,
    "start_time": "2022-06-21T07:45:09.833Z"
   },
   {
    "duration": 12,
    "start_time": "2022-06-21T07:45:22.621Z"
   },
   {
    "duration": 10,
    "start_time": "2022-06-21T07:45:37.670Z"
   },
   {
    "duration": 26,
    "start_time": "2022-06-21T07:45:51.908Z"
   },
   {
    "duration": 6,
    "start_time": "2022-06-21T07:45:51.936Z"
   },
   {
    "duration": 130,
    "start_time": "2022-06-21T07:45:51.943Z"
   },
   {
    "duration": 50,
    "start_time": "2022-06-21T07:45:52.076Z"
   },
   {
    "duration": 18,
    "start_time": "2022-06-21T07:45:52.128Z"
   },
   {
    "duration": 14,
    "start_time": "2022-06-21T07:45:52.148Z"
   },
   {
    "duration": 34,
    "start_time": "2022-06-21T07:45:52.163Z"
   },
   {
    "duration": 764,
    "start_time": "2022-06-21T07:45:52.198Z"
   },
   {
    "duration": 23,
    "start_time": "2022-06-21T07:45:52.964Z"
   },
   {
    "duration": 17,
    "start_time": "2022-06-21T07:45:52.991Z"
   },
   {
    "duration": 19,
    "start_time": "2022-06-21T07:45:53.010Z"
   },
   {
    "duration": 10,
    "start_time": "2022-06-21T07:45:53.031Z"
   },
   {
    "duration": 11,
    "start_time": "2022-06-21T07:45:53.042Z"
   },
   {
    "duration": 15,
    "start_time": "2022-06-21T07:45:53.055Z"
   },
   {
    "duration": 309,
    "start_time": "2022-06-21T07:45:53.072Z"
   },
   {
    "duration": 26,
    "start_time": "2022-06-21T07:45:53.383Z"
   },
   {
    "duration": 69,
    "start_time": "2022-06-21T07:45:53.411Z"
   },
   {
    "duration": 10,
    "start_time": "2022-06-21T07:45:53.482Z"
   },
   {
    "duration": 215,
    "start_time": "2022-06-21T07:45:53.494Z"
   },
   {
    "duration": 340,
    "start_time": "2022-06-21T07:45:53.711Z"
   },
   {
    "duration": 281,
    "start_time": "2022-06-21T07:45:54.053Z"
   },
   {
    "duration": 9,
    "start_time": "2022-06-21T07:45:54.335Z"
   },
   {
    "duration": 25,
    "start_time": "2022-06-21T07:45:54.346Z"
   },
   {
    "duration": 234,
    "start_time": "2022-06-21T07:45:54.373Z"
   },
   {
    "duration": 20,
    "start_time": "2022-06-21T07:45:54.609Z"
   },
   {
    "duration": 19,
    "start_time": "2022-06-21T07:45:54.632Z"
   },
   {
    "duration": 43,
    "start_time": "2022-06-21T07:45:54.653Z"
   },
   {
    "duration": 23,
    "start_time": "2022-06-21T07:45:54.699Z"
   },
   {
    "duration": 35,
    "start_time": "2022-06-21T07:45:54.724Z"
   },
   {
    "duration": 34,
    "start_time": "2022-06-21T07:45:54.761Z"
   },
   {
    "duration": 41,
    "start_time": "2022-06-21T07:45:54.796Z"
   },
   {
    "duration": 7,
    "start_time": "2022-06-21T07:45:54.839Z"
   },
   {
    "duration": 22,
    "start_time": "2022-06-21T07:45:54.847Z"
   },
   {
    "duration": 31,
    "start_time": "2022-06-21T07:45:54.871Z"
   },
   {
    "duration": 25,
    "start_time": "2022-06-21T07:45:54.904Z"
   },
   {
    "duration": 33,
    "start_time": "2022-06-21T07:45:54.932Z"
   },
   {
    "duration": 25,
    "start_time": "2022-06-21T07:45:54.967Z"
   },
   {
    "duration": 11,
    "start_time": "2022-06-21T07:45:54.993Z"
   },
   {
    "duration": 33,
    "start_time": "2022-06-21T07:45:55.005Z"
   },
   {
    "duration": 11,
    "start_time": "2022-06-21T07:46:31.652Z"
   },
   {
    "duration": 17,
    "start_time": "2022-06-21T07:58:26.882Z"
   },
   {
    "duration": 35,
    "start_time": "2022-06-21T09:38:12.590Z"
   },
   {
    "duration": 781,
    "start_time": "2022-06-21T09:38:12.629Z"
   },
   {
    "duration": 113,
    "start_time": "2022-06-21T09:38:13.412Z"
   },
   {
    "duration": 45,
    "start_time": "2022-06-21T09:38:13.538Z"
   },
   {
    "duration": 19,
    "start_time": "2022-06-21T09:38:13.585Z"
   },
   {
    "duration": 13,
    "start_time": "2022-06-21T09:38:13.606Z"
   },
   {
    "duration": 39,
    "start_time": "2022-06-21T09:38:13.621Z"
   },
   {
    "duration": 1008,
    "start_time": "2022-06-21T09:38:13.662Z"
   },
   {
    "duration": 25,
    "start_time": "2022-06-21T09:38:14.671Z"
   },
   {
    "duration": 205,
    "start_time": "2022-06-21T09:38:14.699Z"
   },
   {
    "duration": 12,
    "start_time": "2022-06-21T09:38:14.906Z"
   },
   {
    "duration": 17,
    "start_time": "2022-06-21T09:38:14.920Z"
   },
   {
    "duration": 14,
    "start_time": "2022-06-21T09:38:14.939Z"
   },
   {
    "duration": 13,
    "start_time": "2022-06-21T09:38:14.956Z"
   },
   {
    "duration": 449,
    "start_time": "2022-06-21T09:38:14.971Z"
   },
   {
    "duration": 37,
    "start_time": "2022-06-21T09:38:15.422Z"
   },
   {
    "duration": 243,
    "start_time": "2022-06-21T09:38:15.461Z"
   },
   {
    "duration": 12,
    "start_time": "2022-06-21T09:38:15.707Z"
   },
   {
    "duration": 205,
    "start_time": "2022-06-21T09:38:15.737Z"
   },
   {
    "duration": 326,
    "start_time": "2022-06-21T09:38:15.944Z"
   },
   {
    "duration": 834,
    "start_time": "2022-06-21T09:38:16.272Z"
   },
   {
    "duration": 9,
    "start_time": "2022-06-21T09:38:17.108Z"
   },
   {
    "duration": 28,
    "start_time": "2022-06-21T09:38:17.119Z"
   },
   {
    "duration": 226,
    "start_time": "2022-06-21T09:38:17.149Z"
   },
   {
    "duration": 14,
    "start_time": "2022-06-21T09:38:17.377Z"
   },
   {
    "duration": 182,
    "start_time": "2022-06-21T09:38:17.393Z"
   },
   {
    "duration": 0,
    "start_time": "2022-06-21T09:38:17.577Z"
   },
   {
    "duration": 0,
    "start_time": "2022-06-21T09:38:17.578Z"
   },
   {
    "duration": 0,
    "start_time": "2022-06-21T09:38:17.580Z"
   },
   {
    "duration": 0,
    "start_time": "2022-06-21T09:38:17.581Z"
   },
   {
    "duration": 0,
    "start_time": "2022-06-21T09:38:17.582Z"
   },
   {
    "duration": 0,
    "start_time": "2022-06-21T09:38:17.583Z"
   },
   {
    "duration": 0,
    "start_time": "2022-06-21T09:38:17.584Z"
   },
   {
    "duration": 0,
    "start_time": "2022-06-21T09:38:17.585Z"
   },
   {
    "duration": 0,
    "start_time": "2022-06-21T09:38:17.586Z"
   },
   {
    "duration": 0,
    "start_time": "2022-06-21T09:38:17.587Z"
   },
   {
    "duration": 0,
    "start_time": "2022-06-21T09:38:17.588Z"
   },
   {
    "duration": 0,
    "start_time": "2022-06-21T09:38:17.589Z"
   },
   {
    "duration": 0,
    "start_time": "2022-06-21T09:38:17.590Z"
   },
   {
    "duration": 0,
    "start_time": "2022-06-21T09:38:17.591Z"
   },
   {
    "duration": 56,
    "start_time": "2022-06-21T09:39:19.593Z"
   },
   {
    "duration": 15,
    "start_time": "2022-06-21T09:39:26.357Z"
   },
   {
    "duration": 374,
    "start_time": "2022-06-21T09:39:48.915Z"
   },
   {
    "duration": 48,
    "start_time": "2022-06-21T09:46:24.608Z"
   },
   {
    "duration": 40,
    "start_time": "2022-06-21T09:46:47.005Z"
   },
   {
    "duration": 32,
    "start_time": "2022-06-21T09:46:54.365Z"
   },
   {
    "duration": 27,
    "start_time": "2022-06-21T09:47:02.373Z"
   },
   {
    "duration": 27,
    "start_time": "2022-06-21T09:48:37.649Z"
   },
   {
    "duration": 984,
    "start_time": "2022-06-21T09:51:21.348Z"
   },
   {
    "duration": 28,
    "start_time": "2022-06-21T09:51:27.293Z"
   },
   {
    "duration": 52,
    "start_time": "2022-06-21T09:51:36.965Z"
   },
   {
    "duration": 53,
    "start_time": "2022-06-21T09:51:55.236Z"
   },
   {
    "duration": 51,
    "start_time": "2022-06-21T09:52:12.242Z"
   },
   {
    "duration": 23,
    "start_time": "2022-06-21T09:52:38.887Z"
   },
   {
    "duration": 13,
    "start_time": "2022-06-21T09:57:46.753Z"
   },
   {
    "duration": 15,
    "start_time": "2022-06-21T09:57:56.780Z"
   },
   {
    "duration": 16,
    "start_time": "2022-06-21T09:58:08.495Z"
   },
   {
    "duration": 22,
    "start_time": "2022-06-21T09:58:19.519Z"
   },
   {
    "duration": 12,
    "start_time": "2022-06-21T10:00:19.142Z"
   },
   {
    "duration": 14,
    "start_time": "2022-06-21T10:00:43.482Z"
   },
   {
    "duration": 3,
    "start_time": "2022-06-21T10:02:01.010Z"
   },
   {
    "duration": 6,
    "start_time": "2022-06-21T10:02:08.284Z"
   },
   {
    "duration": 7,
    "start_time": "2022-06-21T10:02:53.596Z"
   },
   {
    "duration": 51,
    "start_time": "2022-06-21T10:03:45.155Z"
   },
   {
    "duration": 6,
    "start_time": "2022-06-21T10:03:49.589Z"
   },
   {
    "duration": 5,
    "start_time": "2022-06-21T10:03:56.117Z"
   },
   {
    "duration": 20,
    "start_time": "2022-06-21T10:04:21.819Z"
   },
   {
    "duration": 13,
    "start_time": "2022-06-21T10:05:15.801Z"
   },
   {
    "duration": 155,
    "start_time": "2022-06-21T10:06:20.949Z"
   },
   {
    "duration": 67,
    "start_time": "2022-06-21T10:07:02.588Z"
   },
   {
    "duration": 161,
    "start_time": "2022-06-21T10:07:13.598Z"
   },
   {
    "duration": 13,
    "start_time": "2022-06-21T10:07:51.047Z"
   },
   {
    "duration": 11,
    "start_time": "2022-06-21T10:09:07.282Z"
   },
   {
    "duration": 58,
    "start_time": "2022-06-21T10:09:14.701Z"
   },
   {
    "duration": 67,
    "start_time": "2022-06-22T00:21:05.309Z"
   },
   {
    "duration": 1044,
    "start_time": "2022-06-22T00:21:05.378Z"
   },
   {
    "duration": 391,
    "start_time": "2022-06-22T00:21:06.424Z"
   },
   {
    "duration": 54,
    "start_time": "2022-06-22T00:21:06.817Z"
   },
   {
    "duration": 23,
    "start_time": "2022-06-22T00:21:06.873Z"
   },
   {
    "duration": 4,
    "start_time": "2022-06-22T00:21:06.899Z"
   },
   {
    "duration": 38,
    "start_time": "2022-06-22T00:21:06.905Z"
   },
   {
    "duration": 1239,
    "start_time": "2022-06-22T00:21:06.945Z"
   },
   {
    "duration": 32,
    "start_time": "2022-06-22T00:21:08.186Z"
   },
   {
    "duration": 237,
    "start_time": "2022-06-22T00:21:08.220Z"
   },
   {
    "duration": 23,
    "start_time": "2022-06-22T00:21:08.459Z"
   },
   {
    "duration": 16,
    "start_time": "2022-06-22T00:21:08.484Z"
   },
   {
    "duration": 25,
    "start_time": "2022-06-22T00:21:08.527Z"
   },
   {
    "duration": 30,
    "start_time": "2022-06-22T00:21:08.556Z"
   },
   {
    "duration": 445,
    "start_time": "2022-06-22T00:21:08.588Z"
   },
   {
    "duration": 29,
    "start_time": "2022-06-22T00:21:09.036Z"
   },
   {
    "duration": 271,
    "start_time": "2022-06-22T00:21:09.067Z"
   },
   {
    "duration": 12,
    "start_time": "2022-06-22T00:21:09.344Z"
   },
   {
    "duration": 234,
    "start_time": "2022-06-22T00:21:09.358Z"
   },
   {
    "duration": 348,
    "start_time": "2022-06-22T00:21:09.595Z"
   },
   {
    "duration": 822,
    "start_time": "2022-06-22T00:21:09.945Z"
   },
   {
    "duration": 9,
    "start_time": "2022-06-22T00:21:10.770Z"
   },
   {
    "duration": 10,
    "start_time": "2022-06-22T00:21:10.781Z"
   },
   {
    "duration": 265,
    "start_time": "2022-06-22T00:21:10.792Z"
   },
   {
    "duration": 26,
    "start_time": "2022-06-22T00:21:11.063Z"
   },
   {
    "duration": 7,
    "start_time": "2022-06-22T00:21:11.091Z"
   },
   {
    "duration": 18,
    "start_time": "2022-06-22T00:21:11.099Z"
   },
   {
    "duration": 28,
    "start_time": "2022-06-22T00:21:11.118Z"
   },
   {
    "duration": 116,
    "start_time": "2022-06-22T00:21:11.148Z"
   },
   {
    "duration": 495,
    "start_time": "2022-06-22T00:21:11.267Z"
   },
   {
    "duration": 21,
    "start_time": "2022-06-22T00:21:11.769Z"
   },
   {
    "duration": 236,
    "start_time": "2022-06-22T00:21:11.792Z"
   },
   {
    "duration": 0,
    "start_time": "2022-06-22T00:21:12.038Z"
   },
   {
    "duration": 0,
    "start_time": "2022-06-22T00:21:12.038Z"
   },
   {
    "duration": 0,
    "start_time": "2022-06-22T00:21:12.039Z"
   },
   {
    "duration": 0,
    "start_time": "2022-06-22T00:21:12.040Z"
   },
   {
    "duration": 0,
    "start_time": "2022-06-22T00:21:12.040Z"
   },
   {
    "duration": 0,
    "start_time": "2022-06-22T00:21:12.041Z"
   },
   {
    "duration": 0,
    "start_time": "2022-06-22T00:21:12.041Z"
   },
   {
    "duration": 0,
    "start_time": "2022-06-22T00:21:12.042Z"
   },
   {
    "duration": 0,
    "start_time": "2022-06-22T00:21:12.043Z"
   },
   {
    "duration": 0,
    "start_time": "2022-06-22T00:21:12.043Z"
   },
   {
    "duration": 0,
    "start_time": "2022-06-22T00:21:12.044Z"
   },
   {
    "duration": 0,
    "start_time": "2022-06-22T00:21:12.045Z"
   },
   {
    "duration": 0,
    "start_time": "2022-06-22T00:21:12.045Z"
   },
   {
    "duration": 0,
    "start_time": "2022-06-22T00:21:12.048Z"
   },
   {
    "duration": 79,
    "start_time": "2022-06-22T00:23:32.203Z"
   },
   {
    "duration": 24,
    "start_time": "2022-06-22T00:36:37.865Z"
   },
   {
    "duration": 45,
    "start_time": "2022-06-22T00:37:15.645Z"
   },
   {
    "duration": 36,
    "start_time": "2022-06-22T00:37:31.248Z"
   },
   {
    "duration": 1529,
    "start_time": "2022-06-22T00:37:51.219Z"
   },
   {
    "duration": 226,
    "start_time": "2022-06-22T00:38:32.015Z"
   },
   {
    "duration": 22,
    "start_time": "2022-06-22T00:38:45.755Z"
   },
   {
    "duration": 3,
    "start_time": "2022-06-22T00:39:29.006Z"
   },
   {
    "duration": 34,
    "start_time": "2022-06-22T00:42:13.564Z"
   },
   {
    "duration": 43,
    "start_time": "2022-06-22T00:42:54.398Z"
   },
   {
    "duration": 915,
    "start_time": "2022-06-22T00:42:54.444Z"
   },
   {
    "duration": 174,
    "start_time": "2022-06-22T00:42:55.364Z"
   },
   {
    "duration": 68,
    "start_time": "2022-06-22T00:42:55.540Z"
   },
   {
    "duration": 35,
    "start_time": "2022-06-22T00:42:55.611Z"
   },
   {
    "duration": 36,
    "start_time": "2022-06-22T00:42:55.649Z"
   },
   {
    "duration": 26,
    "start_time": "2022-06-22T00:42:55.687Z"
   },
   {
    "duration": 985,
    "start_time": "2022-06-22T00:42:55.715Z"
   },
   {
    "duration": 38,
    "start_time": "2022-06-22T00:42:56.702Z"
   },
   {
    "duration": 256,
    "start_time": "2022-06-22T00:42:56.741Z"
   },
   {
    "duration": 20,
    "start_time": "2022-06-22T00:42:56.999Z"
   },
   {
    "duration": 16,
    "start_time": "2022-06-22T00:42:57.035Z"
   },
   {
    "duration": 75,
    "start_time": "2022-06-22T00:42:57.053Z"
   },
   {
    "duration": 35,
    "start_time": "2022-06-22T00:42:57.131Z"
   },
   {
    "duration": 433,
    "start_time": "2022-06-22T00:42:57.169Z"
   },
   {
    "duration": 50,
    "start_time": "2022-06-22T00:42:57.605Z"
   },
   {
    "duration": 260,
    "start_time": "2022-06-22T00:42:57.657Z"
   },
   {
    "duration": 32,
    "start_time": "2022-06-22T00:42:57.919Z"
   },
   {
    "duration": 284,
    "start_time": "2022-06-22T00:42:57.959Z"
   },
   {
    "duration": 399,
    "start_time": "2022-06-22T00:42:58.245Z"
   },
   {
    "duration": 840,
    "start_time": "2022-06-22T00:42:58.645Z"
   },
   {
    "duration": 11,
    "start_time": "2022-06-22T00:42:59.488Z"
   },
   {
    "duration": 14,
    "start_time": "2022-06-22T00:42:59.501Z"
   },
   {
    "duration": 277,
    "start_time": "2022-06-22T00:42:59.533Z"
   },
   {
    "duration": 29,
    "start_time": "2022-06-22T00:42:59.812Z"
   },
   {
    "duration": 11,
    "start_time": "2022-06-22T00:42:59.843Z"
   },
   {
    "duration": 25,
    "start_time": "2022-06-22T00:42:59.856Z"
   },
   {
    "duration": 21,
    "start_time": "2022-06-22T00:42:59.882Z"
   },
   {
    "duration": 81,
    "start_time": "2022-06-22T00:42:59.904Z"
   },
   {
    "duration": 210,
    "start_time": "2022-06-22T00:42:59.987Z"
   },
   {
    "duration": 11,
    "start_time": "2022-06-22T00:43:00.198Z"
   },
   {
    "duration": 10,
    "start_time": "2022-06-22T00:43:00.210Z"
   },
   {
    "duration": 81,
    "start_time": "2022-06-22T00:43:00.231Z"
   },
   {
    "duration": 22,
    "start_time": "2022-06-22T00:43:00.314Z"
   },
   {
    "duration": 85,
    "start_time": "2022-06-22T00:43:00.338Z"
   },
   {
    "duration": 63,
    "start_time": "2022-06-22T00:43:00.425Z"
   },
   {
    "duration": 57,
    "start_time": "2022-06-22T00:43:00.490Z"
   },
   {
    "duration": 26,
    "start_time": "2022-06-22T00:43:00.549Z"
   },
   {
    "duration": 35,
    "start_time": "2022-06-22T00:43:00.577Z"
   },
   {
    "duration": 85,
    "start_time": "2022-06-22T00:43:00.614Z"
   },
   {
    "duration": 79,
    "start_time": "2022-06-22T00:43:00.705Z"
   },
   {
    "duration": 92,
    "start_time": "2022-06-22T00:43:00.786Z"
   },
   {
    "duration": 9,
    "start_time": "2022-06-22T00:43:00.881Z"
   },
   {
    "duration": 24,
    "start_time": "2022-06-22T00:43:00.892Z"
   },
   {
    "duration": 62,
    "start_time": "2022-06-22T00:43:00.918Z"
   },
   {
    "duration": 9,
    "start_time": "2022-06-22T00:46:07.307Z"
   },
   {
    "duration": 23,
    "start_time": "2022-06-22T00:47:05.645Z"
   },
   {
    "duration": 13,
    "start_time": "2022-06-22T00:47:31.881Z"
   },
   {
    "duration": 234,
    "start_time": "2022-06-22T00:48:14.373Z"
   },
   {
    "duration": 46,
    "start_time": "2022-06-22T00:49:07.619Z"
   },
   {
    "duration": 23,
    "start_time": "2022-06-22T00:49:25.572Z"
   },
   {
    "duration": 21,
    "start_time": "2022-06-22T00:49:29.487Z"
   },
   {
    "duration": 45,
    "start_time": "2022-06-22T00:49:40.201Z"
   },
   {
    "duration": 25,
    "start_time": "2022-06-22T00:50:11.670Z"
   },
   {
    "duration": 88,
    "start_time": "2022-06-22T00:50:38.525Z"
   },
   {
    "duration": 1125,
    "start_time": "2022-06-22T00:50:38.615Z"
   },
   {
    "duration": 173,
    "start_time": "2022-06-22T00:50:39.742Z"
   },
   {
    "duration": 99,
    "start_time": "2022-06-22T00:50:39.918Z"
   },
   {
    "duration": 54,
    "start_time": "2022-06-22T00:50:40.019Z"
   },
   {
    "duration": 23,
    "start_time": "2022-06-22T00:50:40.081Z"
   },
   {
    "duration": 46,
    "start_time": "2022-06-22T00:50:40.106Z"
   },
   {
    "duration": 1147,
    "start_time": "2022-06-22T00:50:40.165Z"
   },
   {
    "duration": 42,
    "start_time": "2022-06-22T00:50:41.314Z"
   },
   {
    "duration": 244,
    "start_time": "2022-06-22T00:50:41.359Z"
   },
   {
    "duration": 20,
    "start_time": "2022-06-22T00:50:41.605Z"
   },
   {
    "duration": 24,
    "start_time": "2022-06-22T00:50:41.636Z"
   },
   {
    "duration": 54,
    "start_time": "2022-06-22T00:50:41.662Z"
   },
   {
    "duration": 69,
    "start_time": "2022-06-22T00:50:41.719Z"
   },
   {
    "duration": 592,
    "start_time": "2022-06-22T00:50:41.792Z"
   },
   {
    "duration": 42,
    "start_time": "2022-06-22T00:50:42.390Z"
   },
   {
    "duration": 389,
    "start_time": "2022-06-22T00:50:42.434Z"
   },
   {
    "duration": 24,
    "start_time": "2022-06-22T00:50:42.825Z"
   },
   {
    "duration": 315,
    "start_time": "2022-06-22T00:50:42.852Z"
   },
   {
    "duration": 396,
    "start_time": "2022-06-22T00:50:43.169Z"
   },
   {
    "duration": 1024,
    "start_time": "2022-06-22T00:50:43.570Z"
   },
   {
    "duration": 11,
    "start_time": "2022-06-22T00:50:44.596Z"
   },
   {
    "duration": 31,
    "start_time": "2022-06-22T00:50:44.609Z"
   },
   {
    "duration": 328,
    "start_time": "2022-06-22T00:50:44.641Z"
   },
   {
    "duration": 34,
    "start_time": "2022-06-22T00:50:44.975Z"
   },
   {
    "duration": 7,
    "start_time": "2022-06-22T00:50:45.011Z"
   },
   {
    "duration": 83,
    "start_time": "2022-06-22T00:50:45.020Z"
   },
   {
    "duration": 16,
    "start_time": "2022-06-22T00:50:45.106Z"
   },
   {
    "duration": 153,
    "start_time": "2022-06-22T00:50:45.124Z"
   },
   {
    "duration": 286,
    "start_time": "2022-06-22T00:50:45.279Z"
   },
   {
    "duration": 22,
    "start_time": "2022-06-22T00:50:45.567Z"
   },
   {
    "duration": 15,
    "start_time": "2022-06-22T00:50:45.591Z"
   },
   {
    "duration": 50,
    "start_time": "2022-06-22T00:50:45.608Z"
   },
   {
    "duration": 59,
    "start_time": "2022-06-22T00:50:45.659Z"
   },
   {
    "duration": 92,
    "start_time": "2022-06-22T00:50:45.720Z"
   },
   {
    "duration": 14,
    "start_time": "2022-06-22T00:50:45.815Z"
   },
   {
    "duration": 86,
    "start_time": "2022-06-22T00:50:45.832Z"
   },
   {
    "duration": 64,
    "start_time": "2022-06-22T00:50:45.921Z"
   },
   {
    "duration": 23,
    "start_time": "2022-06-22T00:50:45.987Z"
   },
   {
    "duration": 31,
    "start_time": "2022-06-22T00:50:46.012Z"
   },
   {
    "duration": 57,
    "start_time": "2022-06-22T00:50:46.045Z"
   },
   {
    "duration": 39,
    "start_time": "2022-06-22T00:50:46.105Z"
   },
   {
    "duration": 20,
    "start_time": "2022-06-22T00:50:46.148Z"
   },
   {
    "duration": 70,
    "start_time": "2022-06-22T00:50:46.178Z"
   },
   {
    "duration": 48,
    "start_time": "2022-06-22T00:50:46.253Z"
   },
   {
    "duration": 36,
    "start_time": "2022-06-22T00:50:46.303Z"
   },
   {
    "duration": 301,
    "start_time": "2022-06-22T00:50:46.341Z"
   },
   {
    "duration": 0,
    "start_time": "2022-06-22T00:50:46.644Z"
   },
   {
    "duration": 0,
    "start_time": "2022-06-22T00:50:46.645Z"
   },
   {
    "duration": 29,
    "start_time": "2022-06-22T00:51:18.619Z"
   },
   {
    "duration": 10,
    "start_time": "2022-06-22T00:51:23.089Z"
   },
   {
    "duration": 26,
    "start_time": "2022-06-22T00:51:57.069Z"
   },
   {
    "duration": 26,
    "start_time": "2022-06-22T00:52:03.678Z"
   },
   {
    "duration": 29,
    "start_time": "2022-06-22T00:52:25.057Z"
   },
   {
    "duration": 10,
    "start_time": "2022-06-22T00:54:00.202Z"
   },
   {
    "duration": 13,
    "start_time": "2022-06-22T00:54:16.093Z"
   },
   {
    "duration": 8,
    "start_time": "2022-06-22T00:54:58.788Z"
   },
   {
    "duration": 12,
    "start_time": "2022-06-22T00:57:10.083Z"
   },
   {
    "duration": 25,
    "start_time": "2022-06-22T01:00:27.855Z"
   },
   {
    "duration": 57,
    "start_time": "2022-06-22T06:01:42.837Z"
   },
   {
    "duration": 49,
    "start_time": "2022-06-22T06:01:58.286Z"
   },
   {
    "duration": 40,
    "start_time": "2022-06-22T06:02:03.108Z"
   },
   {
    "duration": 1059,
    "start_time": "2022-06-22T06:02:03.150Z"
   },
   {
    "duration": 307,
    "start_time": "2022-06-22T06:02:04.212Z"
   },
   {
    "duration": 54,
    "start_time": "2022-06-22T06:02:04.524Z"
   },
   {
    "duration": 28,
    "start_time": "2022-06-22T06:02:04.581Z"
   },
   {
    "duration": 24,
    "start_time": "2022-06-22T06:02:04.611Z"
   },
   {
    "duration": 18,
    "start_time": "2022-06-22T06:02:04.638Z"
   },
   {
    "duration": 43,
    "start_time": "2022-06-22T06:02:04.658Z"
   },
   {
    "duration": 1011,
    "start_time": "2022-06-22T06:02:04.703Z"
   },
   {
    "duration": 37,
    "start_time": "2022-06-22T06:02:05.718Z"
   },
   {
    "duration": 247,
    "start_time": "2022-06-22T06:02:05.757Z"
   },
   {
    "duration": 23,
    "start_time": "2022-06-22T06:02:06.006Z"
   },
   {
    "duration": 28,
    "start_time": "2022-06-22T06:02:06.031Z"
   },
   {
    "duration": 12,
    "start_time": "2022-06-22T06:02:06.061Z"
   },
   {
    "duration": 18,
    "start_time": "2022-06-22T06:02:06.075Z"
   },
   {
    "duration": 481,
    "start_time": "2022-06-22T06:02:06.095Z"
   },
   {
    "duration": 28,
    "start_time": "2022-06-22T06:02:06.579Z"
   },
   {
    "duration": 259,
    "start_time": "2022-06-22T06:02:06.611Z"
   },
   {
    "duration": 11,
    "start_time": "2022-06-22T06:02:06.872Z"
   },
   {
    "duration": 246,
    "start_time": "2022-06-22T06:02:06.884Z"
   },
   {
    "duration": 336,
    "start_time": "2022-06-22T06:02:07.132Z"
   },
   {
    "duration": 873,
    "start_time": "2022-06-22T06:02:07.470Z"
   },
   {
    "duration": 17,
    "start_time": "2022-06-22T06:02:08.345Z"
   },
   {
    "duration": 18,
    "start_time": "2022-06-22T06:02:08.364Z"
   },
   {
    "duration": 205,
    "start_time": "2022-06-22T06:02:08.384Z"
   },
   {
    "duration": 19,
    "start_time": "2022-06-22T06:02:08.591Z"
   },
   {
    "duration": 8,
    "start_time": "2022-06-22T06:02:08.612Z"
   },
   {
    "duration": 39,
    "start_time": "2022-06-22T06:02:08.623Z"
   },
   {
    "duration": 14,
    "start_time": "2022-06-22T06:02:08.664Z"
   },
   {
    "duration": 84,
    "start_time": "2022-06-22T06:02:08.680Z"
   },
   {
    "duration": 176,
    "start_time": "2022-06-22T06:02:08.766Z"
   },
   {
    "duration": 12,
    "start_time": "2022-06-22T06:02:08.944Z"
   },
   {
    "duration": 5,
    "start_time": "2022-06-22T06:02:08.959Z"
   },
   {
    "duration": 32,
    "start_time": "2022-06-22T06:02:08.966Z"
   },
   {
    "duration": 9,
    "start_time": "2022-06-22T06:02:09.000Z"
   },
   {
    "duration": 41,
    "start_time": "2022-06-22T06:02:09.011Z"
   },
   {
    "duration": 12,
    "start_time": "2022-06-22T06:02:09.054Z"
   },
   {
    "duration": 33,
    "start_time": "2022-06-22T06:02:09.069Z"
   },
   {
    "duration": 8,
    "start_time": "2022-06-22T06:02:09.105Z"
   },
   {
    "duration": 11,
    "start_time": "2022-06-22T06:02:09.115Z"
   },
   {
    "duration": 43,
    "start_time": "2022-06-22T06:02:09.128Z"
   },
   {
    "duration": 22,
    "start_time": "2022-06-22T06:02:09.173Z"
   },
   {
    "duration": 24,
    "start_time": "2022-06-22T06:02:09.197Z"
   },
   {
    "duration": 9,
    "start_time": "2022-06-22T06:02:09.223Z"
   },
   {
    "duration": 21,
    "start_time": "2022-06-22T06:02:09.234Z"
   },
   {
    "duration": 14,
    "start_time": "2022-06-22T06:02:09.257Z"
   },
   {
    "duration": 14,
    "start_time": "2022-06-22T06:02:09.273Z"
   },
   {
    "duration": 13,
    "start_time": "2022-06-22T06:02:09.289Z"
   },
   {
    "duration": 9,
    "start_time": "2022-06-22T06:02:09.304Z"
   },
   {
    "duration": 43,
    "start_time": "2022-06-22T06:02:09.315Z"
   },
   {
    "duration": 20,
    "start_time": "2022-06-22T06:02:09.360Z"
   },
   {
    "duration": 13,
    "start_time": "2022-06-22T06:02:09.382Z"
   },
   {
    "duration": 22,
    "start_time": "2022-06-22T06:02:41.001Z"
   },
   {
    "duration": 27,
    "start_time": "2022-06-22T06:02:48.862Z"
   },
   {
    "duration": 3,
    "start_time": "2022-06-22T06:02:48.892Z"
   },
   {
    "duration": 106,
    "start_time": "2022-06-22T06:02:48.897Z"
   },
   {
    "duration": 51,
    "start_time": "2022-06-22T06:02:49.006Z"
   },
   {
    "duration": 18,
    "start_time": "2022-06-22T06:02:49.060Z"
   },
   {
    "duration": 15,
    "start_time": "2022-06-22T06:02:49.080Z"
   },
   {
    "duration": 19,
    "start_time": "2022-06-22T06:02:49.097Z"
   },
   {
    "duration": 35,
    "start_time": "2022-06-22T06:02:49.118Z"
   },
   {
    "duration": 23,
    "start_time": "2022-06-22T06:02:49.156Z"
   },
   {
    "duration": 923,
    "start_time": "2022-06-22T06:02:49.181Z"
   },
   {
    "duration": 28,
    "start_time": "2022-06-22T06:02:50.106Z"
   },
   {
    "duration": 26,
    "start_time": "2022-06-22T06:02:50.137Z"
   },
   {
    "duration": 17,
    "start_time": "2022-06-22T06:02:50.165Z"
   },
   {
    "duration": 11,
    "start_time": "2022-06-22T06:02:50.185Z"
   },
   {
    "duration": 11,
    "start_time": "2022-06-22T06:02:50.197Z"
   },
   {
    "duration": 13,
    "start_time": "2022-06-22T06:02:50.210Z"
   },
   {
    "duration": 323,
    "start_time": "2022-06-22T06:02:50.225Z"
   },
   {
    "duration": 36,
    "start_time": "2022-06-22T06:02:50.553Z"
   },
   {
    "duration": 96,
    "start_time": "2022-06-22T06:02:50.591Z"
   },
   {
    "duration": 15,
    "start_time": "2022-06-22T06:02:50.689Z"
   },
   {
    "duration": 238,
    "start_time": "2022-06-22T06:02:50.706Z"
   },
   {
    "duration": 409,
    "start_time": "2022-06-22T06:02:50.946Z"
   },
   {
    "duration": 295,
    "start_time": "2022-06-22T06:02:51.357Z"
   },
   {
    "duration": 10,
    "start_time": "2022-06-22T06:02:51.654Z"
   },
   {
    "duration": 16,
    "start_time": "2022-06-22T06:02:51.667Z"
   },
   {
    "duration": 212,
    "start_time": "2022-06-22T06:02:51.685Z"
   },
   {
    "duration": 23,
    "start_time": "2022-06-22T06:02:51.899Z"
   },
   {
    "duration": 28,
    "start_time": "2022-06-22T06:02:51.924Z"
   },
   {
    "duration": 18,
    "start_time": "2022-06-22T06:02:51.954Z"
   },
   {
    "duration": 21,
    "start_time": "2022-06-22T06:02:51.974Z"
   },
   {
    "duration": 76,
    "start_time": "2022-06-22T06:02:51.997Z"
   },
   {
    "duration": 187,
    "start_time": "2022-06-22T06:02:52.075Z"
   },
   {
    "duration": 10,
    "start_time": "2022-06-22T06:02:52.264Z"
   },
   {
    "duration": 6,
    "start_time": "2022-06-22T06:02:52.276Z"
   },
   {
    "duration": 33,
    "start_time": "2022-06-22T06:02:52.284Z"
   },
   {
    "duration": 10,
    "start_time": "2022-06-22T06:02:52.320Z"
   },
   {
    "duration": 34,
    "start_time": "2022-06-22T06:02:52.332Z"
   },
   {
    "duration": 10,
    "start_time": "2022-06-22T06:02:52.368Z"
   },
   {
    "duration": 19,
    "start_time": "2022-06-22T06:02:52.380Z"
   },
   {
    "duration": 7,
    "start_time": "2022-06-22T06:02:52.400Z"
   },
   {
    "duration": 6,
    "start_time": "2022-06-22T06:02:52.410Z"
   },
   {
    "duration": 43,
    "start_time": "2022-06-22T06:02:52.418Z"
   },
   {
    "duration": 12,
    "start_time": "2022-06-22T06:02:52.463Z"
   },
   {
    "duration": 27,
    "start_time": "2022-06-22T06:02:52.477Z"
   },
   {
    "duration": 7,
    "start_time": "2022-06-22T06:02:52.506Z"
   },
   {
    "duration": 39,
    "start_time": "2022-06-22T06:02:52.515Z"
   },
   {
    "duration": 23,
    "start_time": "2022-06-22T06:02:52.556Z"
   },
   {
    "duration": 22,
    "start_time": "2022-06-22T06:02:52.581Z"
   },
   {
    "duration": 22,
    "start_time": "2022-06-22T06:02:52.605Z"
   },
   {
    "duration": 26,
    "start_time": "2022-06-22T06:02:52.629Z"
   },
   {
    "duration": 14,
    "start_time": "2022-06-22T06:02:52.657Z"
   },
   {
    "duration": 15,
    "start_time": "2022-06-22T06:02:52.673Z"
   },
   {
    "duration": 18,
    "start_time": "2022-06-22T06:02:52.690Z"
   },
   {
    "duration": 16,
    "start_time": "2022-06-22T06:05:03.422Z"
   },
   {
    "duration": 19,
    "start_time": "2022-06-22T06:05:03.884Z"
   },
   {
    "duration": 32,
    "start_time": "2022-06-22T06:05:19.947Z"
   },
   {
    "duration": 4,
    "start_time": "2022-06-22T06:05:19.981Z"
   },
   {
    "duration": 101,
    "start_time": "2022-06-22T06:05:19.988Z"
   },
   {
    "duration": 61,
    "start_time": "2022-06-22T06:05:20.091Z"
   },
   {
    "duration": 22,
    "start_time": "2022-06-22T06:05:20.154Z"
   },
   {
    "duration": 18,
    "start_time": "2022-06-22T06:05:20.177Z"
   },
   {
    "duration": 18,
    "start_time": "2022-06-22T06:05:20.197Z"
   },
   {
    "duration": 10,
    "start_time": "2022-06-22T06:05:20.217Z"
   },
   {
    "duration": 19,
    "start_time": "2022-06-22T06:05:20.252Z"
   },
   {
    "duration": 1012,
    "start_time": "2022-06-22T06:05:20.273Z"
   },
   {
    "duration": 33,
    "start_time": "2022-06-22T06:05:21.286Z"
   },
   {
    "duration": 35,
    "start_time": "2022-06-22T06:05:21.322Z"
   },
   {
    "duration": 14,
    "start_time": "2022-06-22T06:05:21.359Z"
   },
   {
    "duration": 11,
    "start_time": "2022-06-22T06:05:21.377Z"
   },
   {
    "duration": 14,
    "start_time": "2022-06-22T06:05:21.390Z"
   },
   {
    "duration": 51,
    "start_time": "2022-06-22T06:05:21.405Z"
   },
   {
    "duration": 294,
    "start_time": "2022-06-22T06:05:21.458Z"
   },
   {
    "duration": 25,
    "start_time": "2022-06-22T06:05:21.753Z"
   },
   {
    "duration": 52,
    "start_time": "2022-06-22T06:05:21.779Z"
   },
   {
    "duration": 29,
    "start_time": "2022-06-22T06:05:21.833Z"
   },
   {
    "duration": 213,
    "start_time": "2022-06-22T06:05:21.865Z"
   },
   {
    "duration": 325,
    "start_time": "2022-06-22T06:05:22.080Z"
   },
   {
    "duration": 417,
    "start_time": "2022-06-22T06:05:22.407Z"
   },
   {
    "duration": 10,
    "start_time": "2022-06-22T06:05:22.826Z"
   },
   {
    "duration": 27,
    "start_time": "2022-06-22T06:05:22.837Z"
   },
   {
    "duration": 204,
    "start_time": "2022-06-22T06:05:22.865Z"
   },
   {
    "duration": 19,
    "start_time": "2022-06-22T06:05:23.070Z"
   },
   {
    "duration": 7,
    "start_time": "2022-06-22T06:05:23.091Z"
   },
   {
    "duration": 17,
    "start_time": "2022-06-22T06:05:23.099Z"
   },
   {
    "duration": 38,
    "start_time": "2022-06-22T06:05:23.118Z"
   },
   {
    "duration": 70,
    "start_time": "2022-06-22T06:05:23.158Z"
   },
   {
    "duration": 224,
    "start_time": "2022-06-22T06:05:23.230Z"
   },
   {
    "duration": 11,
    "start_time": "2022-06-22T06:05:23.456Z"
   },
   {
    "duration": 8,
    "start_time": "2022-06-22T06:05:23.468Z"
   },
   {
    "duration": 25,
    "start_time": "2022-06-22T06:05:23.478Z"
   },
   {
    "duration": 10,
    "start_time": "2022-06-22T06:05:23.504Z"
   },
   {
    "duration": 15,
    "start_time": "2022-06-22T06:05:23.516Z"
   },
   {
    "duration": 29,
    "start_time": "2022-06-22T06:05:23.533Z"
   },
   {
    "duration": 26,
    "start_time": "2022-06-22T06:05:23.564Z"
   },
   {
    "duration": 7,
    "start_time": "2022-06-22T06:05:23.592Z"
   },
   {
    "duration": 12,
    "start_time": "2022-06-22T06:05:23.602Z"
   },
   {
    "duration": 15,
    "start_time": "2022-06-22T06:05:23.616Z"
   },
   {
    "duration": 30,
    "start_time": "2022-06-22T06:05:23.633Z"
   },
   {
    "duration": 30,
    "start_time": "2022-06-22T06:05:23.665Z"
   },
   {
    "duration": 8,
    "start_time": "2022-06-22T06:05:23.696Z"
   },
   {
    "duration": 16,
    "start_time": "2022-06-22T06:05:23.706Z"
   },
   {
    "duration": 24,
    "start_time": "2022-06-22T06:05:23.724Z"
   },
   {
    "duration": 20,
    "start_time": "2022-06-22T06:05:23.749Z"
   },
   {
    "duration": 27,
    "start_time": "2022-06-22T06:05:23.771Z"
   },
   {
    "duration": 14,
    "start_time": "2022-06-22T06:05:23.800Z"
   },
   {
    "duration": 16,
    "start_time": "2022-06-22T06:05:23.816Z"
   },
   {
    "duration": 19,
    "start_time": "2022-06-22T06:05:23.834Z"
   },
   {
    "duration": 20,
    "start_time": "2022-06-22T06:05:23.855Z"
   },
   {
    "duration": 17,
    "start_time": "2022-06-22T06:06:27.663Z"
   },
   {
    "duration": 16,
    "start_time": "2022-06-22T06:11:07.705Z"
   },
   {
    "duration": 14,
    "start_time": "2022-06-22T06:51:01.289Z"
   },
   {
    "duration": 68,
    "start_time": "2022-06-22T07:05:07.345Z"
   },
   {
    "duration": 84,
    "start_time": "2022-06-22T07:06:22.318Z"
   },
   {
    "duration": 59,
    "start_time": "2022-06-22T07:10:40.818Z"
   },
   {
    "duration": 1037,
    "start_time": "2022-06-22T07:10:40.880Z"
   },
   {
    "duration": 122,
    "start_time": "2022-06-22T07:10:41.920Z"
   },
   {
    "duration": 62,
    "start_time": "2022-06-22T07:10:42.046Z"
   },
   {
    "duration": 27,
    "start_time": "2022-06-22T07:10:42.111Z"
   },
   {
    "duration": 22,
    "start_time": "2022-06-22T07:10:42.154Z"
   },
   {
    "duration": 26,
    "start_time": "2022-06-22T07:10:42.178Z"
   },
   {
    "duration": 5,
    "start_time": "2022-06-22T07:10:42.207Z"
   },
   {
    "duration": 48,
    "start_time": "2022-06-22T07:10:42.214Z"
   },
   {
    "duration": 1139,
    "start_time": "2022-06-22T07:10:42.266Z"
   },
   {
    "duration": 32,
    "start_time": "2022-06-22T07:10:43.408Z"
   },
   {
    "duration": 208,
    "start_time": "2022-06-22T07:10:43.443Z"
   },
   {
    "duration": 20,
    "start_time": "2022-06-22T07:10:43.653Z"
   },
   {
    "duration": 15,
    "start_time": "2022-06-22T07:10:43.675Z"
   },
   {
    "duration": 65,
    "start_time": "2022-06-22T07:10:43.691Z"
   },
   {
    "duration": 16,
    "start_time": "2022-06-22T07:10:43.759Z"
   },
   {
    "duration": 587,
    "start_time": "2022-06-22T07:10:43.778Z"
   },
   {
    "duration": 26,
    "start_time": "2022-06-22T07:10:44.367Z"
   },
   {
    "duration": 356,
    "start_time": "2022-06-22T07:10:44.395Z"
   },
   {
    "duration": 18,
    "start_time": "2022-06-22T07:10:44.753Z"
   },
   {
    "duration": 296,
    "start_time": "2022-06-22T07:10:44.773Z"
   },
   {
    "duration": 469,
    "start_time": "2022-06-22T07:10:45.071Z"
   },
   {
    "duration": 1115,
    "start_time": "2022-06-22T07:10:45.543Z"
   },
   {
    "duration": 13,
    "start_time": "2022-06-22T07:10:46.660Z"
   },
   {
    "duration": 16,
    "start_time": "2022-06-22T07:10:46.675Z"
   },
   {
    "duration": 284,
    "start_time": "2022-06-22T07:10:46.693Z"
   },
   {
    "duration": 18,
    "start_time": "2022-06-22T07:10:46.979Z"
   },
   {
    "duration": 7,
    "start_time": "2022-06-22T07:10:47.003Z"
   },
   {
    "duration": 42,
    "start_time": "2022-06-22T07:10:47.011Z"
   },
   {
    "duration": 28,
    "start_time": "2022-06-22T07:10:47.055Z"
   },
   {
    "duration": 70,
    "start_time": "2022-06-22T07:10:47.085Z"
   },
   {
    "duration": 189,
    "start_time": "2022-06-22T07:10:47.157Z"
   },
   {
    "duration": 15,
    "start_time": "2022-06-22T07:10:47.348Z"
   },
   {
    "duration": 20,
    "start_time": "2022-06-22T07:10:47.364Z"
   },
   {
    "duration": 33,
    "start_time": "2022-06-22T07:10:47.387Z"
   },
   {
    "duration": 14,
    "start_time": "2022-06-22T07:10:47.422Z"
   },
   {
    "duration": 21,
    "start_time": "2022-06-22T07:10:47.437Z"
   },
   {
    "duration": 13,
    "start_time": "2022-06-22T07:10:47.460Z"
   },
   {
    "duration": 27,
    "start_time": "2022-06-22T07:10:47.475Z"
   },
   {
    "duration": 9,
    "start_time": "2022-06-22T07:10:47.504Z"
   },
   {
    "duration": 14,
    "start_time": "2022-06-22T07:10:47.515Z"
   },
   {
    "duration": 29,
    "start_time": "2022-06-22T07:10:47.531Z"
   },
   {
    "duration": 29,
    "start_time": "2022-06-22T07:10:47.562Z"
   },
   {
    "duration": 25,
    "start_time": "2022-06-22T07:10:47.593Z"
   },
   {
    "duration": 10,
    "start_time": "2022-06-22T07:10:47.620Z"
   },
   {
    "duration": 26,
    "start_time": "2022-06-22T07:10:47.632Z"
   },
   {
    "duration": 20,
    "start_time": "2022-06-22T07:10:47.661Z"
   },
   {
    "duration": 16,
    "start_time": "2022-06-22T07:10:47.684Z"
   },
   {
    "duration": 16,
    "start_time": "2022-06-22T07:10:47.702Z"
   },
   {
    "duration": 37,
    "start_time": "2022-06-22T07:10:47.720Z"
   },
   {
    "duration": 18,
    "start_time": "2022-06-22T07:10:47.759Z"
   },
   {
    "duration": 21,
    "start_time": "2022-06-22T07:10:47.779Z"
   },
   {
    "duration": 19,
    "start_time": "2022-06-22T07:10:47.802Z"
   },
   {
    "duration": 82,
    "start_time": "2022-06-22T10:30:47.904Z"
   },
   {
    "duration": 1093,
    "start_time": "2022-06-22T10:30:47.990Z"
   },
   {
    "duration": 307,
    "start_time": "2022-06-22T10:30:49.085Z"
   },
   {
    "duration": 49,
    "start_time": "2022-06-22T10:30:49.394Z"
   },
   {
    "duration": 41,
    "start_time": "2022-06-22T10:30:49.445Z"
   },
   {
    "duration": 15,
    "start_time": "2022-06-22T10:30:49.489Z"
   },
   {
    "duration": 17,
    "start_time": "2022-06-22T10:30:49.506Z"
   },
   {
    "duration": 5,
    "start_time": "2022-06-22T10:30:49.524Z"
   },
   {
    "duration": 23,
    "start_time": "2022-06-22T10:30:49.530Z"
   },
   {
    "duration": 933,
    "start_time": "2022-06-22T10:30:49.565Z"
   },
   {
    "duration": 22,
    "start_time": "2022-06-22T10:30:50.500Z"
   },
   {
    "duration": 417,
    "start_time": "2022-06-22T10:30:50.524Z"
   },
   {
    "duration": 66,
    "start_time": "2022-06-22T10:30:50.943Z"
   },
   {
    "duration": 10,
    "start_time": "2022-06-22T10:30:51.011Z"
   },
   {
    "duration": 66,
    "start_time": "2022-06-22T10:30:51.024Z"
   },
   {
    "duration": 17,
    "start_time": "2022-06-22T10:30:51.095Z"
   },
   {
    "duration": 383,
    "start_time": "2022-06-22T10:30:51.114Z"
   },
   {
    "duration": 23,
    "start_time": "2022-06-22T10:30:51.502Z"
   },
   {
    "duration": 2059,
    "start_time": "2022-06-22T10:30:51.527Z"
   },
   {
    "duration": 12,
    "start_time": "2022-06-22T10:30:53.588Z"
   },
   {
    "duration": 218,
    "start_time": "2022-06-22T10:30:53.602Z"
   },
   {
    "duration": 369,
    "start_time": "2022-06-22T10:30:53.822Z"
   },
   {
    "duration": 946,
    "start_time": "2022-06-22T10:30:54.193Z"
   },
   {
    "duration": 9,
    "start_time": "2022-06-22T10:30:55.140Z"
   },
   {
    "duration": 47,
    "start_time": "2022-06-22T10:30:55.151Z"
   },
   {
    "duration": 224,
    "start_time": "2022-06-22T10:30:55.200Z"
   },
   {
    "duration": 46,
    "start_time": "2022-06-22T10:30:55.426Z"
   },
   {
    "duration": 7,
    "start_time": "2022-06-22T10:30:55.489Z"
   },
   {
    "duration": 18,
    "start_time": "2022-06-22T10:30:55.498Z"
   },
   {
    "duration": 18,
    "start_time": "2022-06-22T10:30:55.517Z"
   },
   {
    "duration": 105,
    "start_time": "2022-06-22T10:30:55.537Z"
   },
   {
    "duration": 196,
    "start_time": "2022-06-22T10:30:55.643Z"
   },
   {
    "duration": 11,
    "start_time": "2022-06-22T10:30:55.842Z"
   },
   {
    "duration": 39,
    "start_time": "2022-06-22T10:30:55.858Z"
   },
   {
    "duration": 25,
    "start_time": "2022-06-22T10:30:55.899Z"
   },
   {
    "duration": 11,
    "start_time": "2022-06-22T10:30:55.926Z"
   },
   {
    "duration": 21,
    "start_time": "2022-06-22T10:30:55.939Z"
   },
   {
    "duration": 15,
    "start_time": "2022-06-22T10:30:55.963Z"
   },
   {
    "duration": 42,
    "start_time": "2022-06-22T10:30:55.980Z"
   },
   {
    "duration": 11,
    "start_time": "2022-06-22T10:30:56.023Z"
   },
   {
    "duration": 17,
    "start_time": "2022-06-22T10:30:56.036Z"
   },
   {
    "duration": 46,
    "start_time": "2022-06-22T10:30:56.055Z"
   },
   {
    "duration": 12,
    "start_time": "2022-06-22T10:30:56.103Z"
   },
   {
    "duration": 21,
    "start_time": "2022-06-22T10:30:56.117Z"
   },
   {
    "duration": 6,
    "start_time": "2022-06-22T10:30:56.140Z"
   },
   {
    "duration": 7,
    "start_time": "2022-06-22T10:30:56.148Z"
   },
   {
    "duration": 54,
    "start_time": "2022-06-22T10:30:56.158Z"
   },
   {
    "duration": 12,
    "start_time": "2022-06-22T10:30:56.214Z"
   },
   {
    "duration": 14,
    "start_time": "2022-06-22T10:30:56.227Z"
   },
   {
    "duration": 10,
    "start_time": "2022-06-22T10:30:56.243Z"
   },
   {
    "duration": 23,
    "start_time": "2022-06-22T10:30:56.254Z"
   },
   {
    "duration": 17,
    "start_time": "2022-06-22T10:30:56.284Z"
   },
   {
    "duration": 15,
    "start_time": "2022-06-22T10:30:56.302Z"
   },
   {
    "duration": 11,
    "start_time": "2022-06-22T10:34:56.404Z"
   },
   {
    "duration": 11,
    "start_time": "2022-06-22T10:35:09.685Z"
   },
   {
    "duration": 18,
    "start_time": "2022-06-22T10:35:56.840Z"
   },
   {
    "duration": 13,
    "start_time": "2022-06-22T10:36:00.684Z"
   },
   {
    "duration": 9,
    "start_time": "2022-06-22T10:36:53.708Z"
   },
   {
    "duration": 55,
    "start_time": "2022-06-24T07:34:56.482Z"
   },
   {
    "duration": 964,
    "start_time": "2022-06-24T07:34:56.540Z"
   },
   {
    "duration": 642,
    "start_time": "2022-06-24T07:34:57.506Z"
   },
   {
    "duration": 43,
    "start_time": "2022-06-24T07:34:58.150Z"
   },
   {
    "duration": 19,
    "start_time": "2022-06-24T07:34:58.196Z"
   },
   {
    "duration": 34,
    "start_time": "2022-06-24T07:34:58.217Z"
   },
   {
    "duration": 19,
    "start_time": "2022-06-24T07:34:58.253Z"
   },
   {
    "duration": 6,
    "start_time": "2022-06-24T07:34:58.275Z"
   },
   {
    "duration": 20,
    "start_time": "2022-06-24T07:34:58.283Z"
   },
   {
    "duration": 855,
    "start_time": "2022-06-24T07:34:58.305Z"
   },
   {
    "duration": 25,
    "start_time": "2022-06-24T07:34:59.161Z"
   },
   {
    "duration": 182,
    "start_time": "2022-06-24T07:34:59.187Z"
   },
   {
    "duration": 18,
    "start_time": "2022-06-24T07:34:59.371Z"
   },
   {
    "duration": 9,
    "start_time": "2022-06-24T07:34:59.392Z"
   },
   {
    "duration": 14,
    "start_time": "2022-06-24T07:34:59.432Z"
   },
   {
    "duration": 11,
    "start_time": "2022-06-24T07:34:59.448Z"
   },
   {
    "duration": 455,
    "start_time": "2022-06-24T07:34:59.461Z"
   },
   {
    "duration": 38,
    "start_time": "2022-06-24T07:34:59.918Z"
   },
   {
    "duration": 257,
    "start_time": "2022-06-24T07:34:59.957Z"
   },
   {
    "duration": 26,
    "start_time": "2022-06-24T07:35:00.216Z"
   },
   {
    "duration": 223,
    "start_time": "2022-06-24T07:35:00.244Z"
   },
   {
    "duration": 339,
    "start_time": "2022-06-24T07:35:00.469Z"
   },
   {
    "duration": 977,
    "start_time": "2022-06-24T07:35:00.810Z"
   },
   {
    "duration": 10,
    "start_time": "2022-06-24T07:35:01.789Z"
   },
   {
    "duration": 93,
    "start_time": "2022-06-24T07:35:01.800Z"
   },
   {
    "duration": 322,
    "start_time": "2022-06-24T07:35:01.894Z"
   },
   {
    "duration": 36,
    "start_time": "2022-06-24T07:35:02.218Z"
   },
   {
    "duration": 8,
    "start_time": "2022-06-24T07:35:02.256Z"
   },
   {
    "duration": 28,
    "start_time": "2022-06-24T07:35:02.266Z"
   },
   {
    "duration": 17,
    "start_time": "2022-06-24T07:35:02.296Z"
   },
   {
    "duration": 92,
    "start_time": "2022-06-24T07:35:02.316Z"
   },
   {
    "duration": 206,
    "start_time": "2022-06-24T07:35:02.409Z"
   },
   {
    "duration": 30,
    "start_time": "2022-06-24T07:35:02.617Z"
   },
   {
    "duration": 5,
    "start_time": "2022-06-24T07:35:02.649Z"
   },
   {
    "duration": 30,
    "start_time": "2022-06-24T07:35:02.656Z"
   },
   {
    "duration": 14,
    "start_time": "2022-06-24T07:35:02.688Z"
   },
   {
    "duration": 32,
    "start_time": "2022-06-24T07:35:02.704Z"
   },
   {
    "duration": 14,
    "start_time": "2022-06-24T07:35:02.738Z"
   },
   {
    "duration": 26,
    "start_time": "2022-06-24T07:35:02.754Z"
   },
   {
    "duration": 9,
    "start_time": "2022-06-24T07:35:02.782Z"
   },
   {
    "duration": 20,
    "start_time": "2022-06-24T07:35:02.795Z"
   },
   {
    "duration": 42,
    "start_time": "2022-06-24T07:35:02.816Z"
   },
   {
    "duration": 26,
    "start_time": "2022-06-24T07:35:02.860Z"
   },
   {
    "duration": 53,
    "start_time": "2022-06-24T07:35:02.888Z"
   },
   {
    "duration": 7,
    "start_time": "2022-06-24T07:35:02.943Z"
   },
   {
    "duration": 15,
    "start_time": "2022-06-24T07:35:02.952Z"
   },
   {
    "duration": 23,
    "start_time": "2022-06-24T07:35:02.969Z"
   },
   {
    "duration": 13,
    "start_time": "2022-06-24T07:35:02.993Z"
   },
   {
    "duration": 34,
    "start_time": "2022-06-24T07:35:03.008Z"
   },
   {
    "duration": 42,
    "start_time": "2022-06-24T07:35:03.045Z"
   },
   {
    "duration": 17,
    "start_time": "2022-06-24T07:35:03.089Z"
   },
   {
    "duration": 20,
    "start_time": "2022-06-24T07:35:03.108Z"
   },
   {
    "duration": 18,
    "start_time": "2022-06-24T07:35:03.142Z"
   }
  ],
  "kernelspec": {
   "display_name": "Python 3",
   "language": "python",
   "name": "python3"
  },
  "language_info": {
   "codemirror_mode": {
    "name": "ipython",
    "version": 3
   },
   "file_extension": ".py",
   "mimetype": "text/x-python",
   "name": "python",
   "nbconvert_exporter": "python",
   "pygments_lexer": "ipython3",
   "version": "3.8.8"
  },
  "toc": {
   "base_numbering": 1,
   "nav_menu": {},
   "number_sections": true,
   "sideBar": true,
   "skip_h1_title": true,
   "title_cell": "Table of Contents",
   "title_sidebar": "Contents",
   "toc_cell": false,
   "toc_position": {},
   "toc_section_display": true,
   "toc_window_display": false
  }
 },
 "nbformat": 4,
 "nbformat_minor": 2
}
